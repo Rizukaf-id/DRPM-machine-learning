{
  "cells": [
    {
      "cell_type": "markdown",
      "metadata": {
        "colab_type": "text",
        "id": "view-in-github"
      },
      "source": [
        "<a href=\"https://colab.research.google.com/github/Rizukaf-id/DRPM-machine-learning/blob/main/DRPM.ipynb\" target=\"_parent\"><img src=\"https://colab.research.google.com/assets/colab-badge.svg\" alt=\"Open In Colab\"/></a>"
      ]
    },
    {
      "cell_type": "code",
      "execution_count": null,
      "metadata": {
        "id": "ZT_PiQnM7sMS"
      },
      "outputs": [],
      "source": [
        "!wget \"https://drive.google.com/uc?export=download&id=<fileId>\" -O <fileName>\n",
        "!wget \"https://docs.google.com/spreadsheets/d/1U86a-fSYtEh-z_Nk2JtZL8qq5ZMcA5T7HHhmZeCSQUs/edit?usp=drive_link\" -O <fileName>"
      ]
    },
    {
      "cell_type": "code",
      "execution_count": null,
      "metadata": {},
      "outputs": [],
      "source": [
        "import pandas as pd"
      ]
    },
    {
      "cell_type": "code",
      "execution_count": null,
      "metadata": {},
      "outputs": [],
      "source": [
        "drive_link = \"https://drive.google.com/file/d/1fVMMa7kHwuyEsi0DcRsQM9TNTRVRKQS6/view?usp=drive_link\"\n",
        "file_id = drive_link.split('/')[-2]\n",
        "datafile_url = f\"https://drive.google.com/uc?export=download&id={file_id}\""
      ]
    },
    {
      "cell_type": "code",
      "execution_count": null,
      "metadata": {},
      "outputs": [],
      "source": []
    }
  ],
  "metadata": {
    "colab": {
      "authorship_tag": "ABX9TyNscE6sRmIhh5Bxh20ImNxk",
      "include_colab_link": true,
      "provenance": []
    },
    "kernelspec": {
      "display_name": "Python 3",
      "name": "python3"
    },
    "language_info": {
      "codemirror_mode": {
        "name": "ipython",
        "version": 3
      },
      "file_extension": ".py",
      "mimetype": "text/x-python",
      "name": "python",
      "nbconvert_exporter": "python",
      "pygments_lexer": "ipython3",
      "version": "3.12.0"
    }
  },
  "nbformat": 4,
  "nbformat_minor": 0
}
