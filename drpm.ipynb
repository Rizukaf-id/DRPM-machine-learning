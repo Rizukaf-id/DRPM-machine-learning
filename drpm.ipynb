{
 "cells": [
  {
   "cell_type": "markdown",
   "id": "29d3c333",
   "metadata": {
    "id": "view-in-github",
    "papermill": {
     "duration": 0.019778,
     "end_time": "2024-10-05T14:47:46.341987",
     "exception": false,
     "start_time": "2024-10-05T14:47:46.322209",
     "status": "completed"
    },
    "tags": []
   },
   "source": [
    "<a href=\"https://colab.research.google.com/github/Rizukaf-id/DRPM-machine-learning/blob/main/drpm.ipynb\" target=\"_parent\"><img src=\"https://colab.research.google.com/assets/colab-badge.svg\" alt=\"Open In Colab\"/></a>"
   ]
  },
  {
   "cell_type": "markdown",
   "id": "39437172",
   "metadata": {
    "id": "YrJKTgfYwG4Q",
    "papermill": {
     "duration": 0.015144,
     "end_time": "2024-10-05T14:47:46.373290",
     "exception": false,
     "start_time": "2024-10-05T14:47:46.358146",
     "status": "completed"
    },
    "tags": []
   },
   "source": [
    "## Import Libraries"
   ]
  },
  {
   "cell_type": "code",
   "execution_count": 1,
   "id": "460c5912",
   "metadata": {
    "execution": {
     "iopub.execute_input": "2024-10-05T14:47:46.406266Z",
     "iopub.status.busy": "2024-10-05T14:47:46.405848Z",
     "iopub.status.idle": "2024-10-05T14:47:46.411026Z",
     "shell.execute_reply": "2024-10-05T14:47:46.410214Z"
    },
    "id": "XI-WWDhBJrsW",
    "outputId": "7b58600a-9ef6-4a29-eba1-c261031f9e41",
    "papermill": {
     "duration": 0.023954,
     "end_time": "2024-10-05T14:47:46.413123",
     "exception": false,
     "start_time": "2024-10-05T14:47:46.389169",
     "status": "completed"
    },
    "tags": []
   },
   "outputs": [],
   "source": [
    "# from google.colab import drive\n",
    "# drive.mount('/content/drive')"
   ]
  },
  {
   "cell_type": "code",
   "execution_count": 2,
   "id": "ff617921",
   "metadata": {
    "execution": {
     "iopub.execute_input": "2024-10-05T14:47:46.446717Z",
     "iopub.status.busy": "2024-10-05T14:47:46.445830Z",
     "iopub.status.idle": "2024-10-05T14:47:49.301800Z",
     "shell.execute_reply": "2024-10-05T14:47:49.300799Z"
    },
    "id": "DbtqoiwZwFQL",
    "papermill": {
     "duration": 2.875318,
     "end_time": "2024-10-05T14:47:49.304400",
     "exception": false,
     "start_time": "2024-10-05T14:47:46.429082",
     "status": "completed"
    },
    "tags": []
   },
   "outputs": [],
   "source": [
    "import pandas as pd\n",
    "import re\n",
    "import numpy as np\n",
    "import matplotlib.pyplot as plt\n",
    "import seaborn as sns\n",
    "from sklearn.model_selection import train_test_split\n",
    "from sklearn.decomposition import PCA\n",
    "from sklearn.feature_extraction.text import TfidfVectorizer\n",
    "from sklearn.svm import SVC\n",
    "from sklearn.tree import DecisionTreeClassifier\n",
    "from sklearn.naive_bayes import GaussianNB\n",
    "from sklearn.ensemble import RandomForestClassifier, AdaBoostClassifier\n",
    "from sklearn.metrics import accuracy_score\n",
    "from sklearn.metrics import confusion_matrix\n",
    "from sklearn.metrics import precision_score\n",
    "from sklearn.metrics import recall_score\n",
    "from sklearn.metrics import roc_auc_score\n",
    "from sklearn.metrics import f1_score\n",
    "from sklearn.metrics import classification_report\n",
    "from sklearn.preprocessing import StandardScaler\n",
    "from imblearn.over_sampling import RandomOverSampler, SMOTE\n",
    "from imblearn.under_sampling import RandomUnderSampler, NearMiss\n",
    "from collections import Counter"
   ]
  },
  {
   "cell_type": "markdown",
   "id": "d8368eeb",
   "metadata": {
    "id": "Dqg-waw9wS-g",
    "papermill": {
     "duration": 0.015531,
     "end_time": "2024-10-05T14:47:49.335834",
     "exception": false,
     "start_time": "2024-10-05T14:47:49.320303",
     "status": "completed"
    },
    "tags": []
   },
   "source": [
    "## Load Data"
   ]
  },
  {
   "cell_type": "code",
   "execution_count": 3,
   "id": "e5580241",
   "metadata": {
    "execution": {
     "iopub.execute_input": "2024-10-05T14:47:49.368921Z",
     "iopub.status.busy": "2024-10-05T14:47:49.368384Z",
     "iopub.status.idle": "2024-10-05T14:47:50.201276Z",
     "shell.execute_reply": "2024-10-05T14:47:50.200084Z"
    },
    "id": "j74raRBrJjEY",
    "outputId": "7192d7fd-4b2e-4adb-d1d6-41170832dcfc",
    "papermill": {
     "duration": 0.852051,
     "end_time": "2024-10-05T14:47:50.203476",
     "exception": false,
     "start_time": "2024-10-05T14:47:49.351425",
     "status": "completed"
    },
    "tags": []
   },
   "outputs": [
    {
     "data": {
      "text/html": [
       "<div>\n",
       "<style scoped>\n",
       "    .dataframe tbody tr th:only-of-type {\n",
       "        vertical-align: middle;\n",
       "    }\n",
       "\n",
       "    .dataframe tbody tr th {\n",
       "        vertical-align: top;\n",
       "    }\n",
       "\n",
       "    .dataframe thead th {\n",
       "        text-align: right;\n",
       "    }\n",
       "</style>\n",
       "<table border=\"1\" class=\"dataframe\">\n",
       "  <thead>\n",
       "    <tr style=\"text-align: right;\">\n",
       "      <th></th>\n",
       "      <th>text</th>\n",
       "      <th>anotasi_gpt</th>\n",
       "      <th>emoji_berulang</th>\n",
       "      <th>new text</th>\n",
       "      <th>cleaning</th>\n",
       "      <th>case_folding</th>\n",
       "      <th>stopword_removal</th>\n",
       "      <th>stemming</th>\n",
       "    </tr>\n",
       "  </thead>\n",
       "  <tbody>\n",
       "    <tr>\n",
       "      <th>0</th>\n",
       "      <td>,Sama bunda juga sedih ,mereka tulang punggung...</td>\n",
       "      <td>Non-Sarcasm</td>\n",
       "      <td>False</td>\n",
       "      <td>,Sama bunda juga sedih ,mereka tulang punggung...</td>\n",
       "      <td>Sama bunda juga sedih mereka tulang punggung k...</td>\n",
       "      <td>sama bunda juga sedih mereka tulang punggung k...</td>\n",
       "      <td>['bunda', 'sedih', 'tulang', 'punggung', 'kelu...</td>\n",
       "      <td>bunda sedih tulang punggung keluarga gmn istri...</td>\n",
       "    </tr>\n",
       "    <tr>\n",
       "      <th>1</th>\n",
       "      <td>? Ada aplikasi lain kan? Lebay amat</td>\n",
       "      <td>Sarcasm</td>\n",
       "      <td>False</td>\n",
       "      <td>? Ada aplikasi lain kan? Lebay amat</td>\n",
       "      <td>Ada aplikasi lain kan Lebay amat</td>\n",
       "      <td>ada aplikasi lain kan lebay amat</td>\n",
       "      <td>['aplikasi', 'lebay']</td>\n",
       "      <td>aplikasi lebay</td>\n",
       "    </tr>\n",
       "    <tr>\n",
       "      <th>2</th>\n",
       "      <td>????? Lawak UMKM ug mana? Yg harus di blokir i...</td>\n",
       "      <td>Sarcasm</td>\n",
       "      <td>False</td>\n",
       "      <td>????? Lawak UMKM ug mana? Yg harus di blokir i...</td>\n",
       "      <td>Lawak UMKM mana harus blokir itu produk impor ...</td>\n",
       "      <td>lawak umkm mana harus blokir itu produk impor ...</td>\n",
       "      <td>['lawak', 'umkm', 'blokir', 'produk', 'impor',...</td>\n",
       "      <td>lawak umkm blokir produk impor cina lapang ker...</td>\n",
       "    </tr>\n",
       "    <tr>\n",
       "      <th>3</th>\n",
       "      <td>.. dan menghacurkan UMKM !</td>\n",
       "      <td>Sarcasm</td>\n",
       "      <td>False</td>\n",
       "      <td>.. dan menghacurkan UMKM !</td>\n",
       "      <td>dan menghacurkan UMKM</td>\n",
       "      <td>dan menghacurkan umkm</td>\n",
       "      <td>['menghacurkan', 'umkm']</td>\n",
       "      <td>menghacurkan umkm</td>\n",
       "    </tr>\n",
       "    <tr>\n",
       "      <th>4</th>\n",
       "      <td>.jika tidak menggunakan teknologi manusia tida...</td>\n",
       "      <td>Sarcasm</td>\n",
       "      <td>False</td>\n",
       "      <td>.jika tidak menggunakan teknologi manusia tida...</td>\n",
       "      <td>jika tidak menggunakan teknologi manusia tidak...</td>\n",
       "      <td>jika tidak menggunakan teknologi manusia tidak...</td>\n",
       "      <td>['teknologi', 'manusia', 'pergi', 'angkasa', '...</td>\n",
       "      <td>teknologi manusia pergi angkasa f x x negara k...</td>\n",
       "    </tr>\n",
       "    <tr>\n",
       "      <th>...</th>\n",
       "      <td>...</td>\n",
       "      <td>...</td>\n",
       "      <td>...</td>\n",
       "      <td>...</td>\n",
       "      <td>...</td>\n",
       "      <td>...</td>\n",
       "      <td>...</td>\n",
       "      <td>...</td>\n",
       "    </tr>\n",
       "    <tr>\n",
       "      <th>42931</th>\n",
       "      <td>Aaaa makasii banyak kak penjelasannya❤️penyamp...</td>\n",
       "      <td>Non-Sarcasm</td>\n",
       "      <td>False</td>\n",
       "      <td>Aaaa makasii banyak kak penjelasannya❤️penyamp...</td>\n",
       "      <td>Aaa makasii banyak kak penjelasannya penyampai...</td>\n",
       "      <td>aaa makasii banyak kak penjelasannya penyampai...</td>\n",
       "      <td>['aaa', 'makasii', 'kak', 'penjelasannya', 'pe...</td>\n",
       "      <td>aaa makasii kak jelas sampai mudah bgt paham l...</td>\n",
       "    </tr>\n",
       "    <tr>\n",
       "      <th>42932</th>\n",
       "      <td>Aaaa makaaasih🫶🏻🫶🏻🫶🏻 masi on process krn pgn p...</td>\n",
       "      <td>Non-Sarcasm</td>\n",
       "      <td>False</td>\n",
       "      <td>Aaaa makaaasih🫶🏻🫶🏻🫶🏻 masi on process krn pgn p...</td>\n",
       "      <td>Aaa makaasih masi process krn pgn product stab...</td>\n",
       "      <td>aaa makaasih masi process krn pgn product stab...</td>\n",
       "      <td>['aaa', 'makaasih', 'masi', 'process', 'pgn', ...</td>\n",
       "      <td>aaa makaasih mas process pgn product stabil ju...</td>\n",
       "    </tr>\n",
       "    <tr>\n",
       "      <th>42933</th>\n",
       "      <td>Aaaa luvsss🥺🥰 semoga aku terus bisa menginspir...</td>\n",
       "      <td>Non-Sarcasm</td>\n",
       "      <td>False</td>\n",
       "      <td>Aaaa luvsss (Menggambarkan keinginan akan sesu...</td>\n",
       "      <td>Aaa luvss semoga aku terus bisa menginspirasi yaa</td>\n",
       "      <td>aaa luvss semoga aku terus bisa menginspirasi yaa</td>\n",
       "      <td>['aaa', 'luvss', 'semoga', 'menginspirasi', 'y...</td>\n",
       "      <td>aaa luvss moga inspirasi yaa</td>\n",
       "    </tr>\n",
       "    <tr>\n",
       "      <th>42934</th>\n",
       "      <td>Aaaa jelas banget cara jelasinnya, makasih kak...</td>\n",
       "      <td>Non-Sarcasm</td>\n",
       "      <td>False</td>\n",
       "      <td>Aaaa jelas banget cara jelasinnya, makasih kak...</td>\n",
       "      <td>Aaa jelas banget cara jelasinnya makasih kak a...</td>\n",
       "      <td>aaa jelas banget cara jelasinnya makasih kak a...</td>\n",
       "      <td>['aaa', 'banget', 'jelasinnya', 'makasih', 'ka...</td>\n",
       "      <td>aaa banget jelasinnya makasih kak subscribe</td>\n",
       "    </tr>\n",
       "    <tr>\n",
       "      <th>42935</th>\n",
       "      <td>Aaaa bahagia banget Nemu channel Kaka, bener2 ...</td>\n",
       "      <td>Non-Sarcasm</td>\n",
       "      <td>False</td>\n",
       "      <td>Aaaa bahagia banget Nemu channel Kaka, bener2 ...</td>\n",
       "      <td>Aaa bahagia banget Nemu channel Kaka bener mem...</td>\n",
       "      <td>aaa bahagia banget nemu channel kaka bener mem...</td>\n",
       "      <td>['aaa', 'bahagia', 'banget', 'nemu', 'channel'...</td>\n",
       "      <td>aaa bahagia banget nemu channel kaka bener bantu</td>\n",
       "    </tr>\n",
       "  </tbody>\n",
       "</table>\n",
       "<p>42936 rows × 8 columns</p>\n",
       "</div>"
      ],
      "text/plain": [
       "                                                    text  anotasi_gpt  \\\n",
       "0      ,Sama bunda juga sedih ,mereka tulang punggung...  Non-Sarcasm   \n",
       "1                    ? Ada aplikasi lain kan? Lebay amat      Sarcasm   \n",
       "2      ????? Lawak UMKM ug mana? Yg harus di blokir i...      Sarcasm   \n",
       "3                             .. dan menghacurkan UMKM !      Sarcasm   \n",
       "4      .jika tidak menggunakan teknologi manusia tida...      Sarcasm   \n",
       "...                                                  ...          ...   \n",
       "42931  Aaaa makasii banyak kak penjelasannya❤️penyamp...  Non-Sarcasm   \n",
       "42932  Aaaa makaaasih🫶🏻🫶🏻🫶🏻 masi on process krn pgn p...  Non-Sarcasm   \n",
       "42933  Aaaa luvsss🥺🥰 semoga aku terus bisa menginspir...  Non-Sarcasm   \n",
       "42934  Aaaa jelas banget cara jelasinnya, makasih kak...  Non-Sarcasm   \n",
       "42935  Aaaa bahagia banget Nemu channel Kaka, bener2 ...  Non-Sarcasm   \n",
       "\n",
       "       emoji_berulang                                           new text  \\\n",
       "0               False  ,Sama bunda juga sedih ,mereka tulang punggung...   \n",
       "1               False                ? Ada aplikasi lain kan? Lebay amat   \n",
       "2               False  ????? Lawak UMKM ug mana? Yg harus di blokir i...   \n",
       "3               False                         .. dan menghacurkan UMKM !   \n",
       "4               False  .jika tidak menggunakan teknologi manusia tida...   \n",
       "...               ...                                                ...   \n",
       "42931           False  Aaaa makasii banyak kak penjelasannya❤️penyamp...   \n",
       "42932           False  Aaaa makaaasih🫶🏻🫶🏻🫶🏻 masi on process krn pgn p...   \n",
       "42933           False  Aaaa luvsss (Menggambarkan keinginan akan sesu...   \n",
       "42934           False  Aaaa jelas banget cara jelasinnya, makasih kak...   \n",
       "42935           False  Aaaa bahagia banget Nemu channel Kaka, bener2 ...   \n",
       "\n",
       "                                                cleaning  \\\n",
       "0      Sama bunda juga sedih mereka tulang punggung k...   \n",
       "1                       Ada aplikasi lain kan Lebay amat   \n",
       "2      Lawak UMKM mana harus blokir itu produk impor ...   \n",
       "3                                  dan menghacurkan UMKM   \n",
       "4      jika tidak menggunakan teknologi manusia tidak...   \n",
       "...                                                  ...   \n",
       "42931  Aaa makasii banyak kak penjelasannya penyampai...   \n",
       "42932  Aaa makaasih masi process krn pgn product stab...   \n",
       "42933  Aaa luvss semoga aku terus bisa menginspirasi yaa   \n",
       "42934  Aaa jelas banget cara jelasinnya makasih kak a...   \n",
       "42935  Aaa bahagia banget Nemu channel Kaka bener mem...   \n",
       "\n",
       "                                            case_folding  \\\n",
       "0      sama bunda juga sedih mereka tulang punggung k...   \n",
       "1                       ada aplikasi lain kan lebay amat   \n",
       "2      lawak umkm mana harus blokir itu produk impor ...   \n",
       "3                                  dan menghacurkan umkm   \n",
       "4      jika tidak menggunakan teknologi manusia tidak...   \n",
       "...                                                  ...   \n",
       "42931  aaa makasii banyak kak penjelasannya penyampai...   \n",
       "42932  aaa makaasih masi process krn pgn product stab...   \n",
       "42933  aaa luvss semoga aku terus bisa menginspirasi yaa   \n",
       "42934  aaa jelas banget cara jelasinnya makasih kak a...   \n",
       "42935  aaa bahagia banget nemu channel kaka bener mem...   \n",
       "\n",
       "                                        stopword_removal  \\\n",
       "0      ['bunda', 'sedih', 'tulang', 'punggung', 'kelu...   \n",
       "1                                  ['aplikasi', 'lebay']   \n",
       "2      ['lawak', 'umkm', 'blokir', 'produk', 'impor',...   \n",
       "3                               ['menghacurkan', 'umkm']   \n",
       "4      ['teknologi', 'manusia', 'pergi', 'angkasa', '...   \n",
       "...                                                  ...   \n",
       "42931  ['aaa', 'makasii', 'kak', 'penjelasannya', 'pe...   \n",
       "42932  ['aaa', 'makaasih', 'masi', 'process', 'pgn', ...   \n",
       "42933  ['aaa', 'luvss', 'semoga', 'menginspirasi', 'y...   \n",
       "42934  ['aaa', 'banget', 'jelasinnya', 'makasih', 'ka...   \n",
       "42935  ['aaa', 'bahagia', 'banget', 'nemu', 'channel'...   \n",
       "\n",
       "                                                stemming  \n",
       "0      bunda sedih tulang punggung keluarga gmn istri...  \n",
       "1                                         aplikasi lebay  \n",
       "2      lawak umkm blokir produk impor cina lapang ker...  \n",
       "3                                      menghacurkan umkm  \n",
       "4      teknologi manusia pergi angkasa f x x negara k...  \n",
       "...                                                  ...  \n",
       "42931  aaa makasii kak jelas sampai mudah bgt paham l...  \n",
       "42932  aaa makaasih mas process pgn product stabil ju...  \n",
       "42933                       aaa luvss moga inspirasi yaa  \n",
       "42934        aaa banget jelasinnya makasih kak subscribe  \n",
       "42935   aaa bahagia banget nemu channel kaka bener bantu  \n",
       "\n",
       "[42936 rows x 8 columns]"
      ]
     },
     "execution_count": 3,
     "metadata": {},
     "output_type": "execute_result"
    }
   ],
   "source": [
    "# file from google colab\n",
    "# file = \"/content/drive/MyDrive/DRPM 2024/code/data/after_preprocessed_data_with_emoji.csv\"\n",
    "\n",
    "# file from kaggle\n",
    "file = \"/kaggle/input/dataset-drpm/after_preprocessed_data_with_emoji - after_preprocessed_data_with_emoji.csv\"\n",
    "df = pd.read_csv(file)\n",
    "df"
   ]
  },
  {
   "cell_type": "code",
   "execution_count": 4,
   "id": "e99b7d3f",
   "metadata": {
    "execution": {
     "iopub.execute_input": "2024-10-05T14:47:50.239491Z",
     "iopub.status.busy": "2024-10-05T14:47:50.238757Z",
     "iopub.status.idle": "2024-10-05T14:47:50.254832Z",
     "shell.execute_reply": "2024-10-05T14:47:50.253882Z"
    },
    "papermill": {
     "duration": 0.035828,
     "end_time": "2024-10-05T14:47:50.256757",
     "exception": false,
     "start_time": "2024-10-05T14:47:50.220929",
     "status": "completed"
    },
    "tags": []
   },
   "outputs": [
    {
     "data": {
      "text/plain": [
       "anotasi_gpt\n",
       "Non-Sarcasm    28074\n",
       "Sarcasm        14862\n",
       "Name: count, dtype: int64"
      ]
     },
     "execution_count": 4,
     "metadata": {},
     "output_type": "execute_result"
    }
   ],
   "source": [
    "count_sarcasm = df['anotasi_gpt'].value_counts()\n",
    "count_sarcasm"
   ]
  },
  {
   "cell_type": "code",
   "execution_count": 5,
   "id": "c69a3f7c",
   "metadata": {
    "execution": {
     "iopub.execute_input": "2024-10-05T14:47:50.291252Z",
     "iopub.status.busy": "2024-10-05T14:47:50.290857Z",
     "iopub.status.idle": "2024-10-05T14:47:50.576966Z",
     "shell.execute_reply": "2024-10-05T14:47:50.576039Z"
    },
    "papermill": {
     "duration": 0.306034,
     "end_time": "2024-10-05T14:47:50.579271",
     "exception": false,
     "start_time": "2024-10-05T14:47:50.273237",
     "status": "completed"
    },
    "tags": []
   },
   "outputs": [
    {
     "data": {
      "image/png": "[encoded data removed]",
      "text/plain": [
       "<Figure size 2000x1000 with 1 Axes>"
      ]
     },
     "metadata": {},
     "output_type": "display_data"
    }
   ],
   "source": [
    "x = df['anotasi_gpt'].unique()\n",
    "y = count_sarcasm\n",
    "plt.figure(figsize=(20, 10))\n",
    "# plt.bar(x, y)\n",
    "plt.xlabel('anotasi')\n",
    "plt.bar_label(plt.bar(x, y))\n",
    "plt.show()"
   ]
  },
  {
   "cell_type": "code",
   "execution_count": 6,
   "id": "b493d0cc",
   "metadata": {
    "execution": {
     "iopub.execute_input": "2024-10-05T14:47:50.615391Z",
     "iopub.status.busy": "2024-10-05T14:47:50.614614Z",
     "iopub.status.idle": "2024-10-05T14:47:50.642823Z",
     "shell.execute_reply": "2024-10-05T14:47:50.641851Z"
    },
    "id": "ySlQylQO2Iy5",
    "outputId": "d953c605-ae5d-478a-f327-72538ac2dd7b",
    "papermill": {
     "duration": 0.048381,
     "end_time": "2024-10-05T14:47:50.644920",
     "exception": false,
     "start_time": "2024-10-05T14:47:50.596539",
     "status": "completed"
    },
    "tags": []
   },
   "outputs": [
    {
     "data": {
      "text/plain": [
       "True     39725\n",
       "False     3211\n",
       "Name: count, dtype: int64"
      ]
     },
     "execution_count": 6,
     "metadata": {},
     "output_type": "execute_result"
    }
   ],
   "source": [
    "df[\"text\"] == df[\"new text\"]\n",
    "similar_text = df[\"text\"] == df[\"new text\"]\n",
    "count_similar_text = similar_text.value_counts()\n",
    "count_similar_text"
   ]
  },
  {
   "cell_type": "markdown",
   "id": "d2503ceb",
   "metadata": {
    "id": "8C59Kujvwyhs",
    "papermill": {
     "duration": 0.016632,
     "end_time": "2024-10-05T14:47:50.678519",
     "exception": false,
     "start_time": "2024-10-05T14:47:50.661887",
     "status": "completed"
    },
    "tags": []
   },
   "source": [
    "## Preprocess"
   ]
  },
  {
   "cell_type": "code",
   "execution_count": 7,
   "id": "1d8127b7",
   "metadata": {
    "execution": {
     "iopub.execute_input": "2024-10-05T14:47:50.717367Z",
     "iopub.status.busy": "2024-10-05T14:47:50.716633Z",
     "iopub.status.idle": "2024-10-05T14:47:50.751718Z",
     "shell.execute_reply": "2024-10-05T14:47:50.750707Z"
    },
    "papermill": {
     "duration": 0.056012,
     "end_time": "2024-10-05T14:47:50.753947",
     "exception": false,
     "start_time": "2024-10-05T14:47:50.697935",
     "status": "completed"
    },
    "tags": []
   },
   "outputs": [
    {
     "data": {
      "text/html": [
       "<div>\n",
       "<style scoped>\n",
       "    .dataframe tbody tr th:only-of-type {\n",
       "        vertical-align: middle;\n",
       "    }\n",
       "\n",
       "    .dataframe tbody tr th {\n",
       "        vertical-align: top;\n",
       "    }\n",
       "\n",
       "    .dataframe thead th {\n",
       "        text-align: right;\n",
       "    }\n",
       "</style>\n",
       "<table border=\"1\" class=\"dataframe\">\n",
       "  <thead>\n",
       "    <tr style=\"text-align: right;\">\n",
       "      <th></th>\n",
       "      <th>text</th>\n",
       "      <th>anotasi_gpt</th>\n",
       "      <th>emoji_berulang</th>\n",
       "      <th>new text</th>\n",
       "      <th>cleaning</th>\n",
       "      <th>case_folding</th>\n",
       "      <th>stopword_removal</th>\n",
       "      <th>stemming</th>\n",
       "    </tr>\n",
       "  </thead>\n",
       "  <tbody>\n",
       "    <tr>\n",
       "      <th>0</th>\n",
       "      <td>,Sama bunda juga sedih ,mereka tulang punggung...</td>\n",
       "      <td>0</td>\n",
       "      <td>False</td>\n",
       "      <td>,Sama bunda juga sedih ,mereka tulang punggung...</td>\n",
       "      <td>Sama bunda juga sedih mereka tulang punggung k...</td>\n",
       "      <td>sama bunda juga sedih mereka tulang punggung k...</td>\n",
       "      <td>['bunda', 'sedih', 'tulang', 'punggung', 'kelu...</td>\n",
       "      <td>bunda sedih tulang punggung keluarga gmn istri...</td>\n",
       "    </tr>\n",
       "    <tr>\n",
       "      <th>1</th>\n",
       "      <td>? Ada aplikasi lain kan? Lebay amat</td>\n",
       "      <td>1</td>\n",
       "      <td>False</td>\n",
       "      <td>? Ada aplikasi lain kan? Lebay amat</td>\n",
       "      <td>Ada aplikasi lain kan Lebay amat</td>\n",
       "      <td>ada aplikasi lain kan lebay amat</td>\n",
       "      <td>['aplikasi', 'lebay']</td>\n",
       "      <td>aplikasi lebay</td>\n",
       "    </tr>\n",
       "    <tr>\n",
       "      <th>2</th>\n",
       "      <td>????? Lawak UMKM ug mana? Yg harus di blokir i...</td>\n",
       "      <td>1</td>\n",
       "      <td>False</td>\n",
       "      <td>????? Lawak UMKM ug mana? Yg harus di blokir i...</td>\n",
       "      <td>Lawak UMKM mana harus blokir itu produk impor ...</td>\n",
       "      <td>lawak umkm mana harus blokir itu produk impor ...</td>\n",
       "      <td>['lawak', 'umkm', 'blokir', 'produk', 'impor',...</td>\n",
       "      <td>lawak umkm blokir produk impor cina lapang ker...</td>\n",
       "    </tr>\n",
       "    <tr>\n",
       "      <th>3</th>\n",
       "      <td>.. dan menghacurkan UMKM !</td>\n",
       "      <td>1</td>\n",
       "      <td>False</td>\n",
       "      <td>.. dan menghacurkan UMKM !</td>\n",
       "      <td>dan menghacurkan UMKM</td>\n",
       "      <td>dan menghacurkan umkm</td>\n",
       "      <td>['menghacurkan', 'umkm']</td>\n",
       "      <td>menghacurkan umkm</td>\n",
       "    </tr>\n",
       "    <tr>\n",
       "      <th>4</th>\n",
       "      <td>.jika tidak menggunakan teknologi manusia tida...</td>\n",
       "      <td>1</td>\n",
       "      <td>False</td>\n",
       "      <td>.jika tidak menggunakan teknologi manusia tida...</td>\n",
       "      <td>jika tidak menggunakan teknologi manusia tidak...</td>\n",
       "      <td>jika tidak menggunakan teknologi manusia tidak...</td>\n",
       "      <td>['teknologi', 'manusia', 'pergi', 'angkasa', '...</td>\n",
       "      <td>teknologi manusia pergi angkasa f x x negara k...</td>\n",
       "    </tr>\n",
       "    <tr>\n",
       "      <th>...</th>\n",
       "      <td>...</td>\n",
       "      <td>...</td>\n",
       "      <td>...</td>\n",
       "      <td>...</td>\n",
       "      <td>...</td>\n",
       "      <td>...</td>\n",
       "      <td>...</td>\n",
       "      <td>...</td>\n",
       "    </tr>\n",
       "    <tr>\n",
       "      <th>42931</th>\n",
       "      <td>Aaaa makasii banyak kak penjelasannya❤️penyamp...</td>\n",
       "      <td>0</td>\n",
       "      <td>False</td>\n",
       "      <td>Aaaa makasii banyak kak penjelasannya❤️penyamp...</td>\n",
       "      <td>Aaa makasii banyak kak penjelasannya penyampai...</td>\n",
       "      <td>aaa makasii banyak kak penjelasannya penyampai...</td>\n",
       "      <td>['aaa', 'makasii', 'kak', 'penjelasannya', 'pe...</td>\n",
       "      <td>aaa makasii kak jelas sampai mudah bgt paham l...</td>\n",
       "    </tr>\n",
       "    <tr>\n",
       "      <th>42932</th>\n",
       "      <td>Aaaa makaaasih🫶🏻🫶🏻🫶🏻 masi on process krn pgn p...</td>\n",
       "      <td>0</td>\n",
       "      <td>False</td>\n",
       "      <td>Aaaa makaaasih🫶🏻🫶🏻🫶🏻 masi on process krn pgn p...</td>\n",
       "      <td>Aaa makaasih masi process krn pgn product stab...</td>\n",
       "      <td>aaa makaasih masi process krn pgn product stab...</td>\n",
       "      <td>['aaa', 'makaasih', 'masi', 'process', 'pgn', ...</td>\n",
       "      <td>aaa makaasih mas process pgn product stabil ju...</td>\n",
       "    </tr>\n",
       "    <tr>\n",
       "      <th>42933</th>\n",
       "      <td>Aaaa luvsss🥺🥰 semoga aku terus bisa menginspir...</td>\n",
       "      <td>0</td>\n",
       "      <td>False</td>\n",
       "      <td>Aaaa luvsss (Menggambarkan keinginan akan sesu...</td>\n",
       "      <td>Aaa luvss semoga aku terus bisa menginspirasi yaa</td>\n",
       "      <td>aaa luvss semoga aku terus bisa menginspirasi yaa</td>\n",
       "      <td>['aaa', 'luvss', 'semoga', 'menginspirasi', 'y...</td>\n",
       "      <td>aaa luvss moga inspirasi yaa</td>\n",
       "    </tr>\n",
       "    <tr>\n",
       "      <th>42934</th>\n",
       "      <td>Aaaa jelas banget cara jelasinnya, makasih kak...</td>\n",
       "      <td>0</td>\n",
       "      <td>False</td>\n",
       "      <td>Aaaa jelas banget cara jelasinnya, makasih kak...</td>\n",
       "      <td>Aaa jelas banget cara jelasinnya makasih kak a...</td>\n",
       "      <td>aaa jelas banget cara jelasinnya makasih kak a...</td>\n",
       "      <td>['aaa', 'banget', 'jelasinnya', 'makasih', 'ka...</td>\n",
       "      <td>aaa banget jelasinnya makasih kak subscribe</td>\n",
       "    </tr>\n",
       "    <tr>\n",
       "      <th>42935</th>\n",
       "      <td>Aaaa bahagia banget Nemu channel Kaka, bener2 ...</td>\n",
       "      <td>0</td>\n",
       "      <td>False</td>\n",
       "      <td>Aaaa bahagia banget Nemu channel Kaka, bener2 ...</td>\n",
       "      <td>Aaa bahagia banget Nemu channel Kaka bener mem...</td>\n",
       "      <td>aaa bahagia banget nemu channel kaka bener mem...</td>\n",
       "      <td>['aaa', 'bahagia', 'banget', 'nemu', 'channel'...</td>\n",
       "      <td>aaa bahagia banget nemu channel kaka bener bantu</td>\n",
       "    </tr>\n",
       "  </tbody>\n",
       "</table>\n",
       "<p>42936 rows × 8 columns</p>\n",
       "</div>"
      ],
      "text/plain": [
       "                                                    text  anotasi_gpt  \\\n",
       "0      ,Sama bunda juga sedih ,mereka tulang punggung...            0   \n",
       "1                    ? Ada aplikasi lain kan? Lebay amat            1   \n",
       "2      ????? Lawak UMKM ug mana? Yg harus di blokir i...            1   \n",
       "3                             .. dan menghacurkan UMKM !            1   \n",
       "4      .jika tidak menggunakan teknologi manusia tida...            1   \n",
       "...                                                  ...          ...   \n",
       "42931  Aaaa makasii banyak kak penjelasannya❤️penyamp...            0   \n",
       "42932  Aaaa makaaasih🫶🏻🫶🏻🫶🏻 masi on process krn pgn p...            0   \n",
       "42933  Aaaa luvsss🥺🥰 semoga aku terus bisa menginspir...            0   \n",
       "42934  Aaaa jelas banget cara jelasinnya, makasih kak...            0   \n",
       "42935  Aaaa bahagia banget Nemu channel Kaka, bener2 ...            0   \n",
       "\n",
       "       emoji_berulang                                           new text  \\\n",
       "0               False  ,Sama bunda juga sedih ,mereka tulang punggung...   \n",
       "1               False                ? Ada aplikasi lain kan? Lebay amat   \n",
       "2               False  ????? Lawak UMKM ug mana? Yg harus di blokir i...   \n",
       "3               False                         .. dan menghacurkan UMKM !   \n",
       "4               False  .jika tidak menggunakan teknologi manusia tida...   \n",
       "...               ...                                                ...   \n",
       "42931           False  Aaaa makasii banyak kak penjelasannya❤️penyamp...   \n",
       "42932           False  Aaaa makaaasih🫶🏻🫶🏻🫶🏻 masi on process krn pgn p...   \n",
       "42933           False  Aaaa luvsss (Menggambarkan keinginan akan sesu...   \n",
       "42934           False  Aaaa jelas banget cara jelasinnya, makasih kak...   \n",
       "42935           False  Aaaa bahagia banget Nemu channel Kaka, bener2 ...   \n",
       "\n",
       "                                                cleaning  \\\n",
       "0      Sama bunda juga sedih mereka tulang punggung k...   \n",
       "1                       Ada aplikasi lain kan Lebay amat   \n",
       "2      Lawak UMKM mana harus blokir itu produk impor ...   \n",
       "3                                  dan menghacurkan UMKM   \n",
       "4      jika tidak menggunakan teknologi manusia tidak...   \n",
       "...                                                  ...   \n",
       "42931  Aaa makasii banyak kak penjelasannya penyampai...   \n",
       "42932  Aaa makaasih masi process krn pgn product stab...   \n",
       "42933  Aaa luvss semoga aku terus bisa menginspirasi yaa   \n",
       "42934  Aaa jelas banget cara jelasinnya makasih kak a...   \n",
       "42935  Aaa bahagia banget Nemu channel Kaka bener mem...   \n",
       "\n",
       "                                            case_folding  \\\n",
       "0      sama bunda juga sedih mereka tulang punggung k...   \n",
       "1                       ada aplikasi lain kan lebay amat   \n",
       "2      lawak umkm mana harus blokir itu produk impor ...   \n",
       "3                                  dan menghacurkan umkm   \n",
       "4      jika tidak menggunakan teknologi manusia tidak...   \n",
       "...                                                  ...   \n",
       "42931  aaa makasii banyak kak penjelasannya penyampai...   \n",
       "42932  aaa makaasih masi process krn pgn product stab...   \n",
       "42933  aaa luvss semoga aku terus bisa menginspirasi yaa   \n",
       "42934  aaa jelas banget cara jelasinnya makasih kak a...   \n",
       "42935  aaa bahagia banget nemu channel kaka bener mem...   \n",
       "\n",
       "                                        stopword_removal  \\\n",
       "0      ['bunda', 'sedih', 'tulang', 'punggung', 'kelu...   \n",
       "1                                  ['aplikasi', 'lebay']   \n",
       "2      ['lawak', 'umkm', 'blokir', 'produk', 'impor',...   \n",
       "3                               ['menghacurkan', 'umkm']   \n",
       "4      ['teknologi', 'manusia', 'pergi', 'angkasa', '...   \n",
       "...                                                  ...   \n",
       "42931  ['aaa', 'makasii', 'kak', 'penjelasannya', 'pe...   \n",
       "42932  ['aaa', 'makaasih', 'masi', 'process', 'pgn', ...   \n",
       "42933  ['aaa', 'luvss', 'semoga', 'menginspirasi', 'y...   \n",
       "42934  ['aaa', 'banget', 'jelasinnya', 'makasih', 'ka...   \n",
       "42935  ['aaa', 'bahagia', 'banget', 'nemu', 'channel'...   \n",
       "\n",
       "                                                stemming  \n",
       "0      bunda sedih tulang punggung keluarga gmn istri...  \n",
       "1                                         aplikasi lebay  \n",
       "2      lawak umkm blokir produk impor cina lapang ker...  \n",
       "3                                      menghacurkan umkm  \n",
       "4      teknologi manusia pergi angkasa f x x negara k...  \n",
       "...                                                  ...  \n",
       "42931  aaa makasii kak jelas sampai mudah bgt paham l...  \n",
       "42932  aaa makaasih mas process pgn product stabil ju...  \n",
       "42933                       aaa luvss moga inspirasi yaa  \n",
       "42934        aaa banget jelasinnya makasih kak subscribe  \n",
       "42935   aaa bahagia banget nemu channel kaka bener bantu  \n",
       "\n",
       "[42936 rows x 8 columns]"
      ]
     },
     "execution_count": 7,
     "metadata": {},
     "output_type": "execute_result"
    }
   ],
   "source": [
    "df['anotasi_gpt'] = df['anotasi_gpt'].apply(lambda x: 0 if x == 'Non-Sarcasm' else 1)\n",
    "df"
   ]
  },
  {
   "cell_type": "code",
   "execution_count": 8,
   "id": "a88aa6b5",
   "metadata": {
    "execution": {
     "iopub.execute_input": "2024-10-05T14:47:50.790616Z",
     "iopub.status.busy": "2024-10-05T14:47:50.790204Z",
     "iopub.status.idle": "2024-10-05T14:47:50.823066Z",
     "shell.execute_reply": "2024-10-05T14:47:50.822014Z"
    },
    "id": "B_GGKmCBO-xg",
    "outputId": "4989ae5a-3c0a-4c0f-8c71-418821586485",
    "papermill": {
     "duration": 0.053915,
     "end_time": "2024-10-05T14:47:50.825444",
     "exception": false,
     "start_time": "2024-10-05T14:47:50.771529",
     "status": "completed"
    },
    "tags": []
   },
   "outputs": [
    {
     "data": {
      "text/html": [
       "<div>\n",
       "<style scoped>\n",
       "    .dataframe tbody tr th:only-of-type {\n",
       "        vertical-align: middle;\n",
       "    }\n",
       "\n",
       "    .dataframe tbody tr th {\n",
       "        vertical-align: top;\n",
       "    }\n",
       "\n",
       "    .dataframe thead th {\n",
       "        text-align: right;\n",
       "    }\n",
       "</style>\n",
       "<table border=\"1\" class=\"dataframe\">\n",
       "  <thead>\n",
       "    <tr style=\"text-align: right;\">\n",
       "      <th></th>\n",
       "      <th>text</th>\n",
       "      <th>anotasi_gpt</th>\n",
       "      <th>emoji_berulang</th>\n",
       "      <th>new text</th>\n",
       "      <th>cleaning</th>\n",
       "      <th>case_folding</th>\n",
       "      <th>stopword_removal</th>\n",
       "      <th>stemming</th>\n",
       "    </tr>\n",
       "  </thead>\n",
       "  <tbody>\n",
       "    <tr>\n",
       "      <th>0</th>\n",
       "      <td>,Sama bunda juga sedih ,mereka tulang punggung...</td>\n",
       "      <td>0</td>\n",
       "      <td>0</td>\n",
       "      <td>,Sama bunda juga sedih ,mereka tulang punggung...</td>\n",
       "      <td>Sama bunda juga sedih mereka tulang punggung k...</td>\n",
       "      <td>sama bunda juga sedih mereka tulang punggung k...</td>\n",
       "      <td>['bunda', 'sedih', 'tulang', 'punggung', 'kelu...</td>\n",
       "      <td>bunda sedih tulang punggung keluarga gmn istri...</td>\n",
       "    </tr>\n",
       "    <tr>\n",
       "      <th>1</th>\n",
       "      <td>? Ada aplikasi lain kan? Lebay amat</td>\n",
       "      <td>1</td>\n",
       "      <td>0</td>\n",
       "      <td>? Ada aplikasi lain kan? Lebay amat</td>\n",
       "      <td>Ada aplikasi lain kan Lebay amat</td>\n",
       "      <td>ada aplikasi lain kan lebay amat</td>\n",
       "      <td>['aplikasi', 'lebay']</td>\n",
       "      <td>aplikasi lebay</td>\n",
       "    </tr>\n",
       "    <tr>\n",
       "      <th>2</th>\n",
       "      <td>????? Lawak UMKM ug mana? Yg harus di blokir i...</td>\n",
       "      <td>1</td>\n",
       "      <td>0</td>\n",
       "      <td>????? Lawak UMKM ug mana? Yg harus di blokir i...</td>\n",
       "      <td>Lawak UMKM mana harus blokir itu produk impor ...</td>\n",
       "      <td>lawak umkm mana harus blokir itu produk impor ...</td>\n",
       "      <td>['lawak', 'umkm', 'blokir', 'produk', 'impor',...</td>\n",
       "      <td>lawak umkm blokir produk impor cina lapang ker...</td>\n",
       "    </tr>\n",
       "    <tr>\n",
       "      <th>3</th>\n",
       "      <td>.. dan menghacurkan UMKM !</td>\n",
       "      <td>1</td>\n",
       "      <td>0</td>\n",
       "      <td>.. dan menghacurkan UMKM !</td>\n",
       "      <td>dan menghacurkan UMKM</td>\n",
       "      <td>dan menghacurkan umkm</td>\n",
       "      <td>['menghacurkan', 'umkm']</td>\n",
       "      <td>menghacurkan umkm</td>\n",
       "    </tr>\n",
       "    <tr>\n",
       "      <th>4</th>\n",
       "      <td>.jika tidak menggunakan teknologi manusia tida...</td>\n",
       "      <td>1</td>\n",
       "      <td>0</td>\n",
       "      <td>.jika tidak menggunakan teknologi manusia tida...</td>\n",
       "      <td>jika tidak menggunakan teknologi manusia tidak...</td>\n",
       "      <td>jika tidak menggunakan teknologi manusia tidak...</td>\n",
       "      <td>['teknologi', 'manusia', 'pergi', 'angkasa', '...</td>\n",
       "      <td>teknologi manusia pergi angkasa f x x negara k...</td>\n",
       "    </tr>\n",
       "    <tr>\n",
       "      <th>...</th>\n",
       "      <td>...</td>\n",
       "      <td>...</td>\n",
       "      <td>...</td>\n",
       "      <td>...</td>\n",
       "      <td>...</td>\n",
       "      <td>...</td>\n",
       "      <td>...</td>\n",
       "      <td>...</td>\n",
       "    </tr>\n",
       "    <tr>\n",
       "      <th>42931</th>\n",
       "      <td>Aaaa makasii banyak kak penjelasannya❤️penyamp...</td>\n",
       "      <td>0</td>\n",
       "      <td>0</td>\n",
       "      <td>Aaaa makasii banyak kak penjelasannya❤️penyamp...</td>\n",
       "      <td>Aaa makasii banyak kak penjelasannya penyampai...</td>\n",
       "      <td>aaa makasii banyak kak penjelasannya penyampai...</td>\n",
       "      <td>['aaa', 'makasii', 'kak', 'penjelasannya', 'pe...</td>\n",
       "      <td>aaa makasii kak jelas sampai mudah bgt paham l...</td>\n",
       "    </tr>\n",
       "    <tr>\n",
       "      <th>42932</th>\n",
       "      <td>Aaaa makaaasih🫶🏻🫶🏻🫶🏻 masi on process krn pgn p...</td>\n",
       "      <td>0</td>\n",
       "      <td>0</td>\n",
       "      <td>Aaaa makaaasih🫶🏻🫶🏻🫶🏻 masi on process krn pgn p...</td>\n",
       "      <td>Aaa makaasih masi process krn pgn product stab...</td>\n",
       "      <td>aaa makaasih masi process krn pgn product stab...</td>\n",
       "      <td>['aaa', 'makaasih', 'masi', 'process', 'pgn', ...</td>\n",
       "      <td>aaa makaasih mas process pgn product stabil ju...</td>\n",
       "    </tr>\n",
       "    <tr>\n",
       "      <th>42933</th>\n",
       "      <td>Aaaa luvsss🥺🥰 semoga aku terus bisa menginspir...</td>\n",
       "      <td>0</td>\n",
       "      <td>0</td>\n",
       "      <td>Aaaa luvsss (Menggambarkan keinginan akan sesu...</td>\n",
       "      <td>Aaa luvss semoga aku terus bisa menginspirasi yaa</td>\n",
       "      <td>aaa luvss semoga aku terus bisa menginspirasi yaa</td>\n",
       "      <td>['aaa', 'luvss', 'semoga', 'menginspirasi', 'y...</td>\n",
       "      <td>aaa luvss moga inspirasi yaa</td>\n",
       "    </tr>\n",
       "    <tr>\n",
       "      <th>42934</th>\n",
       "      <td>Aaaa jelas banget cara jelasinnya, makasih kak...</td>\n",
       "      <td>0</td>\n",
       "      <td>0</td>\n",
       "      <td>Aaaa jelas banget cara jelasinnya, makasih kak...</td>\n",
       "      <td>Aaa jelas banget cara jelasinnya makasih kak a...</td>\n",
       "      <td>aaa jelas banget cara jelasinnya makasih kak a...</td>\n",
       "      <td>['aaa', 'banget', 'jelasinnya', 'makasih', 'ka...</td>\n",
       "      <td>aaa banget jelasinnya makasih kak subscribe</td>\n",
       "    </tr>\n",
       "    <tr>\n",
       "      <th>42935</th>\n",
       "      <td>Aaaa bahagia banget Nemu channel Kaka, bener2 ...</td>\n",
       "      <td>0</td>\n",
       "      <td>0</td>\n",
       "      <td>Aaaa bahagia banget Nemu channel Kaka, bener2 ...</td>\n",
       "      <td>Aaa bahagia banget Nemu channel Kaka bener mem...</td>\n",
       "      <td>aaa bahagia banget nemu channel kaka bener mem...</td>\n",
       "      <td>['aaa', 'bahagia', 'banget', 'nemu', 'channel'...</td>\n",
       "      <td>aaa bahagia banget nemu channel kaka bener bantu</td>\n",
       "    </tr>\n",
       "  </tbody>\n",
       "</table>\n",
       "<p>42936 rows × 8 columns</p>\n",
       "</div>"
      ],
      "text/plain": [
       "                                                    text  anotasi_gpt  \\\n",
       "0      ,Sama bunda juga sedih ,mereka tulang punggung...            0   \n",
       "1                    ? Ada aplikasi lain kan? Lebay amat            1   \n",
       "2      ????? Lawak UMKM ug mana? Yg harus di blokir i...            1   \n",
       "3                             .. dan menghacurkan UMKM !            1   \n",
       "4      .jika tidak menggunakan teknologi manusia tida...            1   \n",
       "...                                                  ...          ...   \n",
       "42931  Aaaa makasii banyak kak penjelasannya❤️penyamp...            0   \n",
       "42932  Aaaa makaaasih🫶🏻🫶🏻🫶🏻 masi on process krn pgn p...            0   \n",
       "42933  Aaaa luvsss🥺🥰 semoga aku terus bisa menginspir...            0   \n",
       "42934  Aaaa jelas banget cara jelasinnya, makasih kak...            0   \n",
       "42935  Aaaa bahagia banget Nemu channel Kaka, bener2 ...            0   \n",
       "\n",
       "       emoji_berulang                                           new text  \\\n",
       "0                   0  ,Sama bunda juga sedih ,mereka tulang punggung...   \n",
       "1                   0                ? Ada aplikasi lain kan? Lebay amat   \n",
       "2                   0  ????? Lawak UMKM ug mana? Yg harus di blokir i...   \n",
       "3                   0                         .. dan menghacurkan UMKM !   \n",
       "4                   0  .jika tidak menggunakan teknologi manusia tida...   \n",
       "...               ...                                                ...   \n",
       "42931               0  Aaaa makasii banyak kak penjelasannya❤️penyamp...   \n",
       "42932               0  Aaaa makaaasih🫶🏻🫶🏻🫶🏻 masi on process krn pgn p...   \n",
       "42933               0  Aaaa luvsss (Menggambarkan keinginan akan sesu...   \n",
       "42934               0  Aaaa jelas banget cara jelasinnya, makasih kak...   \n",
       "42935               0  Aaaa bahagia banget Nemu channel Kaka, bener2 ...   \n",
       "\n",
       "                                                cleaning  \\\n",
       "0      Sama bunda juga sedih mereka tulang punggung k...   \n",
       "1                       Ada aplikasi lain kan Lebay amat   \n",
       "2      Lawak UMKM mana harus blokir itu produk impor ...   \n",
       "3                                  dan menghacurkan UMKM   \n",
       "4      jika tidak menggunakan teknologi manusia tidak...   \n",
       "...                                                  ...   \n",
       "42931  Aaa makasii banyak kak penjelasannya penyampai...   \n",
       "42932  Aaa makaasih masi process krn pgn product stab...   \n",
       "42933  Aaa luvss semoga aku terus bisa menginspirasi yaa   \n",
       "42934  Aaa jelas banget cara jelasinnya makasih kak a...   \n",
       "42935  Aaa bahagia banget Nemu channel Kaka bener mem...   \n",
       "\n",
       "                                            case_folding  \\\n",
       "0      sama bunda juga sedih mereka tulang punggung k...   \n",
       "1                       ada aplikasi lain kan lebay amat   \n",
       "2      lawak umkm mana harus blokir itu produk impor ...   \n",
       "3                                  dan menghacurkan umkm   \n",
       "4      jika tidak menggunakan teknologi manusia tidak...   \n",
       "...                                                  ...   \n",
       "42931  aaa makasii banyak kak penjelasannya penyampai...   \n",
       "42932  aaa makaasih masi process krn pgn product stab...   \n",
       "42933  aaa luvss semoga aku terus bisa menginspirasi yaa   \n",
       "42934  aaa jelas banget cara jelasinnya makasih kak a...   \n",
       "42935  aaa bahagia banget nemu channel kaka bener mem...   \n",
       "\n",
       "                                        stopword_removal  \\\n",
       "0      ['bunda', 'sedih', 'tulang', 'punggung', 'kelu...   \n",
       "1                                  ['aplikasi', 'lebay']   \n",
       "2      ['lawak', 'umkm', 'blokir', 'produk', 'impor',...   \n",
       "3                               ['menghacurkan', 'umkm']   \n",
       "4      ['teknologi', 'manusia', 'pergi', 'angkasa', '...   \n",
       "...                                                  ...   \n",
       "42931  ['aaa', 'makasii', 'kak', 'penjelasannya', 'pe...   \n",
       "42932  ['aaa', 'makaasih', 'masi', 'process', 'pgn', ...   \n",
       "42933  ['aaa', 'luvss', 'semoga', 'menginspirasi', 'y...   \n",
       "42934  ['aaa', 'banget', 'jelasinnya', 'makasih', 'ka...   \n",
       "42935  ['aaa', 'bahagia', 'banget', 'nemu', 'channel'...   \n",
       "\n",
       "                                                stemming  \n",
       "0      bunda sedih tulang punggung keluarga gmn istri...  \n",
       "1                                         aplikasi lebay  \n",
       "2      lawak umkm blokir produk impor cina lapang ker...  \n",
       "3                                      menghacurkan umkm  \n",
       "4      teknologi manusia pergi angkasa f x x negara k...  \n",
       "...                                                  ...  \n",
       "42931  aaa makasii kak jelas sampai mudah bgt paham l...  \n",
       "42932  aaa makaasih mas process pgn product stabil ju...  \n",
       "42933                       aaa luvss moga inspirasi yaa  \n",
       "42934        aaa banget jelasinnya makasih kak subscribe  \n",
       "42935   aaa bahagia banget nemu channel kaka bener bantu  \n",
       "\n",
       "[42936 rows x 8 columns]"
      ]
     },
     "execution_count": 8,
     "metadata": {},
     "output_type": "execute_result"
    }
   ],
   "source": [
    "df['emoji_berulang'] = df['emoji_berulang'].apply(lambda x: 0 if x == False else 1)\n",
    "df_emoji_berulang = df\n",
    "df_emoji_berulang"
   ]
  },
  {
   "cell_type": "code",
   "execution_count": 9,
   "id": "40df98b0",
   "metadata": {
    "execution": {
     "iopub.execute_input": "2024-10-05T14:47:50.863095Z",
     "iopub.status.busy": "2024-10-05T14:47:50.862631Z",
     "iopub.status.idle": "2024-10-05T14:47:50.870027Z",
     "shell.execute_reply": "2024-10-05T14:47:50.868923Z"
    },
    "id": "QSafSBvH4qTx",
    "papermill": {
     "duration": 0.028803,
     "end_time": "2024-10-05T14:47:50.872406",
     "exception": false,
     "start_time": "2024-10-05T14:47:50.843603",
     "status": "completed"
    },
    "tags": []
   },
   "outputs": [],
   "source": [
    "def has_repeated_words(text):\n",
    "    words = text.split()\n",
    "    for i in range(len(words) - 1):\n",
    "        if words[i] == words[i + 1]:\n",
    "            return 1\n",
    "    return 0\n",
    "def has_repeated_chars(text):\n",
    "    return 1 if re.search(r'(.)\\1{2,}', text) else 0\n",
    "def has_repeated_symbols(text):\n",
    "    return 1 if re.search(r'([!?,.#$%&*+=\\-/\\\\:;<>@[\\]^_`{|}~])\\1{1,}', text) else 0\n",
    "def has_repeated_combinations(text):\n",
    "    return 1 if re.search(r'([a-zA-Z]{2,})\\1+', text) else 0"
   ]
  },
  {
   "cell_type": "code",
   "execution_count": 10,
   "id": "c7a8a504",
   "metadata": {
    "execution": {
     "iopub.execute_input": "2024-10-05T14:47:50.910343Z",
     "iopub.status.busy": "2024-10-05T14:47:50.909912Z",
     "iopub.status.idle": "2024-10-05T14:47:52.045629Z",
     "shell.execute_reply": "2024-10-05T14:47:52.044596Z"
    },
    "id": "FiFU2XYKKb9i",
    "outputId": "886d2fc9-77ff-4209-e015-b9bf1d572043",
    "papermill": {
     "duration": 1.157247,
     "end_time": "2024-10-05T14:47:52.048126",
     "exception": false,
     "start_time": "2024-10-05T14:47:50.890879",
     "status": "completed"
    },
    "tags": []
   },
   "outputs": [
    {
     "data": {
      "text/html": [
       "<div>\n",
       "<style scoped>\n",
       "    .dataframe tbody tr th:only-of-type {\n",
       "        vertical-align: middle;\n",
       "    }\n",
       "\n",
       "    .dataframe tbody tr th {\n",
       "        vertical-align: top;\n",
       "    }\n",
       "\n",
       "    .dataframe thead th {\n",
       "        text-align: right;\n",
       "    }\n",
       "</style>\n",
       "<table border=\"1\" class=\"dataframe\">\n",
       "  <thead>\n",
       "    <tr style=\"text-align: right;\">\n",
       "      <th></th>\n",
       "      <th>text</th>\n",
       "      <th>anotasi_gpt</th>\n",
       "      <th>emoji_berulang</th>\n",
       "      <th>new text</th>\n",
       "      <th>cleaning</th>\n",
       "      <th>case_folding</th>\n",
       "      <th>stopword_removal</th>\n",
       "      <th>stemming</th>\n",
       "      <th>is_repeat_word</th>\n",
       "      <th>is_repeat_char</th>\n",
       "      <th>is_repeat_symbol</th>\n",
       "      <th>is_repeat_combination</th>\n",
       "    </tr>\n",
       "  </thead>\n",
       "  <tbody>\n",
       "    <tr>\n",
       "      <th>0</th>\n",
       "      <td>,Sama bunda juga sedih ,mereka tulang punggung...</td>\n",
       "      <td>0</td>\n",
       "      <td>0</td>\n",
       "      <td>,Sama bunda juga sedih ,mereka tulang punggung...</td>\n",
       "      <td>Sama bunda juga sedih mereka tulang punggung k...</td>\n",
       "      <td>sama bunda juga sedih mereka tulang punggung k...</td>\n",
       "      <td>['bunda', 'sedih', 'tulang', 'punggung', 'kelu...</td>\n",
       "      <td>bunda sedih tulang punggung keluarga gmn istri...</td>\n",
       "      <td>0</td>\n",
       "      <td>0</td>\n",
       "      <td>0</td>\n",
       "      <td>0</td>\n",
       "    </tr>\n",
       "    <tr>\n",
       "      <th>1</th>\n",
       "      <td>? Ada aplikasi lain kan? Lebay amat</td>\n",
       "      <td>1</td>\n",
       "      <td>0</td>\n",
       "      <td>? Ada aplikasi lain kan? Lebay amat</td>\n",
       "      <td>Ada aplikasi lain kan Lebay amat</td>\n",
       "      <td>ada aplikasi lain kan lebay amat</td>\n",
       "      <td>['aplikasi', 'lebay']</td>\n",
       "      <td>aplikasi lebay</td>\n",
       "      <td>0</td>\n",
       "      <td>0</td>\n",
       "      <td>0</td>\n",
       "      <td>0</td>\n",
       "    </tr>\n",
       "    <tr>\n",
       "      <th>2</th>\n",
       "      <td>????? Lawak UMKM ug mana? Yg harus di blokir i...</td>\n",
       "      <td>1</td>\n",
       "      <td>0</td>\n",
       "      <td>????? Lawak UMKM ug mana? Yg harus di blokir i...</td>\n",
       "      <td>Lawak UMKM mana harus blokir itu produk impor ...</td>\n",
       "      <td>lawak umkm mana harus blokir itu produk impor ...</td>\n",
       "      <td>['lawak', 'umkm', 'blokir', 'produk', 'impor',...</td>\n",
       "      <td>lawak umkm blokir produk impor cina lapang ker...</td>\n",
       "      <td>0</td>\n",
       "      <td>1</td>\n",
       "      <td>1</td>\n",
       "      <td>0</td>\n",
       "    </tr>\n",
       "    <tr>\n",
       "      <th>3</th>\n",
       "      <td>.. dan menghacurkan UMKM !</td>\n",
       "      <td>1</td>\n",
       "      <td>0</td>\n",
       "      <td>.. dan menghacurkan UMKM !</td>\n",
       "      <td>dan menghacurkan UMKM</td>\n",
       "      <td>dan menghacurkan umkm</td>\n",
       "      <td>['menghacurkan', 'umkm']</td>\n",
       "      <td>menghacurkan umkm</td>\n",
       "      <td>0</td>\n",
       "      <td>0</td>\n",
       "      <td>1</td>\n",
       "      <td>0</td>\n",
       "    </tr>\n",
       "    <tr>\n",
       "      <th>4</th>\n",
       "      <td>.jika tidak menggunakan teknologi manusia tida...</td>\n",
       "      <td>1</td>\n",
       "      <td>0</td>\n",
       "      <td>.jika tidak menggunakan teknologi manusia tida...</td>\n",
       "      <td>jika tidak menggunakan teknologi manusia tidak...</td>\n",
       "      <td>jika tidak menggunakan teknologi manusia tidak...</td>\n",
       "      <td>['teknologi', 'manusia', 'pergi', 'angkasa', '...</td>\n",
       "      <td>teknologi manusia pergi angkasa f x x negara k...</td>\n",
       "      <td>0</td>\n",
       "      <td>1</td>\n",
       "      <td>1</td>\n",
       "      <td>0</td>\n",
       "    </tr>\n",
       "    <tr>\n",
       "      <th>...</th>\n",
       "      <td>...</td>\n",
       "      <td>...</td>\n",
       "      <td>...</td>\n",
       "      <td>...</td>\n",
       "      <td>...</td>\n",
       "      <td>...</td>\n",
       "      <td>...</td>\n",
       "      <td>...</td>\n",
       "      <td>...</td>\n",
       "      <td>...</td>\n",
       "      <td>...</td>\n",
       "      <td>...</td>\n",
       "    </tr>\n",
       "    <tr>\n",
       "      <th>42931</th>\n",
       "      <td>Aaaa makasii banyak kak penjelasannya❤️penyamp...</td>\n",
       "      <td>0</td>\n",
       "      <td>0</td>\n",
       "      <td>Aaaa makasii banyak kak penjelasannya❤️penyamp...</td>\n",
       "      <td>Aaa makasii banyak kak penjelasannya penyampai...</td>\n",
       "      <td>aaa makasii banyak kak penjelasannya penyampai...</td>\n",
       "      <td>['aaa', 'makasii', 'kak', 'penjelasannya', 'pe...</td>\n",
       "      <td>aaa makasii kak jelas sampai mudah bgt paham l...</td>\n",
       "      <td>0</td>\n",
       "      <td>1</td>\n",
       "      <td>0</td>\n",
       "      <td>1</td>\n",
       "    </tr>\n",
       "    <tr>\n",
       "      <th>42932</th>\n",
       "      <td>Aaaa makaaasih🫶🏻🫶🏻🫶🏻 masi on process krn pgn p...</td>\n",
       "      <td>0</td>\n",
       "      <td>0</td>\n",
       "      <td>Aaaa makaaasih🫶🏻🫶🏻🫶🏻 masi on process krn pgn p...</td>\n",
       "      <td>Aaa makaasih masi process krn pgn product stab...</td>\n",
       "      <td>aaa makaasih masi process krn pgn product stab...</td>\n",
       "      <td>['aaa', 'makaasih', 'masi', 'process', 'pgn', ...</td>\n",
       "      <td>aaa makaasih mas process pgn product stabil ju...</td>\n",
       "      <td>0</td>\n",
       "      <td>1</td>\n",
       "      <td>0</td>\n",
       "      <td>1</td>\n",
       "    </tr>\n",
       "    <tr>\n",
       "      <th>42933</th>\n",
       "      <td>Aaaa luvsss🥺🥰 semoga aku terus bisa menginspir...</td>\n",
       "      <td>0</td>\n",
       "      <td>0</td>\n",
       "      <td>Aaaa luvsss (Menggambarkan keinginan akan sesu...</td>\n",
       "      <td>Aaa luvss semoga aku terus bisa menginspirasi yaa</td>\n",
       "      <td>aaa luvss semoga aku terus bisa menginspirasi yaa</td>\n",
       "      <td>['aaa', 'luvss', 'semoga', 'menginspirasi', 'y...</td>\n",
       "      <td>aaa luvss moga inspirasi yaa</td>\n",
       "      <td>0</td>\n",
       "      <td>1</td>\n",
       "      <td>0</td>\n",
       "      <td>0</td>\n",
       "    </tr>\n",
       "    <tr>\n",
       "      <th>42934</th>\n",
       "      <td>Aaaa jelas banget cara jelasinnya, makasih kak...</td>\n",
       "      <td>0</td>\n",
       "      <td>0</td>\n",
       "      <td>Aaaa jelas banget cara jelasinnya, makasih kak...</td>\n",
       "      <td>Aaa jelas banget cara jelasinnya makasih kak a...</td>\n",
       "      <td>aaa jelas banget cara jelasinnya makasih kak a...</td>\n",
       "      <td>['aaa', 'banget', 'jelasinnya', 'makasih', 'ka...</td>\n",
       "      <td>aaa banget jelasinnya makasih kak subscribe</td>\n",
       "      <td>0</td>\n",
       "      <td>1</td>\n",
       "      <td>0</td>\n",
       "      <td>0</td>\n",
       "    </tr>\n",
       "    <tr>\n",
       "      <th>42935</th>\n",
       "      <td>Aaaa bahagia banget Nemu channel Kaka, bener2 ...</td>\n",
       "      <td>0</td>\n",
       "      <td>0</td>\n",
       "      <td>Aaaa bahagia banget Nemu channel Kaka, bener2 ...</td>\n",
       "      <td>Aaa bahagia banget Nemu channel Kaka bener mem...</td>\n",
       "      <td>aaa bahagia banget nemu channel kaka bener mem...</td>\n",
       "      <td>['aaa', 'bahagia', 'banget', 'nemu', 'channel'...</td>\n",
       "      <td>aaa bahagia banget nemu channel kaka bener bantu</td>\n",
       "      <td>0</td>\n",
       "      <td>1</td>\n",
       "      <td>0</td>\n",
       "      <td>0</td>\n",
       "    </tr>\n",
       "  </tbody>\n",
       "</table>\n",
       "<p>42936 rows × 12 columns</p>\n",
       "</div>"
      ],
      "text/plain": [
       "                                                    text  anotasi_gpt  \\\n",
       "0      ,Sama bunda juga sedih ,mereka tulang punggung...            0   \n",
       "1                    ? Ada aplikasi lain kan? Lebay amat            1   \n",
       "2      ????? Lawak UMKM ug mana? Yg harus di blokir i...            1   \n",
       "3                             .. dan menghacurkan UMKM !            1   \n",
       "4      .jika tidak menggunakan teknologi manusia tida...            1   \n",
       "...                                                  ...          ...   \n",
       "42931  Aaaa makasii banyak kak penjelasannya❤️penyamp...            0   \n",
       "42932  Aaaa makaaasih🫶🏻🫶🏻🫶🏻 masi on process krn pgn p...            0   \n",
       "42933  Aaaa luvsss🥺🥰 semoga aku terus bisa menginspir...            0   \n",
       "42934  Aaaa jelas banget cara jelasinnya, makasih kak...            0   \n",
       "42935  Aaaa bahagia banget Nemu channel Kaka, bener2 ...            0   \n",
       "\n",
       "       emoji_berulang                                           new text  \\\n",
       "0                   0  ,Sama bunda juga sedih ,mereka tulang punggung...   \n",
       "1                   0                ? Ada aplikasi lain kan? Lebay amat   \n",
       "2                   0  ????? Lawak UMKM ug mana? Yg harus di blokir i...   \n",
       "3                   0                         .. dan menghacurkan UMKM !   \n",
       "4                   0  .jika tidak menggunakan teknologi manusia tida...   \n",
       "...               ...                                                ...   \n",
       "42931               0  Aaaa makasii banyak kak penjelasannya❤️penyamp...   \n",
       "42932               0  Aaaa makaaasih🫶🏻🫶🏻🫶🏻 masi on process krn pgn p...   \n",
       "42933               0  Aaaa luvsss (Menggambarkan keinginan akan sesu...   \n",
       "42934               0  Aaaa jelas banget cara jelasinnya, makasih kak...   \n",
       "42935               0  Aaaa bahagia banget Nemu channel Kaka, bener2 ...   \n",
       "\n",
       "                                                cleaning  \\\n",
       "0      Sama bunda juga sedih mereka tulang punggung k...   \n",
       "1                       Ada aplikasi lain kan Lebay amat   \n",
       "2      Lawak UMKM mana harus blokir itu produk impor ...   \n",
       "3                                  dan menghacurkan UMKM   \n",
       "4      jika tidak menggunakan teknologi manusia tidak...   \n",
       "...                                                  ...   \n",
       "42931  Aaa makasii banyak kak penjelasannya penyampai...   \n",
       "42932  Aaa makaasih masi process krn pgn product stab...   \n",
       "42933  Aaa luvss semoga aku terus bisa menginspirasi yaa   \n",
       "42934  Aaa jelas banget cara jelasinnya makasih kak a...   \n",
       "42935  Aaa bahagia banget Nemu channel Kaka bener mem...   \n",
       "\n",
       "                                            case_folding  \\\n",
       "0      sama bunda juga sedih mereka tulang punggung k...   \n",
       "1                       ada aplikasi lain kan lebay amat   \n",
       "2      lawak umkm mana harus blokir itu produk impor ...   \n",
       "3                                  dan menghacurkan umkm   \n",
       "4      jika tidak menggunakan teknologi manusia tidak...   \n",
       "...                                                  ...   \n",
       "42931  aaa makasii banyak kak penjelasannya penyampai...   \n",
       "42932  aaa makaasih masi process krn pgn product stab...   \n",
       "42933  aaa luvss semoga aku terus bisa menginspirasi yaa   \n",
       "42934  aaa jelas banget cara jelasinnya makasih kak a...   \n",
       "42935  aaa bahagia banget nemu channel kaka bener mem...   \n",
       "\n",
       "                                        stopword_removal  \\\n",
       "0      ['bunda', 'sedih', 'tulang', 'punggung', 'kelu...   \n",
       "1                                  ['aplikasi', 'lebay']   \n",
       "2      ['lawak', 'umkm', 'blokir', 'produk', 'impor',...   \n",
       "3                               ['menghacurkan', 'umkm']   \n",
       "4      ['teknologi', 'manusia', 'pergi', 'angkasa', '...   \n",
       "...                                                  ...   \n",
       "42931  ['aaa', 'makasii', 'kak', 'penjelasannya', 'pe...   \n",
       "42932  ['aaa', 'makaasih', 'masi', 'process', 'pgn', ...   \n",
       "42933  ['aaa', 'luvss', 'semoga', 'menginspirasi', 'y...   \n",
       "42934  ['aaa', 'banget', 'jelasinnya', 'makasih', 'ka...   \n",
       "42935  ['aaa', 'bahagia', 'banget', 'nemu', 'channel'...   \n",
       "\n",
       "                                                stemming  is_repeat_word  \\\n",
       "0      bunda sedih tulang punggung keluarga gmn istri...               0   \n",
       "1                                         aplikasi lebay               0   \n",
       "2      lawak umkm blokir produk impor cina lapang ker...               0   \n",
       "3                                      menghacurkan umkm               0   \n",
       "4      teknologi manusia pergi angkasa f x x negara k...               0   \n",
       "...                                                  ...             ...   \n",
       "42931  aaa makasii kak jelas sampai mudah bgt paham l...               0   \n",
       "42932  aaa makaasih mas process pgn product stabil ju...               0   \n",
       "42933                       aaa luvss moga inspirasi yaa               0   \n",
       "42934        aaa banget jelasinnya makasih kak subscribe               0   \n",
       "42935   aaa bahagia banget nemu channel kaka bener bantu               0   \n",
       "\n",
       "       is_repeat_char  is_repeat_symbol  is_repeat_combination  \n",
       "0                   0                 0                      0  \n",
       "1                   0                 0                      0  \n",
       "2                   1                 1                      0  \n",
       "3                   0                 1                      0  \n",
       "4                   1                 1                      0  \n",
       "...               ...               ...                    ...  \n",
       "42931               1                 0                      1  \n",
       "42932               1                 0                      1  \n",
       "42933               1                 0                      0  \n",
       "42934               1                 0                      0  \n",
       "42935               1                 0                      0  \n",
       "\n",
       "[42936 rows x 12 columns]"
      ]
     },
     "execution_count": 10,
     "metadata": {},
     "output_type": "execute_result"
    }
   ],
   "source": [
    "df['is_repeat_word'] = df['text'].apply(has_repeated_words)\n",
    "df['is_repeat_char'] = df['text'].apply(has_repeated_chars)\n",
    "df['is_repeat_symbol'] = df['text'].apply(has_repeated_symbols)\n",
    "df['is_repeat_combination'] = df['text'].apply(has_repeated_combinations)\n",
    "df"
   ]
  },
  {
   "cell_type": "code",
   "execution_count": 11,
   "id": "9dcfb1f5",
   "metadata": {
    "execution": {
     "iopub.execute_input": "2024-10-05T14:47:52.087844Z",
     "iopub.status.busy": "2024-10-05T14:47:52.087039Z",
     "iopub.status.idle": "2024-10-05T14:47:52.093921Z",
     "shell.execute_reply": "2024-10-05T14:47:52.092963Z"
    },
    "id": "JI4ynqIcMaDm",
    "outputId": "9e714654-9a9c-4ca9-e158-763b837422d8",
    "papermill": {
     "duration": 0.028862,
     "end_time": "2024-10-05T14:47:52.095891",
     "exception": false,
     "start_time": "2024-10-05T14:47:52.067029",
     "status": "completed"
    },
    "tags": []
   },
   "outputs": [
    {
     "data": {
      "text/plain": [
       "(42936, 12)"
      ]
     },
     "execution_count": 11,
     "metadata": {},
     "output_type": "execute_result"
    }
   ],
   "source": [
    "df.shape"
   ]
  },
  {
   "cell_type": "markdown",
   "id": "2a3209fe",
   "metadata": {
    "id": "hxLtxuLXGneJ",
    "papermill": {
     "duration": 0.018184,
     "end_time": "2024-10-05T14:47:52.132865",
     "exception": false,
     "start_time": "2024-10-05T14:47:52.114681",
     "status": "completed"
    },
    "tags": []
   },
   "source": [
    "### Move columns"
   ]
  },
  {
   "cell_type": "code",
   "execution_count": 12,
   "id": "a65c9f45",
   "metadata": {
    "execution": {
     "iopub.execute_input": "2024-10-05T14:47:52.171826Z",
     "iopub.status.busy": "2024-10-05T14:47:52.170975Z",
     "iopub.status.idle": "2024-10-05T14:47:52.189129Z",
     "shell.execute_reply": "2024-10-05T14:47:52.188026Z"
    },
    "id": "qSKvYP_GFtUi",
    "outputId": "75c1730b-4d45-40fd-bb51-e5ab00a2799d",
    "papermill": {
     "duration": 0.040076,
     "end_time": "2024-10-05T14:47:52.191383",
     "exception": false,
     "start_time": "2024-10-05T14:47:52.151307",
     "status": "completed"
    },
    "tags": []
   },
   "outputs": [
    {
     "data": {
      "text/html": [
       "<div>\n",
       "<style scoped>\n",
       "    .dataframe tbody tr th:only-of-type {\n",
       "        vertical-align: middle;\n",
       "    }\n",
       "\n",
       "    .dataframe tbody tr th {\n",
       "        vertical-align: top;\n",
       "    }\n",
       "\n",
       "    .dataframe thead th {\n",
       "        text-align: right;\n",
       "    }\n",
       "</style>\n",
       "<table border=\"1\" class=\"dataframe\">\n",
       "  <thead>\n",
       "    <tr style=\"text-align: right;\">\n",
       "      <th></th>\n",
       "      <th>text</th>\n",
       "      <th>emoji_berulang</th>\n",
       "      <th>new text</th>\n",
       "      <th>cleaning</th>\n",
       "      <th>case_folding</th>\n",
       "      <th>stopword_removal</th>\n",
       "      <th>stemming</th>\n",
       "      <th>is_repeat_word</th>\n",
       "      <th>is_repeat_char</th>\n",
       "      <th>is_repeat_symbol</th>\n",
       "      <th>is_repeat_combination</th>\n",
       "      <th>anotasi</th>\n",
       "    </tr>\n",
       "  </thead>\n",
       "  <tbody>\n",
       "    <tr>\n",
       "      <th>0</th>\n",
       "      <td>,Sama bunda juga sedih ,mereka tulang punggung...</td>\n",
       "      <td>0</td>\n",
       "      <td>,Sama bunda juga sedih ,mereka tulang punggung...</td>\n",
       "      <td>Sama bunda juga sedih mereka tulang punggung k...</td>\n",
       "      <td>sama bunda juga sedih mereka tulang punggung k...</td>\n",
       "      <td>['bunda', 'sedih', 'tulang', 'punggung', 'kelu...</td>\n",
       "      <td>bunda sedih tulang punggung keluarga gmn istri...</td>\n",
       "      <td>0</td>\n",
       "      <td>0</td>\n",
       "      <td>0</td>\n",
       "      <td>0</td>\n",
       "      <td>0</td>\n",
       "    </tr>\n",
       "    <tr>\n",
       "      <th>1</th>\n",
       "      <td>? Ada aplikasi lain kan? Lebay amat</td>\n",
       "      <td>0</td>\n",
       "      <td>? Ada aplikasi lain kan? Lebay amat</td>\n",
       "      <td>Ada aplikasi lain kan Lebay amat</td>\n",
       "      <td>ada aplikasi lain kan lebay amat</td>\n",
       "      <td>['aplikasi', 'lebay']</td>\n",
       "      <td>aplikasi lebay</td>\n",
       "      <td>0</td>\n",
       "      <td>0</td>\n",
       "      <td>0</td>\n",
       "      <td>0</td>\n",
       "      <td>1</td>\n",
       "    </tr>\n",
       "    <tr>\n",
       "      <th>2</th>\n",
       "      <td>????? Lawak UMKM ug mana? Yg harus di blokir i...</td>\n",
       "      <td>0</td>\n",
       "      <td>????? Lawak UMKM ug mana? Yg harus di blokir i...</td>\n",
       "      <td>Lawak UMKM mana harus blokir itu produk impor ...</td>\n",
       "      <td>lawak umkm mana harus blokir itu produk impor ...</td>\n",
       "      <td>['lawak', 'umkm', 'blokir', 'produk', 'impor',...</td>\n",
       "      <td>lawak umkm blokir produk impor cina lapang ker...</td>\n",
       "      <td>0</td>\n",
       "      <td>1</td>\n",
       "      <td>1</td>\n",
       "      <td>0</td>\n",
       "      <td>1</td>\n",
       "    </tr>\n",
       "    <tr>\n",
       "      <th>3</th>\n",
       "      <td>.. dan menghacurkan UMKM !</td>\n",
       "      <td>0</td>\n",
       "      <td>.. dan menghacurkan UMKM !</td>\n",
       "      <td>dan menghacurkan UMKM</td>\n",
       "      <td>dan menghacurkan umkm</td>\n",
       "      <td>['menghacurkan', 'umkm']</td>\n",
       "      <td>menghacurkan umkm</td>\n",
       "      <td>0</td>\n",
       "      <td>0</td>\n",
       "      <td>1</td>\n",
       "      <td>0</td>\n",
       "      <td>1</td>\n",
       "    </tr>\n",
       "    <tr>\n",
       "      <th>4</th>\n",
       "      <td>.jika tidak menggunakan teknologi manusia tida...</td>\n",
       "      <td>0</td>\n",
       "      <td>.jika tidak menggunakan teknologi manusia tida...</td>\n",
       "      <td>jika tidak menggunakan teknologi manusia tidak...</td>\n",
       "      <td>jika tidak menggunakan teknologi manusia tidak...</td>\n",
       "      <td>['teknologi', 'manusia', 'pergi', 'angkasa', '...</td>\n",
       "      <td>teknologi manusia pergi angkasa f x x negara k...</td>\n",
       "      <td>0</td>\n",
       "      <td>1</td>\n",
       "      <td>1</td>\n",
       "      <td>0</td>\n",
       "      <td>1</td>\n",
       "    </tr>\n",
       "    <tr>\n",
       "      <th>...</th>\n",
       "      <td>...</td>\n",
       "      <td>...</td>\n",
       "      <td>...</td>\n",
       "      <td>...</td>\n",
       "      <td>...</td>\n",
       "      <td>...</td>\n",
       "      <td>...</td>\n",
       "      <td>...</td>\n",
       "      <td>...</td>\n",
       "      <td>...</td>\n",
       "      <td>...</td>\n",
       "      <td>...</td>\n",
       "    </tr>\n",
       "    <tr>\n",
       "      <th>42931</th>\n",
       "      <td>Aaaa makasii banyak kak penjelasannya❤️penyamp...</td>\n",
       "      <td>0</td>\n",
       "      <td>Aaaa makasii banyak kak penjelasannya❤️penyamp...</td>\n",
       "      <td>Aaa makasii banyak kak penjelasannya penyampai...</td>\n",
       "      <td>aaa makasii banyak kak penjelasannya penyampai...</td>\n",
       "      <td>['aaa', 'makasii', 'kak', 'penjelasannya', 'pe...</td>\n",
       "      <td>aaa makasii kak jelas sampai mudah bgt paham l...</td>\n",
       "      <td>0</td>\n",
       "      <td>1</td>\n",
       "      <td>0</td>\n",
       "      <td>1</td>\n",
       "      <td>0</td>\n",
       "    </tr>\n",
       "    <tr>\n",
       "      <th>42932</th>\n",
       "      <td>Aaaa makaaasih🫶🏻🫶🏻🫶🏻 masi on process krn pgn p...</td>\n",
       "      <td>0</td>\n",
       "      <td>Aaaa makaaasih🫶🏻🫶🏻🫶🏻 masi on process krn pgn p...</td>\n",
       "      <td>Aaa makaasih masi process krn pgn product stab...</td>\n",
       "      <td>aaa makaasih masi process krn pgn product stab...</td>\n",
       "      <td>['aaa', 'makaasih', 'masi', 'process', 'pgn', ...</td>\n",
       "      <td>aaa makaasih mas process pgn product stabil ju...</td>\n",
       "      <td>0</td>\n",
       "      <td>1</td>\n",
       "      <td>0</td>\n",
       "      <td>1</td>\n",
       "      <td>0</td>\n",
       "    </tr>\n",
       "    <tr>\n",
       "      <th>42933</th>\n",
       "      <td>Aaaa luvsss🥺🥰 semoga aku terus bisa menginspir...</td>\n",
       "      <td>0</td>\n",
       "      <td>Aaaa luvsss (Menggambarkan keinginan akan sesu...</td>\n",
       "      <td>Aaa luvss semoga aku terus bisa menginspirasi yaa</td>\n",
       "      <td>aaa luvss semoga aku terus bisa menginspirasi yaa</td>\n",
       "      <td>['aaa', 'luvss', 'semoga', 'menginspirasi', 'y...</td>\n",
       "      <td>aaa luvss moga inspirasi yaa</td>\n",
       "      <td>0</td>\n",
       "      <td>1</td>\n",
       "      <td>0</td>\n",
       "      <td>0</td>\n",
       "      <td>0</td>\n",
       "    </tr>\n",
       "    <tr>\n",
       "      <th>42934</th>\n",
       "      <td>Aaaa jelas banget cara jelasinnya, makasih kak...</td>\n",
       "      <td>0</td>\n",
       "      <td>Aaaa jelas banget cara jelasinnya, makasih kak...</td>\n",
       "      <td>Aaa jelas banget cara jelasinnya makasih kak a...</td>\n",
       "      <td>aaa jelas banget cara jelasinnya makasih kak a...</td>\n",
       "      <td>['aaa', 'banget', 'jelasinnya', 'makasih', 'ka...</td>\n",
       "      <td>aaa banget jelasinnya makasih kak subscribe</td>\n",
       "      <td>0</td>\n",
       "      <td>1</td>\n",
       "      <td>0</td>\n",
       "      <td>0</td>\n",
       "      <td>0</td>\n",
       "    </tr>\n",
       "    <tr>\n",
       "      <th>42935</th>\n",
       "      <td>Aaaa bahagia banget Nemu channel Kaka, bener2 ...</td>\n",
       "      <td>0</td>\n",
       "      <td>Aaaa bahagia banget Nemu channel Kaka, bener2 ...</td>\n",
       "      <td>Aaa bahagia banget Nemu channel Kaka bener mem...</td>\n",
       "      <td>aaa bahagia banget nemu channel kaka bener mem...</td>\n",
       "      <td>['aaa', 'bahagia', 'banget', 'nemu', 'channel'...</td>\n",
       "      <td>aaa bahagia banget nemu channel kaka bener bantu</td>\n",
       "      <td>0</td>\n",
       "      <td>1</td>\n",
       "      <td>0</td>\n",
       "      <td>0</td>\n",
       "      <td>0</td>\n",
       "    </tr>\n",
       "  </tbody>\n",
       "</table>\n",
       "<p>42936 rows × 12 columns</p>\n",
       "</div>"
      ],
      "text/plain": [
       "                                                    text  emoji_berulang  \\\n",
       "0      ,Sama bunda juga sedih ,mereka tulang punggung...               0   \n",
       "1                    ? Ada aplikasi lain kan? Lebay amat               0   \n",
       "2      ????? Lawak UMKM ug mana? Yg harus di blokir i...               0   \n",
       "3                             .. dan menghacurkan UMKM !               0   \n",
       "4      .jika tidak menggunakan teknologi manusia tida...               0   \n",
       "...                                                  ...             ...   \n",
       "42931  Aaaa makasii banyak kak penjelasannya❤️penyamp...               0   \n",
       "42932  Aaaa makaaasih🫶🏻🫶🏻🫶🏻 masi on process krn pgn p...               0   \n",
       "42933  Aaaa luvsss🥺🥰 semoga aku terus bisa menginspir...               0   \n",
       "42934  Aaaa jelas banget cara jelasinnya, makasih kak...               0   \n",
       "42935  Aaaa bahagia banget Nemu channel Kaka, bener2 ...               0   \n",
       "\n",
       "                                                new text  \\\n",
       "0      ,Sama bunda juga sedih ,mereka tulang punggung...   \n",
       "1                    ? Ada aplikasi lain kan? Lebay amat   \n",
       "2      ????? Lawak UMKM ug mana? Yg harus di blokir i...   \n",
       "3                             .. dan menghacurkan UMKM !   \n",
       "4      .jika tidak menggunakan teknologi manusia tida...   \n",
       "...                                                  ...   \n",
       "42931  Aaaa makasii banyak kak penjelasannya❤️penyamp...   \n",
       "42932  Aaaa makaaasih🫶🏻🫶🏻🫶🏻 masi on process krn pgn p...   \n",
       "42933  Aaaa luvsss (Menggambarkan keinginan akan sesu...   \n",
       "42934  Aaaa jelas banget cara jelasinnya, makasih kak...   \n",
       "42935  Aaaa bahagia banget Nemu channel Kaka, bener2 ...   \n",
       "\n",
       "                                                cleaning  \\\n",
       "0      Sama bunda juga sedih mereka tulang punggung k...   \n",
       "1                       Ada aplikasi lain kan Lebay amat   \n",
       "2      Lawak UMKM mana harus blokir itu produk impor ...   \n",
       "3                                  dan menghacurkan UMKM   \n",
       "4      jika tidak menggunakan teknologi manusia tidak...   \n",
       "...                                                  ...   \n",
       "42931  Aaa makasii banyak kak penjelasannya penyampai...   \n",
       "42932  Aaa makaasih masi process krn pgn product stab...   \n",
       "42933  Aaa luvss semoga aku terus bisa menginspirasi yaa   \n",
       "42934  Aaa jelas banget cara jelasinnya makasih kak a...   \n",
       "42935  Aaa bahagia banget Nemu channel Kaka bener mem...   \n",
       "\n",
       "                                            case_folding  \\\n",
       "0      sama bunda juga sedih mereka tulang punggung k...   \n",
       "1                       ada aplikasi lain kan lebay amat   \n",
       "2      lawak umkm mana harus blokir itu produk impor ...   \n",
       "3                                  dan menghacurkan umkm   \n",
       "4      jika tidak menggunakan teknologi manusia tidak...   \n",
       "...                                                  ...   \n",
       "42931  aaa makasii banyak kak penjelasannya penyampai...   \n",
       "42932  aaa makaasih masi process krn pgn product stab...   \n",
       "42933  aaa luvss semoga aku terus bisa menginspirasi yaa   \n",
       "42934  aaa jelas banget cara jelasinnya makasih kak a...   \n",
       "42935  aaa bahagia banget nemu channel kaka bener mem...   \n",
       "\n",
       "                                        stopword_removal  \\\n",
       "0      ['bunda', 'sedih', 'tulang', 'punggung', 'kelu...   \n",
       "1                                  ['aplikasi', 'lebay']   \n",
       "2      ['lawak', 'umkm', 'blokir', 'produk', 'impor',...   \n",
       "3                               ['menghacurkan', 'umkm']   \n",
       "4      ['teknologi', 'manusia', 'pergi', 'angkasa', '...   \n",
       "...                                                  ...   \n",
       "42931  ['aaa', 'makasii', 'kak', 'penjelasannya', 'pe...   \n",
       "42932  ['aaa', 'makaasih', 'masi', 'process', 'pgn', ...   \n",
       "42933  ['aaa', 'luvss', 'semoga', 'menginspirasi', 'y...   \n",
       "42934  ['aaa', 'banget', 'jelasinnya', 'makasih', 'ka...   \n",
       "42935  ['aaa', 'bahagia', 'banget', 'nemu', 'channel'...   \n",
       "\n",
       "                                                stemming  is_repeat_word  \\\n",
       "0      bunda sedih tulang punggung keluarga gmn istri...               0   \n",
       "1                                         aplikasi lebay               0   \n",
       "2      lawak umkm blokir produk impor cina lapang ker...               0   \n",
       "3                                      menghacurkan umkm               0   \n",
       "4      teknologi manusia pergi angkasa f x x negara k...               0   \n",
       "...                                                  ...             ...   \n",
       "42931  aaa makasii kak jelas sampai mudah bgt paham l...               0   \n",
       "42932  aaa makaasih mas process pgn product stabil ju...               0   \n",
       "42933                       aaa luvss moga inspirasi yaa               0   \n",
       "42934        aaa banget jelasinnya makasih kak subscribe               0   \n",
       "42935   aaa bahagia banget nemu channel kaka bener bantu               0   \n",
       "\n",
       "       is_repeat_char  is_repeat_symbol  is_repeat_combination  anotasi  \n",
       "0                   0                 0                      0        0  \n",
       "1                   0                 0                      0        1  \n",
       "2                   1                 1                      0        1  \n",
       "3                   0                 1                      0        1  \n",
       "4                   1                 1                      0        1  \n",
       "...               ...               ...                    ...      ...  \n",
       "42931               1                 0                      1        0  \n",
       "42932               1                 0                      1        0  \n",
       "42933               1                 0                      0        0  \n",
       "42934               1                 0                      0        0  \n",
       "42935               1                 0                      0        0  \n",
       "\n",
       "[42936 rows x 12 columns]"
      ]
     },
     "execution_count": 12,
     "metadata": {},
     "output_type": "execute_result"
    }
   ],
   "source": [
    "anotasi = df.pop('anotasi_gpt')\n",
    "df.insert(11, 'anotasi', anotasi)\n",
    "df"
   ]
  },
  {
   "cell_type": "code",
   "execution_count": 13,
   "id": "e92d25e2",
   "metadata": {
    "execution": {
     "iopub.execute_input": "2024-10-05T14:47:52.231902Z",
     "iopub.status.busy": "2024-10-05T14:47:52.231513Z",
     "iopub.status.idle": "2024-10-05T14:47:52.250559Z",
     "shell.execute_reply": "2024-10-05T14:47:52.249545Z"
    },
    "id": "zq3_DCb016_s",
    "outputId": "33966a64-e854-4fa9-c7dd-98ba619f6238",
    "papermill": {
     "duration": 0.042064,
     "end_time": "2024-10-05T14:47:52.252736",
     "exception": false,
     "start_time": "2024-10-05T14:47:52.210672",
     "status": "completed"
    },
    "tags": []
   },
   "outputs": [
    {
     "data": {
      "text/html": [
       "<div>\n",
       "<style scoped>\n",
       "    .dataframe tbody tr th:only-of-type {\n",
       "        vertical-align: middle;\n",
       "    }\n",
       "\n",
       "    .dataframe tbody tr th {\n",
       "        vertical-align: top;\n",
       "    }\n",
       "\n",
       "    .dataframe thead th {\n",
       "        text-align: right;\n",
       "    }\n",
       "</style>\n",
       "<table border=\"1\" class=\"dataframe\">\n",
       "  <thead>\n",
       "    <tr style=\"text-align: right;\">\n",
       "      <th></th>\n",
       "      <th>text</th>\n",
       "      <th>new text</th>\n",
       "      <th>cleaning</th>\n",
       "      <th>case_folding</th>\n",
       "      <th>stopword_removal</th>\n",
       "      <th>stemming</th>\n",
       "      <th>is_repeat_word</th>\n",
       "      <th>is_repeat_char</th>\n",
       "      <th>is_repeat_symbol</th>\n",
       "      <th>is_repeat_emoji</th>\n",
       "      <th>is_repeat_combination</th>\n",
       "      <th>anotasi</th>\n",
       "    </tr>\n",
       "  </thead>\n",
       "  <tbody>\n",
       "    <tr>\n",
       "      <th>0</th>\n",
       "      <td>,Sama bunda juga sedih ,mereka tulang punggung...</td>\n",
       "      <td>,Sama bunda juga sedih ,mereka tulang punggung...</td>\n",
       "      <td>Sama bunda juga sedih mereka tulang punggung k...</td>\n",
       "      <td>sama bunda juga sedih mereka tulang punggung k...</td>\n",
       "      <td>['bunda', 'sedih', 'tulang', 'punggung', 'kelu...</td>\n",
       "      <td>bunda sedih tulang punggung keluarga gmn istri...</td>\n",
       "      <td>0</td>\n",
       "      <td>0</td>\n",
       "      <td>0</td>\n",
       "      <td>0</td>\n",
       "      <td>0</td>\n",
       "      <td>0</td>\n",
       "    </tr>\n",
       "    <tr>\n",
       "      <th>1</th>\n",
       "      <td>? Ada aplikasi lain kan? Lebay amat</td>\n",
       "      <td>? Ada aplikasi lain kan? Lebay amat</td>\n",
       "      <td>Ada aplikasi lain kan Lebay amat</td>\n",
       "      <td>ada aplikasi lain kan lebay amat</td>\n",
       "      <td>['aplikasi', 'lebay']</td>\n",
       "      <td>aplikasi lebay</td>\n",
       "      <td>0</td>\n",
       "      <td>0</td>\n",
       "      <td>0</td>\n",
       "      <td>0</td>\n",
       "      <td>0</td>\n",
       "      <td>1</td>\n",
       "    </tr>\n",
       "    <tr>\n",
       "      <th>2</th>\n",
       "      <td>????? Lawak UMKM ug mana? Yg harus di blokir i...</td>\n",
       "      <td>????? Lawak UMKM ug mana? Yg harus di blokir i...</td>\n",
       "      <td>Lawak UMKM mana harus blokir itu produk impor ...</td>\n",
       "      <td>lawak umkm mana harus blokir itu produk impor ...</td>\n",
       "      <td>['lawak', 'umkm', 'blokir', 'produk', 'impor',...</td>\n",
       "      <td>lawak umkm blokir produk impor cina lapang ker...</td>\n",
       "      <td>0</td>\n",
       "      <td>1</td>\n",
       "      <td>1</td>\n",
       "      <td>0</td>\n",
       "      <td>0</td>\n",
       "      <td>1</td>\n",
       "    </tr>\n",
       "    <tr>\n",
       "      <th>3</th>\n",
       "      <td>.. dan menghacurkan UMKM !</td>\n",
       "      <td>.. dan menghacurkan UMKM !</td>\n",
       "      <td>dan menghacurkan UMKM</td>\n",
       "      <td>dan menghacurkan umkm</td>\n",
       "      <td>['menghacurkan', 'umkm']</td>\n",
       "      <td>menghacurkan umkm</td>\n",
       "      <td>0</td>\n",
       "      <td>0</td>\n",
       "      <td>1</td>\n",
       "      <td>0</td>\n",
       "      <td>0</td>\n",
       "      <td>1</td>\n",
       "    </tr>\n",
       "    <tr>\n",
       "      <th>4</th>\n",
       "      <td>.jika tidak menggunakan teknologi manusia tida...</td>\n",
       "      <td>.jika tidak menggunakan teknologi manusia tida...</td>\n",
       "      <td>jika tidak menggunakan teknologi manusia tidak...</td>\n",
       "      <td>jika tidak menggunakan teknologi manusia tidak...</td>\n",
       "      <td>['teknologi', 'manusia', 'pergi', 'angkasa', '...</td>\n",
       "      <td>teknologi manusia pergi angkasa f x x negara k...</td>\n",
       "      <td>0</td>\n",
       "      <td>1</td>\n",
       "      <td>1</td>\n",
       "      <td>0</td>\n",
       "      <td>0</td>\n",
       "      <td>1</td>\n",
       "    </tr>\n",
       "    <tr>\n",
       "      <th>...</th>\n",
       "      <td>...</td>\n",
       "      <td>...</td>\n",
       "      <td>...</td>\n",
       "      <td>...</td>\n",
       "      <td>...</td>\n",
       "      <td>...</td>\n",
       "      <td>...</td>\n",
       "      <td>...</td>\n",
       "      <td>...</td>\n",
       "      <td>...</td>\n",
       "      <td>...</td>\n",
       "      <td>...</td>\n",
       "    </tr>\n",
       "    <tr>\n",
       "      <th>42931</th>\n",
       "      <td>Aaaa makasii banyak kak penjelasannya❤️penyamp...</td>\n",
       "      <td>Aaaa makasii banyak kak penjelasannya❤️penyamp...</td>\n",
       "      <td>Aaa makasii banyak kak penjelasannya penyampai...</td>\n",
       "      <td>aaa makasii banyak kak penjelasannya penyampai...</td>\n",
       "      <td>['aaa', 'makasii', 'kak', 'penjelasannya', 'pe...</td>\n",
       "      <td>aaa makasii kak jelas sampai mudah bgt paham l...</td>\n",
       "      <td>0</td>\n",
       "      <td>1</td>\n",
       "      <td>0</td>\n",
       "      <td>0</td>\n",
       "      <td>1</td>\n",
       "      <td>0</td>\n",
       "    </tr>\n",
       "    <tr>\n",
       "      <th>42932</th>\n",
       "      <td>Aaaa makaaasih🫶🏻🫶🏻🫶🏻 masi on process krn pgn p...</td>\n",
       "      <td>Aaaa makaaasih🫶🏻🫶🏻🫶🏻 masi on process krn pgn p...</td>\n",
       "      <td>Aaa makaasih masi process krn pgn product stab...</td>\n",
       "      <td>aaa makaasih masi process krn pgn product stab...</td>\n",
       "      <td>['aaa', 'makaasih', 'masi', 'process', 'pgn', ...</td>\n",
       "      <td>aaa makaasih mas process pgn product stabil ju...</td>\n",
       "      <td>0</td>\n",
       "      <td>1</td>\n",
       "      <td>0</td>\n",
       "      <td>0</td>\n",
       "      <td>1</td>\n",
       "      <td>0</td>\n",
       "    </tr>\n",
       "    <tr>\n",
       "      <th>42933</th>\n",
       "      <td>Aaaa luvsss🥺🥰 semoga aku terus bisa menginspir...</td>\n",
       "      <td>Aaaa luvsss (Menggambarkan keinginan akan sesu...</td>\n",
       "      <td>Aaa luvss semoga aku terus bisa menginspirasi yaa</td>\n",
       "      <td>aaa luvss semoga aku terus bisa menginspirasi yaa</td>\n",
       "      <td>['aaa', 'luvss', 'semoga', 'menginspirasi', 'y...</td>\n",
       "      <td>aaa luvss moga inspirasi yaa</td>\n",
       "      <td>0</td>\n",
       "      <td>1</td>\n",
       "      <td>0</td>\n",
       "      <td>0</td>\n",
       "      <td>0</td>\n",
       "      <td>0</td>\n",
       "    </tr>\n",
       "    <tr>\n",
       "      <th>42934</th>\n",
       "      <td>Aaaa jelas banget cara jelasinnya, makasih kak...</td>\n",
       "      <td>Aaaa jelas banget cara jelasinnya, makasih kak...</td>\n",
       "      <td>Aaa jelas banget cara jelasinnya makasih kak a...</td>\n",
       "      <td>aaa jelas banget cara jelasinnya makasih kak a...</td>\n",
       "      <td>['aaa', 'banget', 'jelasinnya', 'makasih', 'ka...</td>\n",
       "      <td>aaa banget jelasinnya makasih kak subscribe</td>\n",
       "      <td>0</td>\n",
       "      <td>1</td>\n",
       "      <td>0</td>\n",
       "      <td>0</td>\n",
       "      <td>0</td>\n",
       "      <td>0</td>\n",
       "    </tr>\n",
       "    <tr>\n",
       "      <th>42935</th>\n",
       "      <td>Aaaa bahagia banget Nemu channel Kaka, bener2 ...</td>\n",
       "      <td>Aaaa bahagia banget Nemu channel Kaka, bener2 ...</td>\n",
       "      <td>Aaa bahagia banget Nemu channel Kaka bener mem...</td>\n",
       "      <td>aaa bahagia banget nemu channel kaka bener mem...</td>\n",
       "      <td>['aaa', 'bahagia', 'banget', 'nemu', 'channel'...</td>\n",
       "      <td>aaa bahagia banget nemu channel kaka bener bantu</td>\n",
       "      <td>0</td>\n",
       "      <td>1</td>\n",
       "      <td>0</td>\n",
       "      <td>0</td>\n",
       "      <td>0</td>\n",
       "      <td>0</td>\n",
       "    </tr>\n",
       "  </tbody>\n",
       "</table>\n",
       "<p>42936 rows × 12 columns</p>\n",
       "</div>"
      ],
      "text/plain": [
       "                                                    text  \\\n",
       "0      ,Sama bunda juga sedih ,mereka tulang punggung...   \n",
       "1                    ? Ada aplikasi lain kan? Lebay amat   \n",
       "2      ????? Lawak UMKM ug mana? Yg harus di blokir i...   \n",
       "3                             .. dan menghacurkan UMKM !   \n",
       "4      .jika tidak menggunakan teknologi manusia tida...   \n",
       "...                                                  ...   \n",
       "42931  Aaaa makasii banyak kak penjelasannya❤️penyamp...   \n",
       "42932  Aaaa makaaasih🫶🏻🫶🏻🫶🏻 masi on process krn pgn p...   \n",
       "42933  Aaaa luvsss🥺🥰 semoga aku terus bisa menginspir...   \n",
       "42934  Aaaa jelas banget cara jelasinnya, makasih kak...   \n",
       "42935  Aaaa bahagia banget Nemu channel Kaka, bener2 ...   \n",
       "\n",
       "                                                new text  \\\n",
       "0      ,Sama bunda juga sedih ,mereka tulang punggung...   \n",
       "1                    ? Ada aplikasi lain kan? Lebay amat   \n",
       "2      ????? Lawak UMKM ug mana? Yg harus di blokir i...   \n",
       "3                             .. dan menghacurkan UMKM !   \n",
       "4      .jika tidak menggunakan teknologi manusia tida...   \n",
       "...                                                  ...   \n",
       "42931  Aaaa makasii banyak kak penjelasannya❤️penyamp...   \n",
       "42932  Aaaa makaaasih🫶🏻🫶🏻🫶🏻 masi on process krn pgn p...   \n",
       "42933  Aaaa luvsss (Menggambarkan keinginan akan sesu...   \n",
       "42934  Aaaa jelas banget cara jelasinnya, makasih kak...   \n",
       "42935  Aaaa bahagia banget Nemu channel Kaka, bener2 ...   \n",
       "\n",
       "                                                cleaning  \\\n",
       "0      Sama bunda juga sedih mereka tulang punggung k...   \n",
       "1                       Ada aplikasi lain kan Lebay amat   \n",
       "2      Lawak UMKM mana harus blokir itu produk impor ...   \n",
       "3                                  dan menghacurkan UMKM   \n",
       "4      jika tidak menggunakan teknologi manusia tidak...   \n",
       "...                                                  ...   \n",
       "42931  Aaa makasii banyak kak penjelasannya penyampai...   \n",
       "42932  Aaa makaasih masi process krn pgn product stab...   \n",
       "42933  Aaa luvss semoga aku terus bisa menginspirasi yaa   \n",
       "42934  Aaa jelas banget cara jelasinnya makasih kak a...   \n",
       "42935  Aaa bahagia banget Nemu channel Kaka bener mem...   \n",
       "\n",
       "                                            case_folding  \\\n",
       "0      sama bunda juga sedih mereka tulang punggung k...   \n",
       "1                       ada aplikasi lain kan lebay amat   \n",
       "2      lawak umkm mana harus blokir itu produk impor ...   \n",
       "3                                  dan menghacurkan umkm   \n",
       "4      jika tidak menggunakan teknologi manusia tidak...   \n",
       "...                                                  ...   \n",
       "42931  aaa makasii banyak kak penjelasannya penyampai...   \n",
       "42932  aaa makaasih masi process krn pgn product stab...   \n",
       "42933  aaa luvss semoga aku terus bisa menginspirasi yaa   \n",
       "42934  aaa jelas banget cara jelasinnya makasih kak a...   \n",
       "42935  aaa bahagia banget nemu channel kaka bener mem...   \n",
       "\n",
       "                                        stopword_removal  \\\n",
       "0      ['bunda', 'sedih', 'tulang', 'punggung', 'kelu...   \n",
       "1                                  ['aplikasi', 'lebay']   \n",
       "2      ['lawak', 'umkm', 'blokir', 'produk', 'impor',...   \n",
       "3                               ['menghacurkan', 'umkm']   \n",
       "4      ['teknologi', 'manusia', 'pergi', 'angkasa', '...   \n",
       "...                                                  ...   \n",
       "42931  ['aaa', 'makasii', 'kak', 'penjelasannya', 'pe...   \n",
       "42932  ['aaa', 'makaasih', 'masi', 'process', 'pgn', ...   \n",
       "42933  ['aaa', 'luvss', 'semoga', 'menginspirasi', 'y...   \n",
       "42934  ['aaa', 'banget', 'jelasinnya', 'makasih', 'ka...   \n",
       "42935  ['aaa', 'bahagia', 'banget', 'nemu', 'channel'...   \n",
       "\n",
       "                                                stemming  is_repeat_word  \\\n",
       "0      bunda sedih tulang punggung keluarga gmn istri...               0   \n",
       "1                                         aplikasi lebay               0   \n",
       "2      lawak umkm blokir produk impor cina lapang ker...               0   \n",
       "3                                      menghacurkan umkm               0   \n",
       "4      teknologi manusia pergi angkasa f x x negara k...               0   \n",
       "...                                                  ...             ...   \n",
       "42931  aaa makasii kak jelas sampai mudah bgt paham l...               0   \n",
       "42932  aaa makaasih mas process pgn product stabil ju...               0   \n",
       "42933                       aaa luvss moga inspirasi yaa               0   \n",
       "42934        aaa banget jelasinnya makasih kak subscribe               0   \n",
       "42935   aaa bahagia banget nemu channel kaka bener bantu               0   \n",
       "\n",
       "       is_repeat_char  is_repeat_symbol  is_repeat_emoji  \\\n",
       "0                   0                 0                0   \n",
       "1                   0                 0                0   \n",
       "2                   1                 1                0   \n",
       "3                   0                 1                0   \n",
       "4                   1                 1                0   \n",
       "...               ...               ...              ...   \n",
       "42931               1                 0                0   \n",
       "42932               1                 0                0   \n",
       "42933               1                 0                0   \n",
       "42934               1                 0                0   \n",
       "42935               1                 0                0   \n",
       "\n",
       "       is_repeat_combination  anotasi  \n",
       "0                          0        0  \n",
       "1                          0        1  \n",
       "2                          0        1  \n",
       "3                          0        1  \n",
       "4                          0        1  \n",
       "...                      ...      ...  \n",
       "42931                      1        0  \n",
       "42932                      1        0  \n",
       "42933                      0        0  \n",
       "42934                      0        0  \n",
       "42935                      0        0  \n",
       "\n",
       "[42936 rows x 12 columns]"
      ]
     },
     "execution_count": 13,
     "metadata": {},
     "output_type": "execute_result"
    }
   ],
   "source": [
    "emoji_berulang = df.pop('emoji_berulang')\n",
    "df.insert(9, 'is_repeat_emoji', emoji_berulang)\n",
    "df"
   ]
  },
  {
   "cell_type": "markdown",
   "id": "669c986c",
   "metadata": {
    "id": "YsTjmuzpHOXP",
    "papermill": {
     "duration": 0.019677,
     "end_time": "2024-10-05T14:47:52.292781",
     "exception": false,
     "start_time": "2024-10-05T14:47:52.273104",
     "status": "completed"
    },
    "tags": []
   },
   "source": [
    "Drop unused columns"
   ]
  },
  {
   "cell_type": "code",
   "execution_count": 14,
   "id": "fe862c31",
   "metadata": {
    "execution": {
     "iopub.execute_input": "2024-10-05T14:47:52.334689Z",
     "iopub.status.busy": "2024-10-05T14:47:52.333880Z",
     "iopub.status.idle": "2024-10-05T14:47:52.351072Z",
     "shell.execute_reply": "2024-10-05T14:47:52.350143Z"
    },
    "id": "thgWD1h4G-RG",
    "outputId": "eec1496e-e506-49d2-a9ae-1e22dc5c7a2e",
    "papermill": {
     "duration": 0.040448,
     "end_time": "2024-10-05T14:47:52.353304",
     "exception": false,
     "start_time": "2024-10-05T14:47:52.312856",
     "status": "completed"
    },
    "tags": []
   },
   "outputs": [
    {
     "data": {
      "text/html": [
       "<div>\n",
       "<style scoped>\n",
       "    .dataframe tbody tr th:only-of-type {\n",
       "        vertical-align: middle;\n",
       "    }\n",
       "\n",
       "    .dataframe tbody tr th {\n",
       "        vertical-align: top;\n",
       "    }\n",
       "\n",
       "    .dataframe thead th {\n",
       "        text-align: right;\n",
       "    }\n",
       "</style>\n",
       "<table border=\"1\" class=\"dataframe\">\n",
       "  <thead>\n",
       "    <tr style=\"text-align: right;\">\n",
       "      <th></th>\n",
       "      <th>stemming</th>\n",
       "      <th>is_repeat_word</th>\n",
       "      <th>is_repeat_char</th>\n",
       "      <th>is_repeat_symbol</th>\n",
       "      <th>is_repeat_emoji</th>\n",
       "      <th>is_repeat_combination</th>\n",
       "      <th>anotasi</th>\n",
       "    </tr>\n",
       "  </thead>\n",
       "  <tbody>\n",
       "    <tr>\n",
       "      <th>0</th>\n",
       "      <td>bunda sedih tulang punggung keluarga gmn istri...</td>\n",
       "      <td>0</td>\n",
       "      <td>0</td>\n",
       "      <td>0</td>\n",
       "      <td>0</td>\n",
       "      <td>0</td>\n",
       "      <td>0</td>\n",
       "    </tr>\n",
       "    <tr>\n",
       "      <th>1</th>\n",
       "      <td>aplikasi lebay</td>\n",
       "      <td>0</td>\n",
       "      <td>0</td>\n",
       "      <td>0</td>\n",
       "      <td>0</td>\n",
       "      <td>0</td>\n",
       "      <td>1</td>\n",
       "    </tr>\n",
       "    <tr>\n",
       "      <th>2</th>\n",
       "      <td>lawak umkm blokir produk impor cina lapang ker...</td>\n",
       "      <td>0</td>\n",
       "      <td>1</td>\n",
       "      <td>1</td>\n",
       "      <td>0</td>\n",
       "      <td>0</td>\n",
       "      <td>1</td>\n",
       "    </tr>\n",
       "    <tr>\n",
       "      <th>3</th>\n",
       "      <td>menghacurkan umkm</td>\n",
       "      <td>0</td>\n",
       "      <td>0</td>\n",
       "      <td>1</td>\n",
       "      <td>0</td>\n",
       "      <td>0</td>\n",
       "      <td>1</td>\n",
       "    </tr>\n",
       "    <tr>\n",
       "      <th>4</th>\n",
       "      <td>teknologi manusia pergi angkasa f x x negara k...</td>\n",
       "      <td>0</td>\n",
       "      <td>1</td>\n",
       "      <td>1</td>\n",
       "      <td>0</td>\n",
       "      <td>0</td>\n",
       "      <td>1</td>\n",
       "    </tr>\n",
       "    <tr>\n",
       "      <th>...</th>\n",
       "      <td>...</td>\n",
       "      <td>...</td>\n",
       "      <td>...</td>\n",
       "      <td>...</td>\n",
       "      <td>...</td>\n",
       "      <td>...</td>\n",
       "      <td>...</td>\n",
       "    </tr>\n",
       "    <tr>\n",
       "      <th>42931</th>\n",
       "      <td>aaa makasii kak jelas sampai mudah bgt paham l...</td>\n",
       "      <td>0</td>\n",
       "      <td>1</td>\n",
       "      <td>0</td>\n",
       "      <td>0</td>\n",
       "      <td>1</td>\n",
       "      <td>0</td>\n",
       "    </tr>\n",
       "    <tr>\n",
       "      <th>42932</th>\n",
       "      <td>aaa makaasih mas process pgn product stabil ju...</td>\n",
       "      <td>0</td>\n",
       "      <td>1</td>\n",
       "      <td>0</td>\n",
       "      <td>0</td>\n",
       "      <td>1</td>\n",
       "      <td>0</td>\n",
       "    </tr>\n",
       "    <tr>\n",
       "      <th>42933</th>\n",
       "      <td>aaa luvss moga inspirasi yaa</td>\n",
       "      <td>0</td>\n",
       "      <td>1</td>\n",
       "      <td>0</td>\n",
       "      <td>0</td>\n",
       "      <td>0</td>\n",
       "      <td>0</td>\n",
       "    </tr>\n",
       "    <tr>\n",
       "      <th>42934</th>\n",
       "      <td>aaa banget jelasinnya makasih kak subscribe</td>\n",
       "      <td>0</td>\n",
       "      <td>1</td>\n",
       "      <td>0</td>\n",
       "      <td>0</td>\n",
       "      <td>0</td>\n",
       "      <td>0</td>\n",
       "    </tr>\n",
       "    <tr>\n",
       "      <th>42935</th>\n",
       "      <td>aaa bahagia banget nemu channel kaka bener bantu</td>\n",
       "      <td>0</td>\n",
       "      <td>1</td>\n",
       "      <td>0</td>\n",
       "      <td>0</td>\n",
       "      <td>0</td>\n",
       "      <td>0</td>\n",
       "    </tr>\n",
       "  </tbody>\n",
       "</table>\n",
       "<p>42936 rows × 7 columns</p>\n",
       "</div>"
      ],
      "text/plain": [
       "                                                stemming  is_repeat_word  \\\n",
       "0      bunda sedih tulang punggung keluarga gmn istri...               0   \n",
       "1                                         aplikasi lebay               0   \n",
       "2      lawak umkm blokir produk impor cina lapang ker...               0   \n",
       "3                                      menghacurkan umkm               0   \n",
       "4      teknologi manusia pergi angkasa f x x negara k...               0   \n",
       "...                                                  ...             ...   \n",
       "42931  aaa makasii kak jelas sampai mudah bgt paham l...               0   \n",
       "42932  aaa makaasih mas process pgn product stabil ju...               0   \n",
       "42933                       aaa luvss moga inspirasi yaa               0   \n",
       "42934        aaa banget jelasinnya makasih kak subscribe               0   \n",
       "42935   aaa bahagia banget nemu channel kaka bener bantu               0   \n",
       "\n",
       "       is_repeat_char  is_repeat_symbol  is_repeat_emoji  \\\n",
       "0                   0                 0                0   \n",
       "1                   0                 0                0   \n",
       "2                   1                 1                0   \n",
       "3                   0                 1                0   \n",
       "4                   1                 1                0   \n",
       "...               ...               ...              ...   \n",
       "42931               1                 0                0   \n",
       "42932               1                 0                0   \n",
       "42933               1                 0                0   \n",
       "42934               1                 0                0   \n",
       "42935               1                 0                0   \n",
       "\n",
       "       is_repeat_combination  anotasi  \n",
       "0                          0        0  \n",
       "1                          0        1  \n",
       "2                          0        1  \n",
       "3                          0        1  \n",
       "4                          0        1  \n",
       "...                      ...      ...  \n",
       "42931                      1        0  \n",
       "42932                      1        0  \n",
       "42933                      0        0  \n",
       "42934                      0        0  \n",
       "42935                      0        0  \n",
       "\n",
       "[42936 rows x 7 columns]"
      ]
     },
     "execution_count": 14,
     "metadata": {},
     "output_type": "execute_result"
    }
   ],
   "source": [
    "df = df.drop(columns=[\n",
    "    'text', 'new text', 'cleaning', 'case_folding', 'stopword_removal'\n",
    "], axis=1)\n",
    "df"
   ]
  },
  {
   "cell_type": "code",
   "execution_count": 15,
   "id": "2bbd2a74",
   "metadata": {
    "execution": {
     "iopub.execute_input": "2024-10-05T14:47:52.394889Z",
     "iopub.status.busy": "2024-10-05T14:47:52.394490Z",
     "iopub.status.idle": "2024-10-05T14:47:52.408486Z",
     "shell.execute_reply": "2024-10-05T14:47:52.407511Z"
    },
    "id": "Df4edsYcJM8O",
    "outputId": "b7d5ca0d-2cef-498d-8eea-9e98f737103d",
    "papermill": {
     "duration": 0.037181,
     "end_time": "2024-10-05T14:47:52.410608",
     "exception": false,
     "start_time": "2024-10-05T14:47:52.373427",
     "status": "completed"
    },
    "tags": []
   },
   "outputs": [
    {
     "data": {
      "text/html": [
       "<div>\n",
       "<style scoped>\n",
       "    .dataframe tbody tr th:only-of-type {\n",
       "        vertical-align: middle;\n",
       "    }\n",
       "\n",
       "    .dataframe tbody tr th {\n",
       "        vertical-align: top;\n",
       "    }\n",
       "\n",
       "    .dataframe thead th {\n",
       "        text-align: right;\n",
       "    }\n",
       "</style>\n",
       "<table border=\"1\" class=\"dataframe\">\n",
       "  <thead>\n",
       "    <tr style=\"text-align: right;\">\n",
       "      <th></th>\n",
       "      <th>stemming</th>\n",
       "      <th>is_repeat_word</th>\n",
       "      <th>is_repeat_char</th>\n",
       "      <th>is_repeat_symbol</th>\n",
       "      <th>is_repeat_emoji</th>\n",
       "      <th>is_repeat_combination</th>\n",
       "      <th>anotasi</th>\n",
       "    </tr>\n",
       "  </thead>\n",
       "  <tbody>\n",
       "    <tr>\n",
       "      <th>42836</th>\n",
       "      <td>ada tinta tulus kepada</td>\n",
       "      <td>0</td>\n",
       "      <td>0</td>\n",
       "      <td>0</td>\n",
       "      <td>0</td>\n",
       "      <td>0</td>\n",
       "      <td>0</td>\n",
       "    </tr>\n",
       "    <tr>\n",
       "      <th>42837</th>\n",
       "      <td>ada jasa buat fanspage</td>\n",
       "      <td>0</td>\n",
       "      <td>0</td>\n",
       "      <td>0</td>\n",
       "      <td>0</td>\n",
       "      <td>0</td>\n",
       "      <td>0</td>\n",
       "    </tr>\n",
       "    <tr>\n",
       "      <th>42838</th>\n",
       "      <td>ada sana kau rindu pada dunia beda</td>\n",
       "      <td>0</td>\n",
       "      <td>0</td>\n",
       "      <td>0</td>\n",
       "      <td>0</td>\n",
       "      <td>0</td>\n",
       "      <td>0</td>\n",
       "    </tr>\n",
       "    <tr>\n",
       "      <th>42839</th>\n",
       "      <td>adain donk pkek bun</td>\n",
       "      <td>0</td>\n",
       "      <td>0</td>\n",
       "      <td>0</td>\n",
       "      <td>0</td>\n",
       "      <td>0</td>\n",
       "      <td>0</td>\n",
       "    </tr>\n",
       "    <tr>\n",
       "      <th>42840</th>\n",
       "      <td>adaa kirim commerce indonesia coba via nomor b...</td>\n",
       "      <td>0</td>\n",
       "      <td>1</td>\n",
       "      <td>0</td>\n",
       "      <td>0</td>\n",
       "      <td>0</td>\n",
       "      <td>0</td>\n",
       "    </tr>\n",
       "    <tr>\n",
       "      <th>...</th>\n",
       "      <td>...</td>\n",
       "      <td>...</td>\n",
       "      <td>...</td>\n",
       "      <td>...</td>\n",
       "      <td>...</td>\n",
       "      <td>...</td>\n",
       "      <td>...</td>\n",
       "    </tr>\n",
       "    <tr>\n",
       "      <th>42931</th>\n",
       "      <td>aaa makasii kak jelas sampai mudah bgt paham l...</td>\n",
       "      <td>0</td>\n",
       "      <td>1</td>\n",
       "      <td>0</td>\n",
       "      <td>0</td>\n",
       "      <td>1</td>\n",
       "      <td>0</td>\n",
       "    </tr>\n",
       "    <tr>\n",
       "      <th>42932</th>\n",
       "      <td>aaa makaasih mas process pgn product stabil ju...</td>\n",
       "      <td>0</td>\n",
       "      <td>1</td>\n",
       "      <td>0</td>\n",
       "      <td>0</td>\n",
       "      <td>1</td>\n",
       "      <td>0</td>\n",
       "    </tr>\n",
       "    <tr>\n",
       "      <th>42933</th>\n",
       "      <td>aaa luvss moga inspirasi yaa</td>\n",
       "      <td>0</td>\n",
       "      <td>1</td>\n",
       "      <td>0</td>\n",
       "      <td>0</td>\n",
       "      <td>0</td>\n",
       "      <td>0</td>\n",
       "    </tr>\n",
       "    <tr>\n",
       "      <th>42934</th>\n",
       "      <td>aaa banget jelasinnya makasih kak subscribe</td>\n",
       "      <td>0</td>\n",
       "      <td>1</td>\n",
       "      <td>0</td>\n",
       "      <td>0</td>\n",
       "      <td>0</td>\n",
       "      <td>0</td>\n",
       "    </tr>\n",
       "    <tr>\n",
       "      <th>42935</th>\n",
       "      <td>aaa bahagia banget nemu channel kaka bener bantu</td>\n",
       "      <td>0</td>\n",
       "      <td>1</td>\n",
       "      <td>0</td>\n",
       "      <td>0</td>\n",
       "      <td>0</td>\n",
       "      <td>0</td>\n",
       "    </tr>\n",
       "  </tbody>\n",
       "</table>\n",
       "<p>100 rows × 7 columns</p>\n",
       "</div>"
      ],
      "text/plain": [
       "                                                stemming  is_repeat_word  \\\n",
       "42836                             ada tinta tulus kepada               0   \n",
       "42837                             ada jasa buat fanspage               0   \n",
       "42838                 ada sana kau rindu pada dunia beda               0   \n",
       "42839                                adain donk pkek bun               0   \n",
       "42840  adaa kirim commerce indonesia coba via nomor b...               0   \n",
       "...                                                  ...             ...   \n",
       "42931  aaa makasii kak jelas sampai mudah bgt paham l...               0   \n",
       "42932  aaa makaasih mas process pgn product stabil ju...               0   \n",
       "42933                       aaa luvss moga inspirasi yaa               0   \n",
       "42934        aaa banget jelasinnya makasih kak subscribe               0   \n",
       "42935   aaa bahagia banget nemu channel kaka bener bantu               0   \n",
       "\n",
       "       is_repeat_char  is_repeat_symbol  is_repeat_emoji  \\\n",
       "42836               0                 0                0   \n",
       "42837               0                 0                0   \n",
       "42838               0                 0                0   \n",
       "42839               0                 0                0   \n",
       "42840               1                 0                0   \n",
       "...               ...               ...              ...   \n",
       "42931               1                 0                0   \n",
       "42932               1                 0                0   \n",
       "42933               1                 0                0   \n",
       "42934               1                 0                0   \n",
       "42935               1                 0                0   \n",
       "\n",
       "       is_repeat_combination  anotasi  \n",
       "42836                      0        0  \n",
       "42837                      0        0  \n",
       "42838                      0        0  \n",
       "42839                      0        0  \n",
       "42840                      0        0  \n",
       "...                      ...      ...  \n",
       "42931                      1        0  \n",
       "42932                      1        0  \n",
       "42933                      0        0  \n",
       "42934                      0        0  \n",
       "42935                      0        0  \n",
       "\n",
       "[100 rows x 7 columns]"
      ]
     },
     "execution_count": 15,
     "metadata": {},
     "output_type": "execute_result"
    }
   ],
   "source": [
    "df.tail(100)"
   ]
  },
  {
   "cell_type": "code",
   "execution_count": 16,
   "id": "af2e2cf8",
   "metadata": {
    "execution": {
     "iopub.execute_input": "2024-10-05T14:47:52.452537Z",
     "iopub.status.busy": "2024-10-05T14:47:52.452138Z",
     "iopub.status.idle": "2024-10-05T14:47:52.478235Z",
     "shell.execute_reply": "2024-10-05T14:47:52.477142Z"
    },
    "id": "s8r0lHWEJgog",
    "outputId": "696d3825-bdd5-4d56-afcd-be753d06e9b6",
    "papermill": {
     "duration": 0.049695,
     "end_time": "2024-10-05T14:47:52.480589",
     "exception": false,
     "start_time": "2024-10-05T14:47:52.430894",
     "status": "completed"
    },
    "tags": []
   },
   "outputs": [
    {
     "name": "stdout",
     "output_type": "stream",
     "text": [
      "259\n"
     ]
    }
   ],
   "source": [
    "print(df.duplicated().sum()) # apakah dihapus?"
   ]
  },
  {
   "cell_type": "markdown",
   "id": "8f641473",
   "metadata": {
    "id": "wj3s5E0mLAFW",
    "papermill": {
     "duration": 0.020091,
     "end_time": "2024-10-05T14:47:52.522272",
     "exception": false,
     "start_time": "2024-10-05T14:47:52.502181",
     "status": "completed"
    },
    "tags": []
   },
   "source": [
    "### split train test"
   ]
  },
  {
   "cell_type": "markdown",
   "id": "c14f87df",
   "metadata": {
    "id": "54vMPhQeK_lg",
    "papermill": {
     "duration": 0.020125,
     "end_time": "2024-10-05T14:47:52.562795",
     "exception": false,
     "start_time": "2024-10-05T14:47:52.542670",
     "status": "completed"
    },
    "tags": []
   },
   "source": []
  },
  {
   "cell_type": "code",
   "execution_count": 17,
   "id": "5f2b587a",
   "metadata": {
    "execution": {
     "iopub.execute_input": "2024-10-05T14:47:52.604913Z",
     "iopub.status.busy": "2024-10-05T14:47:52.604524Z",
     "iopub.status.idle": "2024-10-05T14:47:52.633940Z",
     "shell.execute_reply": "2024-10-05T14:47:52.632935Z"
    },
    "id": "O3Fxwer0KYV5",
    "outputId": "ea672de7-a972-4f5e-d125-4ff934c30547",
    "papermill": {
     "duration": 0.053238,
     "end_time": "2024-10-05T14:47:52.636216",
     "exception": false,
     "start_time": "2024-10-05T14:47:52.582978",
     "status": "completed"
    },
    "tags": []
   },
   "outputs": [
    {
     "name": "stdout",
     "output_type": "stream",
     "text": [
      "(34348, 7) (8588, 7)\n"
     ]
    },
    {
     "data": {
      "text/html": [
       "<div>\n",
       "<style scoped>\n",
       "    .dataframe tbody tr th:only-of-type {\n",
       "        vertical-align: middle;\n",
       "    }\n",
       "\n",
       "    .dataframe tbody tr th {\n",
       "        vertical-align: top;\n",
       "    }\n",
       "\n",
       "    .dataframe thead th {\n",
       "        text-align: right;\n",
       "    }\n",
       "</style>\n",
       "<table border=\"1\" class=\"dataframe\">\n",
       "  <thead>\n",
       "    <tr style=\"text-align: right;\">\n",
       "      <th></th>\n",
       "      <th>stemming</th>\n",
       "      <th>is_repeat_word</th>\n",
       "      <th>is_repeat_char</th>\n",
       "      <th>is_repeat_symbol</th>\n",
       "      <th>is_repeat_emoji</th>\n",
       "      <th>is_repeat_combination</th>\n",
       "      <th>anotasi</th>\n",
       "    </tr>\n",
       "  </thead>\n",
       "  <tbody>\n",
       "    <tr>\n",
       "      <th>0</th>\n",
       "      <td>x b lilizatang iya klu lbh pilih beli langsung</td>\n",
       "      <td>0</td>\n",
       "      <td>1</td>\n",
       "      <td>1</td>\n",
       "      <td>0</td>\n",
       "      <td>1</td>\n",
       "      <td>0</td>\n",
       "    </tr>\n",
       "    <tr>\n",
       "      <th>1</th>\n",
       "      <td>bismillah anak sekolah sukses amin allah</td>\n",
       "      <td>0</td>\n",
       "      <td>0</td>\n",
       "      <td>1</td>\n",
       "      <td>0</td>\n",
       "      <td>0</td>\n",
       "      <td>0</td>\n",
       "    </tr>\n",
       "    <tr>\n",
       "      <th>2</th>\n",
       "      <td>iya penasaran pcs rumah ringan bgt</td>\n",
       "      <td>0</td>\n",
       "      <td>0</td>\n",
       "      <td>0</td>\n",
       "      <td>0</td>\n",
       "      <td>0</td>\n",
       "      <td>0</td>\n",
       "    </tr>\n",
       "    <tr>\n",
       "      <th>3</th>\n",
       "      <td>duit bnyak duit kismin kismin krna jual sosmed...</td>\n",
       "      <td>0</td>\n",
       "      <td>0</td>\n",
       "      <td>1</td>\n",
       "      <td>0</td>\n",
       "      <td>0</td>\n",
       "      <td>0</td>\n",
       "    </tr>\n",
       "    <tr>\n",
       "      <th>4</th>\n",
       "      <td>line shop rusak tatanan ekonomi untung gelinti...</td>\n",
       "      <td>0</td>\n",
       "      <td>0</td>\n",
       "      <td>0</td>\n",
       "      <td>0</td>\n",
       "      <td>1</td>\n",
       "      <td>0</td>\n",
       "    </tr>\n",
       "    <tr>\n",
       "      <th>...</th>\n",
       "      <td>...</td>\n",
       "      <td>...</td>\n",
       "      <td>...</td>\n",
       "      <td>...</td>\n",
       "      <td>...</td>\n",
       "      <td>...</td>\n",
       "      <td>...</td>\n",
       "    </tr>\n",
       "    <tr>\n",
       "      <th>34343</th>\n",
       "      <td>haruse shopee bukalapak lazada larang mati umkm</td>\n",
       "      <td>0</td>\n",
       "      <td>1</td>\n",
       "      <td>1</td>\n",
       "      <td>0</td>\n",
       "      <td>0</td>\n",
       "      <td>1</td>\n",
       "    </tr>\n",
       "    <tr>\n",
       "      <th>34344</th>\n",
       "      <td>mendag impor baju bekas larang nyata jamur jua...</td>\n",
       "      <td>0</td>\n",
       "      <td>1</td>\n",
       "      <td>1</td>\n",
       "      <td>0</td>\n",
       "      <td>0</td>\n",
       "      <td>1</td>\n",
       "    </tr>\n",
       "    <tr>\n",
       "      <th>34345</th>\n",
       "      <td>kira tanah abang kota pake pintu mana</td>\n",
       "      <td>0</td>\n",
       "      <td>0</td>\n",
       "      <td>0</td>\n",
       "      <td>0</td>\n",
       "      <td>0</td>\n",
       "      <td>1</td>\n",
       "    </tr>\n",
       "    <tr>\n",
       "      <th>34346</th>\n",
       "      <td>x b dudinda sara butuh elektronik make produk ...</td>\n",
       "      <td>1</td>\n",
       "      <td>0</td>\n",
       "      <td>1</td>\n",
       "      <td>0</td>\n",
       "      <td>0</td>\n",
       "      <td>0</td>\n",
       "    </tr>\n",
       "    <tr>\n",
       "      <th>34347</th>\n",
       "      <td>tuju drpda artis jual kshn kls</td>\n",
       "      <td>0</td>\n",
       "      <td>0</td>\n",
       "      <td>0</td>\n",
       "      <td>0</td>\n",
       "      <td>0</td>\n",
       "      <td>0</td>\n",
       "    </tr>\n",
       "  </tbody>\n",
       "</table>\n",
       "<p>34348 rows × 7 columns</p>\n",
       "</div>"
      ],
      "text/plain": [
       "                                                stemming  is_repeat_word  \\\n",
       "0         x b lilizatang iya klu lbh pilih beli langsung               0   \n",
       "1               bismillah anak sekolah sukses amin allah               0   \n",
       "2                     iya penasaran pcs rumah ringan bgt               0   \n",
       "3      duit bnyak duit kismin kismin krna jual sosmed...               0   \n",
       "4      line shop rusak tatanan ekonomi untung gelinti...               0   \n",
       "...                                                  ...             ...   \n",
       "34343    haruse shopee bukalapak lazada larang mati umkm               0   \n",
       "34344  mendag impor baju bekas larang nyata jamur jua...               0   \n",
       "34345              kira tanah abang kota pake pintu mana               0   \n",
       "34346  x b dudinda sara butuh elektronik make produk ...               1   \n",
       "34347                     tuju drpda artis jual kshn kls               0   \n",
       "\n",
       "       is_repeat_char  is_repeat_symbol  is_repeat_emoji  \\\n",
       "0                   1                 1                0   \n",
       "1                   0                 1                0   \n",
       "2                   0                 0                0   \n",
       "3                   0                 1                0   \n",
       "4                   0                 0                0   \n",
       "...               ...               ...              ...   \n",
       "34343               1                 1                0   \n",
       "34344               1                 1                0   \n",
       "34345               0                 0                0   \n",
       "34346               0                 1                0   \n",
       "34347               0                 0                0   \n",
       "\n",
       "       is_repeat_combination  anotasi  \n",
       "0                          1        0  \n",
       "1                          0        0  \n",
       "2                          0        0  \n",
       "3                          0        0  \n",
       "4                          1        0  \n",
       "...                      ...      ...  \n",
       "34343                      0        1  \n",
       "34344                      0        1  \n",
       "34345                      0        1  \n",
       "34346                      0        0  \n",
       "34347                      0        0  \n",
       "\n",
       "[34348 rows x 7 columns]"
      ]
     },
     "execution_count": 17,
     "metadata": {},
     "output_type": "execute_result"
    }
   ],
   "source": [
    "df_train, df_test = train_test_split(df, test_size=0.2, random_state=42)\n",
    "df_train = df_train.reset_index(drop=True)\n",
    "df_test = df_test.reset_index(drop=True)\n",
    "print(df_train.shape, df_test.shape)\n",
    "df_train"
   ]
  },
  {
   "cell_type": "markdown",
   "id": "4e20f02e",
   "metadata": {
    "id": "LA5h5xYZbTAI",
    "papermill": {
     "duration": 0.028438,
     "end_time": "2024-10-05T14:47:52.686837",
     "exception": false,
     "start_time": "2024-10-05T14:47:52.658399",
     "status": "completed"
    },
    "tags": []
   },
   "source": [
    "### Transforming to TF-IDF"
   ]
  },
  {
   "cell_type": "code",
   "execution_count": 18,
   "id": "f5fe80ab",
   "metadata": {
    "execution": {
     "iopub.execute_input": "2024-10-05T14:47:52.735478Z",
     "iopub.status.busy": "2024-10-05T14:47:52.734813Z",
     "iopub.status.idle": "2024-10-05T14:47:53.251644Z",
     "shell.execute_reply": "2024-10-05T14:47:53.250434Z"
    },
    "id": "cY5MMzjZLgiU",
    "outputId": "6ba69cfe-39f4-4959-98ef-a7c09f7f6ba3",
    "papermill": {
     "duration": 0.54085,
     "end_time": "2024-10-05T14:47:53.253938",
     "exception": false,
     "start_time": "2024-10-05T14:47:52.713088",
     "status": "completed"
    },
    "tags": []
   },
   "outputs": [
    {
     "name": "stdout",
     "output_type": "stream",
     "text": [
      "17\n",
      "(34331, 24863)\n"
     ]
    }
   ],
   "source": [
    "# Check for missing values in the 'stemming' column\n",
    "print(df_train['stemming'].isnull().sum())\n",
    "\n",
    "# Remove rows with missing values in the 'stemming' column\n",
    "df_train = df_train.dropna(subset=['stemming'])\n",
    "\n",
    "# Reset the index after removing rows\n",
    "df_train = df_train.reset_index(drop=True)\n",
    "\n",
    "# Fit the TfidfVectorizer on the cleaned data\n",
    "vectorizer = TfidfVectorizer()\n",
    "text_feature_train = vectorizer.fit_transform(df_train['stemming'])\n",
    "\n",
    "# Check the shape of the transformed data\n",
    "print(text_feature_train.shape)"
   ]
  },
  {
   "cell_type": "code",
   "execution_count": 19,
   "id": "5483b90a",
   "metadata": {
    "execution": {
     "iopub.execute_input": "2024-10-05T14:47:53.301193Z",
     "iopub.status.busy": "2024-10-05T14:47:53.300524Z",
     "iopub.status.idle": "2024-10-05T14:47:59.641897Z",
     "shell.execute_reply": "2024-10-05T14:47:59.640911Z"
    },
    "id": "5paYSqXGbv2w",
    "outputId": "c269038b-8e8d-494d-e898-74bcbd451341",
    "papermill": {
     "duration": 6.368749,
     "end_time": "2024-10-05T14:47:59.644260",
     "exception": false,
     "start_time": "2024-10-05T14:47:53.275511",
     "status": "completed"
    },
    "tags": []
   },
   "outputs": [
    {
     "data": {
      "text/plain": [
       "(34331, 24868)"
      ]
     },
     "execution_count": 19,
     "metadata": {},
     "output_type": "execute_result"
    }
   ],
   "source": [
    "feature_train = np.concatenate([text_feature_train.toarray(),\n",
    "                                df_train[[\n",
    "                                    'is_repeat_word', 'is_repeat_char',\n",
    "                                    'is_repeat_symbol', 'is_repeat_emoji', 'is_repeat_combination'\n",
    "                                ]].values\n",
    "                                ], axis=1)\n",
    "feature_train.shape"
   ]
  },
  {
   "cell_type": "code",
   "execution_count": 20,
   "id": "86d50302",
   "metadata": {
    "execution": {
     "iopub.execute_input": "2024-10-05T14:47:59.688341Z",
     "iopub.status.busy": "2024-10-05T14:47:59.687617Z",
     "iopub.status.idle": "2024-10-05T14:47:59.803862Z",
     "shell.execute_reply": "2024-10-05T14:47:59.802836Z"
    },
    "papermill": {
     "duration": 0.140642,
     "end_time": "2024-10-05T14:47:59.806125",
     "exception": false,
     "start_time": "2024-10-05T14:47:59.665483",
     "status": "completed"
    },
    "tags": []
   },
   "outputs": [
    {
     "name": "stdout",
     "output_type": "stream",
     "text": [
      "8\n"
     ]
    },
    {
     "data": {
      "text/plain": [
       "(8580, 24863)"
      ]
     },
     "execution_count": 20,
     "metadata": {},
     "output_type": "execute_result"
    }
   ],
   "source": [
    "# Check for missing values in the 'stemming' column\n",
    "print(df_test['stemming'].isnull().sum())\n",
    "\n",
    "# Remove rows with missing values in the 'stemming' column\n",
    "df_test = df_test.dropna(subset=['stemming'])\n",
    "\n",
    "# Reset the index after removing rows\n",
    "df_test = df_test.reset_index(drop=True)\n",
    "\n",
    "text_feature_test = vectorizer.transform(df_test['stemming'])\n",
    "\n",
    "# Check the shape of the transformed data\n",
    "text_feature_test.shape"
   ]
  },
  {
   "cell_type": "code",
   "execution_count": 21,
   "id": "95d88398",
   "metadata": {
    "execution": {
     "iopub.execute_input": "2024-10-05T14:47:59.850854Z",
     "iopub.status.busy": "2024-10-05T14:47:59.849872Z",
     "iopub.status.idle": "2024-10-05T14:48:01.309779Z",
     "shell.execute_reply": "2024-10-05T14:48:01.308716Z"
    },
    "papermill": {
     "duration": 1.48514,
     "end_time": "2024-10-05T14:48:01.312457",
     "exception": false,
     "start_time": "2024-10-05T14:47:59.827317",
     "status": "completed"
    },
    "tags": []
   },
   "outputs": [
    {
     "data": {
      "text/plain": [
       "(8580, 24868)"
      ]
     },
     "execution_count": 21,
     "metadata": {},
     "output_type": "execute_result"
    }
   ],
   "source": [
    "feature_test = np.concatenate([text_feature_test.toarray(),\n",
    "                                df_test[[\n",
    "                                    'is_repeat_word', 'is_repeat_char',\n",
    "                                    'is_repeat_symbol', 'is_repeat_emoji', 'is_repeat_combination'\n",
    "                                ]].values\n",
    "                                ], axis=1)\n",
    "feature_test.shape"
   ]
  },
  {
   "cell_type": "markdown",
   "id": "8e5a3db2",
   "metadata": {
    "id": "mqT4PcGSd_xS",
    "papermill": {
     "duration": 0.021243,
     "end_time": "2024-10-05T14:48:01.356050",
     "exception": false,
     "start_time": "2024-10-05T14:48:01.334807",
     "status": "completed"
    },
    "tags": []
   },
   "source": [
    "### PCA"
   ]
  },
  {
   "cell_type": "code",
   "execution_count": 22,
   "id": "6abb45a9",
   "metadata": {
    "execution": {
     "iopub.execute_input": "2024-10-05T14:48:01.401259Z",
     "iopub.status.busy": "2024-10-05T14:48:01.400237Z",
     "iopub.status.idle": "2024-10-05T14:48:28.444474Z",
     "shell.execute_reply": "2024-10-05T14:48:28.443484Z"
    },
    "id": "pYN4vBrPd_al",
    "papermill": {
     "duration": 27.069258,
     "end_time": "2024-10-05T14:48:28.446713",
     "exception": false,
     "start_time": "2024-10-05T14:48:01.377455",
     "status": "completed"
    },
    "tags": []
   },
   "outputs": [
    {
     "data": {
      "text/plain": [
       "(34331, 2)"
      ]
     },
     "execution_count": 22,
     "metadata": {},
     "output_type": "execute_result"
    }
   ],
   "source": [
    "pca = PCA(n_components=2)\n",
    "feature_train = pca.fit_transform(feature_train)\n",
    "feature_train.shape"
   ]
  },
  {
   "cell_type": "code",
   "execution_count": 23,
   "id": "42c52f8b",
   "metadata": {
    "execution": {
     "iopub.execute_input": "2024-10-05T14:48:28.491675Z",
     "iopub.status.busy": "2024-10-05T14:48:28.491278Z",
     "iopub.status.idle": "2024-10-05T14:48:28.517425Z",
     "shell.execute_reply": "2024-10-05T14:48:28.516415Z"
    },
    "id": "pSp5zv18fr0y",
    "papermill": {
     "duration": 0.051092,
     "end_time": "2024-10-05T14:48:28.519739",
     "exception": false,
     "start_time": "2024-10-05T14:48:28.468647",
     "status": "completed"
    },
    "tags": []
   },
   "outputs": [
    {
     "data": {
      "text/html": [
       "<div>\n",
       "<style scoped>\n",
       "    .dataframe tbody tr th:only-of-type {\n",
       "        vertical-align: middle;\n",
       "    }\n",
       "\n",
       "    .dataframe tbody tr th {\n",
       "        vertical-align: top;\n",
       "    }\n",
       "\n",
       "    .dataframe thead th {\n",
       "        text-align: right;\n",
       "    }\n",
       "</style>\n",
       "<table border=\"1\" class=\"dataframe\">\n",
       "  <thead>\n",
       "    <tr style=\"text-align: right;\">\n",
       "      <th></th>\n",
       "      <th>pca_1</th>\n",
       "      <th>pca_2</th>\n",
       "      <th>anotasi</th>\n",
       "    </tr>\n",
       "  </thead>\n",
       "  <tbody>\n",
       "    <tr>\n",
       "      <th>count</th>\n",
       "      <td>3.433100e+04</td>\n",
       "      <td>3.433100e+04</td>\n",
       "      <td>34331.000000</td>\n",
       "    </tr>\n",
       "    <tr>\n",
       "      <th>mean</th>\n",
       "      <td>4.268720e-18</td>\n",
       "      <td>8.123504e-18</td>\n",
       "      <td>0.346159</td>\n",
       "    </tr>\n",
       "    <tr>\n",
       "      <th>std</th>\n",
       "      <td>5.374825e-01</td>\n",
       "      <td>3.975000e-01</td>\n",
       "      <td>0.475752</td>\n",
       "    </tr>\n",
       "    <tr>\n",
       "      <th>min</th>\n",
       "      <td>-4.276052e-01</td>\n",
       "      <td>-3.862770e-01</td>\n",
       "      <td>0.000000</td>\n",
       "    </tr>\n",
       "    <tr>\n",
       "      <th>25%</th>\n",
       "      <td>-4.096521e-01</td>\n",
       "      <td>-1.733534e-01</td>\n",
       "      <td>0.000000</td>\n",
       "    </tr>\n",
       "    <tr>\n",
       "      <th>50%</th>\n",
       "      <td>-4.039704e-01</td>\n",
       "      <td>-1.242430e-01</td>\n",
       "      <td>0.000000</td>\n",
       "    </tr>\n",
       "    <tr>\n",
       "      <th>75%</th>\n",
       "      <td>3.977200e-01</td>\n",
       "      <td>-1.187639e-01</td>\n",
       "      <td>1.000000</td>\n",
       "    </tr>\n",
       "    <tr>\n",
       "      <th>max</th>\n",
       "      <td>1.190511e+00</td>\n",
       "      <td>9.163557e-01</td>\n",
       "      <td>1.000000</td>\n",
       "    </tr>\n",
       "  </tbody>\n",
       "</table>\n",
       "</div>"
      ],
      "text/plain": [
       "              pca_1         pca_2       anotasi\n",
       "count  3.433100e+04  3.433100e+04  34331.000000\n",
       "mean   4.268720e-18  8.123504e-18      0.346159\n",
       "std    5.374825e-01  3.975000e-01      0.475752\n",
       "min   -4.276052e-01 -3.862770e-01      0.000000\n",
       "25%   -4.096521e-01 -1.733534e-01      0.000000\n",
       "50%   -4.039704e-01 -1.242430e-01      0.000000\n",
       "75%    3.977200e-01 -1.187639e-01      1.000000\n",
       "max    1.190511e+00  9.163557e-01      1.000000"
      ]
     },
     "execution_count": 23,
     "metadata": {},
     "output_type": "execute_result"
    }
   ],
   "source": [
    "df_feature_train = pd.DataFrame(feature_train)\n",
    "df_feature_train = pd.concat([df_feature_train, df_train[['anotasi']]], axis=1, ignore_index=True)\n",
    "df_feature_train.columns = ['pca_1', 'pca_2', 'anotasi']\n",
    "df_feature_train.describe(include='all')"
   ]
  },
  {
   "cell_type": "code",
   "execution_count": 24,
   "id": "c5ebf974",
   "metadata": {
    "execution": {
     "iopub.execute_input": "2024-10-05T14:48:28.564620Z",
     "iopub.status.busy": "2024-10-05T14:48:28.564243Z",
     "iopub.status.idle": "2024-10-05T14:48:35.160650Z",
     "shell.execute_reply": "2024-10-05T14:48:35.159560Z"
    },
    "papermill": {
     "duration": 6.62172,
     "end_time": "2024-10-05T14:48:35.163131",
     "exception": false,
     "start_time": "2024-10-05T14:48:28.541411",
     "status": "completed"
    },
    "tags": []
   },
   "outputs": [
    {
     "data": {
      "text/plain": [
       "(8580, 2)"
      ]
     },
     "execution_count": 24,
     "metadata": {},
     "output_type": "execute_result"
    }
   ],
   "source": [
    "pca = PCA(n_components=2)\n",
    "feature_test = pca.fit_transform(feature_test)\n",
    "feature_test.shape"
   ]
  },
  {
   "cell_type": "code",
   "execution_count": 25,
   "id": "5cdcf6ee",
   "metadata": {
    "execution": {
     "iopub.execute_input": "2024-10-05T14:48:35.209846Z",
     "iopub.status.busy": "2024-10-05T14:48:35.208852Z",
     "iopub.status.idle": "2024-10-05T14:48:35.231259Z",
     "shell.execute_reply": "2024-10-05T14:48:35.230095Z"
    },
    "papermill": {
     "duration": 0.048341,
     "end_time": "2024-10-05T14:48:35.233717",
     "exception": false,
     "start_time": "2024-10-05T14:48:35.185376",
     "status": "completed"
    },
    "tags": []
   },
   "outputs": [
    {
     "data": {
      "text/html": [
       "<div>\n",
       "<style scoped>\n",
       "    .dataframe tbody tr th:only-of-type {\n",
       "        vertical-align: middle;\n",
       "    }\n",
       "\n",
       "    .dataframe tbody tr th {\n",
       "        vertical-align: top;\n",
       "    }\n",
       "\n",
       "    .dataframe thead th {\n",
       "        text-align: right;\n",
       "    }\n",
       "</style>\n",
       "<table border=\"1\" class=\"dataframe\">\n",
       "  <thead>\n",
       "    <tr style=\"text-align: right;\">\n",
       "      <th></th>\n",
       "      <th>pca_1</th>\n",
       "      <th>pca_2</th>\n",
       "      <th>anotasi</th>\n",
       "    </tr>\n",
       "  </thead>\n",
       "  <tbody>\n",
       "    <tr>\n",
       "      <th>count</th>\n",
       "      <td>8.580000e+03</td>\n",
       "      <td>8.580000e+03</td>\n",
       "      <td>8580.000000</td>\n",
       "    </tr>\n",
       "    <tr>\n",
       "      <th>mean</th>\n",
       "      <td>1.180097e-17</td>\n",
       "      <td>1.449242e-17</td>\n",
       "      <td>0.345921</td>\n",
       "    </tr>\n",
       "    <tr>\n",
       "      <th>std</th>\n",
       "      <td>5.396872e-01</td>\n",
       "      <td>3.941691e-01</td>\n",
       "      <td>0.475695</td>\n",
       "    </tr>\n",
       "    <tr>\n",
       "      <th>min</th>\n",
       "      <td>-4.426400e-01</td>\n",
       "      <td>-4.193219e-01</td>\n",
       "      <td>0.000000</td>\n",
       "    </tr>\n",
       "    <tr>\n",
       "      <th>25%</th>\n",
       "      <td>-4.186082e-01</td>\n",
       "      <td>-1.487830e-01</td>\n",
       "      <td>0.000000</td>\n",
       "    </tr>\n",
       "    <tr>\n",
       "      <th>50%</th>\n",
       "      <td>-4.119092e-01</td>\n",
       "      <td>-1.011687e-01</td>\n",
       "      <td>0.000000</td>\n",
       "    </tr>\n",
       "    <tr>\n",
       "      <th>75%</th>\n",
       "      <td>3.819264e-01</td>\n",
       "      <td>-9.596818e-02</td>\n",
       "      <td>1.000000</td>\n",
       "    </tr>\n",
       "    <tr>\n",
       "      <th>max</th>\n",
       "      <td>1.218042e+00</td>\n",
       "      <td>9.270833e-01</td>\n",
       "      <td>1.000000</td>\n",
       "    </tr>\n",
       "  </tbody>\n",
       "</table>\n",
       "</div>"
      ],
      "text/plain": [
       "              pca_1         pca_2      anotasi\n",
       "count  8.580000e+03  8.580000e+03  8580.000000\n",
       "mean   1.180097e-17  1.449242e-17     0.345921\n",
       "std    5.396872e-01  3.941691e-01     0.475695\n",
       "min   -4.426400e-01 -4.193219e-01     0.000000\n",
       "25%   -4.186082e-01 -1.487830e-01     0.000000\n",
       "50%   -4.119092e-01 -1.011687e-01     0.000000\n",
       "75%    3.819264e-01 -9.596818e-02     1.000000\n",
       "max    1.218042e+00  9.270833e-01     1.000000"
      ]
     },
     "execution_count": 25,
     "metadata": {},
     "output_type": "execute_result"
    }
   ],
   "source": [
    "df_feature_test = pd.DataFrame(feature_test)\n",
    "df_feature_test = pd.concat([df_feature_test, df_test[['anotasi']]], axis=1, ignore_index=True)\n",
    "df_feature_test.columns = ['pca_1', 'pca_2', 'anotasi']\n",
    "df_feature_test.describe(include='all')"
   ]
  },
  {
   "cell_type": "markdown",
   "id": "9880609d",
   "metadata": {
    "papermill": {
     "duration": 0.022746,
     "end_time": "2024-10-05T14:48:35.279507",
     "exception": false,
     "start_time": "2024-10-05T14:48:35.256761",
     "status": "completed"
    },
    "tags": []
   },
   "source": [
    "## Model construction"
   ]
  },
  {
   "cell_type": "markdown",
   "id": "98299277",
   "metadata": {
    "papermill": {
     "duration": 0.021866,
     "end_time": "2024-10-05T14:48:35.323926",
     "exception": false,
     "start_time": "2024-10-05T14:48:35.302060",
     "status": "completed"
    },
    "tags": []
   },
   "source": [
    "### SVM"
   ]
  },
  {
   "cell_type": "code",
   "execution_count": 26,
   "id": "c28db84f",
   "metadata": {
    "execution": {
     "iopub.execute_input": "2024-10-05T14:48:35.369783Z",
     "iopub.status.busy": "2024-10-05T14:48:35.369355Z",
     "iopub.status.idle": "2024-10-05T14:49:00.690847Z",
     "shell.execute_reply": "2024-10-05T14:49:00.689782Z"
    },
    "papermill": {
     "duration": 25.346938,
     "end_time": "2024-10-05T14:49:00.693165",
     "exception": false,
     "start_time": "2024-10-05T14:48:35.346227",
     "status": "completed"
    },
    "tags": []
   },
   "outputs": [
    {
     "name": "stderr",
     "output_type": "stream",
     "text": [
      "/opt/conda/lib/python3.10/site-packages/sklearn/utils/validation.py:1143: DataConversionWarning: A column-vector y was passed when a 1d array was expected. Please change the shape of y to (n_samples, ), for example using ravel().\n",
      "  y = column_or_1d(y, warn=True)\n"
     ]
    },
    {
     "data": {
      "text/html": [
       "<style>#sk-container-id-1 {color: black;background-color: white;}#sk-container-id-1 pre{padding: 0;}#sk-container-id-1 div.sk-toggleable {background-color: white;}#sk-container-id-1 label.sk-toggleable__label {cursor: pointer;display: block;width: 100%;margin-bottom: 0;padding: 0.3em;box-sizing: border-box;text-align: center;}#sk-container-id-1 label.sk-toggleable__label-arrow:before {content: \"▸\";float: left;margin-right: 0.25em;color: #696969;}#sk-container-id-1 label.sk-toggleable__label-arrow:hover:before {color: black;}#sk-container-id-1 div.sk-estimator:hover label.sk-toggleable__label-arrow:before {color: black;}#sk-container-id-1 div.sk-toggleable__content {max-height: 0;max-width: 0;overflow: hidden;text-align: left;background-color: #f0f8ff;}#sk-container-id-1 div.sk-toggleable__content pre {margin: 0.2em;color: black;border-radius: 0.25em;background-color: #f0f8ff;}#sk-container-id-1 input.sk-toggleable__control:checked~div.sk-toggleable__content {max-height: 200px;max-width: 100%;overflow: auto;}#sk-container-id-1 input.sk-toggleable__control:checked~label.sk-toggleable__label-arrow:before {content: \"▾\";}#sk-container-id-1 div.sk-estimator input.sk-toggleable__control:checked~label.sk-toggleable__label {background-color: #d4ebff;}#sk-container-id-1 div.sk-label input.sk-toggleable__control:checked~label.sk-toggleable__label {background-color: #d4ebff;}#sk-container-id-1 input.sk-hidden--visually {border: 0;clip: rect(1px 1px 1px 1px);clip: rect(1px, 1px, 1px, 1px);height: 1px;margin: -1px;overflow: hidden;padding: 0;position: absolute;width: 1px;}#sk-container-id-1 div.sk-estimator {font-family: monospace;background-color: #f0f8ff;border: 1px dotted black;border-radius: 0.25em;box-sizing: border-box;margin-bottom: 0.5em;}#sk-container-id-1 div.sk-estimator:hover {background-color: #d4ebff;}#sk-container-id-1 div.sk-parallel-item::after {content: \"\";width: 100%;border-bottom: 1px solid gray;flex-grow: 1;}#sk-container-id-1 div.sk-label:hover label.sk-toggleable__label {background-color: #d4ebff;}#sk-container-id-1 div.sk-serial::before {content: \"\";position: absolute;border-left: 1px solid gray;box-sizing: border-box;top: 0;bottom: 0;left: 50%;z-index: 0;}#sk-container-id-1 div.sk-serial {display: flex;flex-direction: column;align-items: center;background-color: white;padding-right: 0.2em;padding-left: 0.2em;position: relative;}#sk-container-id-1 div.sk-item {position: relative;z-index: 1;}#sk-container-id-1 div.sk-parallel {display: flex;align-items: stretch;justify-content: center;background-color: white;position: relative;}#sk-container-id-1 div.sk-item::before, #sk-container-id-1 div.sk-parallel-item::before {content: \"\";position: absolute;border-left: 1px solid gray;box-sizing: border-box;top: 0;bottom: 0;left: 50%;z-index: -1;}#sk-container-id-1 div.sk-parallel-item {display: flex;flex-direction: column;z-index: 1;position: relative;background-color: white;}#sk-container-id-1 div.sk-parallel-item:first-child::after {align-self: flex-end;width: 50%;}#sk-container-id-1 div.sk-parallel-item:last-child::after {align-self: flex-start;width: 50%;}#sk-container-id-1 div.sk-parallel-item:only-child::after {width: 0;}#sk-container-id-1 div.sk-dashed-wrapped {border: 1px dashed gray;margin: 0 0.4em 0.5em 0.4em;box-sizing: border-box;padding-bottom: 0.4em;background-color: white;}#sk-container-id-1 div.sk-label label {font-family: monospace;font-weight: bold;display: inline-block;line-height: 1.2em;}#sk-container-id-1 div.sk-label-container {text-align: center;}#sk-container-id-1 div.sk-container {/* jupyter's `normalize.less` sets `[hidden] { display: none; }` but bootstrap.min.css set `[hidden] { display: none !important; }` so we also need the `!important` here to be able to override the default hidden behavior on the sphinx rendered scikit-learn.org. See: https://github.com/scikit-learn/scikit-learn/issues/21755 */display: inline-block !important;position: relative;}#sk-container-id-1 div.sk-text-repr-fallback {display: none;}</style><div id=\"sk-container-id-1\" class=\"sk-top-container\"><div class=\"sk-text-repr-fallback\"><pre>SVC(C=0.1, gamma=0.5)</pre><b>In a Jupyter environment, please rerun this cell to show the HTML representation or trust the notebook. <br />On GitHub, the HTML representation is unable to render, please try loading this page with nbviewer.org.</b></div><div class=\"sk-container\" hidden><div class=\"sk-item\"><div class=\"sk-estimator sk-toggleable\"><input class=\"sk-toggleable__control sk-hidden--visually\" id=\"sk-estimator-id-1\" type=\"checkbox\" checked><label for=\"sk-estimator-id-1\" class=\"sk-toggleable__label sk-toggleable__label-arrow\">SVC</label><div class=\"sk-toggleable__content\"><pre>SVC(C=0.1, gamma=0.5)</pre></div></div></div></div></div>"
      ],
      "text/plain": [
       "SVC(C=0.1, gamma=0.5)"
      ]
     },
     "execution_count": 26,
     "metadata": {},
     "output_type": "execute_result"
    }
   ],
   "source": [
    "model_svm = SVC(kernel='rbf', gamma=0.5, C=0.1)\n",
    "model_svm.fit(df_feature_train[['pca_1', 'pca_2']], df_feature_train[['anotasi']])"
   ]
  },
  {
   "cell_type": "code",
   "execution_count": 27,
   "id": "eee67d67",
   "metadata": {
    "execution": {
     "iopub.execute_input": "2024-10-05T14:49:00.740167Z",
     "iopub.status.busy": "2024-10-05T14:49:00.739733Z",
     "iopub.status.idle": "2024-10-05T14:49:09.955677Z",
     "shell.execute_reply": "2024-10-05T14:49:09.954391Z"
    },
    "papermill": {
     "duration": 9.242133,
     "end_time": "2024-10-05T14:49:09.958085",
     "exception": false,
     "start_time": "2024-10-05T14:49:00.715952",
     "status": "completed"
    },
    "tags": []
   },
   "outputs": [
    {
     "name": "stdout",
     "output_type": "stream",
     "text": [
      "Akurasi SVM : 0.654079254079254\n"
     ]
    }
   ],
   "source": [
    "model_svm_predict = model_svm.predict(df_feature_test[['pca_1', 'pca_2']])\n",
    "model_svm_accuracy = accuracy_score(model_svm_predict, df_feature_test[['anotasi']])\n",
    "print(f'Akurasi SVM : {model_svm_accuracy}')"
   ]
  },
  {
   "cell_type": "code",
   "execution_count": 28,
   "id": "7fb8117e",
   "metadata": {
    "execution": {
     "iopub.execute_input": "2024-10-05T14:49:10.005258Z",
     "iopub.status.busy": "2024-10-05T14:49:10.004323Z",
     "iopub.status.idle": "2024-10-05T18:01:44.659423Z",
     "shell.execute_reply": "2024-10-05T18:01:44.657625Z"
    },
    "papermill": {
     "duration": 11554.746091,
     "end_time": "2024-10-05T18:01:44.726643",
     "exception": false,
     "start_time": "2024-10-05T14:49:09.980552",
     "status": "completed"
    },
    "tags": []
   },
   "outputs": [
    {
     "name": "stdout",
     "output_type": "stream",
     "text": [
      "Fitting 5 folds for each of 126 candidates, totalling 630 fits\n"
     ]
    },
    {
     "name": "stderr",
     "output_type": "stream",
     "text": [
      "/opt/conda/lib/python3.10/site-packages/sklearn/utils/validation.py:1143: DataConversionWarning: A column-vector y was passed when a 1d array was expected. Please change the shape of y to (n_samples, ), for example using ravel().\n",
      "  y = column_or_1d(y, warn=True)\n",
      "/opt/conda/lib/python3.10/site-packages/sklearn/utils/validation.py:1143: DataConversionWarning: A column-vector y was passed when a 1d array was expected. Please change the shape of y to (n_samples, ), for example using ravel().\n",
      "  y = column_or_1d(y, warn=True)\n",
      "/opt/conda/lib/python3.10/site-packages/sklearn/utils/validation.py:1143: DataConversionWarning: A column-vector y was passed when a 1d array was expected. Please change the shape of y to (n_samples, ), for example using ravel().\n",
      "  y = column_or_1d(y, warn=True)\n",
      "/opt/conda/lib/python3.10/site-packages/sklearn/utils/validation.py:1143: DataConversionWarning: A column-vector y was passed when a 1d array was expected. Please change the shape of y to (n_samples, ), for example using ravel().\n",
      "  y = column_or_1d(y, warn=True)\n",
      "/opt/conda/lib/python3.10/site-packages/sklearn/utils/validation.py:1143: DataConversionWarning: A column-vector y was passed when a 1d array was expected. Please change the shape of y to (n_samples, ), for example using ravel().\n",
      "  y = column_or_1d(y, warn=True)\n",
      "/opt/conda/lib/python3.10/site-packages/sklearn/utils/validation.py:1143: DataConversionWarning: A column-vector y was passed when a 1d array was expected. Please change the shape of y to (n_samples, ), for example using ravel().\n",
      "  y = column_or_1d(y, warn=True)\n",
      "/opt/conda/lib/python3.10/site-packages/sklearn/utils/validation.py:1143: DataConversionWarning: A column-vector y was passed when a 1d array was expected. Please change the shape of y to (n_samples, ), for example using ravel().\n",
      "  y = column_or_1d(y, warn=True)\n",
      "/opt/conda/lib/python3.10/site-packages/sklearn/utils/validation.py:1143: DataConversionWarning: A column-vector y was passed when a 1d array was expected. Please change the shape of y to (n_samples, ), for example using ravel().\n",
      "  y = column_or_1d(y, warn=True)\n",
      "/opt/conda/lib/python3.10/site-packages/sklearn/utils/validation.py:1143: DataConversionWarning: A column-vector y was passed when a 1d array was expected. Please change the shape of y to (n_samples, ), for example using ravel().\n",
      "  y = column_or_1d(y, warn=True)\n",
      "/opt/conda/lib/python3.10/site-packages/sklearn/utils/validation.py:1143: DataConversionWarning: A column-vector y was passed when a 1d array was expected. Please change the shape of y to (n_samples, ), for example using ravel().\n",
      "  y = column_or_1d(y, warn=True)\n",
      "/opt/conda/lib/python3.10/site-packages/sklearn/utils/validation.py:1143: DataConversionWarning: A column-vector y was passed when a 1d array was expected. Please change the shape of y to (n_samples, ), for example using ravel().\n",
      "  y = column_or_1d(y, warn=True)\n",
      "/opt/conda/lib/python3.10/site-packages/sklearn/utils/validation.py:1143: DataConversionWarning: A column-vector y was passed when a 1d array was expected. Please change the shape of y to (n_samples, ), for example using ravel().\n",
      "  y = column_or_1d(y, warn=True)\n",
      "/opt/conda/lib/python3.10/site-packages/sklearn/utils/validation.py:1143: DataConversionWarning: A column-vector y was passed when a 1d array was expected. Please change the shape of y to (n_samples, ), for example using ravel().\n",
      "  y = column_or_1d(y, warn=True)\n",
      "/opt/conda/lib/python3.10/site-packages/sklearn/utils/validation.py:1143: DataConversionWarning: A column-vector y was passed when a 1d array was expected. Please change the shape of y to (n_samples, ), for example using ravel().\n",
      "  y = column_or_1d(y, warn=True)\n",
      "/opt/conda/lib/python3.10/site-packages/sklearn/utils/validation.py:1143: DataConversionWarning: A column-vector y was passed when a 1d array was expected. Please change the shape of y to (n_samples, ), for example using ravel().\n",
      "  y = column_or_1d(y, warn=True)\n",
      "/opt/conda/lib/python3.10/site-packages/sklearn/utils/validation.py:1143: DataConversionWarning: A column-vector y was passed when a 1d array was expected. Please change the shape of y to (n_samples, ), for example using ravel().\n",
      "  y = column_or_1d(y, warn=True)\n",
      "/opt/conda/lib/python3.10/site-packages/sklearn/utils/validation.py:1143: DataConversionWarning: A column-vector y was passed when a 1d array was expected. Please change the shape of y to (n_samples, ), for example using ravel().\n",
      "  y = column_or_1d(y, warn=True)\n",
      "/opt/conda/lib/python3.10/site-packages/sklearn/utils/validation.py:1143: DataConversionWarning: A column-vector y was passed when a 1d array was expected. Please change the shape of y to (n_samples, ), for example using ravel().\n",
      "  y = column_or_1d(y, warn=True)\n",
      "/opt/conda/lib/python3.10/site-packages/sklearn/utils/validation.py:1143: DataConversionWarning: A column-vector y was passed when a 1d array was expected. Please change the shape of y to (n_samples, ), for example using ravel().\n",
      "  y = column_or_1d(y, warn=True)\n",
      "/opt/conda/lib/python3.10/site-packages/sklearn/utils/validation.py:1143: DataConversionWarning: A column-vector y was passed when a 1d array was expected. Please change the shape of y to (n_samples, ), for example using ravel().\n",
      "  y = column_or_1d(y, warn=True)\n",
      "/opt/conda/lib/python3.10/site-packages/sklearn/utils/validation.py:1143: DataConversionWarning: A column-vector y was passed when a 1d array was expected. Please change the shape of y to (n_samples, ), for example using ravel().\n",
      "  y = column_or_1d(y, warn=True)\n",
      "/opt/conda/lib/python3.10/site-packages/sklearn/utils/validation.py:1143: DataConversionWarning: A column-vector y was passed when a 1d array was expected. Please change the shape of y to (n_samples, ), for example using ravel().\n",
      "  y = column_or_1d(y, warn=True)\n",
      "/opt/conda/lib/python3.10/site-packages/sklearn/utils/validation.py:1143: DataConversionWarning: A column-vector y was passed when a 1d array was expected. Please change the shape of y to (n_samples, ), for example using ravel().\n",
      "  y = column_or_1d(y, warn=True)\n",
      "/opt/conda/lib/python3.10/site-packages/sklearn/utils/validation.py:1143: DataConversionWarning: A column-vector y was passed when a 1d array was expected. Please change the shape of y to (n_samples, ), for example using ravel().\n",
      "  y = column_or_1d(y, warn=True)\n",
      "/opt/conda/lib/python3.10/site-packages/sklearn/utils/validation.py:1143: DataConversionWarning: A column-vector y was passed when a 1d array was expected. Please change the shape of y to (n_samples, ), for example using ravel().\n",
      "  y = column_or_1d(y, warn=True)\n",
      "/opt/conda/lib/python3.10/site-packages/sklearn/utils/validation.py:1143: DataConversionWarning: A column-vector y was passed when a 1d array was expected. Please change the shape of y to (n_samples, ), for example using ravel().\n",
      "  y = column_or_1d(y, warn=True)\n",
      "/opt/conda/lib/python3.10/site-packages/sklearn/utils/validation.py:1143: DataConversionWarning: A column-vector y was passed when a 1d array was expected. Please change the shape of y to (n_samples, ), for example using ravel().\n",
      "  y = column_or_1d(y, warn=True)\n",
      "/opt/conda/lib/python3.10/site-packages/sklearn/utils/validation.py:1143: DataConversionWarning: A column-vector y was passed when a 1d array was expected. Please change the shape of y to (n_samples, ), for example using ravel().\n",
      "  y = column_or_1d(y, warn=True)\n",
      "/opt/conda/lib/python3.10/site-packages/sklearn/utils/validation.py:1143: DataConversionWarning: A column-vector y was passed when a 1d array was expected. Please change the shape of y to (n_samples, ), for example using ravel().\n",
      "  y = column_or_1d(y, warn=True)\n",
      "/opt/conda/lib/python3.10/site-packages/sklearn/utils/validation.py:1143: DataConversionWarning: A column-vector y was passed when a 1d array was expected. Please change the shape of y to (n_samples, ), for example using ravel().\n",
      "  y = column_or_1d(y, warn=True)\n",
      "/opt/conda/lib/python3.10/site-packages/sklearn/utils/validation.py:1143: DataConversionWarning: A column-vector y was passed when a 1d array was expected. Please change the shape of y to (n_samples, ), for example using ravel().\n",
      "  y = column_or_1d(y, warn=True)\n",
      "/opt/conda/lib/python3.10/site-packages/sklearn/utils/validation.py:1143: DataConversionWarning: A column-vector y was passed when a 1d array was expected. Please change the shape of y to (n_samples, ), for example using ravel().\n",
      "  y = column_or_1d(y, warn=True)\n",
      "/opt/conda/lib/python3.10/site-packages/sklearn/utils/validation.py:1143: DataConversionWarning: A column-vector y was passed when a 1d array was expected. Please change the shape of y to (n_samples, ), for example using ravel().\n",
      "  y = column_or_1d(y, warn=True)\n",
      "/opt/conda/lib/python3.10/site-packages/sklearn/utils/validation.py:1143: DataConversionWarning: A column-vector y was passed when a 1d array was expected. Please change the shape of y to (n_samples, ), for example using ravel().\n",
      "  y = column_or_1d(y, warn=True)\n",
      "/opt/conda/lib/python3.10/site-packages/sklearn/utils/validation.py:1143: DataConversionWarning: A column-vector y was passed when a 1d array was expected. Please change the shape of y to (n_samples, ), for example using ravel().\n",
      "  y = column_or_1d(y, warn=True)\n",
      "/opt/conda/lib/python3.10/site-packages/sklearn/utils/validation.py:1143: DataConversionWarning: A column-vector y was passed when a 1d array was expected. Please change the shape of y to (n_samples, ), for example using ravel().\n",
      "  y = column_or_1d(y, warn=True)\n",
      "/opt/conda/lib/python3.10/site-packages/sklearn/utils/validation.py:1143: DataConversionWarning: A column-vector y was passed when a 1d array was expected. Please change the shape of y to (n_samples, ), for example using ravel().\n",
      "  y = column_or_1d(y, warn=True)\n",
      "/opt/conda/lib/python3.10/site-packages/sklearn/utils/validation.py:1143: DataConversionWarning: A column-vector y was passed when a 1d array was expected. Please change the shape of y to (n_samples, ), for example using ravel().\n",
      "  y = column_or_1d(y, warn=True)\n",
      "/opt/conda/lib/python3.10/site-packages/sklearn/utils/validation.py:1143: DataConversionWarning: A column-vector y was passed when a 1d array was expected. Please change the shape of y to (n_samples, ), for example using ravel().\n",
      "  y = column_or_1d(y, warn=True)\n",
      "/opt/conda/lib/python3.10/site-packages/sklearn/utils/validation.py:1143: DataConversionWarning: A column-vector y was passed when a 1d array was expected. Please change the shape of y to (n_samples, ), for example using ravel().\n",
      "  y = column_or_1d(y, warn=True)\n",
      "/opt/conda/lib/python3.10/site-packages/sklearn/utils/validation.py:1143: DataConversionWarning: A column-vector y was passed when a 1d array was expected. Please change the shape of y to (n_samples, ), for example using ravel().\n",
      "  y = column_or_1d(y, warn=True)\n",
      "/opt/conda/lib/python3.10/site-packages/sklearn/utils/validation.py:1143: DataConversionWarning: A column-vector y was passed when a 1d array was expected. Please change the shape of y to (n_samples, ), for example using ravel().\n",
      "  y = column_or_1d(y, warn=True)\n",
      "/opt/conda/lib/python3.10/site-packages/sklearn/utils/validation.py:1143: DataConversionWarning: A column-vector y was passed when a 1d array was expected. Please change the shape of y to (n_samples, ), for example using ravel().\n",
      "  y = column_or_1d(y, warn=True)\n",
      "/opt/conda/lib/python3.10/site-packages/sklearn/utils/validation.py:1143: DataConversionWarning: A column-vector y was passed when a 1d array was expected. Please change the shape of y to (n_samples, ), for example using ravel().\n",
      "  y = column_or_1d(y, warn=True)\n",
      "/opt/conda/lib/python3.10/site-packages/sklearn/utils/validation.py:1143: DataConversionWarning: A column-vector y was passed when a 1d array was expected. Please change the shape of y to (n_samples, ), for example using ravel().\n",
      "  y = column_or_1d(y, warn=True)\n",
      "/opt/conda/lib/python3.10/site-packages/sklearn/utils/validation.py:1143: DataConversionWarning: A column-vector y was passed when a 1d array was expected. Please change the shape of y to (n_samples, ), for example using ravel().\n",
      "  y = column_or_1d(y, warn=True)\n",
      "/opt/conda/lib/python3.10/site-packages/sklearn/utils/validation.py:1143: DataConversionWarning: A column-vector y was passed when a 1d array was expected. Please change the shape of y to (n_samples, ), for example using ravel().\n",
      "  y = column_or_1d(y, warn=True)\n",
      "/opt/conda/lib/python3.10/site-packages/sklearn/utils/validation.py:1143: DataConversionWarning: A column-vector y was passed when a 1d array was expected. Please change the shape of y to (n_samples, ), for example using ravel().\n",
      "  y = column_or_1d(y, warn=True)\n",
      "/opt/conda/lib/python3.10/site-packages/sklearn/utils/validation.py:1143: DataConversionWarning: A column-vector y was passed when a 1d array was expected. Please change the shape of y to (n_samples, ), for example using ravel().\n",
      "  y = column_or_1d(y, warn=True)\n",
      "/opt/conda/lib/python3.10/site-packages/sklearn/utils/validation.py:1143: DataConversionWarning: A column-vector y was passed when a 1d array was expected. Please change the shape of y to (n_samples, ), for example using ravel().\n",
      "  y = column_or_1d(y, warn=True)\n",
      "/opt/conda/lib/python3.10/site-packages/sklearn/utils/validation.py:1143: DataConversionWarning: A column-vector y was passed when a 1d array was expected. Please change the shape of y to (n_samples, ), for example using ravel().\n",
      "  y = column_or_1d(y, warn=True)\n",
      "/opt/conda/lib/python3.10/site-packages/sklearn/utils/validation.py:1143: DataConversionWarning: A column-vector y was passed when a 1d array was expected. Please change the shape of y to (n_samples, ), for example using ravel().\n",
      "  y = column_or_1d(y, warn=True)\n",
      "/opt/conda/lib/python3.10/site-packages/sklearn/utils/validation.py:1143: DataConversionWarning: A column-vector y was passed when a 1d array was expected. Please change the shape of y to (n_samples, ), for example using ravel().\n",
      "  y = column_or_1d(y, warn=True)\n",
      "/opt/conda/lib/python3.10/site-packages/sklearn/utils/validation.py:1143: DataConversionWarning: A column-vector y was passed when a 1d array was expected. Please change the shape of y to (n_samples, ), for example using ravel().\n",
      "  y = column_or_1d(y, warn=True)\n",
      "/opt/conda/lib/python3.10/site-packages/sklearn/utils/validation.py:1143: DataConversionWarning: A column-vector y was passed when a 1d array was expected. Please change the shape of y to (n_samples, ), for example using ravel().\n",
      "  y = column_or_1d(y, warn=True)\n",
      "/opt/conda/lib/python3.10/site-packages/sklearn/utils/validation.py:1143: DataConversionWarning: A column-vector y was passed when a 1d array was expected. Please change the shape of y to (n_samples, ), for example using ravel().\n",
      "  y = column_or_1d(y, warn=True)\n",
      "/opt/conda/lib/python3.10/site-packages/sklearn/utils/validation.py:1143: DataConversionWarning: A column-vector y was passed when a 1d array was expected. Please change the shape of y to (n_samples, ), for example using ravel().\n",
      "  y = column_or_1d(y, warn=True)\n",
      "/opt/conda/lib/python3.10/site-packages/sklearn/utils/validation.py:1143: DataConversionWarning: A column-vector y was passed when a 1d array was expected. Please change the shape of y to (n_samples, ), for example using ravel().\n",
      "  y = column_or_1d(y, warn=True)\n",
      "/opt/conda/lib/python3.10/site-packages/sklearn/utils/validation.py:1143: DataConversionWarning: A column-vector y was passed when a 1d array was expected. Please change the shape of y to (n_samples, ), for example using ravel().\n",
      "  y = column_or_1d(y, warn=True)\n",
      "/opt/conda/lib/python3.10/site-packages/sklearn/utils/validation.py:1143: DataConversionWarning: A column-vector y was passed when a 1d array was expected. Please change the shape of y to (n_samples, ), for example using ravel().\n",
      "  y = column_or_1d(y, warn=True)\n",
      "/opt/conda/lib/python3.10/site-packages/sklearn/utils/validation.py:1143: DataConversionWarning: A column-vector y was passed when a 1d array was expected. Please change the shape of y to (n_samples, ), for example using ravel().\n",
      "  y = column_or_1d(y, warn=True)\n",
      "/opt/conda/lib/python3.10/site-packages/sklearn/utils/validation.py:1143: DataConversionWarning: A column-vector y was passed when a 1d array was expected. Please change the shape of y to (n_samples, ), for example using ravel().\n",
      "  y = column_or_1d(y, warn=True)\n",
      "/opt/conda/lib/python3.10/site-packages/sklearn/utils/validation.py:1143: DataConversionWarning: A column-vector y was passed when a 1d array was expected. Please change the shape of y to (n_samples, ), for example using ravel().\n",
      "  y = column_or_1d(y, warn=True)\n",
      "/opt/conda/lib/python3.10/site-packages/sklearn/utils/validation.py:1143: DataConversionWarning: A column-vector y was passed when a 1d array was expected. Please change the shape of y to (n_samples, ), for example using ravel().\n",
      "  y = column_or_1d(y, warn=True)\n",
      "/opt/conda/lib/python3.10/site-packages/sklearn/utils/validation.py:1143: DataConversionWarning: A column-vector y was passed when a 1d array was expected. Please change the shape of y to (n_samples, ), for example using ravel().\n",
      "  y = column_or_1d(y, warn=True)\n",
      "/opt/conda/lib/python3.10/site-packages/sklearn/utils/validation.py:1143: DataConversionWarning: A column-vector y was passed when a 1d array was expected. Please change the shape of y to (n_samples, ), for example using ravel().\n",
      "  y = column_or_1d(y, warn=True)\n",
      "/opt/conda/lib/python3.10/site-packages/sklearn/utils/validation.py:1143: DataConversionWarning: A column-vector y was passed when a 1d array was expected. Please change the shape of y to (n_samples, ), for example using ravel().\n",
      "  y = column_or_1d(y, warn=True)\n",
      "/opt/conda/lib/python3.10/site-packages/sklearn/utils/validation.py:1143: DataConversionWarning: A column-vector y was passed when a 1d array was expected. Please change the shape of y to (n_samples, ), for example using ravel().\n",
      "  y = column_or_1d(y, warn=True)\n",
      "/opt/conda/lib/python3.10/site-packages/sklearn/utils/validation.py:1143: DataConversionWarning: A column-vector y was passed when a 1d array was expected. Please change the shape of y to (n_samples, ), for example using ravel().\n",
      "  y = column_or_1d(y, warn=True)\n",
      "/opt/conda/lib/python3.10/site-packages/sklearn/utils/validation.py:1143: DataConversionWarning: A column-vector y was passed when a 1d array was expected. Please change the shape of y to (n_samples, ), for example using ravel().\n",
      "  y = column_or_1d(y, warn=True)\n",
      "/opt/conda/lib/python3.10/site-packages/sklearn/utils/validation.py:1143: DataConversionWarning: A column-vector y was passed when a 1d array was expected. Please change the shape of y to (n_samples, ), for example using ravel().\n",
      "  y = column_or_1d(y, warn=True)\n",
      "/opt/conda/lib/python3.10/site-packages/sklearn/utils/validation.py:1143: DataConversionWarning: A column-vector y was passed when a 1d array was expected. Please change the shape of y to (n_samples, ), for example using ravel().\n",
      "  y = column_or_1d(y, warn=True)\n",
      "/opt/conda/lib/python3.10/site-packages/sklearn/utils/validation.py:1143: DataConversionWarning: A column-vector y was passed when a 1d array was expected. Please change the shape of y to (n_samples, ), for example using ravel().\n",
      "  y = column_or_1d(y, warn=True)\n",
      "/opt/conda/lib/python3.10/site-packages/sklearn/utils/validation.py:1143: DataConversionWarning: A column-vector y was passed when a 1d array was expected. Please change the shape of y to (n_samples, ), for example using ravel().\n",
      "  y = column_or_1d(y, warn=True)\n",
      "/opt/conda/lib/python3.10/site-packages/sklearn/utils/validation.py:1143: DataConversionWarning: A column-vector y was passed when a 1d array was expected. Please change the shape of y to (n_samples, ), for example using ravel().\n",
      "  y = column_or_1d(y, warn=True)\n",
      "/opt/conda/lib/python3.10/site-packages/sklearn/utils/validation.py:1143: DataConversionWarning: A column-vector y was passed when a 1d array was expected. Please change the shape of y to (n_samples, ), for example using ravel().\n",
      "  y = column_or_1d(y, warn=True)\n",
      "/opt/conda/lib/python3.10/site-packages/sklearn/utils/validation.py:1143: DataConversionWarning: A column-vector y was passed when a 1d array was expected. Please change the shape of y to (n_samples, ), for example using ravel().\n",
      "  y = column_or_1d(y, warn=True)\n",
      "/opt/conda/lib/python3.10/site-packages/sklearn/utils/validation.py:1143: DataConversionWarning: A column-vector y was passed when a 1d array was expected. Please change the shape of y to (n_samples, ), for example using ravel().\n",
      "  y = column_or_1d(y, warn=True)\n",
      "/opt/conda/lib/python3.10/site-packages/sklearn/utils/validation.py:1143: DataConversionWarning: A column-vector y was passed when a 1d array was expected. Please change the shape of y to (n_samples, ), for example using ravel().\n",
      "  y = column_or_1d(y, warn=True)\n",
      "/opt/conda/lib/python3.10/site-packages/sklearn/utils/validation.py:1143: DataConversionWarning: A column-vector y was passed when a 1d array was expected. Please change the shape of y to (n_samples, ), for example using ravel().\n",
      "  y = column_or_1d(y, warn=True)\n",
      "/opt/conda/lib/python3.10/site-packages/sklearn/utils/validation.py:1143: DataConversionWarning: A column-vector y was passed when a 1d array was expected. Please change the shape of y to (n_samples, ), for example using ravel().\n",
      "  y = column_or_1d(y, warn=True)\n",
      "/opt/conda/lib/python3.10/site-packages/sklearn/utils/validation.py:1143: DataConversionWarning: A column-vector y was passed when a 1d array was expected. Please change the shape of y to (n_samples, ), for example using ravel().\n",
      "  y = column_or_1d(y, warn=True)\n",
      "/opt/conda/lib/python3.10/site-packages/sklearn/utils/validation.py:1143: DataConversionWarning: A column-vector y was passed when a 1d array was expected. Please change the shape of y to (n_samples, ), for example using ravel().\n",
      "  y = column_or_1d(y, warn=True)\n",
      "/opt/conda/lib/python3.10/site-packages/sklearn/utils/validation.py:1143: DataConversionWarning: A column-vector y was passed when a 1d array was expected. Please change the shape of y to (n_samples, ), for example using ravel().\n",
      "  y = column_or_1d(y, warn=True)\n",
      "/opt/conda/lib/python3.10/site-packages/sklearn/utils/validation.py:1143: DataConversionWarning: A column-vector y was passed when a 1d array was expected. Please change the shape of y to (n_samples, ), for example using ravel().\n",
      "  y = column_or_1d(y, warn=True)\n",
      "/opt/conda/lib/python3.10/site-packages/sklearn/utils/validation.py:1143: DataConversionWarning: A column-vector y was passed when a 1d array was expected. Please change the shape of y to (n_samples, ), for example using ravel().\n",
      "  y = column_or_1d(y, warn=True)\n",
      "/opt/conda/lib/python3.10/site-packages/sklearn/utils/validation.py:1143: DataConversionWarning: A column-vector y was passed when a 1d array was expected. Please change the shape of y to (n_samples, ), for example using ravel().\n",
      "  y = column_or_1d(y, warn=True)\n",
      "/opt/conda/lib/python3.10/site-packages/sklearn/utils/validation.py:1143: DataConversionWarning: A column-vector y was passed when a 1d array was expected. Please change the shape of y to (n_samples, ), for example using ravel().\n",
      "  y = column_or_1d(y, warn=True)\n",
      "/opt/conda/lib/python3.10/site-packages/sklearn/utils/validation.py:1143: DataConversionWarning: A column-vector y was passed when a 1d array was expected. Please change the shape of y to (n_samples, ), for example using ravel().\n",
      "  y = column_or_1d(y, warn=True)\n",
      "/opt/conda/lib/python3.10/site-packages/sklearn/utils/validation.py:1143: DataConversionWarning: A column-vector y was passed when a 1d array was expected. Please change the shape of y to (n_samples, ), for example using ravel().\n",
      "  y = column_or_1d(y, warn=True)\n",
      "/opt/conda/lib/python3.10/site-packages/sklearn/utils/validation.py:1143: DataConversionWarning: A column-vector y was passed when a 1d array was expected. Please change the shape of y to (n_samples, ), for example using ravel().\n",
      "  y = column_or_1d(y, warn=True)\n",
      "/opt/conda/lib/python3.10/site-packages/sklearn/utils/validation.py:1143: DataConversionWarning: A column-vector y was passed when a 1d array was expected. Please change the shape of y to (n_samples, ), for example using ravel().\n",
      "  y = column_or_1d(y, warn=True)\n",
      "/opt/conda/lib/python3.10/site-packages/sklearn/utils/validation.py:1143: DataConversionWarning: A column-vector y was passed when a 1d array was expected. Please change the shape of y to (n_samples, ), for example using ravel().\n",
      "  y = column_or_1d(y, warn=True)\n",
      "/opt/conda/lib/python3.10/site-packages/sklearn/utils/validation.py:1143: DataConversionWarning: A column-vector y was passed when a 1d array was expected. Please change the shape of y to (n_samples, ), for example using ravel().\n",
      "  y = column_or_1d(y, warn=True)\n",
      "/opt/conda/lib/python3.10/site-packages/sklearn/utils/validation.py:1143: DataConversionWarning: A column-vector y was passed when a 1d array was expected. Please change the shape of y to (n_samples, ), for example using ravel().\n",
      "  y = column_or_1d(y, warn=True)\n",
      "/opt/conda/lib/python3.10/site-packages/sklearn/utils/validation.py:1143: DataConversionWarning: A column-vector y was passed when a 1d array was expected. Please change the shape of y to (n_samples, ), for example using ravel().\n",
      "  y = column_or_1d(y, warn=True)\n",
      "/opt/conda/lib/python3.10/site-packages/sklearn/utils/validation.py:1143: DataConversionWarning: A column-vector y was passed when a 1d array was expected. Please change the shape of y to (n_samples, ), for example using ravel().\n",
      "  y = column_or_1d(y, warn=True)\n",
      "/opt/conda/lib/python3.10/site-packages/sklearn/utils/validation.py:1143: DataConversionWarning: A column-vector y was passed when a 1d array was expected. Please change the shape of y to (n_samples, ), for example using ravel().\n",
      "  y = column_or_1d(y, warn=True)\n",
      "/opt/conda/lib/python3.10/site-packages/sklearn/utils/validation.py:1143: DataConversionWarning: A column-vector y was passed when a 1d array was expected. Please change the shape of y to (n_samples, ), for example using ravel().\n",
      "  y = column_or_1d(y, warn=True)\n",
      "/opt/conda/lib/python3.10/site-packages/sklearn/utils/validation.py:1143: DataConversionWarning: A column-vector y was passed when a 1d array was expected. Please change the shape of y to (n_samples, ), for example using ravel().\n",
      "  y = column_or_1d(y, warn=True)\n",
      "/opt/conda/lib/python3.10/site-packages/sklearn/utils/validation.py:1143: DataConversionWarning: A column-vector y was passed when a 1d array was expected. Please change the shape of y to (n_samples, ), for example using ravel().\n",
      "  y = column_or_1d(y, warn=True)\n",
      "/opt/conda/lib/python3.10/site-packages/sklearn/utils/validation.py:1143: DataConversionWarning: A column-vector y was passed when a 1d array was expected. Please change the shape of y to (n_samples, ), for example using ravel().\n",
      "  y = column_or_1d(y, warn=True)\n",
      "/opt/conda/lib/python3.10/site-packages/sklearn/utils/validation.py:1143: DataConversionWarning: A column-vector y was passed when a 1d array was expected. Please change the shape of y to (n_samples, ), for example using ravel().\n",
      "  y = column_or_1d(y, warn=True)\n",
      "/opt/conda/lib/python3.10/site-packages/sklearn/utils/validation.py:1143: DataConversionWarning: A column-vector y was passed when a 1d array was expected. Please change the shape of y to (n_samples, ), for example using ravel().\n",
      "  y = column_or_1d(y, warn=True)\n",
      "/opt/conda/lib/python3.10/site-packages/sklearn/utils/validation.py:1143: DataConversionWarning: A column-vector y was passed when a 1d array was expected. Please change the shape of y to (n_samples, ), for example using ravel().\n",
      "  y = column_or_1d(y, warn=True)\n",
      "/opt/conda/lib/python3.10/site-packages/sklearn/utils/validation.py:1143: DataConversionWarning: A column-vector y was passed when a 1d array was expected. Please change the shape of y to (n_samples, ), for example using ravel().\n",
      "  y = column_or_1d(y, warn=True)\n",
      "/opt/conda/lib/python3.10/site-packages/sklearn/utils/validation.py:1143: DataConversionWarning: A column-vector y was passed when a 1d array was expected. Please change the shape of y to (n_samples, ), for example using ravel().\n",
      "  y = column_or_1d(y, warn=True)\n",
      "/opt/conda/lib/python3.10/site-packages/sklearn/utils/validation.py:1143: DataConversionWarning: A column-vector y was passed when a 1d array was expected. Please change the shape of y to (n_samples, ), for example using ravel().\n",
      "  y = column_or_1d(y, warn=True)\n",
      "/opt/conda/lib/python3.10/site-packages/sklearn/utils/validation.py:1143: DataConversionWarning: A column-vector y was passed when a 1d array was expected. Please change the shape of y to (n_samples, ), for example using ravel().\n",
      "  y = column_or_1d(y, warn=True)\n",
      "/opt/conda/lib/python3.10/site-packages/sklearn/utils/validation.py:1143: DataConversionWarning: A column-vector y was passed when a 1d array was expected. Please change the shape of y to (n_samples, ), for example using ravel().\n",
      "  y = column_or_1d(y, warn=True)\n",
      "/opt/conda/lib/python3.10/site-packages/sklearn/utils/validation.py:1143: DataConversionWarning: A column-vector y was passed when a 1d array was expected. Please change the shape of y to (n_samples, ), for example using ravel().\n",
      "  y = column_or_1d(y, warn=True)\n",
      "/opt/conda/lib/python3.10/site-packages/sklearn/utils/validation.py:1143: DataConversionWarning: A column-vector y was passed when a 1d array was expected. Please change the shape of y to (n_samples, ), for example using ravel().\n",
      "  y = column_or_1d(y, warn=True)\n",
      "/opt/conda/lib/python3.10/site-packages/sklearn/utils/validation.py:1143: DataConversionWarning: A column-vector y was passed when a 1d array was expected. Please change the shape of y to (n_samples, ), for example using ravel().\n",
      "  y = column_or_1d(y, warn=True)\n",
      "/opt/conda/lib/python3.10/site-packages/sklearn/utils/validation.py:1143: DataConversionWarning: A column-vector y was passed when a 1d array was expected. Please change the shape of y to (n_samples, ), for example using ravel().\n",
      "  y = column_or_1d(y, warn=True)\n",
      "/opt/conda/lib/python3.10/site-packages/sklearn/utils/validation.py:1143: DataConversionWarning: A column-vector y was passed when a 1d array was expected. Please change the shape of y to (n_samples, ), for example using ravel().\n",
      "  y = column_or_1d(y, warn=True)\n",
      "/opt/conda/lib/python3.10/site-packages/sklearn/utils/validation.py:1143: DataConversionWarning: A column-vector y was passed when a 1d array was expected. Please change the shape of y to (n_samples, ), for example using ravel().\n",
      "  y = column_or_1d(y, warn=True)\n",
      "/opt/conda/lib/python3.10/site-packages/sklearn/utils/validation.py:1143: DataConversionWarning: A column-vector y was passed when a 1d array was expected. Please change the shape of y to (n_samples, ), for example using ravel().\n",
      "  y = column_or_1d(y, warn=True)\n",
      "/opt/conda/lib/python3.10/site-packages/sklearn/utils/validation.py:1143: DataConversionWarning: A column-vector y was passed when a 1d array was expected. Please change the shape of y to (n_samples, ), for example using ravel().\n",
      "  y = column_or_1d(y, warn=True)\n",
      "/opt/conda/lib/python3.10/site-packages/sklearn/utils/validation.py:1143: DataConversionWarning: A column-vector y was passed when a 1d array was expected. Please change the shape of y to (n_samples, ), for example using ravel().\n",
      "  y = column_or_1d(y, warn=True)\n",
      "/opt/conda/lib/python3.10/site-packages/sklearn/utils/validation.py:1143: DataConversionWarning: A column-vector y was passed when a 1d array was expected. Please change the shape of y to (n_samples, ), for example using ravel().\n",
      "  y = column_or_1d(y, warn=True)\n",
      "/opt/conda/lib/python3.10/site-packages/sklearn/utils/validation.py:1143: DataConversionWarning: A column-vector y was passed when a 1d array was expected. Please change the shape of y to (n_samples, ), for example using ravel().\n",
      "  y = column_or_1d(y, warn=True)\n",
      "/opt/conda/lib/python3.10/site-packages/sklearn/utils/validation.py:1143: DataConversionWarning: A column-vector y was passed when a 1d array was expected. Please change the shape of y to (n_samples, ), for example using ravel().\n",
      "  y = column_or_1d(y, warn=True)\n",
      "/opt/conda/lib/python3.10/site-packages/sklearn/utils/validation.py:1143: DataConversionWarning: A column-vector y was passed when a 1d array was expected. Please change the shape of y to (n_samples, ), for example using ravel().\n",
      "  y = column_or_1d(y, warn=True)\n",
      "/opt/conda/lib/python3.10/site-packages/sklearn/utils/validation.py:1143: DataConversionWarning: A column-vector y was passed when a 1d array was expected. Please change the shape of y to (n_samples, ), for example using ravel().\n",
      "  y = column_or_1d(y, warn=True)\n",
      "/opt/conda/lib/python3.10/site-packages/sklearn/utils/validation.py:1143: DataConversionWarning: A column-vector y was passed when a 1d array was expected. Please change the shape of y to (n_samples, ), for example using ravel().\n",
      "  y = column_or_1d(y, warn=True)\n",
      "/opt/conda/lib/python3.10/site-packages/sklearn/utils/validation.py:1143: DataConversionWarning: A column-vector y was passed when a 1d array was expected. Please change the shape of y to (n_samples, ), for example using ravel().\n",
      "  y = column_or_1d(y, warn=True)\n",
      "/opt/conda/lib/python3.10/site-packages/sklearn/utils/validation.py:1143: DataConversionWarning: A column-vector y was passed when a 1d array was expected. Please change the shape of y to (n_samples, ), for example using ravel().\n",
      "  y = column_or_1d(y, warn=True)\n",
      "/opt/conda/lib/python3.10/site-packages/sklearn/utils/validation.py:1143: DataConversionWarning: A column-vector y was passed when a 1d array was expected. Please change the shape of y to (n_samples, ), for example using ravel().\n",
      "  y = column_or_1d(y, warn=True)\n",
      "/opt/conda/lib/python3.10/site-packages/sklearn/utils/validation.py:1143: DataConversionWarning: A column-vector y was passed when a 1d array was expected. Please change the shape of y to (n_samples, ), for example using ravel().\n",
      "  y = column_or_1d(y, warn=True)\n",
      "/opt/conda/lib/python3.10/site-packages/sklearn/utils/validation.py:1143: DataConversionWarning: A column-vector y was passed when a 1d array was expected. Please change the shape of y to (n_samples, ), for example using ravel().\n",
      "  y = column_or_1d(y, warn=True)\n",
      "/opt/conda/lib/python3.10/site-packages/sklearn/utils/validation.py:1143: DataConversionWarning: A column-vector y was passed when a 1d array was expected. Please change the shape of y to (n_samples, ), for example using ravel().\n",
      "  y = column_or_1d(y, warn=True)\n",
      "/opt/conda/lib/python3.10/site-packages/sklearn/utils/validation.py:1143: DataConversionWarning: A column-vector y was passed when a 1d array was expected. Please change the shape of y to (n_samples, ), for example using ravel().\n",
      "  y = column_or_1d(y, warn=True)\n",
      "/opt/conda/lib/python3.10/site-packages/sklearn/utils/validation.py:1143: DataConversionWarning: A column-vector y was passed when a 1d array was expected. Please change the shape of y to (n_samples, ), for example using ravel().\n",
      "  y = column_or_1d(y, warn=True)\n",
      "/opt/conda/lib/python3.10/site-packages/sklearn/utils/validation.py:1143: DataConversionWarning: A column-vector y was passed when a 1d array was expected. Please change the shape of y to (n_samples, ), for example using ravel().\n",
      "  y = column_or_1d(y, warn=True)\n",
      "/opt/conda/lib/python3.10/site-packages/sklearn/utils/validation.py:1143: DataConversionWarning: A column-vector y was passed when a 1d array was expected. Please change the shape of y to (n_samples, ), for example using ravel().\n",
      "  y = column_or_1d(y, warn=True)\n",
      "/opt/conda/lib/python3.10/site-packages/sklearn/utils/validation.py:1143: DataConversionWarning: A column-vector y was passed when a 1d array was expected. Please change the shape of y to (n_samples, ), for example using ravel().\n",
      "  y = column_or_1d(y, warn=True)\n",
      "/opt/conda/lib/python3.10/site-packages/sklearn/utils/validation.py:1143: DataConversionWarning: A column-vector y was passed when a 1d array was expected. Please change the shape of y to (n_samples, ), for example using ravel().\n",
      "  y = column_or_1d(y, warn=True)\n",
      "/opt/conda/lib/python3.10/site-packages/sklearn/utils/validation.py:1143: DataConversionWarning: A column-vector y was passed when a 1d array was expected. Please change the shape of y to (n_samples, ), for example using ravel().\n",
      "  y = column_or_1d(y, warn=True)\n",
      "/opt/conda/lib/python3.10/site-packages/sklearn/utils/validation.py:1143: DataConversionWarning: A column-vector y was passed when a 1d array was expected. Please change the shape of y to (n_samples, ), for example using ravel().\n",
      "  y = column_or_1d(y, warn=True)\n",
      "/opt/conda/lib/python3.10/site-packages/sklearn/utils/validation.py:1143: DataConversionWarning: A column-vector y was passed when a 1d array was expected. Please change the shape of y to (n_samples, ), for example using ravel().\n",
      "  y = column_or_1d(y, warn=True)\n",
      "/opt/conda/lib/python3.10/site-packages/sklearn/utils/validation.py:1143: DataConversionWarning: A column-vector y was passed when a 1d array was expected. Please change the shape of y to (n_samples, ), for example using ravel().\n",
      "  y = column_or_1d(y, warn=True)\n",
      "/opt/conda/lib/python3.10/site-packages/sklearn/utils/validation.py:1143: DataConversionWarning: A column-vector y was passed when a 1d array was expected. Please change the shape of y to (n_samples, ), for example using ravel().\n",
      "  y = column_or_1d(y, warn=True)\n",
      "/opt/conda/lib/python3.10/site-packages/sklearn/utils/validation.py:1143: DataConversionWarning: A column-vector y was passed when a 1d array was expected. Please change the shape of y to (n_samples, ), for example using ravel().\n",
      "  y = column_or_1d(y, warn=True)\n",
      "/opt/conda/lib/python3.10/site-packages/sklearn/utils/validation.py:1143: DataConversionWarning: A column-vector y was passed when a 1d array was expected. Please change the shape of y to (n_samples, ), for example using ravel().\n",
      "  y = column_or_1d(y, warn=True)\n",
      "/opt/conda/lib/python3.10/site-packages/sklearn/utils/validation.py:1143: DataConversionWarning: A column-vector y was passed when a 1d array was expected. Please change the shape of y to (n_samples, ), for example using ravel().\n",
      "  y = column_or_1d(y, warn=True)\n",
      "/opt/conda/lib/python3.10/site-packages/sklearn/utils/validation.py:1143: DataConversionWarning: A column-vector y was passed when a 1d array was expected. Please change the shape of y to (n_samples, ), for example using ravel().\n",
      "  y = column_or_1d(y, warn=True)\n",
      "/opt/conda/lib/python3.10/site-packages/sklearn/utils/validation.py:1143: DataConversionWarning: A column-vector y was passed when a 1d array was expected. Please change the shape of y to (n_samples, ), for example using ravel().\n",
      "  y = column_or_1d(y, warn=True)\n",
      "/opt/conda/lib/python3.10/site-packages/sklearn/utils/validation.py:1143: DataConversionWarning: A column-vector y was passed when a 1d array was expected. Please change the shape of y to (n_samples, ), for example using ravel().\n",
      "  y = column_or_1d(y, warn=True)\n",
      "/opt/conda/lib/python3.10/site-packages/sklearn/utils/validation.py:1143: DataConversionWarning: A column-vector y was passed when a 1d array was expected. Please change the shape of y to (n_samples, ), for example using ravel().\n",
      "  y = column_or_1d(y, warn=True)\n",
      "/opt/conda/lib/python3.10/site-packages/sklearn/utils/validation.py:1143: DataConversionWarning: A column-vector y was passed when a 1d array was expected. Please change the shape of y to (n_samples, ), for example using ravel().\n",
      "  y = column_or_1d(y, warn=True)\n",
      "/opt/conda/lib/python3.10/site-packages/sklearn/utils/validation.py:1143: DataConversionWarning: A column-vector y was passed when a 1d array was expected. Please change the shape of y to (n_samples, ), for example using ravel().\n",
      "  y = column_or_1d(y, warn=True)\n",
      "/opt/conda/lib/python3.10/site-packages/sklearn/utils/validation.py:1143: DataConversionWarning: A column-vector y was passed when a 1d array was expected. Please change the shape of y to (n_samples, ), for example using ravel().\n",
      "  y = column_or_1d(y, warn=True)\n",
      "/opt/conda/lib/python3.10/site-packages/sklearn/utils/validation.py:1143: DataConversionWarning: A column-vector y was passed when a 1d array was expected. Please change the shape of y to (n_samples, ), for example using ravel().\n",
      "  y = column_or_1d(y, warn=True)\n",
      "/opt/conda/lib/python3.10/site-packages/sklearn/utils/validation.py:1143: DataConversionWarning: A column-vector y was passed when a 1d array was expected. Please change the shape of y to (n_samples, ), for example using ravel().\n",
      "  y = column_or_1d(y, warn=True)\n",
      "/opt/conda/lib/python3.10/site-packages/sklearn/utils/validation.py:1143: DataConversionWarning: A column-vector y was passed when a 1d array was expected. Please change the shape of y to (n_samples, ), for example using ravel().\n",
      "  y = column_or_1d(y, warn=True)\n",
      "/opt/conda/lib/python3.10/site-packages/sklearn/utils/validation.py:1143: DataConversionWarning: A column-vector y was passed when a 1d array was expected. Please change the shape of y to (n_samples, ), for example using ravel().\n",
      "  y = column_or_1d(y, warn=True)\n",
      "/opt/conda/lib/python3.10/site-packages/sklearn/utils/validation.py:1143: DataConversionWarning: A column-vector y was passed when a 1d array was expected. Please change the shape of y to (n_samples, ), for example using ravel().\n",
      "  y = column_or_1d(y, warn=True)\n",
      "/opt/conda/lib/python3.10/site-packages/sklearn/utils/validation.py:1143: DataConversionWarning: A column-vector y was passed when a 1d array was expected. Please change the shape of y to (n_samples, ), for example using ravel().\n",
      "  y = column_or_1d(y, warn=True)\n",
      "/opt/conda/lib/python3.10/site-packages/sklearn/utils/validation.py:1143: DataConversionWarning: A column-vector y was passed when a 1d array was expected. Please change the shape of y to (n_samples, ), for example using ravel().\n",
      "  y = column_or_1d(y, warn=True)\n",
      "/opt/conda/lib/python3.10/site-packages/sklearn/utils/validation.py:1143: DataConversionWarning: A column-vector y was passed when a 1d array was expected. Please change the shape of y to (n_samples, ), for example using ravel().\n",
      "  y = column_or_1d(y, warn=True)\n",
      "/opt/conda/lib/python3.10/site-packages/sklearn/utils/validation.py:1143: DataConversionWarning: A column-vector y was passed when a 1d array was expected. Please change the shape of y to (n_samples, ), for example using ravel().\n",
      "  y = column_or_1d(y, warn=True)\n",
      "/opt/conda/lib/python3.10/site-packages/sklearn/utils/validation.py:1143: DataConversionWarning: A column-vector y was passed when a 1d array was expected. Please change the shape of y to (n_samples, ), for example using ravel().\n",
      "  y = column_or_1d(y, warn=True)\n",
      "/opt/conda/lib/python3.10/site-packages/sklearn/utils/validation.py:1143: DataConversionWarning: A column-vector y was passed when a 1d array was expected. Please change the shape of y to (n_samples, ), for example using ravel().\n",
      "  y = column_or_1d(y, warn=True)\n",
      "/opt/conda/lib/python3.10/site-packages/sklearn/utils/validation.py:1143: DataConversionWarning: A column-vector y was passed when a 1d array was expected. Please change the shape of y to (n_samples, ), for example using ravel().\n",
      "  y = column_or_1d(y, warn=True)\n",
      "/opt/conda/lib/python3.10/site-packages/sklearn/utils/validation.py:1143: DataConversionWarning: A column-vector y was passed when a 1d array was expected. Please change the shape of y to (n_samples, ), for example using ravel().\n",
      "  y = column_or_1d(y, warn=True)\n",
      "/opt/conda/lib/python3.10/site-packages/sklearn/utils/validation.py:1143: DataConversionWarning: A column-vector y was passed when a 1d array was expected. Please change the shape of y to (n_samples, ), for example using ravel().\n",
      "  y = column_or_1d(y, warn=True)\n",
      "/opt/conda/lib/python3.10/site-packages/sklearn/utils/validation.py:1143: DataConversionWarning: A column-vector y was passed when a 1d array was expected. Please change the shape of y to (n_samples, ), for example using ravel().\n",
      "  y = column_or_1d(y, warn=True)\n",
      "/opt/conda/lib/python3.10/site-packages/sklearn/utils/validation.py:1143: DataConversionWarning: A column-vector y was passed when a 1d array was expected. Please change the shape of y to (n_samples, ), for example using ravel().\n",
      "  y = column_or_1d(y, warn=True)\n",
      "/opt/conda/lib/python3.10/site-packages/sklearn/utils/validation.py:1143: DataConversionWarning: A column-vector y was passed when a 1d array was expected. Please change the shape of y to (n_samples, ), for example using ravel().\n",
      "  y = column_or_1d(y, warn=True)\n",
      "/opt/conda/lib/python3.10/site-packages/sklearn/utils/validation.py:1143: DataConversionWarning: A column-vector y was passed when a 1d array was expected. Please change the shape of y to (n_samples, ), for example using ravel().\n",
      "  y = column_or_1d(y, warn=True)\n",
      "/opt/conda/lib/python3.10/site-packages/sklearn/utils/validation.py:1143: DataConversionWarning: A column-vector y was passed when a 1d array was expected. Please change the shape of y to (n_samples, ), for example using ravel().\n",
      "  y = column_or_1d(y, warn=True)\n",
      "/opt/conda/lib/python3.10/site-packages/sklearn/utils/validation.py:1143: DataConversionWarning: A column-vector y was passed when a 1d array was expected. Please change the shape of y to (n_samples, ), for example using ravel().\n",
      "  y = column_or_1d(y, warn=True)\n",
      "/opt/conda/lib/python3.10/site-packages/sklearn/utils/validation.py:1143: DataConversionWarning: A column-vector y was passed when a 1d array was expected. Please change the shape of y to (n_samples, ), for example using ravel().\n",
      "  y = column_or_1d(y, warn=True)\n",
      "/opt/conda/lib/python3.10/site-packages/sklearn/utils/validation.py:1143: DataConversionWarning: A column-vector y was passed when a 1d array was expected. Please change the shape of y to (n_samples, ), for example using ravel().\n",
      "  y = column_or_1d(y, warn=True)\n",
      "/opt/conda/lib/python3.10/site-packages/sklearn/utils/validation.py:1143: DataConversionWarning: A column-vector y was passed when a 1d array was expected. Please change the shape of y to (n_samples, ), for example using ravel().\n",
      "  y = column_or_1d(y, warn=True)\n",
      "/opt/conda/lib/python3.10/site-packages/sklearn/utils/validation.py:1143: DataConversionWarning: A column-vector y was passed when a 1d array was expected. Please change the shape of y to (n_samples, ), for example using ravel().\n",
      "  y = column_or_1d(y, warn=True)\n",
      "/opt/conda/lib/python3.10/site-packages/sklearn/utils/validation.py:1143: DataConversionWarning: A column-vector y was passed when a 1d array was expected. Please change the shape of y to (n_samples, ), for example using ravel().\n",
      "  y = column_or_1d(y, warn=True)\n",
      "/opt/conda/lib/python3.10/site-packages/sklearn/utils/validation.py:1143: DataConversionWarning: A column-vector y was passed when a 1d array was expected. Please change the shape of y to (n_samples, ), for example using ravel().\n",
      "  y = column_or_1d(y, warn=True)\n",
      "/opt/conda/lib/python3.10/site-packages/sklearn/utils/validation.py:1143: DataConversionWarning: A column-vector y was passed when a 1d array was expected. Please change the shape of y to (n_samples, ), for example using ravel().\n",
      "  y = column_or_1d(y, warn=True)\n",
      "/opt/conda/lib/python3.10/site-packages/sklearn/utils/validation.py:1143: DataConversionWarning: A column-vector y was passed when a 1d array was expected. Please change the shape of y to (n_samples, ), for example using ravel().\n",
      "  y = column_or_1d(y, warn=True)\n",
      "/opt/conda/lib/python3.10/site-packages/sklearn/utils/validation.py:1143: DataConversionWarning: A column-vector y was passed when a 1d array was expected. Please change the shape of y to (n_samples, ), for example using ravel().\n",
      "  y = column_or_1d(y, warn=True)\n",
      "/opt/conda/lib/python3.10/site-packages/sklearn/utils/validation.py:1143: DataConversionWarning: A column-vector y was passed when a 1d array was expected. Please change the shape of y to (n_samples, ), for example using ravel().\n",
      "  y = column_or_1d(y, warn=True)\n",
      "/opt/conda/lib/python3.10/site-packages/sklearn/utils/validation.py:1143: DataConversionWarning: A column-vector y was passed when a 1d array was expected. Please change the shape of y to (n_samples, ), for example using ravel().\n",
      "  y = column_or_1d(y, warn=True)\n",
      "/opt/conda/lib/python3.10/site-packages/sklearn/utils/validation.py:1143: DataConversionWarning: A column-vector y was passed when a 1d array was expected. Please change the shape of y to (n_samples, ), for example using ravel().\n",
      "  y = column_or_1d(y, warn=True)\n",
      "/opt/conda/lib/python3.10/site-packages/sklearn/utils/validation.py:1143: DataConversionWarning: A column-vector y was passed when a 1d array was expected. Please change the shape of y to (n_samples, ), for example using ravel().\n",
      "  y = column_or_1d(y, warn=True)\n",
      "/opt/conda/lib/python3.10/site-packages/sklearn/utils/validation.py:1143: DataConversionWarning: A column-vector y was passed when a 1d array was expected. Please change the shape of y to (n_samples, ), for example using ravel().\n",
      "  y = column_or_1d(y, warn=True)\n",
      "/opt/conda/lib/python3.10/site-packages/sklearn/utils/validation.py:1143: DataConversionWarning: A column-vector y was passed when a 1d array was expected. Please change the shape of y to (n_samples, ), for example using ravel().\n",
      "  y = column_or_1d(y, warn=True)\n",
      "/opt/conda/lib/python3.10/site-packages/sklearn/utils/validation.py:1143: DataConversionWarning: A column-vector y was passed when a 1d array was expected. Please change the shape of y to (n_samples, ), for example using ravel().\n",
      "  y = column_or_1d(y, warn=True)\n",
      "/opt/conda/lib/python3.10/site-packages/sklearn/utils/validation.py:1143: DataConversionWarning: A column-vector y was passed when a 1d array was expected. Please change the shape of y to (n_samples, ), for example using ravel().\n",
      "  y = column_or_1d(y, warn=True)\n",
      "/opt/conda/lib/python3.10/site-packages/sklearn/utils/validation.py:1143: DataConversionWarning: A column-vector y was passed when a 1d array was expected. Please change the shape of y to (n_samples, ), for example using ravel().\n",
      "  y = column_or_1d(y, warn=True)\n",
      "/opt/conda/lib/python3.10/site-packages/sklearn/utils/validation.py:1143: DataConversionWarning: A column-vector y was passed when a 1d array was expected. Please change the shape of y to (n_samples, ), for example using ravel().\n",
      "  y = column_or_1d(y, warn=True)\n",
      "/opt/conda/lib/python3.10/site-packages/sklearn/utils/validation.py:1143: DataConversionWarning: A column-vector y was passed when a 1d array was expected. Please change the shape of y to (n_samples, ), for example using ravel().\n",
      "  y = column_or_1d(y, warn=True)\n",
      "/opt/conda/lib/python3.10/site-packages/sklearn/utils/validation.py:1143: DataConversionWarning: A column-vector y was passed when a 1d array was expected. Please change the shape of y to (n_samples, ), for example using ravel().\n",
      "  y = column_or_1d(y, warn=True)\n",
      "/opt/conda/lib/python3.10/site-packages/sklearn/utils/validation.py:1143: DataConversionWarning: A column-vector y was passed when a 1d array was expected. Please change the shape of y to (n_samples, ), for example using ravel().\n",
      "  y = column_or_1d(y, warn=True)\n",
      "/opt/conda/lib/python3.10/site-packages/sklearn/utils/validation.py:1143: DataConversionWarning: A column-vector y was passed when a 1d array was expected. Please change the shape of y to (n_samples, ), for example using ravel().\n",
      "  y = column_or_1d(y, warn=True)\n",
      "/opt/conda/lib/python3.10/site-packages/sklearn/utils/validation.py:1143: DataConversionWarning: A column-vector y was passed when a 1d array was expected. Please change the shape of y to (n_samples, ), for example using ravel().\n",
      "  y = column_or_1d(y, warn=True)\n",
      "/opt/conda/lib/python3.10/site-packages/sklearn/utils/validation.py:1143: DataConversionWarning: A column-vector y was passed when a 1d array was expected. Please change the shape of y to (n_samples, ), for example using ravel().\n",
      "  y = column_or_1d(y, warn=True)\n",
      "/opt/conda/lib/python3.10/site-packages/sklearn/utils/validation.py:1143: DataConversionWarning: A column-vector y was passed when a 1d array was expected. Please change the shape of y to (n_samples, ), for example using ravel().\n",
      "  y = column_or_1d(y, warn=True)\n",
      "/opt/conda/lib/python3.10/site-packages/sklearn/utils/validation.py:1143: DataConversionWarning: A column-vector y was passed when a 1d array was expected. Please change the shape of y to (n_samples, ), for example using ravel().\n",
      "  y = column_or_1d(y, warn=True)\n",
      "/opt/conda/lib/python3.10/site-packages/sklearn/utils/validation.py:1143: DataConversionWarning: A column-vector y was passed when a 1d array was expected. Please change the shape of y to (n_samples, ), for example using ravel().\n",
      "  y = column_or_1d(y, warn=True)\n",
      "/opt/conda/lib/python3.10/site-packages/sklearn/utils/validation.py:1143: DataConversionWarning: A column-vector y was passed when a 1d array was expected. Please change the shape of y to (n_samples, ), for example using ravel().\n",
      "  y = column_or_1d(y, warn=True)\n",
      "/opt/conda/lib/python3.10/site-packages/sklearn/utils/validation.py:1143: DataConversionWarning: A column-vector y was passed when a 1d array was expected. Please change the shape of y to (n_samples, ), for example using ravel().\n",
      "  y = column_or_1d(y, warn=True)\n",
      "/opt/conda/lib/python3.10/site-packages/sklearn/utils/validation.py:1143: DataConversionWarning: A column-vector y was passed when a 1d array was expected. Please change the shape of y to (n_samples, ), for example using ravel().\n",
      "  y = column_or_1d(y, warn=True)\n",
      "/opt/conda/lib/python3.10/site-packages/sklearn/utils/validation.py:1143: DataConversionWarning: A column-vector y was passed when a 1d array was expected. Please change the shape of y to (n_samples, ), for example using ravel().\n",
      "  y = column_or_1d(y, warn=True)\n",
      "/opt/conda/lib/python3.10/site-packages/sklearn/utils/validation.py:1143: DataConversionWarning: A column-vector y was passed when a 1d array was expected. Please change the shape of y to (n_samples, ), for example using ravel().\n",
      "  y = column_or_1d(y, warn=True)\n",
      "/opt/conda/lib/python3.10/site-packages/sklearn/utils/validation.py:1143: DataConversionWarning: A column-vector y was passed when a 1d array was expected. Please change the shape of y to (n_samples, ), for example using ravel().\n",
      "  y = column_or_1d(y, warn=True)\n",
      "/opt/conda/lib/python3.10/site-packages/sklearn/utils/validation.py:1143: DataConversionWarning: A column-vector y was passed when a 1d array was expected. Please change the shape of y to (n_samples, ), for example using ravel().\n",
      "  y = column_or_1d(y, warn=True)\n",
      "/opt/conda/lib/python3.10/site-packages/sklearn/utils/validation.py:1143: DataConversionWarning: A column-vector y was passed when a 1d array was expected. Please change the shape of y to (n_samples, ), for example using ravel().\n",
      "  y = column_or_1d(y, warn=True)\n",
      "/opt/conda/lib/python3.10/site-packages/sklearn/utils/validation.py:1143: DataConversionWarning: A column-vector y was passed when a 1d array was expected. Please change the shape of y to (n_samples, ), for example using ravel().\n",
      "  y = column_or_1d(y, warn=True)\n",
      "/opt/conda/lib/python3.10/site-packages/sklearn/utils/validation.py:1143: DataConversionWarning: A column-vector y was passed when a 1d array was expected. Please change the shape of y to (n_samples, ), for example using ravel().\n",
      "  y = column_or_1d(y, warn=True)\n",
      "/opt/conda/lib/python3.10/site-packages/sklearn/utils/validation.py:1143: DataConversionWarning: A column-vector y was passed when a 1d array was expected. Please change the shape of y to (n_samples, ), for example using ravel().\n",
      "  y = column_or_1d(y, warn=True)\n",
      "/opt/conda/lib/python3.10/site-packages/sklearn/utils/validation.py:1143: DataConversionWarning: A column-vector y was passed when a 1d array was expected. Please change the shape of y to (n_samples, ), for example using ravel().\n",
      "  y = column_or_1d(y, warn=True)\n",
      "/opt/conda/lib/python3.10/site-packages/sklearn/utils/validation.py:1143: DataConversionWarning: A column-vector y was passed when a 1d array was expected. Please change the shape of y to (n_samples, ), for example using ravel().\n",
      "  y = column_or_1d(y, warn=True)\n",
      "/opt/conda/lib/python3.10/site-packages/sklearn/utils/validation.py:1143: DataConversionWarning: A column-vector y was passed when a 1d array was expected. Please change the shape of y to (n_samples, ), for example using ravel().\n",
      "  y = column_or_1d(y, warn=True)\n",
      "/opt/conda/lib/python3.10/site-packages/sklearn/utils/validation.py:1143: DataConversionWarning: A column-vector y was passed when a 1d array was expected. Please change the shape of y to (n_samples, ), for example using ravel().\n",
      "  y = column_or_1d(y, warn=True)\n",
      "/opt/conda/lib/python3.10/site-packages/sklearn/utils/validation.py:1143: DataConversionWarning: A column-vector y was passed when a 1d array was expected. Please change the shape of y to (n_samples, ), for example using ravel().\n",
      "  y = column_or_1d(y, warn=True)\n",
      "/opt/conda/lib/python3.10/site-packages/sklearn/utils/validation.py:1143: DataConversionWarning: A column-vector y was passed when a 1d array was expected. Please change the shape of y to (n_samples, ), for example using ravel().\n",
      "  y = column_or_1d(y, warn=True)\n",
      "/opt/conda/lib/python3.10/site-packages/sklearn/utils/validation.py:1143: DataConversionWarning: A column-vector y was passed when a 1d array was expected. Please change the shape of y to (n_samples, ), for example using ravel().\n",
      "  y = column_or_1d(y, warn=True)\n",
      "/opt/conda/lib/python3.10/site-packages/sklearn/utils/validation.py:1143: DataConversionWarning: A column-vector y was passed when a 1d array was expected. Please change the shape of y to (n_samples, ), for example using ravel().\n",
      "  y = column_or_1d(y, warn=True)\n",
      "/opt/conda/lib/python3.10/site-packages/sklearn/utils/validation.py:1143: DataConversionWarning: A column-vector y was passed when a 1d array was expected. Please change the shape of y to (n_samples, ), for example using ravel().\n",
      "  y = column_or_1d(y, warn=True)\n",
      "/opt/conda/lib/python3.10/site-packages/sklearn/utils/validation.py:1143: DataConversionWarning: A column-vector y was passed when a 1d array was expected. Please change the shape of y to (n_samples, ), for example using ravel().\n",
      "  y = column_or_1d(y, warn=True)\n",
      "/opt/conda/lib/python3.10/site-packages/sklearn/utils/validation.py:1143: DataConversionWarning: A column-vector y was passed when a 1d array was expected. Please change the shape of y to (n_samples, ), for example using ravel().\n",
      "  y = column_or_1d(y, warn=True)\n",
      "/opt/conda/lib/python3.10/site-packages/sklearn/utils/validation.py:1143: DataConversionWarning: A column-vector y was passed when a 1d array was expected. Please change the shape of y to (n_samples, ), for example using ravel().\n",
      "  y = column_or_1d(y, warn=True)\n",
      "/opt/conda/lib/python3.10/site-packages/sklearn/utils/validation.py:1143: DataConversionWarning: A column-vector y was passed when a 1d array was expected. Please change the shape of y to (n_samples, ), for example using ravel().\n",
      "  y = column_or_1d(y, warn=True)\n",
      "/opt/conda/lib/python3.10/site-packages/sklearn/utils/validation.py:1143: DataConversionWarning: A column-vector y was passed when a 1d array was expected. Please change the shape of y to (n_samples, ), for example using ravel().\n",
      "  y = column_or_1d(y, warn=True)\n",
      "/opt/conda/lib/python3.10/site-packages/sklearn/utils/validation.py:1143: DataConversionWarning: A column-vector y was passed when a 1d array was expected. Please change the shape of y to (n_samples, ), for example using ravel().\n",
      "  y = column_or_1d(y, warn=True)\n",
      "/opt/conda/lib/python3.10/site-packages/sklearn/utils/validation.py:1143: DataConversionWarning: A column-vector y was passed when a 1d array was expected. Please change the shape of y to (n_samples, ), for example using ravel().\n",
      "  y = column_or_1d(y, warn=True)\n",
      "/opt/conda/lib/python3.10/site-packages/sklearn/utils/validation.py:1143: DataConversionWarning: A column-vector y was passed when a 1d array was expected. Please change the shape of y to (n_samples, ), for example using ravel().\n",
      "  y = column_or_1d(y, warn=True)\n",
      "/opt/conda/lib/python3.10/site-packages/sklearn/utils/validation.py:1143: DataConversionWarning: A column-vector y was passed when a 1d array was expected. Please change the shape of y to (n_samples, ), for example using ravel().\n",
      "  y = column_or_1d(y, warn=True)\n",
      "/opt/conda/lib/python3.10/site-packages/sklearn/utils/validation.py:1143: DataConversionWarning: A column-vector y was passed when a 1d array was expected. Please change the shape of y to (n_samples, ), for example using ravel().\n",
      "  y = column_or_1d(y, warn=True)\n",
      "/opt/conda/lib/python3.10/site-packages/sklearn/utils/validation.py:1143: DataConversionWarning: A column-vector y was passed when a 1d array was expected. Please change the shape of y to (n_samples, ), for example using ravel().\n",
      "  y = column_or_1d(y, warn=True)\n",
      "/opt/conda/lib/python3.10/site-packages/sklearn/utils/validation.py:1143: DataConversionWarning: A column-vector y was passed when a 1d array was expected. Please change the shape of y to (n_samples, ), for example using ravel().\n",
      "  y = column_or_1d(y, warn=True)\n",
      "/opt/conda/lib/python3.10/site-packages/sklearn/utils/validation.py:1143: DataConversionWarning: A column-vector y was passed when a 1d array was expected. Please change the shape of y to (n_samples, ), for example using ravel().\n",
      "  y = column_or_1d(y, warn=True)\n",
      "/opt/conda/lib/python3.10/site-packages/sklearn/utils/validation.py:1143: DataConversionWarning: A column-vector y was passed when a 1d array was expected. Please change the shape of y to (n_samples, ), for example using ravel().\n",
      "  y = column_or_1d(y, warn=True)\n",
      "/opt/conda/lib/python3.10/site-packages/sklearn/utils/validation.py:1143: DataConversionWarning: A column-vector y was passed when a 1d array was expected. Please change the shape of y to (n_samples, ), for example using ravel().\n",
      "  y = column_or_1d(y, warn=True)\n",
      "/opt/conda/lib/python3.10/site-packages/sklearn/utils/validation.py:1143: DataConversionWarning: A column-vector y was passed when a 1d array was expected. Please change the shape of y to (n_samples, ), for example using ravel().\n",
      "  y = column_or_1d(y, warn=True)\n",
      "/opt/conda/lib/python3.10/site-packages/sklearn/utils/validation.py:1143: DataConversionWarning: A column-vector y was passed when a 1d array was expected. Please change the shape of y to (n_samples, ), for example using ravel().\n",
      "  y = column_or_1d(y, warn=True)\n",
      "/opt/conda/lib/python3.10/site-packages/sklearn/utils/validation.py:1143: DataConversionWarning: A column-vector y was passed when a 1d array was expected. Please change the shape of y to (n_samples, ), for example using ravel().\n",
      "  y = column_or_1d(y, warn=True)\n",
      "/opt/conda/lib/python3.10/site-packages/sklearn/utils/validation.py:1143: DataConversionWarning: A column-vector y was passed when a 1d array was expected. Please change the shape of y to (n_samples, ), for example using ravel().\n",
      "  y = column_or_1d(y, warn=True)\n",
      "/opt/conda/lib/python3.10/site-packages/sklearn/utils/validation.py:1143: DataConversionWarning: A column-vector y was passed when a 1d array was expected. Please change the shape of y to (n_samples, ), for example using ravel().\n",
      "  y = column_or_1d(y, warn=True)\n",
      "/opt/conda/lib/python3.10/site-packages/sklearn/utils/validation.py:1143: DataConversionWarning: A column-vector y was passed when a 1d array was expected. Please change the shape of y to (n_samples, ), for example using ravel().\n",
      "  y = column_or_1d(y, warn=True)\n",
      "/opt/conda/lib/python3.10/site-packages/sklearn/utils/validation.py:1143: DataConversionWarning: A column-vector y was passed when a 1d array was expected. Please change the shape of y to (n_samples, ), for example using ravel().\n",
      "  y = column_or_1d(y, warn=True)\n",
      "/opt/conda/lib/python3.10/site-packages/sklearn/utils/validation.py:1143: DataConversionWarning: A column-vector y was passed when a 1d array was expected. Please change the shape of y to (n_samples, ), for example using ravel().\n",
      "  y = column_or_1d(y, warn=True)\n",
      "/opt/conda/lib/python3.10/site-packages/sklearn/utils/validation.py:1143: DataConversionWarning: A column-vector y was passed when a 1d array was expected. Please change the shape of y to (n_samples, ), for example using ravel().\n",
      "  y = column_or_1d(y, warn=True)\n",
      "/opt/conda/lib/python3.10/site-packages/sklearn/utils/validation.py:1143: DataConversionWarning: A column-vector y was passed when a 1d array was expected. Please change the shape of y to (n_samples, ), for example using ravel().\n",
      "  y = column_or_1d(y, warn=True)\n",
      "/opt/conda/lib/python3.10/site-packages/sklearn/utils/validation.py:1143: DataConversionWarning: A column-vector y was passed when a 1d array was expected. Please change the shape of y to (n_samples, ), for example using ravel().\n",
      "  y = column_or_1d(y, warn=True)\n",
      "/opt/conda/lib/python3.10/site-packages/sklearn/utils/validation.py:1143: DataConversionWarning: A column-vector y was passed when a 1d array was expected. Please change the shape of y to (n_samples, ), for example using ravel().\n",
      "  y = column_or_1d(y, warn=True)\n",
      "/opt/conda/lib/python3.10/site-packages/sklearn/utils/validation.py:1143: DataConversionWarning: A column-vector y was passed when a 1d array was expected. Please change the shape of y to (n_samples, ), for example using ravel().\n",
      "  y = column_or_1d(y, warn=True)\n",
      "/opt/conda/lib/python3.10/site-packages/sklearn/utils/validation.py:1143: DataConversionWarning: A column-vector y was passed when a 1d array was expected. Please change the shape of y to (n_samples, ), for example using ravel().\n",
      "  y = column_or_1d(y, warn=True)\n",
      "/opt/conda/lib/python3.10/site-packages/sklearn/utils/validation.py:1143: DataConversionWarning: A column-vector y was passed when a 1d array was expected. Please change the shape of y to (n_samples, ), for example using ravel().\n",
      "  y = column_or_1d(y, warn=True)\n",
      "/opt/conda/lib/python3.10/site-packages/sklearn/utils/validation.py:1143: DataConversionWarning: A column-vector y was passed when a 1d array was expected. Please change the shape of y to (n_samples, ), for example using ravel().\n",
      "  y = column_or_1d(y, warn=True)\n",
      "/opt/conda/lib/python3.10/site-packages/sklearn/utils/validation.py:1143: DataConversionWarning: A column-vector y was passed when a 1d array was expected. Please change the shape of y to (n_samples, ), for example using ravel().\n",
      "  y = column_or_1d(y, warn=True)\n",
      "/opt/conda/lib/python3.10/site-packages/sklearn/utils/validation.py:1143: DataConversionWarning: A column-vector y was passed when a 1d array was expected. Please change the shape of y to (n_samples, ), for example using ravel().\n",
      "  y = column_or_1d(y, warn=True)\n",
      "/opt/conda/lib/python3.10/site-packages/sklearn/utils/validation.py:1143: DataConversionWarning: A column-vector y was passed when a 1d array was expected. Please change the shape of y to (n_samples, ), for example using ravel().\n",
      "  y = column_or_1d(y, warn=True)\n",
      "/opt/conda/lib/python3.10/site-packages/sklearn/utils/validation.py:1143: DataConversionWarning: A column-vector y was passed when a 1d array was expected. Please change the shape of y to (n_samples, ), for example using ravel().\n",
      "  y = column_or_1d(y, warn=True)\n",
      "/opt/conda/lib/python3.10/site-packages/sklearn/utils/validation.py:1143: DataConversionWarning: A column-vector y was passed when a 1d array was expected. Please change the shape of y to (n_samples, ), for example using ravel().\n",
      "  y = column_or_1d(y, warn=True)\n",
      "/opt/conda/lib/python3.10/site-packages/sklearn/utils/validation.py:1143: DataConversionWarning: A column-vector y was passed when a 1d array was expected. Please change the shape of y to (n_samples, ), for example using ravel().\n",
      "  y = column_or_1d(y, warn=True)\n",
      "/opt/conda/lib/python3.10/site-packages/sklearn/utils/validation.py:1143: DataConversionWarning: A column-vector y was passed when a 1d array was expected. Please change the shape of y to (n_samples, ), for example using ravel().\n",
      "  y = column_or_1d(y, warn=True)\n",
      "/opt/conda/lib/python3.10/site-packages/sklearn/utils/validation.py:1143: DataConversionWarning: A column-vector y was passed when a 1d array was expected. Please change the shape of y to (n_samples, ), for example using ravel().\n",
      "  y = column_or_1d(y, warn=True)\n",
      "/opt/conda/lib/python3.10/site-packages/sklearn/utils/validation.py:1143: DataConversionWarning: A column-vector y was passed when a 1d array was expected. Please change the shape of y to (n_samples, ), for example using ravel().\n",
      "  y = column_or_1d(y, warn=True)\n",
      "/opt/conda/lib/python3.10/site-packages/sklearn/utils/validation.py:1143: DataConversionWarning: A column-vector y was passed when a 1d array was expected. Please change the shape of y to (n_samples, ), for example using ravel().\n",
      "  y = column_or_1d(y, warn=True)\n",
      "/opt/conda/lib/python3.10/site-packages/sklearn/utils/validation.py:1143: DataConversionWarning: A column-vector y was passed when a 1d array was expected. Please change the shape of y to (n_samples, ), for example using ravel().\n",
      "  y = column_or_1d(y, warn=True)\n",
      "/opt/conda/lib/python3.10/site-packages/sklearn/utils/validation.py:1143: DataConversionWarning: A column-vector y was passed when a 1d array was expected. Please change the shape of y to (n_samples, ), for example using ravel().\n",
      "  y = column_or_1d(y, warn=True)\n",
      "/opt/conda/lib/python3.10/site-packages/sklearn/utils/validation.py:1143: DataConversionWarning: A column-vector y was passed when a 1d array was expected. Please change the shape of y to (n_samples, ), for example using ravel().\n",
      "  y = column_or_1d(y, warn=True)\n",
      "/opt/conda/lib/python3.10/site-packages/sklearn/utils/validation.py:1143: DataConversionWarning: A column-vector y was passed when a 1d array was expected. Please change the shape of y to (n_samples, ), for example using ravel().\n",
      "  y = column_or_1d(y, warn=True)\n",
      "/opt/conda/lib/python3.10/site-packages/sklearn/utils/validation.py:1143: DataConversionWarning: A column-vector y was passed when a 1d array was expected. Please change the shape of y to (n_samples, ), for example using ravel().\n",
      "  y = column_or_1d(y, warn=True)\n",
      "/opt/conda/lib/python3.10/site-packages/sklearn/utils/validation.py:1143: DataConversionWarning: A column-vector y was passed when a 1d array was expected. Please change the shape of y to (n_samples, ), for example using ravel().\n",
      "  y = column_or_1d(y, warn=True)\n",
      "/opt/conda/lib/python3.10/site-packages/sklearn/utils/validation.py:1143: DataConversionWarning: A column-vector y was passed when a 1d array was expected. Please change the shape of y to (n_samples, ), for example using ravel().\n",
      "  y = column_or_1d(y, warn=True)\n",
      "/opt/conda/lib/python3.10/site-packages/sklearn/utils/validation.py:1143: DataConversionWarning: A column-vector y was passed when a 1d array was expected. Please change the shape of y to (n_samples, ), for example using ravel().\n",
      "  y = column_or_1d(y, warn=True)\n",
      "/opt/conda/lib/python3.10/site-packages/sklearn/utils/validation.py:1143: DataConversionWarning: A column-vector y was passed when a 1d array was expected. Please change the shape of y to (n_samples, ), for example using ravel().\n",
      "  y = column_or_1d(y, warn=True)\n",
      "/opt/conda/lib/python3.10/site-packages/sklearn/utils/validation.py:1143: DataConversionWarning: A column-vector y was passed when a 1d array was expected. Please change the shape of y to (n_samples, ), for example using ravel().\n",
      "  y = column_or_1d(y, warn=True)\n",
      "/opt/conda/lib/python3.10/site-packages/sklearn/utils/validation.py:1143: DataConversionWarning: A column-vector y was passed when a 1d array was expected. Please change the shape of y to (n_samples, ), for example using ravel().\n",
      "  y = column_or_1d(y, warn=True)\n",
      "/opt/conda/lib/python3.10/site-packages/sklearn/utils/validation.py:1143: DataConversionWarning: A column-vector y was passed when a 1d array was expected. Please change the shape of y to (n_samples, ), for example using ravel().\n",
      "  y = column_or_1d(y, warn=True)\n",
      "/opt/conda/lib/python3.10/site-packages/sklearn/utils/validation.py:1143: DataConversionWarning: A column-vector y was passed when a 1d array was expected. Please change the shape of y to (n_samples, ), for example using ravel().\n",
      "  y = column_or_1d(y, warn=True)\n",
      "/opt/conda/lib/python3.10/site-packages/sklearn/utils/validation.py:1143: DataConversionWarning: A column-vector y was passed when a 1d array was expected. Please change the shape of y to (n_samples, ), for example using ravel().\n",
      "  y = column_or_1d(y, warn=True)\n",
      "/opt/conda/lib/python3.10/site-packages/sklearn/utils/validation.py:1143: DataConversionWarning: A column-vector y was passed when a 1d array was expected. Please change the shape of y to (n_samples, ), for example using ravel().\n",
      "  y = column_or_1d(y, warn=True)\n",
      "/opt/conda/lib/python3.10/site-packages/sklearn/utils/validation.py:1143: DataConversionWarning: A column-vector y was passed when a 1d array was expected. Please change the shape of y to (n_samples, ), for example using ravel().\n",
      "  y = column_or_1d(y, warn=True)\n",
      "/opt/conda/lib/python3.10/site-packages/sklearn/utils/validation.py:1143: DataConversionWarning: A column-vector y was passed when a 1d array was expected. Please change the shape of y to (n_samples, ), for example using ravel().\n",
      "  y = column_or_1d(y, warn=True)\n",
      "/opt/conda/lib/python3.10/site-packages/sklearn/utils/validation.py:1143: DataConversionWarning: A column-vector y was passed when a 1d array was expected. Please change the shape of y to (n_samples, ), for example using ravel().\n",
      "  y = column_or_1d(y, warn=True)\n",
      "/opt/conda/lib/python3.10/site-packages/sklearn/utils/validation.py:1143: DataConversionWarning: A column-vector y was passed when a 1d array was expected. Please change the shape of y to (n_samples, ), for example using ravel().\n",
      "  y = column_or_1d(y, warn=True)\n",
      "/opt/conda/lib/python3.10/site-packages/sklearn/utils/validation.py:1143: DataConversionWarning: A column-vector y was passed when a 1d array was expected. Please change the shape of y to (n_samples, ), for example using ravel().\n",
      "  y = column_or_1d(y, warn=True)\n",
      "/opt/conda/lib/python3.10/site-packages/sklearn/utils/validation.py:1143: DataConversionWarning: A column-vector y was passed when a 1d array was expected. Please change the shape of y to (n_samples, ), for example using ravel().\n",
      "  y = column_or_1d(y, warn=True)\n",
      "/opt/conda/lib/python3.10/site-packages/sklearn/utils/validation.py:1143: DataConversionWarning: A column-vector y was passed when a 1d array was expected. Please change the shape of y to (n_samples, ), for example using ravel().\n",
      "  y = column_or_1d(y, warn=True)\n",
      "/opt/conda/lib/python3.10/site-packages/sklearn/utils/validation.py:1143: DataConversionWarning: A column-vector y was passed when a 1d array was expected. Please change the shape of y to (n_samples, ), for example using ravel().\n",
      "  y = column_or_1d(y, warn=True)\n",
      "/opt/conda/lib/python3.10/site-packages/sklearn/utils/validation.py:1143: DataConversionWarning: A column-vector y was passed when a 1d array was expected. Please change the shape of y to (n_samples, ), for example using ravel().\n",
      "  y = column_or_1d(y, warn=True)\n",
      "/opt/conda/lib/python3.10/site-packages/sklearn/utils/validation.py:1143: DataConversionWarning: A column-vector y was passed when a 1d array was expected. Please change the shape of y to (n_samples, ), for example using ravel().\n",
      "  y = column_or_1d(y, warn=True)\n",
      "/opt/conda/lib/python3.10/site-packages/sklearn/utils/validation.py:1143: DataConversionWarning: A column-vector y was passed when a 1d array was expected. Please change the shape of y to (n_samples, ), for example using ravel().\n",
      "  y = column_or_1d(y, warn=True)\n",
      "/opt/conda/lib/python3.10/site-packages/sklearn/utils/validation.py:1143: DataConversionWarning: A column-vector y was passed when a 1d array was expected. Please change the shape of y to (n_samples, ), for example using ravel().\n",
      "  y = column_or_1d(y, warn=True)\n",
      "/opt/conda/lib/python3.10/site-packages/sklearn/utils/validation.py:1143: DataConversionWarning: A column-vector y was passed when a 1d array was expected. Please change the shape of y to (n_samples, ), for example using ravel().\n",
      "  y = column_or_1d(y, warn=True)\n",
      "/opt/conda/lib/python3.10/site-packages/sklearn/utils/validation.py:1143: DataConversionWarning: A column-vector y was passed when a 1d array was expected. Please change the shape of y to (n_samples, ), for example using ravel().\n",
      "  y = column_or_1d(y, warn=True)\n",
      "/opt/conda/lib/python3.10/site-packages/sklearn/utils/validation.py:1143: DataConversionWarning: A column-vector y was passed when a 1d array was expected. Please change the shape of y to (n_samples, ), for example using ravel().\n",
      "  y = column_or_1d(y, warn=True)\n",
      "/opt/conda/lib/python3.10/site-packages/sklearn/utils/validation.py:1143: DataConversionWarning: A column-vector y was passed when a 1d array was expected. Please change the shape of y to (n_samples, ), for example using ravel().\n",
      "  y = column_or_1d(y, warn=True)\n",
      "/opt/conda/lib/python3.10/site-packages/sklearn/utils/validation.py:1143: DataConversionWarning: A column-vector y was passed when a 1d array was expected. Please change the shape of y to (n_samples, ), for example using ravel().\n",
      "  y = column_or_1d(y, warn=True)\n",
      "/opt/conda/lib/python3.10/site-packages/sklearn/utils/validation.py:1143: DataConversionWarning: A column-vector y was passed when a 1d array was expected. Please change the shape of y to (n_samples, ), for example using ravel().\n",
      "  y = column_or_1d(y, warn=True)\n",
      "/opt/conda/lib/python3.10/site-packages/sklearn/utils/validation.py:1143: DataConversionWarning: A column-vector y was passed when a 1d array was expected. Please change the shape of y to (n_samples, ), for example using ravel().\n",
      "  y = column_or_1d(y, warn=True)\n",
      "/opt/conda/lib/python3.10/site-packages/sklearn/utils/validation.py:1143: DataConversionWarning: A column-vector y was passed when a 1d array was expected. Please change the shape of y to (n_samples, ), for example using ravel().\n",
      "  y = column_or_1d(y, warn=True)\n",
      "/opt/conda/lib/python3.10/site-packages/sklearn/utils/validation.py:1143: DataConversionWarning: A column-vector y was passed when a 1d array was expected. Please change the shape of y to (n_samples, ), for example using ravel().\n",
      "  y = column_or_1d(y, warn=True)\n",
      "/opt/conda/lib/python3.10/site-packages/sklearn/utils/validation.py:1143: DataConversionWarning: A column-vector y was passed when a 1d array was expected. Please change the shape of y to (n_samples, ), for example using ravel().\n",
      "  y = column_or_1d(y, warn=True)\n",
      "/opt/conda/lib/python3.10/site-packages/sklearn/utils/validation.py:1143: DataConversionWarning: A column-vector y was passed when a 1d array was expected. Please change the shape of y to (n_samples, ), for example using ravel().\n",
      "  y = column_or_1d(y, warn=True)\n",
      "/opt/conda/lib/python3.10/site-packages/sklearn/utils/validation.py:1143: DataConversionWarning: A column-vector y was passed when a 1d array was expected. Please change the shape of y to (n_samples, ), for example using ravel().\n",
      "  y = column_or_1d(y, warn=True)\n",
      "/opt/conda/lib/python3.10/site-packages/sklearn/utils/validation.py:1143: DataConversionWarning: A column-vector y was passed when a 1d array was expected. Please change the shape of y to (n_samples, ), for example using ravel().\n",
      "  y = column_or_1d(y, warn=True)\n",
      "/opt/conda/lib/python3.10/site-packages/sklearn/utils/validation.py:1143: DataConversionWarning: A column-vector y was passed when a 1d array was expected. Please change the shape of y to (n_samples, ), for example using ravel().\n",
      "  y = column_or_1d(y, warn=True)\n",
      "/opt/conda/lib/python3.10/site-packages/sklearn/utils/validation.py:1143: DataConversionWarning: A column-vector y was passed when a 1d array was expected. Please change the shape of y to (n_samples, ), for example using ravel().\n",
      "  y = column_or_1d(y, warn=True)\n",
      "/opt/conda/lib/python3.10/site-packages/sklearn/utils/validation.py:1143: DataConversionWarning: A column-vector y was passed when a 1d array was expected. Please change the shape of y to (n_samples, ), for example using ravel().\n",
      "  y = column_or_1d(y, warn=True)\n",
      "/opt/conda/lib/python3.10/site-packages/sklearn/utils/validation.py:1143: DataConversionWarning: A column-vector y was passed when a 1d array was expected. Please change the shape of y to (n_samples, ), for example using ravel().\n",
      "  y = column_or_1d(y, warn=True)\n",
      "/opt/conda/lib/python3.10/site-packages/sklearn/utils/validation.py:1143: DataConversionWarning: A column-vector y was passed when a 1d array was expected. Please change the shape of y to (n_samples, ), for example using ravel().\n",
      "  y = column_or_1d(y, warn=True)\n",
      "/opt/conda/lib/python3.10/site-packages/sklearn/utils/validation.py:1143: DataConversionWarning: A column-vector y was passed when a 1d array was expected. Please change the shape of y to (n_samples, ), for example using ravel().\n",
      "  y = column_or_1d(y, warn=True)\n",
      "/opt/conda/lib/python3.10/site-packages/sklearn/utils/validation.py:1143: DataConversionWarning: A column-vector y was passed when a 1d array was expected. Please change the shape of y to (n_samples, ), for example using ravel().\n",
      "  y = column_or_1d(y, warn=True)\n",
      "/opt/conda/lib/python3.10/site-packages/sklearn/utils/validation.py:1143: DataConversionWarning: A column-vector y was passed when a 1d array was expected. Please change the shape of y to (n_samples, ), for example using ravel().\n",
      "  y = column_or_1d(y, warn=True)\n",
      "/opt/conda/lib/python3.10/site-packages/sklearn/utils/validation.py:1143: DataConversionWarning: A column-vector y was passed when a 1d array was expected. Please change the shape of y to (n_samples, ), for example using ravel().\n",
      "  y = column_or_1d(y, warn=True)\n",
      "/opt/conda/lib/python3.10/site-packages/sklearn/utils/validation.py:1143: DataConversionWarning: A column-vector y was passed when a 1d array was expected. Please change the shape of y to (n_samples, ), for example using ravel().\n",
      "  y = column_or_1d(y, warn=True)\n",
      "/opt/conda/lib/python3.10/site-packages/sklearn/utils/validation.py:1143: DataConversionWarning: A column-vector y was passed when a 1d array was expected. Please change the shape of y to (n_samples, ), for example using ravel().\n",
      "  y = column_or_1d(y, warn=True)\n",
      "/opt/conda/lib/python3.10/site-packages/sklearn/utils/validation.py:1143: DataConversionWarning: A column-vector y was passed when a 1d array was expected. Please change the shape of y to (n_samples, ), for example using ravel().\n",
      "  y = column_or_1d(y, warn=True)\n",
      "/opt/conda/lib/python3.10/site-packages/sklearn/utils/validation.py:1143: DataConversionWarning: A column-vector y was passed when a 1d array was expected. Please change the shape of y to (n_samples, ), for example using ravel().\n",
      "  y = column_or_1d(y, warn=True)\n",
      "/opt/conda/lib/python3.10/site-packages/sklearn/utils/validation.py:1143: DataConversionWarning: A column-vector y was passed when a 1d array was expected. Please change the shape of y to (n_samples, ), for example using ravel().\n",
      "  y = column_or_1d(y, warn=True)\n",
      "/opt/conda/lib/python3.10/site-packages/sklearn/utils/validation.py:1143: DataConversionWarning: A column-vector y was passed when a 1d array was expected. Please change the shape of y to (n_samples, ), for example using ravel().\n",
      "  y = column_or_1d(y, warn=True)\n",
      "/opt/conda/lib/python3.10/site-packages/sklearn/utils/validation.py:1143: DataConversionWarning: A column-vector y was passed when a 1d array was expected. Please change the shape of y to (n_samples, ), for example using ravel().\n",
      "  y = column_or_1d(y, warn=True)\n",
      "/opt/conda/lib/python3.10/site-packages/sklearn/utils/validation.py:1143: DataConversionWarning: A column-vector y was passed when a 1d array was expected. Please change the shape of y to (n_samples, ), for example using ravel().\n",
      "  y = column_or_1d(y, warn=True)\n",
      "/opt/conda/lib/python3.10/site-packages/sklearn/utils/validation.py:1143: DataConversionWarning: A column-vector y was passed when a 1d array was expected. Please change the shape of y to (n_samples, ), for example using ravel().\n",
      "  y = column_or_1d(y, warn=True)\n",
      "/opt/conda/lib/python3.10/site-packages/sklearn/utils/validation.py:1143: DataConversionWarning: A column-vector y was passed when a 1d array was expected. Please change the shape of y to (n_samples, ), for example using ravel().\n",
      "  y = column_or_1d(y, warn=True)\n",
      "/opt/conda/lib/python3.10/site-packages/sklearn/utils/validation.py:1143: DataConversionWarning: A column-vector y was passed when a 1d array was expected. Please change the shape of y to (n_samples, ), for example using ravel().\n",
      "  y = column_or_1d(y, warn=True)\n",
      "/opt/conda/lib/python3.10/site-packages/sklearn/utils/validation.py:1143: DataConversionWarning: A column-vector y was passed when a 1d array was expected. Please change the shape of y to (n_samples, ), for example using ravel().\n",
      "  y = column_or_1d(y, warn=True)\n",
      "/opt/conda/lib/python3.10/site-packages/sklearn/utils/validation.py:1143: DataConversionWarning: A column-vector y was passed when a 1d array was expected. Please change the shape of y to (n_samples, ), for example using ravel().\n",
      "  y = column_or_1d(y, warn=True)\n",
      "/opt/conda/lib/python3.10/site-packages/sklearn/utils/validation.py:1143: DataConversionWarning: A column-vector y was passed when a 1d array was expected. Please change the shape of y to (n_samples, ), for example using ravel().\n",
      "  y = column_or_1d(y, warn=True)\n",
      "/opt/conda/lib/python3.10/site-packages/sklearn/utils/validation.py:1143: DataConversionWarning: A column-vector y was passed when a 1d array was expected. Please change the shape of y to (n_samples, ), for example using ravel().\n",
      "  y = column_or_1d(y, warn=True)\n",
      "/opt/conda/lib/python3.10/site-packages/sklearn/utils/validation.py:1143: DataConversionWarning: A column-vector y was passed when a 1d array was expected. Please change the shape of y to (n_samples, ), for example using ravel().\n",
      "  y = column_or_1d(y, warn=True)\n",
      "/opt/conda/lib/python3.10/site-packages/sklearn/utils/validation.py:1143: DataConversionWarning: A column-vector y was passed when a 1d array was expected. Please change the shape of y to (n_samples, ), for example using ravel().\n",
      "  y = column_or_1d(y, warn=True)\n",
      "/opt/conda/lib/python3.10/site-packages/sklearn/utils/validation.py:1143: DataConversionWarning: A column-vector y was passed when a 1d array was expected. Please change the shape of y to (n_samples, ), for example using ravel().\n",
      "  y = column_or_1d(y, warn=True)\n",
      "/opt/conda/lib/python3.10/site-packages/sklearn/utils/validation.py:1143: DataConversionWarning: A column-vector y was passed when a 1d array was expected. Please change the shape of y to (n_samples, ), for example using ravel().\n",
      "  y = column_or_1d(y, warn=True)\n",
      "/opt/conda/lib/python3.10/site-packages/sklearn/utils/validation.py:1143: DataConversionWarning: A column-vector y was passed when a 1d array was expected. Please change the shape of y to (n_samples, ), for example using ravel().\n",
      "  y = column_or_1d(y, warn=True)\n",
      "/opt/conda/lib/python3.10/site-packages/sklearn/utils/validation.py:1143: DataConversionWarning: A column-vector y was passed when a 1d array was expected. Please change the shape of y to (n_samples, ), for example using ravel().\n",
      "  y = column_or_1d(y, warn=True)\n",
      "/opt/conda/lib/python3.10/site-packages/sklearn/utils/validation.py:1143: DataConversionWarning: A column-vector y was passed when a 1d array was expected. Please change the shape of y to (n_samples, ), for example using ravel().\n",
      "  y = column_or_1d(y, warn=True)\n",
      "/opt/conda/lib/python3.10/site-packages/sklearn/utils/validation.py:1143: DataConversionWarning: A column-vector y was passed when a 1d array was expected. Please change the shape of y to (n_samples, ), for example using ravel().\n",
      "  y = column_or_1d(y, warn=True)\n",
      "/opt/conda/lib/python3.10/site-packages/sklearn/utils/validation.py:1143: DataConversionWarning: A column-vector y was passed when a 1d array was expected. Please change the shape of y to (n_samples, ), for example using ravel().\n",
      "  y = column_or_1d(y, warn=True)\n",
      "/opt/conda/lib/python3.10/site-packages/sklearn/utils/validation.py:1143: DataConversionWarning: A column-vector y was passed when a 1d array was expected. Please change the shape of y to (n_samples, ), for example using ravel().\n",
      "  y = column_or_1d(y, warn=True)\n",
      "/opt/conda/lib/python3.10/site-packages/sklearn/utils/validation.py:1143: DataConversionWarning: A column-vector y was passed when a 1d array was expected. Please change the shape of y to (n_samples, ), for example using ravel().\n",
      "  y = column_or_1d(y, warn=True)\n",
      "/opt/conda/lib/python3.10/site-packages/sklearn/utils/validation.py:1143: DataConversionWarning: A column-vector y was passed when a 1d array was expected. Please change the shape of y to (n_samples, ), for example using ravel().\n",
      "  y = column_or_1d(y, warn=True)\n",
      "/opt/conda/lib/python3.10/site-packages/sklearn/utils/validation.py:1143: DataConversionWarning: A column-vector y was passed when a 1d array was expected. Please change the shape of y to (n_samples, ), for example using ravel().\n",
      "  y = column_or_1d(y, warn=True)\n",
      "/opt/conda/lib/python3.10/site-packages/sklearn/utils/validation.py:1143: DataConversionWarning: A column-vector y was passed when a 1d array was expected. Please change the shape of y to (n_samples, ), for example using ravel().\n",
      "  y = column_or_1d(y, warn=True)\n",
      "/opt/conda/lib/python3.10/site-packages/sklearn/utils/validation.py:1143: DataConversionWarning: A column-vector y was passed when a 1d array was expected. Please change the shape of y to (n_samples, ), for example using ravel().\n",
      "  y = column_or_1d(y, warn=True)\n",
      "/opt/conda/lib/python3.10/site-packages/sklearn/utils/validation.py:1143: DataConversionWarning: A column-vector y was passed when a 1d array was expected. Please change the shape of y to (n_samples, ), for example using ravel().\n",
      "  y = column_or_1d(y, warn=True)\n",
      "/opt/conda/lib/python3.10/site-packages/sklearn/utils/validation.py:1143: DataConversionWarning: A column-vector y was passed when a 1d array was expected. Please change the shape of y to (n_samples, ), for example using ravel().\n",
      "  y = column_or_1d(y, warn=True)\n",
      "/opt/conda/lib/python3.10/site-packages/sklearn/utils/validation.py:1143: DataConversionWarning: A column-vector y was passed when a 1d array was expected. Please change the shape of y to (n_samples, ), for example using ravel().\n",
      "  y = column_or_1d(y, warn=True)\n",
      "/opt/conda/lib/python3.10/site-packages/sklearn/utils/validation.py:1143: DataConversionWarning: A column-vector y was passed when a 1d array was expected. Please change the shape of y to (n_samples, ), for example using ravel().\n",
      "  y = column_or_1d(y, warn=True)\n",
      "/opt/conda/lib/python3.10/site-packages/sklearn/utils/validation.py:1143: DataConversionWarning: A column-vector y was passed when a 1d array was expected. Please change the shape of y to (n_samples, ), for example using ravel().\n",
      "  y = column_or_1d(y, warn=True)\n",
      "/opt/conda/lib/python3.10/site-packages/sklearn/utils/validation.py:1143: DataConversionWarning: A column-vector y was passed when a 1d array was expected. Please change the shape of y to (n_samples, ), for example using ravel().\n",
      "  y = column_or_1d(y, warn=True)\n",
      "/opt/conda/lib/python3.10/site-packages/sklearn/utils/validation.py:1143: DataConversionWarning: A column-vector y was passed when a 1d array was expected. Please change the shape of y to (n_samples, ), for example using ravel().\n",
      "  y = column_or_1d(y, warn=True)\n",
      "/opt/conda/lib/python3.10/site-packages/sklearn/utils/validation.py:1143: DataConversionWarning: A column-vector y was passed when a 1d array was expected. Please change the shape of y to (n_samples, ), for example using ravel().\n",
      "  y = column_or_1d(y, warn=True)\n",
      "/opt/conda/lib/python3.10/site-packages/sklearn/utils/validation.py:1143: DataConversionWarning: A column-vector y was passed when a 1d array was expected. Please change the shape of y to (n_samples, ), for example using ravel().\n",
      "  y = column_or_1d(y, warn=True)\n",
      "/opt/conda/lib/python3.10/site-packages/sklearn/utils/validation.py:1143: DataConversionWarning: A column-vector y was passed when a 1d array was expected. Please change the shape of y to (n_samples, ), for example using ravel().\n",
      "  y = column_or_1d(y, warn=True)\n",
      "/opt/conda/lib/python3.10/site-packages/sklearn/utils/validation.py:1143: DataConversionWarning: A column-vector y was passed when a 1d array was expected. Please change the shape of y to (n_samples, ), for example using ravel().\n",
      "  y = column_or_1d(y, warn=True)\n",
      "/opt/conda/lib/python3.10/site-packages/sklearn/utils/validation.py:1143: DataConversionWarning: A column-vector y was passed when a 1d array was expected. Please change the shape of y to (n_samples, ), for example using ravel().\n",
      "  y = column_or_1d(y, warn=True)\n",
      "/opt/conda/lib/python3.10/site-packages/sklearn/utils/validation.py:1143: DataConversionWarning: A column-vector y was passed when a 1d array was expected. Please change the shape of y to (n_samples, ), for example using ravel().\n",
      "  y = column_or_1d(y, warn=True)\n",
      "/opt/conda/lib/python3.10/site-packages/sklearn/utils/validation.py:1143: DataConversionWarning: A column-vector y was passed when a 1d array was expected. Please change the shape of y to (n_samples, ), for example using ravel().\n",
      "  y = column_or_1d(y, warn=True)\n",
      "/opt/conda/lib/python3.10/site-packages/sklearn/utils/validation.py:1143: DataConversionWarning: A column-vector y was passed when a 1d array was expected. Please change the shape of y to (n_samples, ), for example using ravel().\n",
      "  y = column_or_1d(y, warn=True)\n",
      "/opt/conda/lib/python3.10/site-packages/sklearn/utils/validation.py:1143: DataConversionWarning: A column-vector y was passed when a 1d array was expected. Please change the shape of y to (n_samples, ), for example using ravel().\n",
      "  y = column_or_1d(y, warn=True)\n",
      "/opt/conda/lib/python3.10/site-packages/sklearn/utils/validation.py:1143: DataConversionWarning: A column-vector y was passed when a 1d array was expected. Please change the shape of y to (n_samples, ), for example using ravel().\n",
      "  y = column_or_1d(y, warn=True)\n",
      "/opt/conda/lib/python3.10/site-packages/sklearn/utils/validation.py:1143: DataConversionWarning: A column-vector y was passed when a 1d array was expected. Please change the shape of y to (n_samples, ), for example using ravel().\n",
      "  y = column_or_1d(y, warn=True)\n",
      "/opt/conda/lib/python3.10/site-packages/sklearn/utils/validation.py:1143: DataConversionWarning: A column-vector y was passed when a 1d array was expected. Please change the shape of y to (n_samples, ), for example using ravel().\n",
      "  y = column_or_1d(y, warn=True)\n",
      "/opt/conda/lib/python3.10/site-packages/sklearn/utils/validation.py:1143: DataConversionWarning: A column-vector y was passed when a 1d array was expected. Please change the shape of y to (n_samples, ), for example using ravel().\n",
      "  y = column_or_1d(y, warn=True)\n",
      "/opt/conda/lib/python3.10/site-packages/sklearn/utils/validation.py:1143: DataConversionWarning: A column-vector y was passed when a 1d array was expected. Please change the shape of y to (n_samples, ), for example using ravel().\n",
      "  y = column_or_1d(y, warn=True)\n",
      "/opt/conda/lib/python3.10/site-packages/sklearn/utils/validation.py:1143: DataConversionWarning: A column-vector y was passed when a 1d array was expected. Please change the shape of y to (n_samples, ), for example using ravel().\n",
      "  y = column_or_1d(y, warn=True)\n",
      "/opt/conda/lib/python3.10/site-packages/sklearn/utils/validation.py:1143: DataConversionWarning: A column-vector y was passed when a 1d array was expected. Please change the shape of y to (n_samples, ), for example using ravel().\n",
      "  y = column_or_1d(y, warn=True)\n",
      "/opt/conda/lib/python3.10/site-packages/sklearn/utils/validation.py:1143: DataConversionWarning: A column-vector y was passed when a 1d array was expected. Please change the shape of y to (n_samples, ), for example using ravel().\n",
      "  y = column_or_1d(y, warn=True)\n",
      "/opt/conda/lib/python3.10/site-packages/sklearn/utils/validation.py:1143: DataConversionWarning: A column-vector y was passed when a 1d array was expected. Please change the shape of y to (n_samples, ), for example using ravel().\n",
      "  y = column_or_1d(y, warn=True)\n",
      "/opt/conda/lib/python3.10/site-packages/sklearn/utils/validation.py:1143: DataConversionWarning: A column-vector y was passed when a 1d array was expected. Please change the shape of y to (n_samples, ), for example using ravel().\n",
      "  y = column_or_1d(y, warn=True)\n",
      "/opt/conda/lib/python3.10/site-packages/sklearn/utils/validation.py:1143: DataConversionWarning: A column-vector y was passed when a 1d array was expected. Please change the shape of y to (n_samples, ), for example using ravel().\n",
      "  y = column_or_1d(y, warn=True)\n",
      "/opt/conda/lib/python3.10/site-packages/sklearn/utils/validation.py:1143: DataConversionWarning: A column-vector y was passed when a 1d array was expected. Please change the shape of y to (n_samples, ), for example using ravel().\n",
      "  y = column_or_1d(y, warn=True)\n",
      "/opt/conda/lib/python3.10/site-packages/sklearn/utils/validation.py:1143: DataConversionWarning: A column-vector y was passed when a 1d array was expected. Please change the shape of y to (n_samples, ), for example using ravel().\n",
      "  y = column_or_1d(y, warn=True)\n",
      "/opt/conda/lib/python3.10/site-packages/sklearn/utils/validation.py:1143: DataConversionWarning: A column-vector y was passed when a 1d array was expected. Please change the shape of y to (n_samples, ), for example using ravel().\n",
      "  y = column_or_1d(y, warn=True)\n",
      "/opt/conda/lib/python3.10/site-packages/sklearn/utils/validation.py:1143: DataConversionWarning: A column-vector y was passed when a 1d array was expected. Please change the shape of y to (n_samples, ), for example using ravel().\n",
      "  y = column_or_1d(y, warn=True)\n",
      "/opt/conda/lib/python3.10/site-packages/sklearn/utils/validation.py:1143: DataConversionWarning: A column-vector y was passed when a 1d array was expected. Please change the shape of y to (n_samples, ), for example using ravel().\n",
      "  y = column_or_1d(y, warn=True)\n",
      "/opt/conda/lib/python3.10/site-packages/sklearn/utils/validation.py:1143: DataConversionWarning: A column-vector y was passed when a 1d array was expected. Please change the shape of y to (n_samples, ), for example using ravel().\n",
      "  y = column_or_1d(y, warn=True)\n",
      "/opt/conda/lib/python3.10/site-packages/sklearn/utils/validation.py:1143: DataConversionWarning: A column-vector y was passed when a 1d array was expected. Please change the shape of y to (n_samples, ), for example using ravel().\n",
      "  y = column_or_1d(y, warn=True)\n",
      "/opt/conda/lib/python3.10/site-packages/sklearn/utils/validation.py:1143: DataConversionWarning: A column-vector y was passed when a 1d array was expected. Please change the shape of y to (n_samples, ), for example using ravel().\n",
      "  y = column_or_1d(y, warn=True)\n",
      "/opt/conda/lib/python3.10/site-packages/sklearn/utils/validation.py:1143: DataConversionWarning: A column-vector y was passed when a 1d array was expected. Please change the shape of y to (n_samples, ), for example using ravel().\n",
      "  y = column_or_1d(y, warn=True)\n",
      "/opt/conda/lib/python3.10/site-packages/sklearn/utils/validation.py:1143: DataConversionWarning: A column-vector y was passed when a 1d array was expected. Please change the shape of y to (n_samples, ), for example using ravel().\n",
      "  y = column_or_1d(y, warn=True)\n",
      "/opt/conda/lib/python3.10/site-packages/sklearn/utils/validation.py:1143: DataConversionWarning: A column-vector y was passed when a 1d array was expected. Please change the shape of y to (n_samples, ), for example using ravel().\n",
      "  y = column_or_1d(y, warn=True)\n",
      "/opt/conda/lib/python3.10/site-packages/sklearn/utils/validation.py:1143: DataConversionWarning: A column-vector y was passed when a 1d array was expected. Please change the shape of y to (n_samples, ), for example using ravel().\n",
      "  y = column_or_1d(y, warn=True)\n",
      "/opt/conda/lib/python3.10/site-packages/sklearn/utils/validation.py:1143: DataConversionWarning: A column-vector y was passed when a 1d array was expected. Please change the shape of y to (n_samples, ), for example using ravel().\n",
      "  y = column_or_1d(y, warn=True)\n",
      "/opt/conda/lib/python3.10/site-packages/sklearn/utils/validation.py:1143: DataConversionWarning: A column-vector y was passed when a 1d array was expected. Please change the shape of y to (n_samples, ), for example using ravel().\n",
      "  y = column_or_1d(y, warn=True)\n",
      "/opt/conda/lib/python3.10/site-packages/sklearn/utils/validation.py:1143: DataConversionWarning: A column-vector y was passed when a 1d array was expected. Please change the shape of y to (n_samples, ), for example using ravel().\n",
      "  y = column_or_1d(y, warn=True)\n",
      "/opt/conda/lib/python3.10/site-packages/sklearn/utils/validation.py:1143: DataConversionWarning: A column-vector y was passed when a 1d array was expected. Please change the shape of y to (n_samples, ), for example using ravel().\n",
      "  y = column_or_1d(y, warn=True)\n",
      "/opt/conda/lib/python3.10/site-packages/sklearn/utils/validation.py:1143: DataConversionWarning: A column-vector y was passed when a 1d array was expected. Please change the shape of y to (n_samples, ), for example using ravel().\n",
      "  y = column_or_1d(y, warn=True)\n",
      "/opt/conda/lib/python3.10/site-packages/sklearn/utils/validation.py:1143: DataConversionWarning: A column-vector y was passed when a 1d array was expected. Please change the shape of y to (n_samples, ), for example using ravel().\n",
      "  y = column_or_1d(y, warn=True)\n",
      "/opt/conda/lib/python3.10/site-packages/sklearn/utils/validation.py:1143: DataConversionWarning: A column-vector y was passed when a 1d array was expected. Please change the shape of y to (n_samples, ), for example using ravel().\n",
      "  y = column_or_1d(y, warn=True)\n",
      "/opt/conda/lib/python3.10/site-packages/sklearn/utils/validation.py:1143: DataConversionWarning: A column-vector y was passed when a 1d array was expected. Please change the shape of y to (n_samples, ), for example using ravel().\n",
      "  y = column_or_1d(y, warn=True)\n",
      "/opt/conda/lib/python3.10/site-packages/sklearn/utils/validation.py:1143: DataConversionWarning: A column-vector y was passed when a 1d array was expected. Please change the shape of y to (n_samples, ), for example using ravel().\n",
      "  y = column_or_1d(y, warn=True)\n",
      "/opt/conda/lib/python3.10/site-packages/sklearn/utils/validation.py:1143: DataConversionWarning: A column-vector y was passed when a 1d array was expected. Please change the shape of y to (n_samples, ), for example using ravel().\n",
      "  y = column_or_1d(y, warn=True)\n",
      "/opt/conda/lib/python3.10/site-packages/sklearn/utils/validation.py:1143: DataConversionWarning: A column-vector y was passed when a 1d array was expected. Please change the shape of y to (n_samples, ), for example using ravel().\n",
      "  y = column_or_1d(y, warn=True)\n",
      "/opt/conda/lib/python3.10/site-packages/sklearn/utils/validation.py:1143: DataConversionWarning: A column-vector y was passed when a 1d array was expected. Please change the shape of y to (n_samples, ), for example using ravel().\n",
      "  y = column_or_1d(y, warn=True)\n",
      "/opt/conda/lib/python3.10/site-packages/sklearn/utils/validation.py:1143: DataConversionWarning: A column-vector y was passed when a 1d array was expected. Please change the shape of y to (n_samples, ), for example using ravel().\n",
      "  y = column_or_1d(y, warn=True)\n",
      "/opt/conda/lib/python3.10/site-packages/sklearn/utils/validation.py:1143: DataConversionWarning: A column-vector y was passed when a 1d array was expected. Please change the shape of y to (n_samples, ), for example using ravel().\n",
      "  y = column_or_1d(y, warn=True)\n",
      "/opt/conda/lib/python3.10/site-packages/sklearn/utils/validation.py:1143: DataConversionWarning: A column-vector y was passed when a 1d array was expected. Please change the shape of y to (n_samples, ), for example using ravel().\n",
      "  y = column_or_1d(y, warn=True)\n",
      "/opt/conda/lib/python3.10/site-packages/sklearn/utils/validation.py:1143: DataConversionWarning: A column-vector y was passed when a 1d array was expected. Please change the shape of y to (n_samples, ), for example using ravel().\n",
      "  y = column_or_1d(y, warn=True)\n",
      "/opt/conda/lib/python3.10/site-packages/sklearn/utils/validation.py:1143: DataConversionWarning: A column-vector y was passed when a 1d array was expected. Please change the shape of y to (n_samples, ), for example using ravel().\n",
      "  y = column_or_1d(y, warn=True)\n",
      "/opt/conda/lib/python3.10/site-packages/sklearn/utils/validation.py:1143: DataConversionWarning: A column-vector y was passed when a 1d array was expected. Please change the shape of y to (n_samples, ), for example using ravel().\n",
      "  y = column_or_1d(y, warn=True)\n",
      "/opt/conda/lib/python3.10/site-packages/sklearn/utils/validation.py:1143: DataConversionWarning: A column-vector y was passed when a 1d array was expected. Please change the shape of y to (n_samples, ), for example using ravel().\n",
      "  y = column_or_1d(y, warn=True)\n",
      "/opt/conda/lib/python3.10/site-packages/sklearn/utils/validation.py:1143: DataConversionWarning: A column-vector y was passed when a 1d array was expected. Please change the shape of y to (n_samples, ), for example using ravel().\n",
      "  y = column_or_1d(y, warn=True)\n",
      "/opt/conda/lib/python3.10/site-packages/sklearn/utils/validation.py:1143: DataConversionWarning: A column-vector y was passed when a 1d array was expected. Please change the shape of y to (n_samples, ), for example using ravel().\n",
      "  y = column_or_1d(y, warn=True)\n",
      "/opt/conda/lib/python3.10/site-packages/sklearn/utils/validation.py:1143: DataConversionWarning: A column-vector y was passed when a 1d array was expected. Please change the shape of y to (n_samples, ), for example using ravel().\n",
      "  y = column_or_1d(y, warn=True)\n",
      "/opt/conda/lib/python3.10/site-packages/sklearn/utils/validation.py:1143: DataConversionWarning: A column-vector y was passed when a 1d array was expected. Please change the shape of y to (n_samples, ), for example using ravel().\n",
      "  y = column_or_1d(y, warn=True)\n",
      "/opt/conda/lib/python3.10/site-packages/sklearn/utils/validation.py:1143: DataConversionWarning: A column-vector y was passed when a 1d array was expected. Please change the shape of y to (n_samples, ), for example using ravel().\n",
      "  y = column_or_1d(y, warn=True)\n",
      "/opt/conda/lib/python3.10/site-packages/sklearn/utils/validation.py:1143: DataConversionWarning: A column-vector y was passed when a 1d array was expected. Please change the shape of y to (n_samples, ), for example using ravel().\n",
      "  y = column_or_1d(y, warn=True)\n",
      "/opt/conda/lib/python3.10/site-packages/sklearn/utils/validation.py:1143: DataConversionWarning: A column-vector y was passed when a 1d array was expected. Please change the shape of y to (n_samples, ), for example using ravel().\n",
      "  y = column_or_1d(y, warn=True)\n",
      "/opt/conda/lib/python3.10/site-packages/sklearn/utils/validation.py:1143: DataConversionWarning: A column-vector y was passed when a 1d array was expected. Please change the shape of y to (n_samples, ), for example using ravel().\n",
      "  y = column_or_1d(y, warn=True)\n",
      "/opt/conda/lib/python3.10/site-packages/sklearn/utils/validation.py:1143: DataConversionWarning: A column-vector y was passed when a 1d array was expected. Please change the shape of y to (n_samples, ), for example using ravel().\n",
      "  y = column_or_1d(y, warn=True)\n",
      "/opt/conda/lib/python3.10/site-packages/sklearn/utils/validation.py:1143: DataConversionWarning: A column-vector y was passed when a 1d array was expected. Please change the shape of y to (n_samples, ), for example using ravel().\n",
      "  y = column_or_1d(y, warn=True)\n",
      "/opt/conda/lib/python3.10/site-packages/sklearn/utils/validation.py:1143: DataConversionWarning: A column-vector y was passed when a 1d array was expected. Please change the shape of y to (n_samples, ), for example using ravel().\n",
      "  y = column_or_1d(y, warn=True)\n",
      "/opt/conda/lib/python3.10/site-packages/sklearn/utils/validation.py:1143: DataConversionWarning: A column-vector y was passed when a 1d array was expected. Please change the shape of y to (n_samples, ), for example using ravel().\n",
      "  y = column_or_1d(y, warn=True)\n",
      "/opt/conda/lib/python3.10/site-packages/sklearn/utils/validation.py:1143: DataConversionWarning: A column-vector y was passed when a 1d array was expected. Please change the shape of y to (n_samples, ), for example using ravel().\n",
      "  y = column_or_1d(y, warn=True)\n",
      "/opt/conda/lib/python3.10/site-packages/sklearn/utils/validation.py:1143: DataConversionWarning: A column-vector y was passed when a 1d array was expected. Please change the shape of y to (n_samples, ), for example using ravel().\n",
      "  y = column_or_1d(y, warn=True)\n",
      "/opt/conda/lib/python3.10/site-packages/sklearn/utils/validation.py:1143: DataConversionWarning: A column-vector y was passed when a 1d array was expected. Please change the shape of y to (n_samples, ), for example using ravel().\n",
      "  y = column_or_1d(y, warn=True)\n",
      "/opt/conda/lib/python3.10/site-packages/sklearn/utils/validation.py:1143: DataConversionWarning: A column-vector y was passed when a 1d array was expected. Please change the shape of y to (n_samples, ), for example using ravel().\n",
      "  y = column_or_1d(y, warn=True)\n",
      "/opt/conda/lib/python3.10/site-packages/sklearn/utils/validation.py:1143: DataConversionWarning: A column-vector y was passed when a 1d array was expected. Please change the shape of y to (n_samples, ), for example using ravel().\n",
      "  y = column_or_1d(y, warn=True)\n",
      "/opt/conda/lib/python3.10/site-packages/sklearn/utils/validation.py:1143: DataConversionWarning: A column-vector y was passed when a 1d array was expected. Please change the shape of y to (n_samples, ), for example using ravel().\n",
      "  y = column_or_1d(y, warn=True)\n",
      "/opt/conda/lib/python3.10/site-packages/sklearn/utils/validation.py:1143: DataConversionWarning: A column-vector y was passed when a 1d array was expected. Please change the shape of y to (n_samples, ), for example using ravel().\n",
      "  y = column_or_1d(y, warn=True)\n",
      "/opt/conda/lib/python3.10/site-packages/sklearn/utils/validation.py:1143: DataConversionWarning: A column-vector y was passed when a 1d array was expected. Please change the shape of y to (n_samples, ), for example using ravel().\n",
      "  y = column_or_1d(y, warn=True)\n",
      "/opt/conda/lib/python3.10/site-packages/sklearn/utils/validation.py:1143: DataConversionWarning: A column-vector y was passed when a 1d array was expected. Please change the shape of y to (n_samples, ), for example using ravel().\n",
      "  y = column_or_1d(y, warn=True)\n",
      "/opt/conda/lib/python3.10/site-packages/sklearn/utils/validation.py:1143: DataConversionWarning: A column-vector y was passed when a 1d array was expected. Please change the shape of y to (n_samples, ), for example using ravel().\n",
      "  y = column_or_1d(y, warn=True)\n",
      "/opt/conda/lib/python3.10/site-packages/sklearn/utils/validation.py:1143: DataConversionWarning: A column-vector y was passed when a 1d array was expected. Please change the shape of y to (n_samples, ), for example using ravel().\n",
      "  y = column_or_1d(y, warn=True)\n",
      "/opt/conda/lib/python3.10/site-packages/sklearn/utils/validation.py:1143: DataConversionWarning: A column-vector y was passed when a 1d array was expected. Please change the shape of y to (n_samples, ), for example using ravel().\n",
      "  y = column_or_1d(y, warn=True)\n",
      "/opt/conda/lib/python3.10/site-packages/sklearn/utils/validation.py:1143: DataConversionWarning: A column-vector y was passed when a 1d array was expected. Please change the shape of y to (n_samples, ), for example using ravel().\n",
      "  y = column_or_1d(y, warn=True)\n",
      "/opt/conda/lib/python3.10/site-packages/sklearn/utils/validation.py:1143: DataConversionWarning: A column-vector y was passed when a 1d array was expected. Please change the shape of y to (n_samples, ), for example using ravel().\n",
      "  y = column_or_1d(y, warn=True)\n",
      "/opt/conda/lib/python3.10/site-packages/sklearn/utils/validation.py:1143: DataConversionWarning: A column-vector y was passed when a 1d array was expected. Please change the shape of y to (n_samples, ), for example using ravel().\n",
      "  y = column_or_1d(y, warn=True)\n",
      "/opt/conda/lib/python3.10/site-packages/sklearn/utils/validation.py:1143: DataConversionWarning: A column-vector y was passed when a 1d array was expected. Please change the shape of y to (n_samples, ), for example using ravel().\n",
      "  y = column_or_1d(y, warn=True)\n",
      "/opt/conda/lib/python3.10/site-packages/sklearn/utils/validation.py:1143: DataConversionWarning: A column-vector y was passed when a 1d array was expected. Please change the shape of y to (n_samples, ), for example using ravel().\n",
      "  y = column_or_1d(y, warn=True)\n",
      "/opt/conda/lib/python3.10/site-packages/sklearn/utils/validation.py:1143: DataConversionWarning: A column-vector y was passed when a 1d array was expected. Please change the shape of y to (n_samples, ), for example using ravel().\n",
      "  y = column_or_1d(y, warn=True)\n",
      "/opt/conda/lib/python3.10/site-packages/sklearn/utils/validation.py:1143: DataConversionWarning: A column-vector y was passed when a 1d array was expected. Please change the shape of y to (n_samples, ), for example using ravel().\n",
      "  y = column_or_1d(y, warn=True)\n",
      "/opt/conda/lib/python3.10/site-packages/sklearn/utils/validation.py:1143: DataConversionWarning: A column-vector y was passed when a 1d array was expected. Please change the shape of y to (n_samples, ), for example using ravel().\n",
      "  y = column_or_1d(y, warn=True)\n",
      "/opt/conda/lib/python3.10/site-packages/sklearn/utils/validation.py:1143: DataConversionWarning: A column-vector y was passed when a 1d array was expected. Please change the shape of y to (n_samples, ), for example using ravel().\n",
      "  y = column_or_1d(y, warn=True)\n",
      "/opt/conda/lib/python3.10/site-packages/sklearn/utils/validation.py:1143: DataConversionWarning: A column-vector y was passed when a 1d array was expected. Please change the shape of y to (n_samples, ), for example using ravel().\n",
      "  y = column_or_1d(y, warn=True)\n",
      "/opt/conda/lib/python3.10/site-packages/sklearn/utils/validation.py:1143: DataConversionWarning: A column-vector y was passed when a 1d array was expected. Please change the shape of y to (n_samples, ), for example using ravel().\n",
      "  y = column_or_1d(y, warn=True)\n",
      "/opt/conda/lib/python3.10/site-packages/sklearn/utils/validation.py:1143: DataConversionWarning: A column-vector y was passed when a 1d array was expected. Please change the shape of y to (n_samples, ), for example using ravel().\n",
      "  y = column_or_1d(y, warn=True)\n",
      "/opt/conda/lib/python3.10/site-packages/sklearn/utils/validation.py:1143: DataConversionWarning: A column-vector y was passed when a 1d array was expected. Please change the shape of y to (n_samples, ), for example using ravel().\n",
      "  y = column_or_1d(y, warn=True)\n",
      "/opt/conda/lib/python3.10/site-packages/sklearn/utils/validation.py:1143: DataConversionWarning: A column-vector y was passed when a 1d array was expected. Please change the shape of y to (n_samples, ), for example using ravel().\n",
      "  y = column_or_1d(y, warn=True)\n",
      "/opt/conda/lib/python3.10/site-packages/sklearn/utils/validation.py:1143: DataConversionWarning: A column-vector y was passed when a 1d array was expected. Please change the shape of y to (n_samples, ), for example using ravel().\n",
      "  y = column_or_1d(y, warn=True)\n",
      "/opt/conda/lib/python3.10/site-packages/sklearn/utils/validation.py:1143: DataConversionWarning: A column-vector y was passed when a 1d array was expected. Please change the shape of y to (n_samples, ), for example using ravel().\n",
      "  y = column_or_1d(y, warn=True)\n",
      "/opt/conda/lib/python3.10/site-packages/sklearn/utils/validation.py:1143: DataConversionWarning: A column-vector y was passed when a 1d array was expected. Please change the shape of y to (n_samples, ), for example using ravel().\n",
      "  y = column_or_1d(y, warn=True)\n",
      "/opt/conda/lib/python3.10/site-packages/sklearn/utils/validation.py:1143: DataConversionWarning: A column-vector y was passed when a 1d array was expected. Please change the shape of y to (n_samples, ), for example using ravel().\n",
      "  y = column_or_1d(y, warn=True)\n",
      "/opt/conda/lib/python3.10/site-packages/sklearn/utils/validation.py:1143: DataConversionWarning: A column-vector y was passed when a 1d array was expected. Please change the shape of y to (n_samples, ), for example using ravel().\n",
      "  y = column_or_1d(y, warn=True)\n",
      "/opt/conda/lib/python3.10/site-packages/sklearn/utils/validation.py:1143: DataConversionWarning: A column-vector y was passed when a 1d array was expected. Please change the shape of y to (n_samples, ), for example using ravel().\n",
      "  y = column_or_1d(y, warn=True)\n",
      "/opt/conda/lib/python3.10/site-packages/sklearn/utils/validation.py:1143: DataConversionWarning: A column-vector y was passed when a 1d array was expected. Please change the shape of y to (n_samples, ), for example using ravel().\n",
      "  y = column_or_1d(y, warn=True)\n",
      "/opt/conda/lib/python3.10/site-packages/sklearn/utils/validation.py:1143: DataConversionWarning: A column-vector y was passed when a 1d array was expected. Please change the shape of y to (n_samples, ), for example using ravel().\n",
      "  y = column_or_1d(y, warn=True)\n",
      "/opt/conda/lib/python3.10/site-packages/sklearn/utils/validation.py:1143: DataConversionWarning: A column-vector y was passed when a 1d array was expected. Please change the shape of y to (n_samples, ), for example using ravel().\n",
      "  y = column_or_1d(y, warn=True)\n",
      "/opt/conda/lib/python3.10/site-packages/sklearn/utils/validation.py:1143: DataConversionWarning: A column-vector y was passed when a 1d array was expected. Please change the shape of y to (n_samples, ), for example using ravel().\n",
      "  y = column_or_1d(y, warn=True)\n",
      "/opt/conda/lib/python3.10/site-packages/sklearn/utils/validation.py:1143: DataConversionWarning: A column-vector y was passed when a 1d array was expected. Please change the shape of y to (n_samples, ), for example using ravel().\n",
      "  y = column_or_1d(y, warn=True)\n",
      "/opt/conda/lib/python3.10/site-packages/sklearn/utils/validation.py:1143: DataConversionWarning: A column-vector y was passed when a 1d array was expected. Please change the shape of y to (n_samples, ), for example using ravel().\n",
      "  y = column_or_1d(y, warn=True)\n",
      "/opt/conda/lib/python3.10/site-packages/sklearn/utils/validation.py:1143: DataConversionWarning: A column-vector y was passed when a 1d array was expected. Please change the shape of y to (n_samples, ), for example using ravel().\n",
      "  y = column_or_1d(y, warn=True)\n",
      "/opt/conda/lib/python3.10/site-packages/sklearn/utils/validation.py:1143: DataConversionWarning: A column-vector y was passed when a 1d array was expected. Please change the shape of y to (n_samples, ), for example using ravel().\n",
      "  y = column_or_1d(y, warn=True)\n",
      "/opt/conda/lib/python3.10/site-packages/sklearn/utils/validation.py:1143: DataConversionWarning: A column-vector y was passed when a 1d array was expected. Please change the shape of y to (n_samples, ), for example using ravel().\n",
      "  y = column_or_1d(y, warn=True)\n",
      "/opt/conda/lib/python3.10/site-packages/sklearn/utils/validation.py:1143: DataConversionWarning: A column-vector y was passed when a 1d array was expected. Please change the shape of y to (n_samples, ), for example using ravel().\n",
      "  y = column_or_1d(y, warn=True)\n",
      "/opt/conda/lib/python3.10/site-packages/sklearn/utils/validation.py:1143: DataConversionWarning: A column-vector y was passed when a 1d array was expected. Please change the shape of y to (n_samples, ), for example using ravel().\n",
      "  y = column_or_1d(y, warn=True)\n",
      "/opt/conda/lib/python3.10/site-packages/sklearn/utils/validation.py:1143: DataConversionWarning: A column-vector y was passed when a 1d array was expected. Please change the shape of y to (n_samples, ), for example using ravel().\n",
      "  y = column_or_1d(y, warn=True)\n",
      "/opt/conda/lib/python3.10/site-packages/sklearn/utils/validation.py:1143: DataConversionWarning: A column-vector y was passed when a 1d array was expected. Please change the shape of y to (n_samples, ), for example using ravel().\n",
      "  y = column_or_1d(y, warn=True)\n",
      "/opt/conda/lib/python3.10/site-packages/sklearn/utils/validation.py:1143: DataConversionWarning: A column-vector y was passed when a 1d array was expected. Please change the shape of y to (n_samples, ), for example using ravel().\n",
      "  y = column_or_1d(y, warn=True)\n",
      "/opt/conda/lib/python3.10/site-packages/sklearn/utils/validation.py:1143: DataConversionWarning: A column-vector y was passed when a 1d array was expected. Please change the shape of y to (n_samples, ), for example using ravel().\n",
      "  y = column_or_1d(y, warn=True)\n",
      "/opt/conda/lib/python3.10/site-packages/sklearn/utils/validation.py:1143: DataConversionWarning: A column-vector y was passed when a 1d array was expected. Please change the shape of y to (n_samples, ), for example using ravel().\n",
      "  y = column_or_1d(y, warn=True)\n",
      "/opt/conda/lib/python3.10/site-packages/sklearn/utils/validation.py:1143: DataConversionWarning: A column-vector y was passed when a 1d array was expected. Please change the shape of y to (n_samples, ), for example using ravel().\n",
      "  y = column_or_1d(y, warn=True)\n",
      "/opt/conda/lib/python3.10/site-packages/sklearn/utils/validation.py:1143: DataConversionWarning: A column-vector y was passed when a 1d array was expected. Please change the shape of y to (n_samples, ), for example using ravel().\n",
      "  y = column_or_1d(y, warn=True)\n",
      "/opt/conda/lib/python3.10/site-packages/sklearn/utils/validation.py:1143: DataConversionWarning: A column-vector y was passed when a 1d array was expected. Please change the shape of y to (n_samples, ), for example using ravel().\n",
      "  y = column_or_1d(y, warn=True)\n",
      "/opt/conda/lib/python3.10/site-packages/sklearn/utils/validation.py:1143: DataConversionWarning: A column-vector y was passed when a 1d array was expected. Please change the shape of y to (n_samples, ), for example using ravel().\n",
      "  y = column_or_1d(y, warn=True)\n",
      "/opt/conda/lib/python3.10/site-packages/sklearn/utils/validation.py:1143: DataConversionWarning: A column-vector y was passed when a 1d array was expected. Please change the shape of y to (n_samples, ), for example using ravel().\n",
      "  y = column_or_1d(y, warn=True)\n",
      "/opt/conda/lib/python3.10/site-packages/sklearn/utils/validation.py:1143: DataConversionWarning: A column-vector y was passed when a 1d array was expected. Please change the shape of y to (n_samples, ), for example using ravel().\n",
      "  y = column_or_1d(y, warn=True)\n",
      "/opt/conda/lib/python3.10/site-packages/sklearn/utils/validation.py:1143: DataConversionWarning: A column-vector y was passed when a 1d array was expected. Please change the shape of y to (n_samples, ), for example using ravel().\n",
      "  y = column_or_1d(y, warn=True)\n",
      "/opt/conda/lib/python3.10/site-packages/sklearn/utils/validation.py:1143: DataConversionWarning: A column-vector y was passed when a 1d array was expected. Please change the shape of y to (n_samples, ), for example using ravel().\n",
      "  y = column_or_1d(y, warn=True)\n",
      "/opt/conda/lib/python3.10/site-packages/sklearn/utils/validation.py:1143: DataConversionWarning: A column-vector y was passed when a 1d array was expected. Please change the shape of y to (n_samples, ), for example using ravel().\n",
      "  y = column_or_1d(y, warn=True)\n",
      "/opt/conda/lib/python3.10/site-packages/sklearn/utils/validation.py:1143: DataConversionWarning: A column-vector y was passed when a 1d array was expected. Please change the shape of y to (n_samples, ), for example using ravel().\n",
      "  y = column_or_1d(y, warn=True)\n",
      "/opt/conda/lib/python3.10/site-packages/sklearn/utils/validation.py:1143: DataConversionWarning: A column-vector y was passed when a 1d array was expected. Please change the shape of y to (n_samples, ), for example using ravel().\n",
      "  y = column_or_1d(y, warn=True)\n",
      "/opt/conda/lib/python3.10/site-packages/sklearn/utils/validation.py:1143: DataConversionWarning: A column-vector y was passed when a 1d array was expected. Please change the shape of y to (n_samples, ), for example using ravel().\n",
      "  y = column_or_1d(y, warn=True)\n",
      "/opt/conda/lib/python3.10/site-packages/sklearn/utils/validation.py:1143: DataConversionWarning: A column-vector y was passed when a 1d array was expected. Please change the shape of y to (n_samples, ), for example using ravel().\n",
      "  y = column_or_1d(y, warn=True)\n",
      "/opt/conda/lib/python3.10/site-packages/sklearn/utils/validation.py:1143: DataConversionWarning: A column-vector y was passed when a 1d array was expected. Please change the shape of y to (n_samples, ), for example using ravel().\n",
      "  y = column_or_1d(y, warn=True)\n",
      "/opt/conda/lib/python3.10/site-packages/sklearn/utils/validation.py:1143: DataConversionWarning: A column-vector y was passed when a 1d array was expected. Please change the shape of y to (n_samples, ), for example using ravel().\n",
      "  y = column_or_1d(y, warn=True)\n",
      "/opt/conda/lib/python3.10/site-packages/sklearn/utils/validation.py:1143: DataConversionWarning: A column-vector y was passed when a 1d array was expected. Please change the shape of y to (n_samples, ), for example using ravel().\n",
      "  y = column_or_1d(y, warn=True)\n",
      "/opt/conda/lib/python3.10/site-packages/sklearn/utils/validation.py:1143: DataConversionWarning: A column-vector y was passed when a 1d array was expected. Please change the shape of y to (n_samples, ), for example using ravel().\n",
      "  y = column_or_1d(y, warn=True)\n",
      "/opt/conda/lib/python3.10/site-packages/sklearn/utils/validation.py:1143: DataConversionWarning: A column-vector y was passed when a 1d array was expected. Please change the shape of y to (n_samples, ), for example using ravel().\n",
      "  y = column_or_1d(y, warn=True)\n",
      "/opt/conda/lib/python3.10/site-packages/sklearn/utils/validation.py:1143: DataConversionWarning: A column-vector y was passed when a 1d array was expected. Please change the shape of y to (n_samples, ), for example using ravel().\n",
      "  y = column_or_1d(y, warn=True)\n",
      "/opt/conda/lib/python3.10/site-packages/sklearn/utils/validation.py:1143: DataConversionWarning: A column-vector y was passed when a 1d array was expected. Please change the shape of y to (n_samples, ), for example using ravel().\n",
      "  y = column_or_1d(y, warn=True)\n",
      "/opt/conda/lib/python3.10/site-packages/sklearn/utils/validation.py:1143: DataConversionWarning: A column-vector y was passed when a 1d array was expected. Please change the shape of y to (n_samples, ), for example using ravel().\n",
      "  y = column_or_1d(y, warn=True)\n",
      "/opt/conda/lib/python3.10/site-packages/sklearn/utils/validation.py:1143: DataConversionWarning: A column-vector y was passed when a 1d array was expected. Please change the shape of y to (n_samples, ), for example using ravel().\n",
      "  y = column_or_1d(y, warn=True)\n",
      "/opt/conda/lib/python3.10/site-packages/sklearn/utils/validation.py:1143: DataConversionWarning: A column-vector y was passed when a 1d array was expected. Please change the shape of y to (n_samples, ), for example using ravel().\n",
      "  y = column_or_1d(y, warn=True)\n",
      "/opt/conda/lib/python3.10/site-packages/sklearn/utils/validation.py:1143: DataConversionWarning: A column-vector y was passed when a 1d array was expected. Please change the shape of y to (n_samples, ), for example using ravel().\n",
      "  y = column_or_1d(y, warn=True)\n",
      "/opt/conda/lib/python3.10/site-packages/sklearn/utils/validation.py:1143: DataConversionWarning: A column-vector y was passed when a 1d array was expected. Please change the shape of y to (n_samples, ), for example using ravel().\n",
      "  y = column_or_1d(y, warn=True)\n",
      "/opt/conda/lib/python3.10/site-packages/sklearn/utils/validation.py:1143: DataConversionWarning: A column-vector y was passed when a 1d array was expected. Please change the shape of y to (n_samples, ), for example using ravel().\n",
      "  y = column_or_1d(y, warn=True)\n",
      "/opt/conda/lib/python3.10/site-packages/sklearn/utils/validation.py:1143: DataConversionWarning: A column-vector y was passed when a 1d array was expected. Please change the shape of y to (n_samples, ), for example using ravel().\n",
      "  y = column_or_1d(y, warn=True)\n",
      "/opt/conda/lib/python3.10/site-packages/sklearn/utils/validation.py:1143: DataConversionWarning: A column-vector y was passed when a 1d array was expected. Please change the shape of y to (n_samples, ), for example using ravel().\n",
      "  y = column_or_1d(y, warn=True)\n",
      "/opt/conda/lib/python3.10/site-packages/sklearn/utils/validation.py:1143: DataConversionWarning: A column-vector y was passed when a 1d array was expected. Please change the shape of y to (n_samples, ), for example using ravel().\n",
      "  y = column_or_1d(y, warn=True)\n",
      "/opt/conda/lib/python3.10/site-packages/sklearn/utils/validation.py:1143: DataConversionWarning: A column-vector y was passed when a 1d array was expected. Please change the shape of y to (n_samples, ), for example using ravel().\n",
      "  y = column_or_1d(y, warn=True)\n",
      "/opt/conda/lib/python3.10/site-packages/sklearn/utils/validation.py:1143: DataConversionWarning: A column-vector y was passed when a 1d array was expected. Please change the shape of y to (n_samples, ), for example using ravel().\n",
      "  y = column_or_1d(y, warn=True)\n",
      "/opt/conda/lib/python3.10/site-packages/sklearn/utils/validation.py:1143: DataConversionWarning: A column-vector y was passed when a 1d array was expected. Please change the shape of y to (n_samples, ), for example using ravel().\n",
      "  y = column_or_1d(y, warn=True)\n",
      "/opt/conda/lib/python3.10/site-packages/sklearn/utils/validation.py:1143: DataConversionWarning: A column-vector y was passed when a 1d array was expected. Please change the shape of y to (n_samples, ), for example using ravel().\n",
      "  y = column_or_1d(y, warn=True)\n",
      "/opt/conda/lib/python3.10/site-packages/sklearn/utils/validation.py:1143: DataConversionWarning: A column-vector y was passed when a 1d array was expected. Please change the shape of y to (n_samples, ), for example using ravel().\n",
      "  y = column_or_1d(y, warn=True)\n",
      "/opt/conda/lib/python3.10/site-packages/sklearn/utils/validation.py:1143: DataConversionWarning: A column-vector y was passed when a 1d array was expected. Please change the shape of y to (n_samples, ), for example using ravel().\n",
      "  y = column_or_1d(y, warn=True)\n",
      "/opt/conda/lib/python3.10/site-packages/sklearn/utils/validation.py:1143: DataConversionWarning: A column-vector y was passed when a 1d array was expected. Please change the shape of y to (n_samples, ), for example using ravel().\n",
      "  y = column_or_1d(y, warn=True)\n",
      "/opt/conda/lib/python3.10/site-packages/sklearn/utils/validation.py:1143: DataConversionWarning: A column-vector y was passed when a 1d array was expected. Please change the shape of y to (n_samples, ), for example using ravel().\n",
      "  y = column_or_1d(y, warn=True)\n",
      "/opt/conda/lib/python3.10/site-packages/sklearn/utils/validation.py:1143: DataConversionWarning: A column-vector y was passed when a 1d array was expected. Please change the shape of y to (n_samples, ), for example using ravel().\n",
      "  y = column_or_1d(y, warn=True)\n",
      "/opt/conda/lib/python3.10/site-packages/sklearn/utils/validation.py:1143: DataConversionWarning: A column-vector y was passed when a 1d array was expected. Please change the shape of y to (n_samples, ), for example using ravel().\n",
      "  y = column_or_1d(y, warn=True)\n",
      "/opt/conda/lib/python3.10/site-packages/sklearn/utils/validation.py:1143: DataConversionWarning: A column-vector y was passed when a 1d array was expected. Please change the shape of y to (n_samples, ), for example using ravel().\n",
      "  y = column_or_1d(y, warn=True)\n",
      "/opt/conda/lib/python3.10/site-packages/sklearn/utils/validation.py:1143: DataConversionWarning: A column-vector y was passed when a 1d array was expected. Please change the shape of y to (n_samples, ), for example using ravel().\n",
      "  y = column_or_1d(y, warn=True)\n",
      "/opt/conda/lib/python3.10/site-packages/sklearn/utils/validation.py:1143: DataConversionWarning: A column-vector y was passed when a 1d array was expected. Please change the shape of y to (n_samples, ), for example using ravel().\n",
      "  y = column_or_1d(y, warn=True)\n",
      "/opt/conda/lib/python3.10/site-packages/sklearn/utils/validation.py:1143: DataConversionWarning: A column-vector y was passed when a 1d array was expected. Please change the shape of y to (n_samples, ), for example using ravel().\n",
      "  y = column_or_1d(y, warn=True)\n",
      "/opt/conda/lib/python3.10/site-packages/sklearn/utils/validation.py:1143: DataConversionWarning: A column-vector y was passed when a 1d array was expected. Please change the shape of y to (n_samples, ), for example using ravel().\n",
      "  y = column_or_1d(y, warn=True)\n",
      "/opt/conda/lib/python3.10/site-packages/sklearn/utils/validation.py:1143: DataConversionWarning: A column-vector y was passed when a 1d array was expected. Please change the shape of y to (n_samples, ), for example using ravel().\n",
      "  y = column_or_1d(y, warn=True)\n",
      "/opt/conda/lib/python3.10/site-packages/sklearn/utils/validation.py:1143: DataConversionWarning: A column-vector y was passed when a 1d array was expected. Please change the shape of y to (n_samples, ), for example using ravel().\n",
      "  y = column_or_1d(y, warn=True)\n",
      "/opt/conda/lib/python3.10/site-packages/sklearn/utils/validation.py:1143: DataConversionWarning: A column-vector y was passed when a 1d array was expected. Please change the shape of y to (n_samples, ), for example using ravel().\n",
      "  y = column_or_1d(y, warn=True)\n",
      "/opt/conda/lib/python3.10/site-packages/sklearn/utils/validation.py:1143: DataConversionWarning: A column-vector y was passed when a 1d array was expected. Please change the shape of y to (n_samples, ), for example using ravel().\n",
      "  y = column_or_1d(y, warn=True)\n",
      "/opt/conda/lib/python3.10/site-packages/sklearn/utils/validation.py:1143: DataConversionWarning: A column-vector y was passed when a 1d array was expected. Please change the shape of y to (n_samples, ), for example using ravel().\n",
      "  y = column_or_1d(y, warn=True)\n",
      "/opt/conda/lib/python3.10/site-packages/sklearn/utils/validation.py:1143: DataConversionWarning: A column-vector y was passed when a 1d array was expected. Please change the shape of y to (n_samples, ), for example using ravel().\n",
      "  y = column_or_1d(y, warn=True)\n",
      "/opt/conda/lib/python3.10/site-packages/sklearn/utils/validation.py:1143: DataConversionWarning: A column-vector y was passed when a 1d array was expected. Please change the shape of y to (n_samples, ), for example using ravel().\n",
      "  y = column_or_1d(y, warn=True)\n",
      "/opt/conda/lib/python3.10/site-packages/sklearn/utils/validation.py:1143: DataConversionWarning: A column-vector y was passed when a 1d array was expected. Please change the shape of y to (n_samples, ), for example using ravel().\n",
      "  y = column_or_1d(y, warn=True)\n",
      "/opt/conda/lib/python3.10/site-packages/sklearn/utils/validation.py:1143: DataConversionWarning: A column-vector y was passed when a 1d array was expected. Please change the shape of y to (n_samples, ), for example using ravel().\n",
      "  y = column_or_1d(y, warn=True)\n",
      "/opt/conda/lib/python3.10/site-packages/sklearn/utils/validation.py:1143: DataConversionWarning: A column-vector y was passed when a 1d array was expected. Please change the shape of y to (n_samples, ), for example using ravel().\n",
      "  y = column_or_1d(y, warn=True)\n",
      "/opt/conda/lib/python3.10/site-packages/sklearn/utils/validation.py:1143: DataConversionWarning: A column-vector y was passed when a 1d array was expected. Please change the shape of y to (n_samples, ), for example using ravel().\n",
      "  y = column_or_1d(y, warn=True)\n",
      "/opt/conda/lib/python3.10/site-packages/sklearn/utils/validation.py:1143: DataConversionWarning: A column-vector y was passed when a 1d array was expected. Please change the shape of y to (n_samples, ), for example using ravel().\n",
      "  y = column_or_1d(y, warn=True)\n",
      "/opt/conda/lib/python3.10/site-packages/sklearn/utils/validation.py:1143: DataConversionWarning: A column-vector y was passed when a 1d array was expected. Please change the shape of y to (n_samples, ), for example using ravel().\n",
      "  y = column_or_1d(y, warn=True)\n",
      "/opt/conda/lib/python3.10/site-packages/sklearn/utils/validation.py:1143: DataConversionWarning: A column-vector y was passed when a 1d array was expected. Please change the shape of y to (n_samples, ), for example using ravel().\n",
      "  y = column_or_1d(y, warn=True)\n",
      "/opt/conda/lib/python3.10/site-packages/sklearn/utils/validation.py:1143: DataConversionWarning: A column-vector y was passed when a 1d array was expected. Please change the shape of y to (n_samples, ), for example using ravel().\n",
      "  y = column_or_1d(y, warn=True)\n",
      "/opt/conda/lib/python3.10/site-packages/sklearn/utils/validation.py:1143: DataConversionWarning: A column-vector y was passed when a 1d array was expected. Please change the shape of y to (n_samples, ), for example using ravel().\n",
      "  y = column_or_1d(y, warn=True)\n",
      "/opt/conda/lib/python3.10/site-packages/sklearn/utils/validation.py:1143: DataConversionWarning: A column-vector y was passed when a 1d array was expected. Please change the shape of y to (n_samples, ), for example using ravel().\n",
      "  y = column_or_1d(y, warn=True)\n",
      "/opt/conda/lib/python3.10/site-packages/sklearn/utils/validation.py:1143: DataConversionWarning: A column-vector y was passed when a 1d array was expected. Please change the shape of y to (n_samples, ), for example using ravel().\n",
      "  y = column_or_1d(y, warn=True)\n",
      "/opt/conda/lib/python3.10/site-packages/sklearn/utils/validation.py:1143: DataConversionWarning: A column-vector y was passed when a 1d array was expected. Please change the shape of y to (n_samples, ), for example using ravel().\n",
      "  y = column_or_1d(y, warn=True)\n",
      "/opt/conda/lib/python3.10/site-packages/sklearn/utils/validation.py:1143: DataConversionWarning: A column-vector y was passed when a 1d array was expected. Please change the shape of y to (n_samples, ), for example using ravel().\n",
      "  y = column_or_1d(y, warn=True)\n",
      "/opt/conda/lib/python3.10/site-packages/sklearn/utils/validation.py:1143: DataConversionWarning: A column-vector y was passed when a 1d array was expected. Please change the shape of y to (n_samples, ), for example using ravel().\n",
      "  y = column_or_1d(y, warn=True)\n",
      "/opt/conda/lib/python3.10/site-packages/sklearn/utils/validation.py:1143: DataConversionWarning: A column-vector y was passed when a 1d array was expected. Please change the shape of y to (n_samples, ), for example using ravel().\n",
      "  y = column_or_1d(y, warn=True)\n",
      "/opt/conda/lib/python3.10/site-packages/sklearn/utils/validation.py:1143: DataConversionWarning: A column-vector y was passed when a 1d array was expected. Please change the shape of y to (n_samples, ), for example using ravel().\n",
      "  y = column_or_1d(y, warn=True)\n",
      "/opt/conda/lib/python3.10/site-packages/sklearn/utils/validation.py:1143: DataConversionWarning: A column-vector y was passed when a 1d array was expected. Please change the shape of y to (n_samples, ), for example using ravel().\n",
      "  y = column_or_1d(y, warn=True)\n",
      "/opt/conda/lib/python3.10/site-packages/sklearn/utils/validation.py:1143: DataConversionWarning: A column-vector y was passed when a 1d array was expected. Please change the shape of y to (n_samples, ), for example using ravel().\n",
      "  y = column_or_1d(y, warn=True)\n",
      "/opt/conda/lib/python3.10/site-packages/sklearn/utils/validation.py:1143: DataConversionWarning: A column-vector y was passed when a 1d array was expected. Please change the shape of y to (n_samples, ), for example using ravel().\n",
      "  y = column_or_1d(y, warn=True)\n",
      "/opt/conda/lib/python3.10/site-packages/sklearn/utils/validation.py:1143: DataConversionWarning: A column-vector y was passed when a 1d array was expected. Please change the shape of y to (n_samples, ), for example using ravel().\n",
      "  y = column_or_1d(y, warn=True)\n",
      "/opt/conda/lib/python3.10/site-packages/sklearn/utils/validation.py:1143: DataConversionWarning: A column-vector y was passed when a 1d array was expected. Please change the shape of y to (n_samples, ), for example using ravel().\n",
      "  y = column_or_1d(y, warn=True)\n",
      "/opt/conda/lib/python3.10/site-packages/sklearn/utils/validation.py:1143: DataConversionWarning: A column-vector y was passed when a 1d array was expected. Please change the shape of y to (n_samples, ), for example using ravel().\n",
      "  y = column_or_1d(y, warn=True)\n",
      "/opt/conda/lib/python3.10/site-packages/sklearn/utils/validation.py:1143: DataConversionWarning: A column-vector y was passed when a 1d array was expected. Please change the shape of y to (n_samples, ), for example using ravel().\n",
      "  y = column_or_1d(y, warn=True)\n",
      "/opt/conda/lib/python3.10/site-packages/sklearn/utils/validation.py:1143: DataConversionWarning: A column-vector y was passed when a 1d array was expected. Please change the shape of y to (n_samples, ), for example using ravel().\n",
      "  y = column_or_1d(y, warn=True)\n",
      "/opt/conda/lib/python3.10/site-packages/sklearn/utils/validation.py:1143: DataConversionWarning: A column-vector y was passed when a 1d array was expected. Please change the shape of y to (n_samples, ), for example using ravel().\n",
      "  y = column_or_1d(y, warn=True)\n",
      "/opt/conda/lib/python3.10/site-packages/sklearn/utils/validation.py:1143: DataConversionWarning: A column-vector y was passed when a 1d array was expected. Please change the shape of y to (n_samples, ), for example using ravel().\n",
      "  y = column_or_1d(y, warn=True)\n",
      "/opt/conda/lib/python3.10/site-packages/sklearn/utils/validation.py:1143: DataConversionWarning: A column-vector y was passed when a 1d array was expected. Please change the shape of y to (n_samples, ), for example using ravel().\n",
      "  y = column_or_1d(y, warn=True)\n",
      "/opt/conda/lib/python3.10/site-packages/sklearn/utils/validation.py:1143: DataConversionWarning: A column-vector y was passed when a 1d array was expected. Please change the shape of y to (n_samples, ), for example using ravel().\n",
      "  y = column_or_1d(y, warn=True)\n",
      "/opt/conda/lib/python3.10/site-packages/sklearn/utils/validation.py:1143: DataConversionWarning: A column-vector y was passed when a 1d array was expected. Please change the shape of y to (n_samples, ), for example using ravel().\n",
      "  y = column_or_1d(y, warn=True)\n",
      "/opt/conda/lib/python3.10/site-packages/sklearn/utils/validation.py:1143: DataConversionWarning: A column-vector y was passed when a 1d array was expected. Please change the shape of y to (n_samples, ), for example using ravel().\n",
      "  y = column_or_1d(y, warn=True)\n",
      "/opt/conda/lib/python3.10/site-packages/sklearn/utils/validation.py:1143: DataConversionWarning: A column-vector y was passed when a 1d array was expected. Please change the shape of y to (n_samples, ), for example using ravel().\n",
      "  y = column_or_1d(y, warn=True)\n",
      "/opt/conda/lib/python3.10/site-packages/sklearn/utils/validation.py:1143: DataConversionWarning: A column-vector y was passed when a 1d array was expected. Please change the shape of y to (n_samples, ), for example using ravel().\n",
      "  y = column_or_1d(y, warn=True)\n",
      "/opt/conda/lib/python3.10/site-packages/sklearn/utils/validation.py:1143: DataConversionWarning: A column-vector y was passed when a 1d array was expected. Please change the shape of y to (n_samples, ), for example using ravel().\n",
      "  y = column_or_1d(y, warn=True)\n",
      "/opt/conda/lib/python3.10/site-packages/sklearn/utils/validation.py:1143: DataConversionWarning: A column-vector y was passed when a 1d array was expected. Please change the shape of y to (n_samples, ), for example using ravel().\n",
      "  y = column_or_1d(y, warn=True)\n",
      "/opt/conda/lib/python3.10/site-packages/sklearn/utils/validation.py:1143: DataConversionWarning: A column-vector y was passed when a 1d array was expected. Please change the shape of y to (n_samples, ), for example using ravel().\n",
      "  y = column_or_1d(y, warn=True)\n",
      "/opt/conda/lib/python3.10/site-packages/sklearn/utils/validation.py:1143: DataConversionWarning: A column-vector y was passed when a 1d array was expected. Please change the shape of y to (n_samples, ), for example using ravel().\n",
      "  y = column_or_1d(y, warn=True)\n",
      "/opt/conda/lib/python3.10/site-packages/sklearn/utils/validation.py:1143: DataConversionWarning: A column-vector y was passed when a 1d array was expected. Please change the shape of y to (n_samples, ), for example using ravel().\n",
      "  y = column_or_1d(y, warn=True)\n",
      "/opt/conda/lib/python3.10/site-packages/sklearn/utils/validation.py:1143: DataConversionWarning: A column-vector y was passed when a 1d array was expected. Please change the shape of y to (n_samples, ), for example using ravel().\n",
      "  y = column_or_1d(y, warn=True)\n",
      "/opt/conda/lib/python3.10/site-packages/sklearn/utils/validation.py:1143: DataConversionWarning: A column-vector y was passed when a 1d array was expected. Please change the shape of y to (n_samples, ), for example using ravel().\n",
      "  y = column_or_1d(y, warn=True)\n",
      "/opt/conda/lib/python3.10/site-packages/sklearn/utils/validation.py:1143: DataConversionWarning: A column-vector y was passed when a 1d array was expected. Please change the shape of y to (n_samples, ), for example using ravel().\n",
      "  y = column_or_1d(y, warn=True)\n",
      "/opt/conda/lib/python3.10/site-packages/sklearn/utils/validation.py:1143: DataConversionWarning: A column-vector y was passed when a 1d array was expected. Please change the shape of y to (n_samples, ), for example using ravel().\n",
      "  y = column_or_1d(y, warn=True)\n",
      "/opt/conda/lib/python3.10/site-packages/sklearn/utils/validation.py:1143: DataConversionWarning: A column-vector y was passed when a 1d array was expected. Please change the shape of y to (n_samples, ), for example using ravel().\n",
      "  y = column_or_1d(y, warn=True)\n",
      "/opt/conda/lib/python3.10/site-packages/sklearn/utils/validation.py:1143: DataConversionWarning: A column-vector y was passed when a 1d array was expected. Please change the shape of y to (n_samples, ), for example using ravel().\n",
      "  y = column_or_1d(y, warn=True)\n",
      "/opt/conda/lib/python3.10/site-packages/sklearn/utils/validation.py:1143: DataConversionWarning: A column-vector y was passed when a 1d array was expected. Please change the shape of y to (n_samples, ), for example using ravel().\n",
      "  y = column_or_1d(y, warn=True)\n",
      "/opt/conda/lib/python3.10/site-packages/sklearn/utils/validation.py:1143: DataConversionWarning: A column-vector y was passed when a 1d array was expected. Please change the shape of y to (n_samples, ), for example using ravel().\n",
      "  y = column_or_1d(y, warn=True)\n",
      "/opt/conda/lib/python3.10/site-packages/sklearn/utils/validation.py:1143: DataConversionWarning: A column-vector y was passed when a 1d array was expected. Please change the shape of y to (n_samples, ), for example using ravel().\n",
      "  y = column_or_1d(y, warn=True)\n",
      "/opt/conda/lib/python3.10/site-packages/sklearn/utils/validation.py:1143: DataConversionWarning: A column-vector y was passed when a 1d array was expected. Please change the shape of y to (n_samples, ), for example using ravel().\n",
      "  y = column_or_1d(y, warn=True)\n",
      "/opt/conda/lib/python3.10/site-packages/sklearn/utils/validation.py:1143: DataConversionWarning: A column-vector y was passed when a 1d array was expected. Please change the shape of y to (n_samples, ), for example using ravel().\n",
      "  y = column_or_1d(y, warn=True)\n",
      "/opt/conda/lib/python3.10/site-packages/sklearn/utils/validation.py:1143: DataConversionWarning: A column-vector y was passed when a 1d array was expected. Please change the shape of y to (n_samples, ), for example using ravel().\n",
      "  y = column_or_1d(y, warn=True)\n",
      "/opt/conda/lib/python3.10/site-packages/sklearn/utils/validation.py:1143: DataConversionWarning: A column-vector y was passed when a 1d array was expected. Please change the shape of y to (n_samples, ), for example using ravel().\n",
      "  y = column_or_1d(y, warn=True)\n",
      "/opt/conda/lib/python3.10/site-packages/sklearn/utils/validation.py:1143: DataConversionWarning: A column-vector y was passed when a 1d array was expected. Please change the shape of y to (n_samples, ), for example using ravel().\n",
      "  y = column_or_1d(y, warn=True)\n",
      "/opt/conda/lib/python3.10/site-packages/sklearn/utils/validation.py:1143: DataConversionWarning: A column-vector y was passed when a 1d array was expected. Please change the shape of y to (n_samples, ), for example using ravel().\n",
      "  y = column_or_1d(y, warn=True)\n",
      "/opt/conda/lib/python3.10/site-packages/sklearn/utils/validation.py:1143: DataConversionWarning: A column-vector y was passed when a 1d array was expected. Please change the shape of y to (n_samples, ), for example using ravel().\n",
      "  y = column_or_1d(y, warn=True)\n",
      "/opt/conda/lib/python3.10/site-packages/sklearn/utils/validation.py:1143: DataConversionWarning: A column-vector y was passed when a 1d array was expected. Please change the shape of y to (n_samples, ), for example using ravel().\n",
      "  y = column_or_1d(y, warn=True)\n",
      "/opt/conda/lib/python3.10/site-packages/sklearn/utils/validation.py:1143: DataConversionWarning: A column-vector y was passed when a 1d array was expected. Please change the shape of y to (n_samples, ), for example using ravel().\n",
      "  y = column_or_1d(y, warn=True)\n",
      "/opt/conda/lib/python3.10/site-packages/sklearn/utils/validation.py:1143: DataConversionWarning: A column-vector y was passed when a 1d array was expected. Please change the shape of y to (n_samples, ), for example using ravel().\n",
      "  y = column_or_1d(y, warn=True)\n",
      "/opt/conda/lib/python3.10/site-packages/sklearn/utils/validation.py:1143: DataConversionWarning: A column-vector y was passed when a 1d array was expected. Please change the shape of y to (n_samples, ), for example using ravel().\n",
      "  y = column_or_1d(y, warn=True)\n",
      "/opt/conda/lib/python3.10/site-packages/sklearn/utils/validation.py:1143: DataConversionWarning: A column-vector y was passed when a 1d array was expected. Please change the shape of y to (n_samples, ), for example using ravel().\n",
      "  y = column_or_1d(y, warn=True)\n",
      "/opt/conda/lib/python3.10/site-packages/sklearn/utils/validation.py:1143: DataConversionWarning: A column-vector y was passed when a 1d array was expected. Please change the shape of y to (n_samples, ), for example using ravel().\n",
      "  y = column_or_1d(y, warn=True)\n",
      "/opt/conda/lib/python3.10/site-packages/sklearn/utils/validation.py:1143: DataConversionWarning: A column-vector y was passed when a 1d array was expected. Please change the shape of y to (n_samples, ), for example using ravel().\n",
      "  y = column_or_1d(y, warn=True)\n",
      "/opt/conda/lib/python3.10/site-packages/sklearn/utils/validation.py:1143: DataConversionWarning: A column-vector y was passed when a 1d array was expected. Please change the shape of y to (n_samples, ), for example using ravel().\n",
      "  y = column_or_1d(y, warn=True)\n",
      "/opt/conda/lib/python3.10/site-packages/sklearn/utils/validation.py:1143: DataConversionWarning: A column-vector y was passed when a 1d array was expected. Please change the shape of y to (n_samples, ), for example using ravel().\n",
      "  y = column_or_1d(y, warn=True)\n",
      "/opt/conda/lib/python3.10/site-packages/sklearn/utils/validation.py:1143: DataConversionWarning: A column-vector y was passed when a 1d array was expected. Please change the shape of y to (n_samples, ), for example using ravel().\n",
      "  y = column_or_1d(y, warn=True)\n",
      "/opt/conda/lib/python3.10/site-packages/sklearn/utils/validation.py:1143: DataConversionWarning: A column-vector y was passed when a 1d array was expected. Please change the shape of y to (n_samples, ), for example using ravel().\n",
      "  y = column_or_1d(y, warn=True)\n",
      "/opt/conda/lib/python3.10/site-packages/sklearn/utils/validation.py:1143: DataConversionWarning: A column-vector y was passed when a 1d array was expected. Please change the shape of y to (n_samples, ), for example using ravel().\n",
      "  y = column_or_1d(y, warn=True)\n",
      "/opt/conda/lib/python3.10/site-packages/sklearn/utils/validation.py:1143: DataConversionWarning: A column-vector y was passed when a 1d array was expected. Please change the shape of y to (n_samples, ), for example using ravel().\n",
      "  y = column_or_1d(y, warn=True)\n",
      "/opt/conda/lib/python3.10/site-packages/sklearn/utils/validation.py:1143: DataConversionWarning: A column-vector y was passed when a 1d array was expected. Please change the shape of y to (n_samples, ), for example using ravel().\n",
      "  y = column_or_1d(y, warn=True)\n",
      "/opt/conda/lib/python3.10/site-packages/sklearn/utils/validation.py:1143: DataConversionWarning: A column-vector y was passed when a 1d array was expected. Please change the shape of y to (n_samples, ), for example using ravel().\n",
      "  y = column_or_1d(y, warn=True)\n",
      "/opt/conda/lib/python3.10/site-packages/sklearn/utils/validation.py:1143: DataConversionWarning: A column-vector y was passed when a 1d array was expected. Please change the shape of y to (n_samples, ), for example using ravel().\n",
      "  y = column_or_1d(y, warn=True)\n",
      "/opt/conda/lib/python3.10/site-packages/sklearn/utils/validation.py:1143: DataConversionWarning: A column-vector y was passed when a 1d array was expected. Please change the shape of y to (n_samples, ), for example using ravel().\n",
      "  y = column_or_1d(y, warn=True)\n",
      "/opt/conda/lib/python3.10/site-packages/sklearn/utils/validation.py:1143: DataConversionWarning: A column-vector y was passed when a 1d array was expected. Please change the shape of y to (n_samples, ), for example using ravel().\n",
      "  y = column_or_1d(y, warn=True)\n",
      "/opt/conda/lib/python3.10/site-packages/sklearn/utils/validation.py:1143: DataConversionWarning: A column-vector y was passed when a 1d array was expected. Please change the shape of y to (n_samples, ), for example using ravel().\n",
      "  y = column_or_1d(y, warn=True)\n",
      "/opt/conda/lib/python3.10/site-packages/sklearn/utils/validation.py:1143: DataConversionWarning: A column-vector y was passed when a 1d array was expected. Please change the shape of y to (n_samples, ), for example using ravel().\n",
      "  y = column_or_1d(y, warn=True)\n",
      "/opt/conda/lib/python3.10/site-packages/sklearn/utils/validation.py:1143: DataConversionWarning: A column-vector y was passed when a 1d array was expected. Please change the shape of y to (n_samples, ), for example using ravel().\n",
      "  y = column_or_1d(y, warn=True)\n",
      "/opt/conda/lib/python3.10/site-packages/sklearn/utils/validation.py:1143: DataConversionWarning: A column-vector y was passed when a 1d array was expected. Please change the shape of y to (n_samples, ), for example using ravel().\n",
      "  y = column_or_1d(y, warn=True)\n",
      "/opt/conda/lib/python3.10/site-packages/sklearn/utils/validation.py:1143: DataConversionWarning: A column-vector y was passed when a 1d array was expected. Please change the shape of y to (n_samples, ), for example using ravel().\n",
      "  y = column_or_1d(y, warn=True)\n",
      "/opt/conda/lib/python3.10/site-packages/sklearn/utils/validation.py:1143: DataConversionWarning: A column-vector y was passed when a 1d array was expected. Please change the shape of y to (n_samples, ), for example using ravel().\n",
      "  y = column_or_1d(y, warn=True)\n",
      "/opt/conda/lib/python3.10/site-packages/sklearn/utils/validation.py:1143: DataConversionWarning: A column-vector y was passed when a 1d array was expected. Please change the shape of y to (n_samples, ), for example using ravel().\n",
      "  y = column_or_1d(y, warn=True)\n",
      "/opt/conda/lib/python3.10/site-packages/sklearn/utils/validation.py:1143: DataConversionWarning: A column-vector y was passed when a 1d array was expected. Please change the shape of y to (n_samples, ), for example using ravel().\n",
      "  y = column_or_1d(y, warn=True)\n",
      "/opt/conda/lib/python3.10/site-packages/sklearn/utils/validation.py:1143: DataConversionWarning: A column-vector y was passed when a 1d array was expected. Please change the shape of y to (n_samples, ), for example using ravel().\n",
      "  y = column_or_1d(y, warn=True)\n",
      "/opt/conda/lib/python3.10/site-packages/sklearn/utils/validation.py:1143: DataConversionWarning: A column-vector y was passed when a 1d array was expected. Please change the shape of y to (n_samples, ), for example using ravel().\n",
      "  y = column_or_1d(y, warn=True)\n",
      "/opt/conda/lib/python3.10/site-packages/sklearn/utils/validation.py:1143: DataConversionWarning: A column-vector y was passed when a 1d array was expected. Please change the shape of y to (n_samples, ), for example using ravel().\n",
      "  y = column_or_1d(y, warn=True)\n",
      "/opt/conda/lib/python3.10/site-packages/sklearn/utils/validation.py:1143: DataConversionWarning: A column-vector y was passed when a 1d array was expected. Please change the shape of y to (n_samples, ), for example using ravel().\n",
      "  y = column_or_1d(y, warn=True)\n",
      "/opt/conda/lib/python3.10/site-packages/sklearn/utils/validation.py:1143: DataConversionWarning: A column-vector y was passed when a 1d array was expected. Please change the shape of y to (n_samples, ), for example using ravel().\n",
      "  y = column_or_1d(y, warn=True)\n",
      "/opt/conda/lib/python3.10/site-packages/sklearn/utils/validation.py:1143: DataConversionWarning: A column-vector y was passed when a 1d array was expected. Please change the shape of y to (n_samples, ), for example using ravel().\n",
      "  y = column_or_1d(y, warn=True)\n",
      "/opt/conda/lib/python3.10/site-packages/sklearn/utils/validation.py:1143: DataConversionWarning: A column-vector y was passed when a 1d array was expected. Please change the shape of y to (n_samples, ), for example using ravel().\n",
      "  y = column_or_1d(y, warn=True)\n",
      "/opt/conda/lib/python3.10/site-packages/sklearn/utils/validation.py:1143: DataConversionWarning: A column-vector y was passed when a 1d array was expected. Please change the shape of y to (n_samples, ), for example using ravel().\n",
      "  y = column_or_1d(y, warn=True)\n",
      "/opt/conda/lib/python3.10/site-packages/sklearn/utils/validation.py:1143: DataConversionWarning: A column-vector y was passed when a 1d array was expected. Please change the shape of y to (n_samples, ), for example using ravel().\n",
      "  y = column_or_1d(y, warn=True)\n",
      "/opt/conda/lib/python3.10/site-packages/sklearn/utils/validation.py:1143: DataConversionWarning: A column-vector y was passed when a 1d array was expected. Please change the shape of y to (n_samples, ), for example using ravel().\n",
      "  y = column_or_1d(y, warn=True)\n",
      "/opt/conda/lib/python3.10/site-packages/sklearn/utils/validation.py:1143: DataConversionWarning: A column-vector y was passed when a 1d array was expected. Please change the shape of y to (n_samples, ), for example using ravel().\n",
      "  y = column_or_1d(y, warn=True)\n",
      "/opt/conda/lib/python3.10/site-packages/sklearn/utils/validation.py:1143: DataConversionWarning: A column-vector y was passed when a 1d array was expected. Please change the shape of y to (n_samples, ), for example using ravel().\n",
      "  y = column_or_1d(y, warn=True)\n",
      "/opt/conda/lib/python3.10/site-packages/sklearn/utils/validation.py:1143: DataConversionWarning: A column-vector y was passed when a 1d array was expected. Please change the shape of y to (n_samples, ), for example using ravel().\n",
      "  y = column_or_1d(y, warn=True)\n",
      "/opt/conda/lib/python3.10/site-packages/sklearn/utils/validation.py:1143: DataConversionWarning: A column-vector y was passed when a 1d array was expected. Please change the shape of y to (n_samples, ), for example using ravel().\n",
      "  y = column_or_1d(y, warn=True)\n",
      "/opt/conda/lib/python3.10/site-packages/sklearn/utils/validation.py:1143: DataConversionWarning: A column-vector y was passed when a 1d array was expected. Please change the shape of y to (n_samples, ), for example using ravel().\n",
      "  y = column_or_1d(y, warn=True)\n",
      "/opt/conda/lib/python3.10/site-packages/sklearn/utils/validation.py:1143: DataConversionWarning: A column-vector y was passed when a 1d array was expected. Please change the shape of y to (n_samples, ), for example using ravel().\n",
      "  y = column_or_1d(y, warn=True)\n",
      "/opt/conda/lib/python3.10/site-packages/sklearn/utils/validation.py:1143: DataConversionWarning: A column-vector y was passed when a 1d array was expected. Please change the shape of y to (n_samples, ), for example using ravel().\n",
      "  y = column_or_1d(y, warn=True)\n",
      "/opt/conda/lib/python3.10/site-packages/sklearn/utils/validation.py:1143: DataConversionWarning: A column-vector y was passed when a 1d array was expected. Please change the shape of y to (n_samples, ), for example using ravel().\n",
      "  y = column_or_1d(y, warn=True)\n",
      "/opt/conda/lib/python3.10/site-packages/sklearn/utils/validation.py:1143: DataConversionWarning: A column-vector y was passed when a 1d array was expected. Please change the shape of y to (n_samples, ), for example using ravel().\n",
      "  y = column_or_1d(y, warn=True)\n",
      "/opt/conda/lib/python3.10/site-packages/sklearn/utils/validation.py:1143: DataConversionWarning: A column-vector y was passed when a 1d array was expected. Please change the shape of y to (n_samples, ), for example using ravel().\n",
      "  y = column_or_1d(y, warn=True)\n",
      "/opt/conda/lib/python3.10/site-packages/sklearn/utils/validation.py:1143: DataConversionWarning: A column-vector y was passed when a 1d array was expected. Please change the shape of y to (n_samples, ), for example using ravel().\n",
      "  y = column_or_1d(y, warn=True)\n",
      "/opt/conda/lib/python3.10/site-packages/sklearn/utils/validation.py:1143: DataConversionWarning: A column-vector y was passed when a 1d array was expected. Please change the shape of y to (n_samples, ), for example using ravel().\n",
      "  y = column_or_1d(y, warn=True)\n",
      "/opt/conda/lib/python3.10/site-packages/sklearn/utils/validation.py:1143: DataConversionWarning: A column-vector y was passed when a 1d array was expected. Please change the shape of y to (n_samples, ), for example using ravel().\n",
      "  y = column_or_1d(y, warn=True)\n",
      "/opt/conda/lib/python3.10/site-packages/sklearn/utils/validation.py:1143: DataConversionWarning: A column-vector y was passed when a 1d array was expected. Please change the shape of y to (n_samples, ), for example using ravel().\n",
      "  y = column_or_1d(y, warn=True)\n",
      "/opt/conda/lib/python3.10/site-packages/sklearn/utils/validation.py:1143: DataConversionWarning: A column-vector y was passed when a 1d array was expected. Please change the shape of y to (n_samples, ), for example using ravel().\n",
      "  y = column_or_1d(y, warn=True)\n",
      "/opt/conda/lib/python3.10/site-packages/sklearn/utils/validation.py:1143: DataConversionWarning: A column-vector y was passed when a 1d array was expected. Please change the shape of y to (n_samples, ), for example using ravel().\n",
      "  y = column_or_1d(y, warn=True)\n",
      "/opt/conda/lib/python3.10/site-packages/sklearn/utils/validation.py:1143: DataConversionWarning: A column-vector y was passed when a 1d array was expected. Please change the shape of y to (n_samples, ), for example using ravel().\n",
      "  y = column_or_1d(y, warn=True)\n",
      "/opt/conda/lib/python3.10/site-packages/sklearn/utils/validation.py:1143: DataConversionWarning: A column-vector y was passed when a 1d array was expected. Please change the shape of y to (n_samples, ), for example using ravel().\n",
      "  y = column_or_1d(y, warn=True)\n",
      "/opt/conda/lib/python3.10/site-packages/sklearn/utils/validation.py:1143: DataConversionWarning: A column-vector y was passed when a 1d array was expected. Please change the shape of y to (n_samples, ), for example using ravel().\n",
      "  y = column_or_1d(y, warn=True)\n",
      "/opt/conda/lib/python3.10/site-packages/sklearn/utils/validation.py:1143: DataConversionWarning: A column-vector y was passed when a 1d array was expected. Please change the shape of y to (n_samples, ), for example using ravel().\n",
      "  y = column_or_1d(y, warn=True)\n",
      "/opt/conda/lib/python3.10/site-packages/sklearn/utils/validation.py:1143: DataConversionWarning: A column-vector y was passed when a 1d array was expected. Please change the shape of y to (n_samples, ), for example using ravel().\n",
      "  y = column_or_1d(y, warn=True)\n",
      "/opt/conda/lib/python3.10/site-packages/sklearn/utils/validation.py:1143: DataConversionWarning: A column-vector y was passed when a 1d array was expected. Please change the shape of y to (n_samples, ), for example using ravel().\n",
      "  y = column_or_1d(y, warn=True)\n",
      "/opt/conda/lib/python3.10/site-packages/sklearn/utils/validation.py:1143: DataConversionWarning: A column-vector y was passed when a 1d array was expected. Please change the shape of y to (n_samples, ), for example using ravel().\n",
      "  y = column_or_1d(y, warn=True)\n",
      "/opt/conda/lib/python3.10/site-packages/sklearn/utils/validation.py:1143: DataConversionWarning: A column-vector y was passed when a 1d array was expected. Please change the shape of y to (n_samples, ), for example using ravel().\n",
      "  y = column_or_1d(y, warn=True)\n",
      "/opt/conda/lib/python3.10/site-packages/sklearn/utils/validation.py:1143: DataConversionWarning: A column-vector y was passed when a 1d array was expected. Please change the shape of y to (n_samples, ), for example using ravel().\n",
      "  y = column_or_1d(y, warn=True)\n",
      "/opt/conda/lib/python3.10/site-packages/sklearn/utils/validation.py:1143: DataConversionWarning: A column-vector y was passed when a 1d array was expected. Please change the shape of y to (n_samples, ), for example using ravel().\n",
      "  y = column_or_1d(y, warn=True)\n",
      "/opt/conda/lib/python3.10/site-packages/sklearn/utils/validation.py:1143: DataConversionWarning: A column-vector y was passed when a 1d array was expected. Please change the shape of y to (n_samples, ), for example using ravel().\n",
      "  y = column_or_1d(y, warn=True)\n",
      "/opt/conda/lib/python3.10/site-packages/sklearn/utils/validation.py:1143: DataConversionWarning: A column-vector y was passed when a 1d array was expected. Please change the shape of y to (n_samples, ), for example using ravel().\n",
      "  y = column_or_1d(y, warn=True)\n",
      "/opt/conda/lib/python3.10/site-packages/sklearn/utils/validation.py:1143: DataConversionWarning: A column-vector y was passed when a 1d array was expected. Please change the shape of y to (n_samples, ), for example using ravel().\n",
      "  y = column_or_1d(y, warn=True)\n",
      "/opt/conda/lib/python3.10/site-packages/sklearn/utils/validation.py:1143: DataConversionWarning: A column-vector y was passed when a 1d array was expected. Please change the shape of y to (n_samples, ), for example using ravel().\n",
      "  y = column_or_1d(y, warn=True)\n",
      "/opt/conda/lib/python3.10/site-packages/sklearn/utils/validation.py:1143: DataConversionWarning: A column-vector y was passed when a 1d array was expected. Please change the shape of y to (n_samples, ), for example using ravel().\n",
      "  y = column_or_1d(y, warn=True)\n",
      "/opt/conda/lib/python3.10/site-packages/sklearn/utils/validation.py:1143: DataConversionWarning: A column-vector y was passed when a 1d array was expected. Please change the shape of y to (n_samples, ), for example using ravel().\n",
      "  y = column_or_1d(y, warn=True)\n",
      "/opt/conda/lib/python3.10/site-packages/sklearn/utils/validation.py:1143: DataConversionWarning: A column-vector y was passed when a 1d array was expected. Please change the shape of y to (n_samples, ), for example using ravel().\n",
      "  y = column_or_1d(y, warn=True)\n"
     ]
    },
    {
     "data": {
      "text/html": [
       "<style>#sk-container-id-2 {color: black;background-color: white;}#sk-container-id-2 pre{padding: 0;}#sk-container-id-2 div.sk-toggleable {background-color: white;}#sk-container-id-2 label.sk-toggleable__label {cursor: pointer;display: block;width: 100%;margin-bottom: 0;padding: 0.3em;box-sizing: border-box;text-align: center;}#sk-container-id-2 label.sk-toggleable__label-arrow:before {content: \"▸\";float: left;margin-right: 0.25em;color: #696969;}#sk-container-id-2 label.sk-toggleable__label-arrow:hover:before {color: black;}#sk-container-id-2 div.sk-estimator:hover label.sk-toggleable__label-arrow:before {color: black;}#sk-container-id-2 div.sk-toggleable__content {max-height: 0;max-width: 0;overflow: hidden;text-align: left;background-color: #f0f8ff;}#sk-container-id-2 div.sk-toggleable__content pre {margin: 0.2em;color: black;border-radius: 0.25em;background-color: #f0f8ff;}#sk-container-id-2 input.sk-toggleable__control:checked~div.sk-toggleable__content {max-height: 200px;max-width: 100%;overflow: auto;}#sk-container-id-2 input.sk-toggleable__control:checked~label.sk-toggleable__label-arrow:before {content: \"▾\";}#sk-container-id-2 div.sk-estimator input.sk-toggleable__control:checked~label.sk-toggleable__label {background-color: #d4ebff;}#sk-container-id-2 div.sk-label input.sk-toggleable__control:checked~label.sk-toggleable__label {background-color: #d4ebff;}#sk-container-id-2 input.sk-hidden--visually {border: 0;clip: rect(1px 1px 1px 1px);clip: rect(1px, 1px, 1px, 1px);height: 1px;margin: -1px;overflow: hidden;padding: 0;position: absolute;width: 1px;}#sk-container-id-2 div.sk-estimator {font-family: monospace;background-color: #f0f8ff;border: 1px dotted black;border-radius: 0.25em;box-sizing: border-box;margin-bottom: 0.5em;}#sk-container-id-2 div.sk-estimator:hover {background-color: #d4ebff;}#sk-container-id-2 div.sk-parallel-item::after {content: \"\";width: 100%;border-bottom: 1px solid gray;flex-grow: 1;}#sk-container-id-2 div.sk-label:hover label.sk-toggleable__label {background-color: #d4ebff;}#sk-container-id-2 div.sk-serial::before {content: \"\";position: absolute;border-left: 1px solid gray;box-sizing: border-box;top: 0;bottom: 0;left: 50%;z-index: 0;}#sk-container-id-2 div.sk-serial {display: flex;flex-direction: column;align-items: center;background-color: white;padding-right: 0.2em;padding-left: 0.2em;position: relative;}#sk-container-id-2 div.sk-item {position: relative;z-index: 1;}#sk-container-id-2 div.sk-parallel {display: flex;align-items: stretch;justify-content: center;background-color: white;position: relative;}#sk-container-id-2 div.sk-item::before, #sk-container-id-2 div.sk-parallel-item::before {content: \"\";position: absolute;border-left: 1px solid gray;box-sizing: border-box;top: 0;bottom: 0;left: 50%;z-index: -1;}#sk-container-id-2 div.sk-parallel-item {display: flex;flex-direction: column;z-index: 1;position: relative;background-color: white;}#sk-container-id-2 div.sk-parallel-item:first-child::after {align-self: flex-end;width: 50%;}#sk-container-id-2 div.sk-parallel-item:last-child::after {align-self: flex-start;width: 50%;}#sk-container-id-2 div.sk-parallel-item:only-child::after {width: 0;}#sk-container-id-2 div.sk-dashed-wrapped {border: 1px dashed gray;margin: 0 0.4em 0.5em 0.4em;box-sizing: border-box;padding-bottom: 0.4em;background-color: white;}#sk-container-id-2 div.sk-label label {font-family: monospace;font-weight: bold;display: inline-block;line-height: 1.2em;}#sk-container-id-2 div.sk-label-container {text-align: center;}#sk-container-id-2 div.sk-container {/* jupyter's `normalize.less` sets `[hidden] { display: none; }` but bootstrap.min.css set `[hidden] { display: none !important; }` so we also need the `!important` here to be able to override the default hidden behavior on the sphinx rendered scikit-learn.org. See: https://github.com/scikit-learn/scikit-learn/issues/21755 */display: inline-block !important;position: relative;}#sk-container-id-2 div.sk-text-repr-fallback {display: none;}</style><div id=\"sk-container-id-2\" class=\"sk-top-container\"><div class=\"sk-text-repr-fallback\"><pre>GridSearchCV(cv=5, estimator=SVC(),\n",
       "             param_grid={&#x27;C&#x27;: [0.01, 0.1, 0.5, 1, 10, 100],\n",
       "                         &#x27;gamma&#x27;: [1, 0.75, 0.5, 0.25, 0.1, 0.01, 0.001],\n",
       "                         &#x27;kernel&#x27;: [&#x27;rbf&#x27;, &#x27;poly&#x27;, &#x27;linear&#x27;]},\n",
       "             verbose=1)</pre><b>In a Jupyter environment, please rerun this cell to show the HTML representation or trust the notebook. <br />On GitHub, the HTML representation is unable to render, please try loading this page with nbviewer.org.</b></div><div class=\"sk-container\" hidden><div class=\"sk-item sk-dashed-wrapped\"><div class=\"sk-label-container\"><div class=\"sk-label sk-toggleable\"><input class=\"sk-toggleable__control sk-hidden--visually\" id=\"sk-estimator-id-2\" type=\"checkbox\" ><label for=\"sk-estimator-id-2\" class=\"sk-toggleable__label sk-toggleable__label-arrow\">GridSearchCV</label><div class=\"sk-toggleable__content\"><pre>GridSearchCV(cv=5, estimator=SVC(),\n",
       "             param_grid={&#x27;C&#x27;: [0.01, 0.1, 0.5, 1, 10, 100],\n",
       "                         &#x27;gamma&#x27;: [1, 0.75, 0.5, 0.25, 0.1, 0.01, 0.001],\n",
       "                         &#x27;kernel&#x27;: [&#x27;rbf&#x27;, &#x27;poly&#x27;, &#x27;linear&#x27;]},\n",
       "             verbose=1)</pre></div></div></div><div class=\"sk-parallel\"><div class=\"sk-parallel-item\"><div class=\"sk-item\"><div class=\"sk-label-container\"><div class=\"sk-label sk-toggleable\"><input class=\"sk-toggleable__control sk-hidden--visually\" id=\"sk-estimator-id-3\" type=\"checkbox\" ><label for=\"sk-estimator-id-3\" class=\"sk-toggleable__label sk-toggleable__label-arrow\">estimator: SVC</label><div class=\"sk-toggleable__content\"><pre>SVC()</pre></div></div></div><div class=\"sk-serial\"><div class=\"sk-item\"><div class=\"sk-estimator sk-toggleable\"><input class=\"sk-toggleable__control sk-hidden--visually\" id=\"sk-estimator-id-4\" type=\"checkbox\" ><label for=\"sk-estimator-id-4\" class=\"sk-toggleable__label sk-toggleable__label-arrow\">SVC</label><div class=\"sk-toggleable__content\"><pre>SVC()</pre></div></div></div></div></div></div></div></div></div></div>"
      ],
      "text/plain": [
       "GridSearchCV(cv=5, estimator=SVC(),\n",
       "             param_grid={'C': [0.01, 0.1, 0.5, 1, 10, 100],\n",
       "                         'gamma': [1, 0.75, 0.5, 0.25, 0.1, 0.01, 0.001],\n",
       "                         'kernel': ['rbf', 'poly', 'linear']},\n",
       "             verbose=1)"
      ]
     },
     "execution_count": 28,
     "metadata": {},
     "output_type": "execute_result"
    }
   ],
   "source": [
    "from sklearn.model_selection import GridSearchCV\n",
    "\n",
    "param_grid = {'C': [0.01, 0.1, 0.5, 1, 10, 100], \n",
    "              'gamma': [1, 0.75, 0.5, 0.25, 0.1, 0.01, 0.001], \n",
    "              'kernel': ['rbf', 'poly', 'linear']} \n",
    "\n",
    "grid = GridSearchCV(SVC(), param_grid, refit=True, verbose=1, cv=5)\n",
    "grid.fit(df_feature_train[['pca_1', 'pca_2']], df_feature_train[['anotasi']])"
   ]
  },
  {
   "cell_type": "code",
   "execution_count": 29,
   "id": "d3a8936d",
   "metadata": {
    "execution": {
     "iopub.execute_input": "2024-10-05T18:01:44.858847Z",
     "iopub.status.busy": "2024-10-05T18:01:44.858390Z",
     "iopub.status.idle": "2024-10-05T18:01:54.075076Z",
     "shell.execute_reply": "2024-10-05T18:01:54.073905Z"
    },
    "papermill": {
     "duration": 9.285869,
     "end_time": "2024-10-05T18:01:54.077464",
     "exception": false,
     "start_time": "2024-10-05T18:01:44.791595",
     "status": "completed"
    },
    "tags": []
   },
   "outputs": [
    {
     "name": "stdout",
     "output_type": "stream",
     "text": [
      "Akurasi SVM : 0.654079254079254\n"
     ]
    }
   ],
   "source": [
    "model_svm_grid_predict = grid.predict(df_feature_test[['pca_1', 'pca_2']])\n",
    "model_svm_grid_accuracy = accuracy_score(model_svm_grid_predict, df_feature_test[['anotasi']])\n",
    "print(f'Akurasi SVM : {model_svm_grid_accuracy}')"
   ]
  },
  {
   "cell_type": "code",
   "execution_count": 30,
   "id": "f85505cd",
   "metadata": {
    "execution": {
     "iopub.execute_input": "2024-10-05T18:01:54.211163Z",
     "iopub.status.busy": "2024-10-05T18:01:54.210771Z",
     "iopub.status.idle": "2024-10-05T18:01:54.215927Z",
     "shell.execute_reply": "2024-10-05T18:01:54.214965Z"
    },
    "papermill": {
     "duration": 0.074346,
     "end_time": "2024-10-05T18:01:54.217971",
     "exception": false,
     "start_time": "2024-10-05T18:01:54.143625",
     "status": "completed"
    },
    "tags": []
   },
   "outputs": [
    {
     "name": "stdout",
     "output_type": "stream",
     "text": [
      "Best params: {'C': 100, 'gamma': 1, 'kernel': 'rbf'}\n"
     ]
    }
   ],
   "source": [
    "best_params = grid.best_params_\n",
    "print(f\"Best params: {best_params}\")"
   ]
  },
  {
   "cell_type": "code",
   "execution_count": 31,
   "id": "54c55956",
   "metadata": {
    "execution": {
     "iopub.execute_input": "2024-10-05T18:01:54.350355Z",
     "iopub.status.busy": "2024-10-05T18:01:54.349923Z",
     "iopub.status.idle": "2024-10-05T18:02:21.088171Z",
     "shell.execute_reply": "2024-10-05T18:02:21.087222Z"
    },
    "papermill": {
     "duration": 26.806899,
     "end_time": "2024-10-05T18:02:21.090411",
     "exception": false,
     "start_time": "2024-10-05T18:01:54.283512",
     "status": "completed"
    },
    "tags": []
   },
   "outputs": [
    {
     "data": {
      "text/html": [
       "<style>#sk-container-id-3 {color: black;background-color: white;}#sk-container-id-3 pre{padding: 0;}#sk-container-id-3 div.sk-toggleable {background-color: white;}#sk-container-id-3 label.sk-toggleable__label {cursor: pointer;display: block;width: 100%;margin-bottom: 0;padding: 0.3em;box-sizing: border-box;text-align: center;}#sk-container-id-3 label.sk-toggleable__label-arrow:before {content: \"▸\";float: left;margin-right: 0.25em;color: #696969;}#sk-container-id-3 label.sk-toggleable__label-arrow:hover:before {color: black;}#sk-container-id-3 div.sk-estimator:hover label.sk-toggleable__label-arrow:before {color: black;}#sk-container-id-3 div.sk-toggleable__content {max-height: 0;max-width: 0;overflow: hidden;text-align: left;background-color: #f0f8ff;}#sk-container-id-3 div.sk-toggleable__content pre {margin: 0.2em;color: black;border-radius: 0.25em;background-color: #f0f8ff;}#sk-container-id-3 input.sk-toggleable__control:checked~div.sk-toggleable__content {max-height: 200px;max-width: 100%;overflow: auto;}#sk-container-id-3 input.sk-toggleable__control:checked~label.sk-toggleable__label-arrow:before {content: \"▾\";}#sk-container-id-3 div.sk-estimator input.sk-toggleable__control:checked~label.sk-toggleable__label {background-color: #d4ebff;}#sk-container-id-3 div.sk-label input.sk-toggleable__control:checked~label.sk-toggleable__label {background-color: #d4ebff;}#sk-container-id-3 input.sk-hidden--visually {border: 0;clip: rect(1px 1px 1px 1px);clip: rect(1px, 1px, 1px, 1px);height: 1px;margin: -1px;overflow: hidden;padding: 0;position: absolute;width: 1px;}#sk-container-id-3 div.sk-estimator {font-family: monospace;background-color: #f0f8ff;border: 1px dotted black;border-radius: 0.25em;box-sizing: border-box;margin-bottom: 0.5em;}#sk-container-id-3 div.sk-estimator:hover {background-color: #d4ebff;}#sk-container-id-3 div.sk-parallel-item::after {content: \"\";width: 100%;border-bottom: 1px solid gray;flex-grow: 1;}#sk-container-id-3 div.sk-label:hover label.sk-toggleable__label {background-color: #d4ebff;}#sk-container-id-3 div.sk-serial::before {content: \"\";position: absolute;border-left: 1px solid gray;box-sizing: border-box;top: 0;bottom: 0;left: 50%;z-index: 0;}#sk-container-id-3 div.sk-serial {display: flex;flex-direction: column;align-items: center;background-color: white;padding-right: 0.2em;padding-left: 0.2em;position: relative;}#sk-container-id-3 div.sk-item {position: relative;z-index: 1;}#sk-container-id-3 div.sk-parallel {display: flex;align-items: stretch;justify-content: center;background-color: white;position: relative;}#sk-container-id-3 div.sk-item::before, #sk-container-id-3 div.sk-parallel-item::before {content: \"\";position: absolute;border-left: 1px solid gray;box-sizing: border-box;top: 0;bottom: 0;left: 50%;z-index: -1;}#sk-container-id-3 div.sk-parallel-item {display: flex;flex-direction: column;z-index: 1;position: relative;background-color: white;}#sk-container-id-3 div.sk-parallel-item:first-child::after {align-self: flex-end;width: 50%;}#sk-container-id-3 div.sk-parallel-item:last-child::after {align-self: flex-start;width: 50%;}#sk-container-id-3 div.sk-parallel-item:only-child::after {width: 0;}#sk-container-id-3 div.sk-dashed-wrapped {border: 1px dashed gray;margin: 0 0.4em 0.5em 0.4em;box-sizing: border-box;padding-bottom: 0.4em;background-color: white;}#sk-container-id-3 div.sk-label label {font-family: monospace;font-weight: bold;display: inline-block;line-height: 1.2em;}#sk-container-id-3 div.sk-label-container {text-align: center;}#sk-container-id-3 div.sk-container {/* jupyter's `normalize.less` sets `[hidden] { display: none; }` but bootstrap.min.css set `[hidden] { display: none !important; }` so we also need the `!important` here to be able to override the default hidden behavior on the sphinx rendered scikit-learn.org. See: https://github.com/scikit-learn/scikit-learn/issues/21755 */display: inline-block !important;position: relative;}#sk-container-id-3 div.sk-text-repr-fallback {display: none;}</style><div id=\"sk-container-id-3\" class=\"sk-top-container\"><div class=\"sk-text-repr-fallback\"><pre>SVC(C=1, gamma=1)</pre><b>In a Jupyter environment, please rerun this cell to show the HTML representation or trust the notebook. <br />On GitHub, the HTML representation is unable to render, please try loading this page with nbviewer.org.</b></div><div class=\"sk-container\" hidden><div class=\"sk-item\"><div class=\"sk-estimator sk-toggleable\"><input class=\"sk-toggleable__control sk-hidden--visually\" id=\"sk-estimator-id-5\" type=\"checkbox\" checked><label for=\"sk-estimator-id-5\" class=\"sk-toggleable__label sk-toggleable__label-arrow\">SVC</label><div class=\"sk-toggleable__content\"><pre>SVC(C=1, gamma=1)</pre></div></div></div></div></div>"
      ],
      "text/plain": [
       "SVC(C=1, gamma=1)"
      ]
     },
     "execution_count": 31,
     "metadata": {},
     "output_type": "execute_result"
    }
   ],
   "source": [
    "model_svm_2 = SVC(kernel='rbf', gamma=1, C=1)\n",
    "model_svm_2.fit(df_feature_train[['pca_1', 'pca_2']], df_feature_train[['anotasi']].values.ravel())"
   ]
  },
  {
   "cell_type": "code",
   "execution_count": 32,
   "id": "84e59387",
   "metadata": {
    "execution": {
     "iopub.execute_input": "2024-10-05T18:02:21.224522Z",
     "iopub.status.busy": "2024-10-05T18:02:21.223630Z",
     "iopub.status.idle": "2024-10-05T18:02:30.456013Z",
     "shell.execute_reply": "2024-10-05T18:02:30.454944Z"
    },
    "papermill": {
     "duration": 9.301822,
     "end_time": "2024-10-05T18:02:30.458392",
     "exception": false,
     "start_time": "2024-10-05T18:02:21.156570",
     "status": "completed"
    },
    "tags": []
   },
   "outputs": [
    {
     "name": "stdout",
     "output_type": "stream",
     "text": [
      "Akurasi SVM : 0.654079254079254\n"
     ]
    }
   ],
   "source": [
    "model_svm_predict = model_svm_2.predict(df_feature_test[['pca_1', 'pca_2']])\n",
    "model_svm_accuracy = accuracy_score(model_svm_predict, df_feature_test[['anotasi']])\n",
    "print(f'Akurasi SVM : {model_svm_accuracy}')"
   ]
  },
  {
   "cell_type": "markdown",
   "id": "97d37756",
   "metadata": {
    "papermill": {
     "duration": 0.064996,
     "end_time": "2024-10-05T18:02:30.589634",
     "exception": false,
     "start_time": "2024-10-05T18:02:30.524638",
     "status": "completed"
    },
    "tags": []
   },
   "source": [
    "### Decission Tree"
   ]
  },
  {
   "cell_type": "code",
   "execution_count": 33,
   "id": "3b5e2b86",
   "metadata": {
    "execution": {
     "iopub.execute_input": "2024-10-05T18:02:30.723033Z",
     "iopub.status.busy": "2024-10-05T18:02:30.721738Z",
     "iopub.status.idle": "2024-10-05T18:02:30.954834Z",
     "shell.execute_reply": "2024-10-05T18:02:30.953854Z"
    },
    "papermill": {
     "duration": 0.302011,
     "end_time": "2024-10-05T18:02:30.957046",
     "exception": false,
     "start_time": "2024-10-05T18:02:30.655035",
     "status": "completed"
    },
    "tags": []
   },
   "outputs": [
    {
     "data": {
      "text/html": [
       "<style>#sk-container-id-4 {color: black;background-color: white;}#sk-container-id-4 pre{padding: 0;}#sk-container-id-4 div.sk-toggleable {background-color: white;}#sk-container-id-4 label.sk-toggleable__label {cursor: pointer;display: block;width: 100%;margin-bottom: 0;padding: 0.3em;box-sizing: border-box;text-align: center;}#sk-container-id-4 label.sk-toggleable__label-arrow:before {content: \"▸\";float: left;margin-right: 0.25em;color: #696969;}#sk-container-id-4 label.sk-toggleable__label-arrow:hover:before {color: black;}#sk-container-id-4 div.sk-estimator:hover label.sk-toggleable__label-arrow:before {color: black;}#sk-container-id-4 div.sk-toggleable__content {max-height: 0;max-width: 0;overflow: hidden;text-align: left;background-color: #f0f8ff;}#sk-container-id-4 div.sk-toggleable__content pre {margin: 0.2em;color: black;border-radius: 0.25em;background-color: #f0f8ff;}#sk-container-id-4 input.sk-toggleable__control:checked~div.sk-toggleable__content {max-height: 200px;max-width: 100%;overflow: auto;}#sk-container-id-4 input.sk-toggleable__control:checked~label.sk-toggleable__label-arrow:before {content: \"▾\";}#sk-container-id-4 div.sk-estimator input.sk-toggleable__control:checked~label.sk-toggleable__label {background-color: #d4ebff;}#sk-container-id-4 div.sk-label input.sk-toggleable__control:checked~label.sk-toggleable__label {background-color: #d4ebff;}#sk-container-id-4 input.sk-hidden--visually {border: 0;clip: rect(1px 1px 1px 1px);clip: rect(1px, 1px, 1px, 1px);height: 1px;margin: -1px;overflow: hidden;padding: 0;position: absolute;width: 1px;}#sk-container-id-4 div.sk-estimator {font-family: monospace;background-color: #f0f8ff;border: 1px dotted black;border-radius: 0.25em;box-sizing: border-box;margin-bottom: 0.5em;}#sk-container-id-4 div.sk-estimator:hover {background-color: #d4ebff;}#sk-container-id-4 div.sk-parallel-item::after {content: \"\";width: 100%;border-bottom: 1px solid gray;flex-grow: 1;}#sk-container-id-4 div.sk-label:hover label.sk-toggleable__label {background-color: #d4ebff;}#sk-container-id-4 div.sk-serial::before {content: \"\";position: absolute;border-left: 1px solid gray;box-sizing: border-box;top: 0;bottom: 0;left: 50%;z-index: 0;}#sk-container-id-4 div.sk-serial {display: flex;flex-direction: column;align-items: center;background-color: white;padding-right: 0.2em;padding-left: 0.2em;position: relative;}#sk-container-id-4 div.sk-item {position: relative;z-index: 1;}#sk-container-id-4 div.sk-parallel {display: flex;align-items: stretch;justify-content: center;background-color: white;position: relative;}#sk-container-id-4 div.sk-item::before, #sk-container-id-4 div.sk-parallel-item::before {content: \"\";position: absolute;border-left: 1px solid gray;box-sizing: border-box;top: 0;bottom: 0;left: 50%;z-index: -1;}#sk-container-id-4 div.sk-parallel-item {display: flex;flex-direction: column;z-index: 1;position: relative;background-color: white;}#sk-container-id-4 div.sk-parallel-item:first-child::after {align-self: flex-end;width: 50%;}#sk-container-id-4 div.sk-parallel-item:last-child::after {align-self: flex-start;width: 50%;}#sk-container-id-4 div.sk-parallel-item:only-child::after {width: 0;}#sk-container-id-4 div.sk-dashed-wrapped {border: 1px dashed gray;margin: 0 0.4em 0.5em 0.4em;box-sizing: border-box;padding-bottom: 0.4em;background-color: white;}#sk-container-id-4 div.sk-label label {font-family: monospace;font-weight: bold;display: inline-block;line-height: 1.2em;}#sk-container-id-4 div.sk-label-container {text-align: center;}#sk-container-id-4 div.sk-container {/* jupyter's `normalize.less` sets `[hidden] { display: none; }` but bootstrap.min.css set `[hidden] { display: none !important; }` so we also need the `!important` here to be able to override the default hidden behavior on the sphinx rendered scikit-learn.org. See: https://github.com/scikit-learn/scikit-learn/issues/21755 */display: inline-block !important;position: relative;}#sk-container-id-4 div.sk-text-repr-fallback {display: none;}</style><div id=\"sk-container-id-4\" class=\"sk-top-container\"><div class=\"sk-text-repr-fallback\"><pre>DecisionTreeClassifier()</pre><b>In a Jupyter environment, please rerun this cell to show the HTML representation or trust the notebook. <br />On GitHub, the HTML representation is unable to render, please try loading this page with nbviewer.org.</b></div><div class=\"sk-container\" hidden><div class=\"sk-item\"><div class=\"sk-estimator sk-toggleable\"><input class=\"sk-toggleable__control sk-hidden--visually\" id=\"sk-estimator-id-6\" type=\"checkbox\" checked><label for=\"sk-estimator-id-6\" class=\"sk-toggleable__label sk-toggleable__label-arrow\">DecisionTreeClassifier</label><div class=\"sk-toggleable__content\"><pre>DecisionTreeClassifier()</pre></div></div></div></div></div>"
      ],
      "text/plain": [
       "DecisionTreeClassifier()"
      ]
     },
     "execution_count": 33,
     "metadata": {},
     "output_type": "execute_result"
    }
   ],
   "source": [
    "model_decision_tree = DecisionTreeClassifier()\n",
    "model_decision_tree.fit(df_feature_train[['pca_1', 'pca_2']], df_feature_train[['anotasi']])"
   ]
  },
  {
   "cell_type": "code",
   "execution_count": 34,
   "id": "8424bb6a",
   "metadata": {
    "execution": {
     "iopub.execute_input": "2024-10-05T18:02:31.089641Z",
     "iopub.status.busy": "2024-10-05T18:02:31.089210Z",
     "iopub.status.idle": "2024-10-05T18:02:31.102892Z",
     "shell.execute_reply": "2024-10-05T18:02:31.101717Z"
    },
    "papermill": {
     "duration": 0.082252,
     "end_time": "2024-10-05T18:02:31.105153",
     "exception": false,
     "start_time": "2024-10-05T18:02:31.022901",
     "status": "completed"
    },
    "tags": []
   },
   "outputs": [
    {
     "name": "stdout",
     "output_type": "stream",
     "text": [
      "Akurasi Decision Tree : 0.4153846153846154\n"
     ]
    }
   ],
   "source": [
    "model_decision_tree_predict = model_decision_tree.predict(df_feature_test[['pca_1', 'pca_2']])\n",
    "model_decision_tree_accuracy = accuracy_score(model_decision_tree_predict, df_feature_test[['anotasi']])\n",
    "print(f'Akurasi Decision Tree : {model_decision_tree_accuracy}')"
   ]
  },
  {
   "cell_type": "markdown",
   "id": "63bfcded",
   "metadata": {
    "papermill": {
     "duration": 0.065805,
     "end_time": "2024-10-05T18:02:31.237201",
     "exception": false,
     "start_time": "2024-10-05T18:02:31.171396",
     "status": "completed"
    },
    "tags": []
   },
   "source": [
    "### Naive Bayes"
   ]
  },
  {
   "cell_type": "code",
   "execution_count": 35,
   "id": "a7fae407",
   "metadata": {
    "execution": {
     "iopub.execute_input": "2024-10-05T18:02:31.374479Z",
     "iopub.status.busy": "2024-10-05T18:02:31.374096Z",
     "iopub.status.idle": "2024-10-05T18:02:31.393025Z",
     "shell.execute_reply": "2024-10-05T18:02:31.391872Z"
    },
    "papermill": {
     "duration": 0.090185,
     "end_time": "2024-10-05T18:02:31.395282",
     "exception": false,
     "start_time": "2024-10-05T18:02:31.305097",
     "status": "completed"
    },
    "tags": []
   },
   "outputs": [
    {
     "name": "stderr",
     "output_type": "stream",
     "text": [
      "/opt/conda/lib/python3.10/site-packages/sklearn/utils/validation.py:1143: DataConversionWarning: A column-vector y was passed when a 1d array was expected. Please change the shape of y to (n_samples, ), for example using ravel().\n",
      "  y = column_or_1d(y, warn=True)\n"
     ]
    },
    {
     "data": {
      "text/html": [
       "<style>#sk-container-id-5 {color: black;background-color: white;}#sk-container-id-5 pre{padding: 0;}#sk-container-id-5 div.sk-toggleable {background-color: white;}#sk-container-id-5 label.sk-toggleable__label {cursor: pointer;display: block;width: 100%;margin-bottom: 0;padding: 0.3em;box-sizing: border-box;text-align: center;}#sk-container-id-5 label.sk-toggleable__label-arrow:before {content: \"▸\";float: left;margin-right: 0.25em;color: #696969;}#sk-container-id-5 label.sk-toggleable__label-arrow:hover:before {color: black;}#sk-container-id-5 div.sk-estimator:hover label.sk-toggleable__label-arrow:before {color: black;}#sk-container-id-5 div.sk-toggleable__content {max-height: 0;max-width: 0;overflow: hidden;text-align: left;background-color: #f0f8ff;}#sk-container-id-5 div.sk-toggleable__content pre {margin: 0.2em;color: black;border-radius: 0.25em;background-color: #f0f8ff;}#sk-container-id-5 input.sk-toggleable__control:checked~div.sk-toggleable__content {max-height: 200px;max-width: 100%;overflow: auto;}#sk-container-id-5 input.sk-toggleable__control:checked~label.sk-toggleable__label-arrow:before {content: \"▾\";}#sk-container-id-5 div.sk-estimator input.sk-toggleable__control:checked~label.sk-toggleable__label {background-color: #d4ebff;}#sk-container-id-5 div.sk-label input.sk-toggleable__control:checked~label.sk-toggleable__label {background-color: #d4ebff;}#sk-container-id-5 input.sk-hidden--visually {border: 0;clip: rect(1px 1px 1px 1px);clip: rect(1px, 1px, 1px, 1px);height: 1px;margin: -1px;overflow: hidden;padding: 0;position: absolute;width: 1px;}#sk-container-id-5 div.sk-estimator {font-family: monospace;background-color: #f0f8ff;border: 1px dotted black;border-radius: 0.25em;box-sizing: border-box;margin-bottom: 0.5em;}#sk-container-id-5 div.sk-estimator:hover {background-color: #d4ebff;}#sk-container-id-5 div.sk-parallel-item::after {content: \"\";width: 100%;border-bottom: 1px solid gray;flex-grow: 1;}#sk-container-id-5 div.sk-label:hover label.sk-toggleable__label {background-color: #d4ebff;}#sk-container-id-5 div.sk-serial::before {content: \"\";position: absolute;border-left: 1px solid gray;box-sizing: border-box;top: 0;bottom: 0;left: 50%;z-index: 0;}#sk-container-id-5 div.sk-serial {display: flex;flex-direction: column;align-items: center;background-color: white;padding-right: 0.2em;padding-left: 0.2em;position: relative;}#sk-container-id-5 div.sk-item {position: relative;z-index: 1;}#sk-container-id-5 div.sk-parallel {display: flex;align-items: stretch;justify-content: center;background-color: white;position: relative;}#sk-container-id-5 div.sk-item::before, #sk-container-id-5 div.sk-parallel-item::before {content: \"\";position: absolute;border-left: 1px solid gray;box-sizing: border-box;top: 0;bottom: 0;left: 50%;z-index: -1;}#sk-container-id-5 div.sk-parallel-item {display: flex;flex-direction: column;z-index: 1;position: relative;background-color: white;}#sk-container-id-5 div.sk-parallel-item:first-child::after {align-self: flex-end;width: 50%;}#sk-container-id-5 div.sk-parallel-item:last-child::after {align-self: flex-start;width: 50%;}#sk-container-id-5 div.sk-parallel-item:only-child::after {width: 0;}#sk-container-id-5 div.sk-dashed-wrapped {border: 1px dashed gray;margin: 0 0.4em 0.5em 0.4em;box-sizing: border-box;padding-bottom: 0.4em;background-color: white;}#sk-container-id-5 div.sk-label label {font-family: monospace;font-weight: bold;display: inline-block;line-height: 1.2em;}#sk-container-id-5 div.sk-label-container {text-align: center;}#sk-container-id-5 div.sk-container {/* jupyter's `normalize.less` sets `[hidden] { display: none; }` but bootstrap.min.css set `[hidden] { display: none !important; }` so we also need the `!important` here to be able to override the default hidden behavior on the sphinx rendered scikit-learn.org. See: https://github.com/scikit-learn/scikit-learn/issues/21755 */display: inline-block !important;position: relative;}#sk-container-id-5 div.sk-text-repr-fallback {display: none;}</style><div id=\"sk-container-id-5\" class=\"sk-top-container\"><div class=\"sk-text-repr-fallback\"><pre>GaussianNB()</pre><b>In a Jupyter environment, please rerun this cell to show the HTML representation or trust the notebook. <br />On GitHub, the HTML representation is unable to render, please try loading this page with nbviewer.org.</b></div><div class=\"sk-container\" hidden><div class=\"sk-item\"><div class=\"sk-estimator sk-toggleable\"><input class=\"sk-toggleable__control sk-hidden--visually\" id=\"sk-estimator-id-7\" type=\"checkbox\" checked><label for=\"sk-estimator-id-7\" class=\"sk-toggleable__label sk-toggleable__label-arrow\">GaussianNB</label><div class=\"sk-toggleable__content\"><pre>GaussianNB()</pre></div></div></div></div></div>"
      ],
      "text/plain": [
       "GaussianNB()"
      ]
     },
     "execution_count": 35,
     "metadata": {},
     "output_type": "execute_result"
    }
   ],
   "source": [
    "model_naive_bayes = GaussianNB()\n",
    "model_naive_bayes.fit(df_feature_train[['pca_1', 'pca_2']], df_feature_train[['anotasi']])"
   ]
  },
  {
   "cell_type": "code",
   "execution_count": 36,
   "id": "d24b30dd",
   "metadata": {
    "execution": {
     "iopub.execute_input": "2024-10-05T18:02:31.528838Z",
     "iopub.status.busy": "2024-10-05T18:02:31.527884Z",
     "iopub.status.idle": "2024-10-05T18:02:31.541078Z",
     "shell.execute_reply": "2024-10-05T18:02:31.540023Z"
    },
    "papermill": {
     "duration": 0.081944,
     "end_time": "2024-10-05T18:02:31.543135",
     "exception": false,
     "start_time": "2024-10-05T18:02:31.461191",
     "status": "completed"
    },
    "tags": []
   },
   "outputs": [
    {
     "name": "stdout",
     "output_type": "stream",
     "text": [
      "Akurasi Naive Bayes : 0.6548951048951049\n"
     ]
    }
   ],
   "source": [
    "model_naive_bayes_predict = model_naive_bayes.predict(df_feature_test[['pca_1', 'pca_2']])\n",
    "model_naive_bayes_accuracy = accuracy_score(model_naive_bayes_predict, df_feature_test[['anotasi']])\n",
    "print(f'Akurasi Naive Bayes : {model_naive_bayes_accuracy}')"
   ]
  },
  {
   "cell_type": "markdown",
   "id": "96dc38c9",
   "metadata": {
    "papermill": {
     "duration": 0.065297,
     "end_time": "2024-10-05T18:02:31.674542",
     "exception": false,
     "start_time": "2024-10-05T18:02:31.609245",
     "status": "completed"
    },
    "tags": []
   },
   "source": [
    "### Random Forest"
   ]
  },
  {
   "cell_type": "code",
   "execution_count": 37,
   "id": "0f227739",
   "metadata": {
    "execution": {
     "iopub.execute_input": "2024-10-05T18:02:31.810383Z",
     "iopub.status.busy": "2024-10-05T18:02:31.809645Z",
     "iopub.status.idle": "2024-10-05T18:02:47.979465Z",
     "shell.execute_reply": "2024-10-05T18:02:47.978347Z"
    },
    "papermill": {
     "duration": 16.239328,
     "end_time": "2024-10-05T18:02:47.981742",
     "exception": false,
     "start_time": "2024-10-05T18:02:31.742414",
     "status": "completed"
    },
    "tags": []
   },
   "outputs": [
    {
     "name": "stderr",
     "output_type": "stream",
     "text": [
      "/tmp/ipykernel_17/4034571218.py:2: DataConversionWarning: A column-vector y was passed when a 1d array was expected. Please change the shape of y to (n_samples,), for example using ravel().\n",
      "  model_random_forest.fit(df_feature_train[['pca_1', 'pca_2']], df_feature_train[['anotasi']])\n"
     ]
    },
    {
     "data": {
      "text/html": [
       "<style>#sk-container-id-6 {color: black;background-color: white;}#sk-container-id-6 pre{padding: 0;}#sk-container-id-6 div.sk-toggleable {background-color: white;}#sk-container-id-6 label.sk-toggleable__label {cursor: pointer;display: block;width: 100%;margin-bottom: 0;padding: 0.3em;box-sizing: border-box;text-align: center;}#sk-container-id-6 label.sk-toggleable__label-arrow:before {content: \"▸\";float: left;margin-right: 0.25em;color: #696969;}#sk-container-id-6 label.sk-toggleable__label-arrow:hover:before {color: black;}#sk-container-id-6 div.sk-estimator:hover label.sk-toggleable__label-arrow:before {color: black;}#sk-container-id-6 div.sk-toggleable__content {max-height: 0;max-width: 0;overflow: hidden;text-align: left;background-color: #f0f8ff;}#sk-container-id-6 div.sk-toggleable__content pre {margin: 0.2em;color: black;border-radius: 0.25em;background-color: #f0f8ff;}#sk-container-id-6 input.sk-toggleable__control:checked~div.sk-toggleable__content {max-height: 200px;max-width: 100%;overflow: auto;}#sk-container-id-6 input.sk-toggleable__control:checked~label.sk-toggleable__label-arrow:before {content: \"▾\";}#sk-container-id-6 div.sk-estimator input.sk-toggleable__control:checked~label.sk-toggleable__label {background-color: #d4ebff;}#sk-container-id-6 div.sk-label input.sk-toggleable__control:checked~label.sk-toggleable__label {background-color: #d4ebff;}#sk-container-id-6 input.sk-hidden--visually {border: 0;clip: rect(1px 1px 1px 1px);clip: rect(1px, 1px, 1px, 1px);height: 1px;margin: -1px;overflow: hidden;padding: 0;position: absolute;width: 1px;}#sk-container-id-6 div.sk-estimator {font-family: monospace;background-color: #f0f8ff;border: 1px dotted black;border-radius: 0.25em;box-sizing: border-box;margin-bottom: 0.5em;}#sk-container-id-6 div.sk-estimator:hover {background-color: #d4ebff;}#sk-container-id-6 div.sk-parallel-item::after {content: \"\";width: 100%;border-bottom: 1px solid gray;flex-grow: 1;}#sk-container-id-6 div.sk-label:hover label.sk-toggleable__label {background-color: #d4ebff;}#sk-container-id-6 div.sk-serial::before {content: \"\";position: absolute;border-left: 1px solid gray;box-sizing: border-box;top: 0;bottom: 0;left: 50%;z-index: 0;}#sk-container-id-6 div.sk-serial {display: flex;flex-direction: column;align-items: center;background-color: white;padding-right: 0.2em;padding-left: 0.2em;position: relative;}#sk-container-id-6 div.sk-item {position: relative;z-index: 1;}#sk-container-id-6 div.sk-parallel {display: flex;align-items: stretch;justify-content: center;background-color: white;position: relative;}#sk-container-id-6 div.sk-item::before, #sk-container-id-6 div.sk-parallel-item::before {content: \"\";position: absolute;border-left: 1px solid gray;box-sizing: border-box;top: 0;bottom: 0;left: 50%;z-index: -1;}#sk-container-id-6 div.sk-parallel-item {display: flex;flex-direction: column;z-index: 1;position: relative;background-color: white;}#sk-container-id-6 div.sk-parallel-item:first-child::after {align-self: flex-end;width: 50%;}#sk-container-id-6 div.sk-parallel-item:last-child::after {align-self: flex-start;width: 50%;}#sk-container-id-6 div.sk-parallel-item:only-child::after {width: 0;}#sk-container-id-6 div.sk-dashed-wrapped {border: 1px dashed gray;margin: 0 0.4em 0.5em 0.4em;box-sizing: border-box;padding-bottom: 0.4em;background-color: white;}#sk-container-id-6 div.sk-label label {font-family: monospace;font-weight: bold;display: inline-block;line-height: 1.2em;}#sk-container-id-6 div.sk-label-container {text-align: center;}#sk-container-id-6 div.sk-container {/* jupyter's `normalize.less` sets `[hidden] { display: none; }` but bootstrap.min.css set `[hidden] { display: none !important; }` so we also need the `!important` here to be able to override the default hidden behavior on the sphinx rendered scikit-learn.org. See: https://github.com/scikit-learn/scikit-learn/issues/21755 */display: inline-block !important;position: relative;}#sk-container-id-6 div.sk-text-repr-fallback {display: none;}</style><div id=\"sk-container-id-6\" class=\"sk-top-container\"><div class=\"sk-text-repr-fallback\"><pre>RandomForestClassifier(n_estimators=200)</pre><b>In a Jupyter environment, please rerun this cell to show the HTML representation or trust the notebook. <br />On GitHub, the HTML representation is unable to render, please try loading this page with nbviewer.org.</b></div><div class=\"sk-container\" hidden><div class=\"sk-item\"><div class=\"sk-estimator sk-toggleable\"><input class=\"sk-toggleable__control sk-hidden--visually\" id=\"sk-estimator-id-8\" type=\"checkbox\" checked><label for=\"sk-estimator-id-8\" class=\"sk-toggleable__label sk-toggleable__label-arrow\">RandomForestClassifier</label><div class=\"sk-toggleable__content\"><pre>RandomForestClassifier(n_estimators=200)</pre></div></div></div></div></div>"
      ],
      "text/plain": [
       "RandomForestClassifier(n_estimators=200)"
      ]
     },
     "execution_count": 37,
     "metadata": {},
     "output_type": "execute_result"
    }
   ],
   "source": [
    "model_random_forest = RandomForestClassifier(n_estimators=200)\n",
    "model_random_forest.fit(df_feature_train[['pca_1', 'pca_2']], df_feature_train[['anotasi']])"
   ]
  },
  {
   "cell_type": "code",
   "execution_count": 38,
   "id": "54d31538",
   "metadata": {
    "execution": {
     "iopub.execute_input": "2024-10-05T18:02:48.119245Z",
     "iopub.status.busy": "2024-10-05T18:02:48.118427Z",
     "iopub.status.idle": "2024-10-05T18:02:48.299429Z",
     "shell.execute_reply": "2024-10-05T18:02:48.298424Z"
    },
    "papermill": {
     "duration": 0.251742,
     "end_time": "2024-10-05T18:02:48.301687",
     "exception": false,
     "start_time": "2024-10-05T18:02:48.049945",
     "status": "completed"
    },
    "tags": []
   },
   "outputs": [
    {
     "name": "stdout",
     "output_type": "stream",
     "text": [
      "Akurasi Random Forest : 0.627039627039627\n"
     ]
    }
   ],
   "source": [
    "model_random_forest_predict = model_random_forest.predict(df_feature_test[['pca_1', 'pca_2']])\n",
    "model_random_forest_accuracy = accuracy_score(model_random_forest_predict, df_feature_test[['anotasi']])\n",
    "print(f'Akurasi Random Forest : {model_random_forest_accuracy}')"
   ]
  },
  {
   "cell_type": "markdown",
   "id": "6b1357a5",
   "metadata": {
    "papermill": {
     "duration": 0.066807,
     "end_time": "2024-10-05T18:02:48.435840",
     "exception": false,
     "start_time": "2024-10-05T18:02:48.369033",
     "status": "completed"
    },
    "tags": []
   },
   "source": [
    "### Adaboost"
   ]
  },
  {
   "cell_type": "code",
   "execution_count": 39,
   "id": "5bb80390",
   "metadata": {
    "execution": {
     "iopub.execute_input": "2024-10-05T18:02:48.571652Z",
     "iopub.status.busy": "2024-10-05T18:02:48.570696Z",
     "iopub.status.idle": "2024-10-05T18:02:49.616572Z",
     "shell.execute_reply": "2024-10-05T18:02:49.615565Z"
    },
    "papermill": {
     "duration": 1.116222,
     "end_time": "2024-10-05T18:02:49.618886",
     "exception": false,
     "start_time": "2024-10-05T18:02:48.502664",
     "status": "completed"
    },
    "tags": []
   },
   "outputs": [
    {
     "name": "stderr",
     "output_type": "stream",
     "text": [
      "/opt/conda/lib/python3.10/site-packages/sklearn/utils/validation.py:1143: DataConversionWarning: A column-vector y was passed when a 1d array was expected. Please change the shape of y to (n_samples, ), for example using ravel().\n",
      "  y = column_or_1d(y, warn=True)\n"
     ]
    },
    {
     "data": {
      "text/html": [
       "<style>#sk-container-id-7 {color: black;background-color: white;}#sk-container-id-7 pre{padding: 0;}#sk-container-id-7 div.sk-toggleable {background-color: white;}#sk-container-id-7 label.sk-toggleable__label {cursor: pointer;display: block;width: 100%;margin-bottom: 0;padding: 0.3em;box-sizing: border-box;text-align: center;}#sk-container-id-7 label.sk-toggleable__label-arrow:before {content: \"▸\";float: left;margin-right: 0.25em;color: #696969;}#sk-container-id-7 label.sk-toggleable__label-arrow:hover:before {color: black;}#sk-container-id-7 div.sk-estimator:hover label.sk-toggleable__label-arrow:before {color: black;}#sk-container-id-7 div.sk-toggleable__content {max-height: 0;max-width: 0;overflow: hidden;text-align: left;background-color: #f0f8ff;}#sk-container-id-7 div.sk-toggleable__content pre {margin: 0.2em;color: black;border-radius: 0.25em;background-color: #f0f8ff;}#sk-container-id-7 input.sk-toggleable__control:checked~div.sk-toggleable__content {max-height: 200px;max-width: 100%;overflow: auto;}#sk-container-id-7 input.sk-toggleable__control:checked~label.sk-toggleable__label-arrow:before {content: \"▾\";}#sk-container-id-7 div.sk-estimator input.sk-toggleable__control:checked~label.sk-toggleable__label {background-color: #d4ebff;}#sk-container-id-7 div.sk-label input.sk-toggleable__control:checked~label.sk-toggleable__label {background-color: #d4ebff;}#sk-container-id-7 input.sk-hidden--visually {border: 0;clip: rect(1px 1px 1px 1px);clip: rect(1px, 1px, 1px, 1px);height: 1px;margin: -1px;overflow: hidden;padding: 0;position: absolute;width: 1px;}#sk-container-id-7 div.sk-estimator {font-family: monospace;background-color: #f0f8ff;border: 1px dotted black;border-radius: 0.25em;box-sizing: border-box;margin-bottom: 0.5em;}#sk-container-id-7 div.sk-estimator:hover {background-color: #d4ebff;}#sk-container-id-7 div.sk-parallel-item::after {content: \"\";width: 100%;border-bottom: 1px solid gray;flex-grow: 1;}#sk-container-id-7 div.sk-label:hover label.sk-toggleable__label {background-color: #d4ebff;}#sk-container-id-7 div.sk-serial::before {content: \"\";position: absolute;border-left: 1px solid gray;box-sizing: border-box;top: 0;bottom: 0;left: 50%;z-index: 0;}#sk-container-id-7 div.sk-serial {display: flex;flex-direction: column;align-items: center;background-color: white;padding-right: 0.2em;padding-left: 0.2em;position: relative;}#sk-container-id-7 div.sk-item {position: relative;z-index: 1;}#sk-container-id-7 div.sk-parallel {display: flex;align-items: stretch;justify-content: center;background-color: white;position: relative;}#sk-container-id-7 div.sk-item::before, #sk-container-id-7 div.sk-parallel-item::before {content: \"\";position: absolute;border-left: 1px solid gray;box-sizing: border-box;top: 0;bottom: 0;left: 50%;z-index: -1;}#sk-container-id-7 div.sk-parallel-item {display: flex;flex-direction: column;z-index: 1;position: relative;background-color: white;}#sk-container-id-7 div.sk-parallel-item:first-child::after {align-self: flex-end;width: 50%;}#sk-container-id-7 div.sk-parallel-item:last-child::after {align-self: flex-start;width: 50%;}#sk-container-id-7 div.sk-parallel-item:only-child::after {width: 0;}#sk-container-id-7 div.sk-dashed-wrapped {border: 1px dashed gray;margin: 0 0.4em 0.5em 0.4em;box-sizing: border-box;padding-bottom: 0.4em;background-color: white;}#sk-container-id-7 div.sk-label label {font-family: monospace;font-weight: bold;display: inline-block;line-height: 1.2em;}#sk-container-id-7 div.sk-label-container {text-align: center;}#sk-container-id-7 div.sk-container {/* jupyter's `normalize.less` sets `[hidden] { display: none; }` but bootstrap.min.css set `[hidden] { display: none !important; }` so we also need the `!important` here to be able to override the default hidden behavior on the sphinx rendered scikit-learn.org. See: https://github.com/scikit-learn/scikit-learn/issues/21755 */display: inline-block !important;position: relative;}#sk-container-id-7 div.sk-text-repr-fallback {display: none;}</style><div id=\"sk-container-id-7\" class=\"sk-top-container\"><div class=\"sk-text-repr-fallback\"><pre>AdaBoostClassifier()</pre><b>In a Jupyter environment, please rerun this cell to show the HTML representation or trust the notebook. <br />On GitHub, the HTML representation is unable to render, please try loading this page with nbviewer.org.</b></div><div class=\"sk-container\" hidden><div class=\"sk-item\"><div class=\"sk-estimator sk-toggleable\"><input class=\"sk-toggleable__control sk-hidden--visually\" id=\"sk-estimator-id-9\" type=\"checkbox\" checked><label for=\"sk-estimator-id-9\" class=\"sk-toggleable__label sk-toggleable__label-arrow\">AdaBoostClassifier</label><div class=\"sk-toggleable__content\"><pre>AdaBoostClassifier()</pre></div></div></div></div></div>"
      ],
      "text/plain": [
       "AdaBoostClassifier()"
      ]
     },
     "execution_count": 39,
     "metadata": {},
     "output_type": "execute_result"
    }
   ],
   "source": [
    "model_adaboost = AdaBoostClassifier()\n",
    "model_adaboost.fit(df_feature_train[['pca_1', 'pca_2']], df_feature_train[['anotasi']])"
   ]
  },
  {
   "cell_type": "code",
   "execution_count": 40,
   "id": "0934b3d6",
   "metadata": {
    "execution": {
     "iopub.execute_input": "2024-10-05T18:02:49.803113Z",
     "iopub.status.busy": "2024-10-05T18:02:49.802163Z",
     "iopub.status.idle": "2024-10-05T18:02:49.864366Z",
     "shell.execute_reply": "2024-10-05T18:02:49.863322Z"
    },
    "papermill": {
     "duration": 0.134292,
     "end_time": "2024-10-05T18:02:49.866636",
     "exception": false,
     "start_time": "2024-10-05T18:02:49.732344",
     "status": "completed"
    },
    "tags": []
   },
   "outputs": [
    {
     "name": "stdout",
     "output_type": "stream",
     "text": [
      "Akurasi Adaboost : 0.6541958041958041\n"
     ]
    }
   ],
   "source": [
    "model_adaboost_predict = model_adaboost.predict(df_feature_test[['pca_1', 'pca_2']])\n",
    "model_adaboost_accuracy = accuracy_score(model_adaboost_predict, df_feature_test[['anotasi']])\n",
    "print(f'Akurasi Adaboost : {model_adaboost_accuracy}')"
   ]
  },
  {
   "cell_type": "markdown",
   "id": "a07304a4",
   "metadata": {
    "papermill": {
     "duration": 0.067535,
     "end_time": "2024-10-05T18:02:50.001311",
     "exception": false,
     "start_time": "2024-10-05T18:02:49.933776",
     "status": "completed"
    },
    "tags": []
   },
   "source": [
    "## Under-Sampling Scenario"
   ]
  },
  {
   "cell_type": "code",
   "execution_count": 41,
   "id": "62c05b7c",
   "metadata": {
    "execution": {
     "iopub.execute_input": "2024-10-05T18:02:50.138808Z",
     "iopub.status.busy": "2024-10-05T18:02:50.138393Z",
     "iopub.status.idle": "2024-10-05T18:02:50.163908Z",
     "shell.execute_reply": "2024-10-05T18:02:50.162350Z"
    },
    "papermill": {
     "duration": 0.09766,
     "end_time": "2024-10-05T18:02:50.166560",
     "exception": false,
     "start_time": "2024-10-05T18:02:50.068900",
     "status": "completed"
    },
    "tags": []
   },
   "outputs": [],
   "source": [
    "rus = RandomUnderSampler(random_state=42)\n",
    "x_train_rus, y_train_rus = rus.fit_resample(df_feature_train[['pca_1', 'pca_2']], df_feature_train[['anotasi']])"
   ]
  },
  {
   "cell_type": "code",
   "execution_count": 42,
   "id": "94d84a95",
   "metadata": {
    "execution": {
     "iopub.execute_input": "2024-10-05T18:02:50.308963Z",
     "iopub.status.busy": "2024-10-05T18:02:50.308560Z",
     "iopub.status.idle": "2024-10-05T18:02:50.314102Z",
     "shell.execute_reply": "2024-10-05T18:02:50.313154Z"
    },
    "papermill": {
     "duration": 0.078576,
     "end_time": "2024-10-05T18:02:50.316315",
     "exception": false,
     "start_time": "2024-10-05T18:02:50.237739",
     "status": "completed"
    },
    "tags": []
   },
   "outputs": [
    {
     "name": "stdout",
     "output_type": "stream",
     "text": [
      "(23768, 2)\n",
      "(23768, 1)\n"
     ]
    }
   ],
   "source": [
    "print(x_train_rus.shape)\n",
    "print(y_train_rus.shape)"
   ]
  },
  {
   "cell_type": "code",
   "execution_count": 43,
   "id": "5db8ad0c",
   "metadata": {
    "execution": {
     "iopub.execute_input": "2024-10-05T18:02:50.453152Z",
     "iopub.status.busy": "2024-10-05T18:02:50.452722Z",
     "iopub.status.idle": "2024-10-05T18:02:50.467578Z",
     "shell.execute_reply": "2024-10-05T18:02:50.466808Z"
    },
    "papermill": {
     "duration": 0.085167,
     "end_time": "2024-10-05T18:02:50.469660",
     "exception": false,
     "start_time": "2024-10-05T18:02:50.384493",
     "status": "completed"
    },
    "tags": []
   },
   "outputs": [],
   "source": [
    "x_test_rus, y_test_rus = rus.fit_resample(df_feature_test[['pca_1', 'pca_2']], df_feature_test[['anotasi']])"
   ]
  },
  {
   "cell_type": "code",
   "execution_count": 44,
   "id": "d8d32b84",
   "metadata": {
    "execution": {
     "iopub.execute_input": "2024-10-05T18:02:50.604662Z",
     "iopub.status.busy": "2024-10-05T18:02:50.604272Z",
     "iopub.status.idle": "2024-10-05T18:02:50.609321Z",
     "shell.execute_reply": "2024-10-05T18:02:50.608387Z"
    },
    "papermill": {
     "duration": 0.07525,
     "end_time": "2024-10-05T18:02:50.611624",
     "exception": false,
     "start_time": "2024-10-05T18:02:50.536374",
     "status": "completed"
    },
    "tags": []
   },
   "outputs": [
    {
     "name": "stdout",
     "output_type": "stream",
     "text": [
      "(5936, 2)\n",
      "(5936, 1)\n"
     ]
    }
   ],
   "source": [
    "print(x_test_rus.shape)\n",
    "print(y_test_rus.shape)"
   ]
  },
  {
   "cell_type": "markdown",
   "id": "14ff4cf6",
   "metadata": {
    "papermill": {
     "duration": 0.067339,
     "end_time": "2024-10-05T18:02:50.747451",
     "exception": false,
     "start_time": "2024-10-05T18:02:50.680112",
     "status": "completed"
    },
    "tags": []
   },
   "source": [
    "### SVM"
   ]
  },
  {
   "cell_type": "code",
   "execution_count": 45,
   "id": "0d34c4ae",
   "metadata": {
    "execution": {
     "iopub.execute_input": "2024-10-05T18:02:50.885126Z",
     "iopub.status.busy": "2024-10-05T18:02:50.884699Z",
     "iopub.status.idle": "2024-10-05T18:03:09.873988Z",
     "shell.execute_reply": "2024-10-05T18:03:09.873049Z"
    },
    "papermill": {
     "duration": 19.060088,
     "end_time": "2024-10-05T18:03:09.876155",
     "exception": false,
     "start_time": "2024-10-05T18:02:50.816067",
     "status": "completed"
    },
    "tags": []
   },
   "outputs": [
    {
     "name": "stderr",
     "output_type": "stream",
     "text": [
      "/opt/conda/lib/python3.10/site-packages/sklearn/utils/validation.py:1143: DataConversionWarning: A column-vector y was passed when a 1d array was expected. Please change the shape of y to (n_samples, ), for example using ravel().\n",
      "  y = column_or_1d(y, warn=True)\n"
     ]
    },
    {
     "data": {
      "text/html": [
       "<style>#sk-container-id-8 {color: black;background-color: white;}#sk-container-id-8 pre{padding: 0;}#sk-container-id-8 div.sk-toggleable {background-color: white;}#sk-container-id-8 label.sk-toggleable__label {cursor: pointer;display: block;width: 100%;margin-bottom: 0;padding: 0.3em;box-sizing: border-box;text-align: center;}#sk-container-id-8 label.sk-toggleable__label-arrow:before {content: \"▸\";float: left;margin-right: 0.25em;color: #696969;}#sk-container-id-8 label.sk-toggleable__label-arrow:hover:before {color: black;}#sk-container-id-8 div.sk-estimator:hover label.sk-toggleable__label-arrow:before {color: black;}#sk-container-id-8 div.sk-toggleable__content {max-height: 0;max-width: 0;overflow: hidden;text-align: left;background-color: #f0f8ff;}#sk-container-id-8 div.sk-toggleable__content pre {margin: 0.2em;color: black;border-radius: 0.25em;background-color: #f0f8ff;}#sk-container-id-8 input.sk-toggleable__control:checked~div.sk-toggleable__content {max-height: 200px;max-width: 100%;overflow: auto;}#sk-container-id-8 input.sk-toggleable__control:checked~label.sk-toggleable__label-arrow:before {content: \"▾\";}#sk-container-id-8 div.sk-estimator input.sk-toggleable__control:checked~label.sk-toggleable__label {background-color: #d4ebff;}#sk-container-id-8 div.sk-label input.sk-toggleable__control:checked~label.sk-toggleable__label {background-color: #d4ebff;}#sk-container-id-8 input.sk-hidden--visually {border: 0;clip: rect(1px 1px 1px 1px);clip: rect(1px, 1px, 1px, 1px);height: 1px;margin: -1px;overflow: hidden;padding: 0;position: absolute;width: 1px;}#sk-container-id-8 div.sk-estimator {font-family: monospace;background-color: #f0f8ff;border: 1px dotted black;border-radius: 0.25em;box-sizing: border-box;margin-bottom: 0.5em;}#sk-container-id-8 div.sk-estimator:hover {background-color: #d4ebff;}#sk-container-id-8 div.sk-parallel-item::after {content: \"\";width: 100%;border-bottom: 1px solid gray;flex-grow: 1;}#sk-container-id-8 div.sk-label:hover label.sk-toggleable__label {background-color: #d4ebff;}#sk-container-id-8 div.sk-serial::before {content: \"\";position: absolute;border-left: 1px solid gray;box-sizing: border-box;top: 0;bottom: 0;left: 50%;z-index: 0;}#sk-container-id-8 div.sk-serial {display: flex;flex-direction: column;align-items: center;background-color: white;padding-right: 0.2em;padding-left: 0.2em;position: relative;}#sk-container-id-8 div.sk-item {position: relative;z-index: 1;}#sk-container-id-8 div.sk-parallel {display: flex;align-items: stretch;justify-content: center;background-color: white;position: relative;}#sk-container-id-8 div.sk-item::before, #sk-container-id-8 div.sk-parallel-item::before {content: \"\";position: absolute;border-left: 1px solid gray;box-sizing: border-box;top: 0;bottom: 0;left: 50%;z-index: -1;}#sk-container-id-8 div.sk-parallel-item {display: flex;flex-direction: column;z-index: 1;position: relative;background-color: white;}#sk-container-id-8 div.sk-parallel-item:first-child::after {align-self: flex-end;width: 50%;}#sk-container-id-8 div.sk-parallel-item:last-child::after {align-self: flex-start;width: 50%;}#sk-container-id-8 div.sk-parallel-item:only-child::after {width: 0;}#sk-container-id-8 div.sk-dashed-wrapped {border: 1px dashed gray;margin: 0 0.4em 0.5em 0.4em;box-sizing: border-box;padding-bottom: 0.4em;background-color: white;}#sk-container-id-8 div.sk-label label {font-family: monospace;font-weight: bold;display: inline-block;line-height: 1.2em;}#sk-container-id-8 div.sk-label-container {text-align: center;}#sk-container-id-8 div.sk-container {/* jupyter's `normalize.less` sets `[hidden] { display: none; }` but bootstrap.min.css set `[hidden] { display: none !important; }` so we also need the `!important` here to be able to override the default hidden behavior on the sphinx rendered scikit-learn.org. See: https://github.com/scikit-learn/scikit-learn/issues/21755 */display: inline-block !important;position: relative;}#sk-container-id-8 div.sk-text-repr-fallback {display: none;}</style><div id=\"sk-container-id-8\" class=\"sk-top-container\"><div class=\"sk-text-repr-fallback\"><pre>SVC()</pre><b>In a Jupyter environment, please rerun this cell to show the HTML representation or trust the notebook. <br />On GitHub, the HTML representation is unable to render, please try loading this page with nbviewer.org.</b></div><div class=\"sk-container\" hidden><div class=\"sk-item\"><div class=\"sk-estimator sk-toggleable\"><input class=\"sk-toggleable__control sk-hidden--visually\" id=\"sk-estimator-id-10\" type=\"checkbox\" checked><label for=\"sk-estimator-id-10\" class=\"sk-toggleable__label sk-toggleable__label-arrow\">SVC</label><div class=\"sk-toggleable__content\"><pre>SVC()</pre></div></div></div></div></div>"
      ],
      "text/plain": [
       "SVC()"
      ]
     },
     "execution_count": 45,
     "metadata": {},
     "output_type": "execute_result"
    }
   ],
   "source": [
    "model_svm_rus = SVC()\n",
    "model_svm_rus.fit(x_train_rus, y_train_rus)"
   ]
  },
  {
   "cell_type": "code",
   "execution_count": 46,
   "id": "f9eb52f7",
   "metadata": {
    "execution": {
     "iopub.execute_input": "2024-10-05T18:03:10.011574Z",
     "iopub.status.busy": "2024-10-05T18:03:10.011208Z",
     "iopub.status.idle": "2024-10-05T18:03:15.673627Z",
     "shell.execute_reply": "2024-10-05T18:03:15.672615Z"
    },
    "papermill": {
     "duration": 5.732614,
     "end_time": "2024-10-05T18:03:15.676033",
     "exception": false,
     "start_time": "2024-10-05T18:03:09.943419",
     "status": "completed"
    },
    "tags": []
   },
   "outputs": [
    {
     "name": "stdout",
     "output_type": "stream",
     "text": [
      "Akurasi SVM : 0.565532345013477\n"
     ]
    }
   ],
   "source": [
    "model_svm_rus_predict = model_svm_rus.predict(x_test_rus)\n",
    "model_svm_rus_accuracy = accuracy_score(model_svm_rus_predict, y_test_rus)\n",
    "print(f'Akurasi SVM : {model_svm_rus_accuracy}')"
   ]
  },
  {
   "cell_type": "code",
   "execution_count": 47,
   "id": "6e76c5ad",
   "metadata": {
    "execution": {
     "iopub.execute_input": "2024-10-05T18:03:15.812884Z",
     "iopub.status.busy": "2024-10-05T18:03:15.812495Z",
     "iopub.status.idle": "2024-10-05T18:03:15.959802Z",
     "shell.execute_reply": "2024-10-05T18:03:15.958788Z"
    },
    "papermill": {
     "duration": 0.218224,
     "end_time": "2024-10-05T18:03:15.962158",
     "exception": false,
     "start_time": "2024-10-05T18:03:15.743934",
     "status": "completed"
    },
    "tags": []
   },
   "outputs": [
    {
     "data": {
      "text/html": [
       "<style>#sk-container-id-9 {color: black;background-color: white;}#sk-container-id-9 pre{padding: 0;}#sk-container-id-9 div.sk-toggleable {background-color: white;}#sk-container-id-9 label.sk-toggleable__label {cursor: pointer;display: block;width: 100%;margin-bottom: 0;padding: 0.3em;box-sizing: border-box;text-align: center;}#sk-container-id-9 label.sk-toggleable__label-arrow:before {content: \"▸\";float: left;margin-right: 0.25em;color: #696969;}#sk-container-id-9 label.sk-toggleable__label-arrow:hover:before {color: black;}#sk-container-id-9 div.sk-estimator:hover label.sk-toggleable__label-arrow:before {color: black;}#sk-container-id-9 div.sk-toggleable__content {max-height: 0;max-width: 0;overflow: hidden;text-align: left;background-color: #f0f8ff;}#sk-container-id-9 div.sk-toggleable__content pre {margin: 0.2em;color: black;border-radius: 0.25em;background-color: #f0f8ff;}#sk-container-id-9 input.sk-toggleable__control:checked~div.sk-toggleable__content {max-height: 200px;max-width: 100%;overflow: auto;}#sk-container-id-9 input.sk-toggleable__control:checked~label.sk-toggleable__label-arrow:before {content: \"▾\";}#sk-container-id-9 div.sk-estimator input.sk-toggleable__control:checked~label.sk-toggleable__label {background-color: #d4ebff;}#sk-container-id-9 div.sk-label input.sk-toggleable__control:checked~label.sk-toggleable__label {background-color: #d4ebff;}#sk-container-id-9 input.sk-hidden--visually {border: 0;clip: rect(1px 1px 1px 1px);clip: rect(1px, 1px, 1px, 1px);height: 1px;margin: -1px;overflow: hidden;padding: 0;position: absolute;width: 1px;}#sk-container-id-9 div.sk-estimator {font-family: monospace;background-color: #f0f8ff;border: 1px dotted black;border-radius: 0.25em;box-sizing: border-box;margin-bottom: 0.5em;}#sk-container-id-9 div.sk-estimator:hover {background-color: #d4ebff;}#sk-container-id-9 div.sk-parallel-item::after {content: \"\";width: 100%;border-bottom: 1px solid gray;flex-grow: 1;}#sk-container-id-9 div.sk-label:hover label.sk-toggleable__label {background-color: #d4ebff;}#sk-container-id-9 div.sk-serial::before {content: \"\";position: absolute;border-left: 1px solid gray;box-sizing: border-box;top: 0;bottom: 0;left: 50%;z-index: 0;}#sk-container-id-9 div.sk-serial {display: flex;flex-direction: column;align-items: center;background-color: white;padding-right: 0.2em;padding-left: 0.2em;position: relative;}#sk-container-id-9 div.sk-item {position: relative;z-index: 1;}#sk-container-id-9 div.sk-parallel {display: flex;align-items: stretch;justify-content: center;background-color: white;position: relative;}#sk-container-id-9 div.sk-item::before, #sk-container-id-9 div.sk-parallel-item::before {content: \"\";position: absolute;border-left: 1px solid gray;box-sizing: border-box;top: 0;bottom: 0;left: 50%;z-index: -1;}#sk-container-id-9 div.sk-parallel-item {display: flex;flex-direction: column;z-index: 1;position: relative;background-color: white;}#sk-container-id-9 div.sk-parallel-item:first-child::after {align-self: flex-end;width: 50%;}#sk-container-id-9 div.sk-parallel-item:last-child::after {align-self: flex-start;width: 50%;}#sk-container-id-9 div.sk-parallel-item:only-child::after {width: 0;}#sk-container-id-9 div.sk-dashed-wrapped {border: 1px dashed gray;margin: 0 0.4em 0.5em 0.4em;box-sizing: border-box;padding-bottom: 0.4em;background-color: white;}#sk-container-id-9 div.sk-label label {font-family: monospace;font-weight: bold;display: inline-block;line-height: 1.2em;}#sk-container-id-9 div.sk-label-container {text-align: center;}#sk-container-id-9 div.sk-container {/* jupyter's `normalize.less` sets `[hidden] { display: none; }` but bootstrap.min.css set `[hidden] { display: none !important; }` so we also need the `!important` here to be able to override the default hidden behavior on the sphinx rendered scikit-learn.org. See: https://github.com/scikit-learn/scikit-learn/issues/21755 */display: inline-block !important;position: relative;}#sk-container-id-9 div.sk-text-repr-fallback {display: none;}</style><div id=\"sk-container-id-9\" class=\"sk-top-container\"><div class=\"sk-text-repr-fallback\"><pre>DecisionTreeClassifier()</pre><b>In a Jupyter environment, please rerun this cell to show the HTML representation or trust the notebook. <br />On GitHub, the HTML representation is unable to render, please try loading this page with nbviewer.org.</b></div><div class=\"sk-container\" hidden><div class=\"sk-item\"><div class=\"sk-estimator sk-toggleable\"><input class=\"sk-toggleable__control sk-hidden--visually\" id=\"sk-estimator-id-11\" type=\"checkbox\" checked><label for=\"sk-estimator-id-11\" class=\"sk-toggleable__label sk-toggleable__label-arrow\">DecisionTreeClassifier</label><div class=\"sk-toggleable__content\"><pre>DecisionTreeClassifier()</pre></div></div></div></div></div>"
      ],
      "text/plain": [
       "DecisionTreeClassifier()"
      ]
     },
     "execution_count": 47,
     "metadata": {},
     "output_type": "execute_result"
    }
   ],
   "source": [
    "model_decision_tree_rus = DecisionTreeClassifier()\n",
    "model_decision_tree_rus.fit(x_train_rus, y_train_rus)"
   ]
  },
  {
   "cell_type": "code",
   "execution_count": 48,
   "id": "145b06e5",
   "metadata": {
    "execution": {
     "iopub.execute_input": "2024-10-05T18:03:16.099211Z",
     "iopub.status.busy": "2024-10-05T18:03:16.098790Z",
     "iopub.status.idle": "2024-10-05T18:03:16.109890Z",
     "shell.execute_reply": "2024-10-05T18:03:16.108717Z"
    },
    "papermill": {
     "duration": 0.081358,
     "end_time": "2024-10-05T18:03:16.111958",
     "exception": false,
     "start_time": "2024-10-05T18:03:16.030600",
     "status": "completed"
    },
    "tags": []
   },
   "outputs": [
    {
     "name": "stdout",
     "output_type": "stream",
     "text": [
      "Akurasi Decision Tree : 0.4658018867924528\n"
     ]
    }
   ],
   "source": [
    "model_decision_rus_predict = model_decision_tree_rus.predict(x_test_rus)\n",
    "model_decision_rus_accuracy = accuracy_score(model_decision_rus_predict, y_test_rus)\n",
    "print(f'Akurasi Decision Tree : {model_decision_rus_accuracy}')"
   ]
  },
  {
   "cell_type": "markdown",
   "id": "121c67bb",
   "metadata": {
    "papermill": {
     "duration": 0.071074,
     "end_time": "2024-10-05T18:03:16.251040",
     "exception": false,
     "start_time": "2024-10-05T18:03:16.179966",
     "status": "completed"
    },
    "tags": []
   },
   "source": [
    "## Under-samplinng NearMiss"
   ]
  },
  {
   "cell_type": "code",
   "execution_count": 49,
   "id": "3005b52c",
   "metadata": {
    "execution": {
     "iopub.execute_input": "2024-10-05T18:03:16.394064Z",
     "iopub.status.busy": "2024-10-05T18:03:16.393654Z",
     "iopub.status.idle": "2024-10-05T18:03:16.487969Z",
     "shell.execute_reply": "2024-10-05T18:03:16.486944Z"
    },
    "papermill": {
     "duration": 0.169031,
     "end_time": "2024-10-05T18:03:16.490564",
     "exception": false,
     "start_time": "2024-10-05T18:03:16.321533",
     "status": "completed"
    },
    "tags": []
   },
   "outputs": [],
   "source": [
    "nearmiss = NearMiss()\n",
    "X_train_nearmiss, y_train_nearmiss= nearmiss.fit_resample(df_feature_train[['pca_1', 'pca_2']], df_feature_train[['anotasi']])"
   ]
  },
  {
   "cell_type": "code",
   "execution_count": 50,
   "id": "3f399b54",
   "metadata": {
    "execution": {
     "iopub.execute_input": "2024-10-05T18:03:16.629145Z",
     "iopub.status.busy": "2024-10-05T18:03:16.628299Z",
     "iopub.status.idle": "2024-10-05T18:03:16.634078Z",
     "shell.execute_reply": "2024-10-05T18:03:16.633034Z"
    },
    "papermill": {
     "duration": 0.077601,
     "end_time": "2024-10-05T18:03:16.636299",
     "exception": false,
     "start_time": "2024-10-05T18:03:16.558698",
     "status": "completed"
    },
    "tags": []
   },
   "outputs": [
    {
     "name": "stdout",
     "output_type": "stream",
     "text": [
      "(23768, 2)\n",
      "(23768, 1)\n"
     ]
    }
   ],
   "source": [
    "print(X_train_nearmiss.shape)\n",
    "print(y_train_nearmiss.shape)"
   ]
  },
  {
   "cell_type": "markdown",
   "id": "986341fd",
   "metadata": {
    "papermill": {
     "duration": 0.067296,
     "end_time": "2024-10-05T18:03:16.771267",
     "exception": false,
     "start_time": "2024-10-05T18:03:16.703971",
     "status": "completed"
    },
    "tags": []
   },
   "source": [
    "### SVM"
   ]
  },
  {
   "cell_type": "code",
   "execution_count": 51,
   "id": "7195e45e",
   "metadata": {
    "execution": {
     "iopub.execute_input": "2024-10-05T18:03:16.909575Z",
     "iopub.status.busy": "2024-10-05T18:03:16.908493Z",
     "iopub.status.idle": "2024-10-05T18:03:35.333945Z",
     "shell.execute_reply": "2024-10-05T18:03:35.332881Z"
    },
    "papermill": {
     "duration": 18.498127,
     "end_time": "2024-10-05T18:03:35.336147",
     "exception": false,
     "start_time": "2024-10-05T18:03:16.838020",
     "status": "completed"
    },
    "tags": []
   },
   "outputs": [
    {
     "name": "stderr",
     "output_type": "stream",
     "text": [
      "/opt/conda/lib/python3.10/site-packages/sklearn/utils/validation.py:1143: DataConversionWarning: A column-vector y was passed when a 1d array was expected. Please change the shape of y to (n_samples, ), for example using ravel().\n",
      "  y = column_or_1d(y, warn=True)\n"
     ]
    },
    {
     "data": {
      "text/html": [
       "<style>#sk-container-id-10 {color: black;background-color: white;}#sk-container-id-10 pre{padding: 0;}#sk-container-id-10 div.sk-toggleable {background-color: white;}#sk-container-id-10 label.sk-toggleable__label {cursor: pointer;display: block;width: 100%;margin-bottom: 0;padding: 0.3em;box-sizing: border-box;text-align: center;}#sk-container-id-10 label.sk-toggleable__label-arrow:before {content: \"▸\";float: left;margin-right: 0.25em;color: #696969;}#sk-container-id-10 label.sk-toggleable__label-arrow:hover:before {color: black;}#sk-container-id-10 div.sk-estimator:hover label.sk-toggleable__label-arrow:before {color: black;}#sk-container-id-10 div.sk-toggleable__content {max-height: 0;max-width: 0;overflow: hidden;text-align: left;background-color: #f0f8ff;}#sk-container-id-10 div.sk-toggleable__content pre {margin: 0.2em;color: black;border-radius: 0.25em;background-color: #f0f8ff;}#sk-container-id-10 input.sk-toggleable__control:checked~div.sk-toggleable__content {max-height: 200px;max-width: 100%;overflow: auto;}#sk-container-id-10 input.sk-toggleable__control:checked~label.sk-toggleable__label-arrow:before {content: \"▾\";}#sk-container-id-10 div.sk-estimator input.sk-toggleable__control:checked~label.sk-toggleable__label {background-color: #d4ebff;}#sk-container-id-10 div.sk-label input.sk-toggleable__control:checked~label.sk-toggleable__label {background-color: #d4ebff;}#sk-container-id-10 input.sk-hidden--visually {border: 0;clip: rect(1px 1px 1px 1px);clip: rect(1px, 1px, 1px, 1px);height: 1px;margin: -1px;overflow: hidden;padding: 0;position: absolute;width: 1px;}#sk-container-id-10 div.sk-estimator {font-family: monospace;background-color: #f0f8ff;border: 1px dotted black;border-radius: 0.25em;box-sizing: border-box;margin-bottom: 0.5em;}#sk-container-id-10 div.sk-estimator:hover {background-color: #d4ebff;}#sk-container-id-10 div.sk-parallel-item::after {content: \"\";width: 100%;border-bottom: 1px solid gray;flex-grow: 1;}#sk-container-id-10 div.sk-label:hover label.sk-toggleable__label {background-color: #d4ebff;}#sk-container-id-10 div.sk-serial::before {content: \"\";position: absolute;border-left: 1px solid gray;box-sizing: border-box;top: 0;bottom: 0;left: 50%;z-index: 0;}#sk-container-id-10 div.sk-serial {display: flex;flex-direction: column;align-items: center;background-color: white;padding-right: 0.2em;padding-left: 0.2em;position: relative;}#sk-container-id-10 div.sk-item {position: relative;z-index: 1;}#sk-container-id-10 div.sk-parallel {display: flex;align-items: stretch;justify-content: center;background-color: white;position: relative;}#sk-container-id-10 div.sk-item::before, #sk-container-id-10 div.sk-parallel-item::before {content: \"\";position: absolute;border-left: 1px solid gray;box-sizing: border-box;top: 0;bottom: 0;left: 50%;z-index: -1;}#sk-container-id-10 div.sk-parallel-item {display: flex;flex-direction: column;z-index: 1;position: relative;background-color: white;}#sk-container-id-10 div.sk-parallel-item:first-child::after {align-self: flex-end;width: 50%;}#sk-container-id-10 div.sk-parallel-item:last-child::after {align-self: flex-start;width: 50%;}#sk-container-id-10 div.sk-parallel-item:only-child::after {width: 0;}#sk-container-id-10 div.sk-dashed-wrapped {border: 1px dashed gray;margin: 0 0.4em 0.5em 0.4em;box-sizing: border-box;padding-bottom: 0.4em;background-color: white;}#sk-container-id-10 div.sk-label label {font-family: monospace;font-weight: bold;display: inline-block;line-height: 1.2em;}#sk-container-id-10 div.sk-label-container {text-align: center;}#sk-container-id-10 div.sk-container {/* jupyter's `normalize.less` sets `[hidden] { display: none; }` but bootstrap.min.css set `[hidden] { display: none !important; }` so we also need the `!important` here to be able to override the default hidden behavior on the sphinx rendered scikit-learn.org. See: https://github.com/scikit-learn/scikit-learn/issues/21755 */display: inline-block !important;position: relative;}#sk-container-id-10 div.sk-text-repr-fallback {display: none;}</style><div id=\"sk-container-id-10\" class=\"sk-top-container\"><div class=\"sk-text-repr-fallback\"><pre>SVC()</pre><b>In a Jupyter environment, please rerun this cell to show the HTML representation or trust the notebook. <br />On GitHub, the HTML representation is unable to render, please try loading this page with nbviewer.org.</b></div><div class=\"sk-container\" hidden><div class=\"sk-item\"><div class=\"sk-estimator sk-toggleable\"><input class=\"sk-toggleable__control sk-hidden--visually\" id=\"sk-estimator-id-12\" type=\"checkbox\" checked><label for=\"sk-estimator-id-12\" class=\"sk-toggleable__label sk-toggleable__label-arrow\">SVC</label><div class=\"sk-toggleable__content\"><pre>SVC()</pre></div></div></div></div></div>"
      ],
      "text/plain": [
       "SVC()"
      ]
     },
     "execution_count": 51,
     "metadata": {},
     "output_type": "execute_result"
    }
   ],
   "source": [
    "model_svm_nearmiss = SVC()\n",
    "model_svm_nearmiss.fit(X_train_nearmiss, y_train_nearmiss)"
   ]
  },
  {
   "cell_type": "code",
   "execution_count": 52,
   "id": "140df9fc",
   "metadata": {
    "execution": {
     "iopub.execute_input": "2024-10-05T18:03:35.475714Z",
     "iopub.status.busy": "2024-10-05T18:03:35.475327Z",
     "iopub.status.idle": "2024-10-05T18:03:41.872560Z",
     "shell.execute_reply": "2024-10-05T18:03:41.871616Z"
    },
    "papermill": {
     "duration": 6.468652,
     "end_time": "2024-10-05T18:03:41.874721",
     "exception": false,
     "start_time": "2024-10-05T18:03:35.406069",
     "status": "completed"
    },
    "tags": []
   },
   "outputs": [
    {
     "name": "stdout",
     "output_type": "stream",
     "text": [
      "Akurasi SVM : 0.5663170163170164\n"
     ]
    }
   ],
   "source": [
    "model_svm_nearmiss_predict = model_svm_nearmiss.predict(df_feature_test[['pca_1', 'pca_2']])\n",
    "model_svm_nearmiss_accuracy = accuracy_score(model_svm_nearmiss_predict, df_feature_test[['anotasi']])\n",
    "print(f'Akurasi SVM : {model_svm_nearmiss_accuracy}')"
   ]
  },
  {
   "cell_type": "markdown",
   "id": "06d2402a",
   "metadata": {
    "papermill": {
     "duration": 0.069206,
     "end_time": "2024-10-05T18:03:42.012907",
     "exception": false,
     "start_time": "2024-10-05T18:03:41.943701",
     "status": "completed"
    },
    "tags": []
   },
   "source": [
    "## Over-Sampling Scenario"
   ]
  },
  {
   "cell_type": "code",
   "execution_count": 53,
   "id": "1e42db1d",
   "metadata": {
    "execution": {
     "iopub.execute_input": "2024-10-05T18:03:42.153225Z",
     "iopub.status.busy": "2024-10-05T18:03:42.152781Z",
     "iopub.status.idle": "2024-10-05T18:03:42.174447Z",
     "shell.execute_reply": "2024-10-05T18:03:42.173621Z"
    },
    "papermill": {
     "duration": 0.095968,
     "end_time": "2024-10-05T18:03:42.176666",
     "exception": false,
     "start_time": "2024-10-05T18:03:42.080698",
     "status": "completed"
    },
    "tags": []
   },
   "outputs": [],
   "source": [
    "ros = RandomOverSampler(random_state=42)\n",
    "X_train_ros, y_train_ros= ros.fit_resample(df_feature_train[['pca_1', 'pca_2']], df_feature_train[['anotasi']])"
   ]
  },
  {
   "cell_type": "code",
   "execution_count": 54,
   "id": "70af7673",
   "metadata": {
    "execution": {
     "iopub.execute_input": "2024-10-05T18:03:42.314706Z",
     "iopub.status.busy": "2024-10-05T18:03:42.314312Z",
     "iopub.status.idle": "2024-10-05T18:03:42.319682Z",
     "shell.execute_reply": "2024-10-05T18:03:42.318752Z"
    },
    "papermill": {
     "duration": 0.076634,
     "end_time": "2024-10-05T18:03:42.321743",
     "exception": false,
     "start_time": "2024-10-05T18:03:42.245109",
     "status": "completed"
    },
    "tags": []
   },
   "outputs": [
    {
     "name": "stdout",
     "output_type": "stream",
     "text": [
      "(44894, 2)\n",
      "(44894, 1)\n"
     ]
    }
   ],
   "source": [
    "print(X_train_ros.shape)\n",
    "print(y_train_ros.shape)"
   ]
  },
  {
   "cell_type": "markdown",
   "id": "9cfd5c17",
   "metadata": {
    "papermill": {
     "duration": 0.068327,
     "end_time": "2024-10-05T18:03:42.459057",
     "exception": false,
     "start_time": "2024-10-05T18:03:42.390730",
     "status": "completed"
    },
    "tags": []
   },
   "source": [
    "### SVM"
   ]
  },
  {
   "cell_type": "code",
   "execution_count": 55,
   "id": "12bc1f5f",
   "metadata": {
    "execution": {
     "iopub.execute_input": "2024-10-05T18:03:42.596295Z",
     "iopub.status.busy": "2024-10-05T18:03:42.595883Z",
     "iopub.status.idle": "2024-10-05T18:04:57.523979Z",
     "shell.execute_reply": "2024-10-05T18:04:57.522965Z"
    },
    "papermill": {
     "duration": 75.067401,
     "end_time": "2024-10-05T18:04:57.594355",
     "exception": false,
     "start_time": "2024-10-05T18:03:42.526954",
     "status": "completed"
    },
    "tags": []
   },
   "outputs": [
    {
     "name": "stderr",
     "output_type": "stream",
     "text": [
      "/opt/conda/lib/python3.10/site-packages/sklearn/utils/validation.py:1143: DataConversionWarning: A column-vector y was passed when a 1d array was expected. Please change the shape of y to (n_samples, ), for example using ravel().\n",
      "  y = column_or_1d(y, warn=True)\n"
     ]
    },
    {
     "data": {
      "text/html": [
       "<style>#sk-container-id-11 {color: black;background-color: white;}#sk-container-id-11 pre{padding: 0;}#sk-container-id-11 div.sk-toggleable {background-color: white;}#sk-container-id-11 label.sk-toggleable__label {cursor: pointer;display: block;width: 100%;margin-bottom: 0;padding: 0.3em;box-sizing: border-box;text-align: center;}#sk-container-id-11 label.sk-toggleable__label-arrow:before {content: \"▸\";float: left;margin-right: 0.25em;color: #696969;}#sk-container-id-11 label.sk-toggleable__label-arrow:hover:before {color: black;}#sk-container-id-11 div.sk-estimator:hover label.sk-toggleable__label-arrow:before {color: black;}#sk-container-id-11 div.sk-toggleable__content {max-height: 0;max-width: 0;overflow: hidden;text-align: left;background-color: #f0f8ff;}#sk-container-id-11 div.sk-toggleable__content pre {margin: 0.2em;color: black;border-radius: 0.25em;background-color: #f0f8ff;}#sk-container-id-11 input.sk-toggleable__control:checked~div.sk-toggleable__content {max-height: 200px;max-width: 100%;overflow: auto;}#sk-container-id-11 input.sk-toggleable__control:checked~label.sk-toggleable__label-arrow:before {content: \"▾\";}#sk-container-id-11 div.sk-estimator input.sk-toggleable__control:checked~label.sk-toggleable__label {background-color: #d4ebff;}#sk-container-id-11 div.sk-label input.sk-toggleable__control:checked~label.sk-toggleable__label {background-color: #d4ebff;}#sk-container-id-11 input.sk-hidden--visually {border: 0;clip: rect(1px 1px 1px 1px);clip: rect(1px, 1px, 1px, 1px);height: 1px;margin: -1px;overflow: hidden;padding: 0;position: absolute;width: 1px;}#sk-container-id-11 div.sk-estimator {font-family: monospace;background-color: #f0f8ff;border: 1px dotted black;border-radius: 0.25em;box-sizing: border-box;margin-bottom: 0.5em;}#sk-container-id-11 div.sk-estimator:hover {background-color: #d4ebff;}#sk-container-id-11 div.sk-parallel-item::after {content: \"\";width: 100%;border-bottom: 1px solid gray;flex-grow: 1;}#sk-container-id-11 div.sk-label:hover label.sk-toggleable__label {background-color: #d4ebff;}#sk-container-id-11 div.sk-serial::before {content: \"\";position: absolute;border-left: 1px solid gray;box-sizing: border-box;top: 0;bottom: 0;left: 50%;z-index: 0;}#sk-container-id-11 div.sk-serial {display: flex;flex-direction: column;align-items: center;background-color: white;padding-right: 0.2em;padding-left: 0.2em;position: relative;}#sk-container-id-11 div.sk-item {position: relative;z-index: 1;}#sk-container-id-11 div.sk-parallel {display: flex;align-items: stretch;justify-content: center;background-color: white;position: relative;}#sk-container-id-11 div.sk-item::before, #sk-container-id-11 div.sk-parallel-item::before {content: \"\";position: absolute;border-left: 1px solid gray;box-sizing: border-box;top: 0;bottom: 0;left: 50%;z-index: -1;}#sk-container-id-11 div.sk-parallel-item {display: flex;flex-direction: column;z-index: 1;position: relative;background-color: white;}#sk-container-id-11 div.sk-parallel-item:first-child::after {align-self: flex-end;width: 50%;}#sk-container-id-11 div.sk-parallel-item:last-child::after {align-self: flex-start;width: 50%;}#sk-container-id-11 div.sk-parallel-item:only-child::after {width: 0;}#sk-container-id-11 div.sk-dashed-wrapped {border: 1px dashed gray;margin: 0 0.4em 0.5em 0.4em;box-sizing: border-box;padding-bottom: 0.4em;background-color: white;}#sk-container-id-11 div.sk-label label {font-family: monospace;font-weight: bold;display: inline-block;line-height: 1.2em;}#sk-container-id-11 div.sk-label-container {text-align: center;}#sk-container-id-11 div.sk-container {/* jupyter's `normalize.less` sets `[hidden] { display: none; }` but bootstrap.min.css set `[hidden] { display: none !important; }` so we also need the `!important` here to be able to override the default hidden behavior on the sphinx rendered scikit-learn.org. See: https://github.com/scikit-learn/scikit-learn/issues/21755 */display: inline-block !important;position: relative;}#sk-container-id-11 div.sk-text-repr-fallback {display: none;}</style><div id=\"sk-container-id-11\" class=\"sk-top-container\"><div class=\"sk-text-repr-fallback\"><pre>SVC()</pre><b>In a Jupyter environment, please rerun this cell to show the HTML representation or trust the notebook. <br />On GitHub, the HTML representation is unable to render, please try loading this page with nbviewer.org.</b></div><div class=\"sk-container\" hidden><div class=\"sk-item\"><div class=\"sk-estimator sk-toggleable\"><input class=\"sk-toggleable__control sk-hidden--visually\" id=\"sk-estimator-id-13\" type=\"checkbox\" checked><label for=\"sk-estimator-id-13\" class=\"sk-toggleable__label sk-toggleable__label-arrow\">SVC</label><div class=\"sk-toggleable__content\"><pre>SVC()</pre></div></div></div></div></div>"
      ],
      "text/plain": [
       "SVC()"
      ]
     },
     "execution_count": 55,
     "metadata": {},
     "output_type": "execute_result"
    }
   ],
   "source": [
    "model_svm_ros = SVC()\n",
    "model_svm_ros.fit(X_train_ros, y_train_ros)"
   ]
  },
  {
   "cell_type": "code",
   "execution_count": 56,
   "id": "75b4314d",
   "metadata": {
    "execution": {
     "iopub.execute_input": "2024-10-05T18:04:57.779754Z",
     "iopub.status.busy": "2024-10-05T18:04:57.779345Z",
     "iopub.status.idle": "2024-10-05T18:05:13.099366Z",
     "shell.execute_reply": "2024-10-05T18:05:13.098322Z"
    },
    "papermill": {
     "duration": 15.391727,
     "end_time": "2024-10-05T18:05:13.101622",
     "exception": false,
     "start_time": "2024-10-05T18:04:57.709895",
     "status": "completed"
    },
    "tags": []
   },
   "outputs": [
    {
     "name": "stdout",
     "output_type": "stream",
     "text": [
      "Akurasi SVM : 0.6020979020979021\n"
     ]
    }
   ],
   "source": [
    "model_svm_ros_predict = model_svm_ros.predict(df_feature_test[['pca_1', 'pca_2']])\n",
    "model_svm_ros_accuracy = accuracy_score(model_svm_ros_predict, df_feature_test[['anotasi']])\n",
    "print(f'Akurasi SVM : {model_svm_ros_accuracy}')"
   ]
  },
  {
   "cell_type": "markdown",
   "id": "2e60a94e",
   "metadata": {
    "papermill": {
     "duration": 0.068435,
     "end_time": "2024-10-05T18:05:13.240687",
     "exception": false,
     "start_time": "2024-10-05T18:05:13.172252",
     "status": "completed"
    },
    "tags": []
   },
   "source": [
    "## Over-Sampling SMOTE"
   ]
  },
  {
   "cell_type": "code",
   "execution_count": 57,
   "id": "48ee05ca",
   "metadata": {
    "execution": {
     "iopub.execute_input": "2024-10-05T18:05:13.381076Z",
     "iopub.status.busy": "2024-10-05T18:05:13.380664Z",
     "iopub.status.idle": "2024-10-05T18:05:13.434214Z",
     "shell.execute_reply": "2024-10-05T18:05:13.433345Z"
    },
    "papermill": {
     "duration": 0.125871,
     "end_time": "2024-10-05T18:05:13.436518",
     "exception": false,
     "start_time": "2024-10-05T18:05:13.310647",
     "status": "completed"
    },
    "tags": []
   },
   "outputs": [],
   "source": [
    "smote = SMOTE(random_state=42)\n",
    "X_train_smote, y_train_smote= smote.fit_resample(df_feature_train[['pca_1', 'pca_2']], df_feature_train[['anotasi']])"
   ]
  },
  {
   "cell_type": "code",
   "execution_count": 58,
   "id": "66ff3120",
   "metadata": {
    "execution": {
     "iopub.execute_input": "2024-10-05T18:05:13.575133Z",
     "iopub.status.busy": "2024-10-05T18:05:13.574714Z",
     "iopub.status.idle": "2024-10-05T18:05:13.579514Z",
     "shell.execute_reply": "2024-10-05T18:05:13.578606Z"
    },
    "papermill": {
     "duration": 0.076737,
     "end_time": "2024-10-05T18:05:13.582293",
     "exception": false,
     "start_time": "2024-10-05T18:05:13.505556",
     "status": "completed"
    },
    "tags": []
   },
   "outputs": [
    {
     "name": "stdout",
     "output_type": "stream",
     "text": [
      "(44894, 2)\n",
      "(44894, 1)\n"
     ]
    }
   ],
   "source": [
    "print(X_train_ros.shape)\n",
    "print(y_train_ros.shape)"
   ]
  },
  {
   "cell_type": "markdown",
   "id": "8a252329",
   "metadata": {
    "papermill": {
     "duration": 0.070274,
     "end_time": "2024-10-05T18:05:13.723094",
     "exception": false,
     "start_time": "2024-10-05T18:05:13.652820",
     "status": "completed"
    },
    "tags": []
   },
   "source": [
    "### SVM"
   ]
  },
  {
   "cell_type": "code",
   "execution_count": 59,
   "id": "5b1a50da",
   "metadata": {
    "execution": {
     "iopub.execute_input": "2024-10-05T18:05:13.866799Z",
     "iopub.status.busy": "2024-10-05T18:05:13.866141Z",
     "iopub.status.idle": "2024-10-05T18:06:24.605891Z",
     "shell.execute_reply": "2024-10-05T18:06:24.604916Z"
    },
    "papermill": {
     "duration": 70.882882,
     "end_time": "2024-10-05T18:06:24.676725",
     "exception": false,
     "start_time": "2024-10-05T18:05:13.793843",
     "status": "completed"
    },
    "tags": []
   },
   "outputs": [
    {
     "name": "stderr",
     "output_type": "stream",
     "text": [
      "/opt/conda/lib/python3.10/site-packages/sklearn/utils/validation.py:1143: DataConversionWarning: A column-vector y was passed when a 1d array was expected. Please change the shape of y to (n_samples, ), for example using ravel().\n",
      "  y = column_or_1d(y, warn=True)\n"
     ]
    },
    {
     "data": {
      "text/html": [
       "<style>#sk-container-id-12 {color: black;background-color: white;}#sk-container-id-12 pre{padding: 0;}#sk-container-id-12 div.sk-toggleable {background-color: white;}#sk-container-id-12 label.sk-toggleable__label {cursor: pointer;display: block;width: 100%;margin-bottom: 0;padding: 0.3em;box-sizing: border-box;text-align: center;}#sk-container-id-12 label.sk-toggleable__label-arrow:before {content: \"▸\";float: left;margin-right: 0.25em;color: #696969;}#sk-container-id-12 label.sk-toggleable__label-arrow:hover:before {color: black;}#sk-container-id-12 div.sk-estimator:hover label.sk-toggleable__label-arrow:before {color: black;}#sk-container-id-12 div.sk-toggleable__content {max-height: 0;max-width: 0;overflow: hidden;text-align: left;background-color: #f0f8ff;}#sk-container-id-12 div.sk-toggleable__content pre {margin: 0.2em;color: black;border-radius: 0.25em;background-color: #f0f8ff;}#sk-container-id-12 input.sk-toggleable__control:checked~div.sk-toggleable__content {max-height: 200px;max-width: 100%;overflow: auto;}#sk-container-id-12 input.sk-toggleable__control:checked~label.sk-toggleable__label-arrow:before {content: \"▾\";}#sk-container-id-12 div.sk-estimator input.sk-toggleable__control:checked~label.sk-toggleable__label {background-color: #d4ebff;}#sk-container-id-12 div.sk-label input.sk-toggleable__control:checked~label.sk-toggleable__label {background-color: #d4ebff;}#sk-container-id-12 input.sk-hidden--visually {border: 0;clip: rect(1px 1px 1px 1px);clip: rect(1px, 1px, 1px, 1px);height: 1px;margin: -1px;overflow: hidden;padding: 0;position: absolute;width: 1px;}#sk-container-id-12 div.sk-estimator {font-family: monospace;background-color: #f0f8ff;border: 1px dotted black;border-radius: 0.25em;box-sizing: border-box;margin-bottom: 0.5em;}#sk-container-id-12 div.sk-estimator:hover {background-color: #d4ebff;}#sk-container-id-12 div.sk-parallel-item::after {content: \"\";width: 100%;border-bottom: 1px solid gray;flex-grow: 1;}#sk-container-id-12 div.sk-label:hover label.sk-toggleable__label {background-color: #d4ebff;}#sk-container-id-12 div.sk-serial::before {content: \"\";position: absolute;border-left: 1px solid gray;box-sizing: border-box;top: 0;bottom: 0;left: 50%;z-index: 0;}#sk-container-id-12 div.sk-serial {display: flex;flex-direction: column;align-items: center;background-color: white;padding-right: 0.2em;padding-left: 0.2em;position: relative;}#sk-container-id-12 div.sk-item {position: relative;z-index: 1;}#sk-container-id-12 div.sk-parallel {display: flex;align-items: stretch;justify-content: center;background-color: white;position: relative;}#sk-container-id-12 div.sk-item::before, #sk-container-id-12 div.sk-parallel-item::before {content: \"\";position: absolute;border-left: 1px solid gray;box-sizing: border-box;top: 0;bottom: 0;left: 50%;z-index: -1;}#sk-container-id-12 div.sk-parallel-item {display: flex;flex-direction: column;z-index: 1;position: relative;background-color: white;}#sk-container-id-12 div.sk-parallel-item:first-child::after {align-self: flex-end;width: 50%;}#sk-container-id-12 div.sk-parallel-item:last-child::after {align-self: flex-start;width: 50%;}#sk-container-id-12 div.sk-parallel-item:only-child::after {width: 0;}#sk-container-id-12 div.sk-dashed-wrapped {border: 1px dashed gray;margin: 0 0.4em 0.5em 0.4em;box-sizing: border-box;padding-bottom: 0.4em;background-color: white;}#sk-container-id-12 div.sk-label label {font-family: monospace;font-weight: bold;display: inline-block;line-height: 1.2em;}#sk-container-id-12 div.sk-label-container {text-align: center;}#sk-container-id-12 div.sk-container {/* jupyter's `normalize.less` sets `[hidden] { display: none; }` but bootstrap.min.css set `[hidden] { display: none !important; }` so we also need the `!important` here to be able to override the default hidden behavior on the sphinx rendered scikit-learn.org. See: https://github.com/scikit-learn/scikit-learn/issues/21755 */display: inline-block !important;position: relative;}#sk-container-id-12 div.sk-text-repr-fallback {display: none;}</style><div id=\"sk-container-id-12\" class=\"sk-top-container\"><div class=\"sk-text-repr-fallback\"><pre>SVC()</pre><b>In a Jupyter environment, please rerun this cell to show the HTML representation or trust the notebook. <br />On GitHub, the HTML representation is unable to render, please try loading this page with nbviewer.org.</b></div><div class=\"sk-container\" hidden><div class=\"sk-item\"><div class=\"sk-estimator sk-toggleable\"><input class=\"sk-toggleable__control sk-hidden--visually\" id=\"sk-estimator-id-14\" type=\"checkbox\" checked><label for=\"sk-estimator-id-14\" class=\"sk-toggleable__label sk-toggleable__label-arrow\">SVC</label><div class=\"sk-toggleable__content\"><pre>SVC()</pre></div></div></div></div></div>"
      ],
      "text/plain": [
       "SVC()"
      ]
     },
     "execution_count": 59,
     "metadata": {},
     "output_type": "execute_result"
    }
   ],
   "source": [
    "model_svm_smote = SVC()\n",
    "model_svm_smote.fit(X_train_smote, y_train_smote)"
   ]
  },
  {
   "cell_type": "code",
   "execution_count": 60,
   "id": "dfa6d0d5",
   "metadata": {
    "execution": {
     "iopub.execute_input": "2024-10-05T18:06:24.814013Z",
     "iopub.status.busy": "2024-10-05T18:06:24.813342Z",
     "iopub.status.idle": "2024-10-05T18:06:40.004464Z",
     "shell.execute_reply": "2024-10-05T18:06:40.003299Z"
    },
    "papermill": {
     "duration": 15.262729,
     "end_time": "2024-10-05T18:06:40.006680",
     "exception": false,
     "start_time": "2024-10-05T18:06:24.743951",
     "status": "completed"
    },
    "tags": []
   },
   "outputs": [
    {
     "name": "stdout",
     "output_type": "stream",
     "text": [
      "Akurasi SVM : 0.6029137529137529\n"
     ]
    }
   ],
   "source": [
    "model_svm_smote_predict = model_svm_smote.predict(df_feature_test[['pca_1', 'pca_2']])\n",
    "model_svm_smote_accuracy = accuracy_score(model_svm_smote_predict, df_feature_test[['anotasi']])\n",
    "print(f'Akurasi SVM : {model_svm_smote_accuracy}')"
   ]
  },
  {
   "cell_type": "code",
   "execution_count": null,
   "id": "3b4ee46e",
   "metadata": {
    "papermill": {
     "duration": 0.069118,
     "end_time": "2024-10-05T18:06:40.144387",
     "exception": false,
     "start_time": "2024-10-05T18:06:40.075269",
     "status": "completed"
    },
    "tags": []
   },
   "outputs": [],
   "source": []
  }
 ],
 "metadata": {
  "accelerator": "GPU",
  "colab": {
   "gpuType": "T4",
   "include_colab_link": true,
   "provenance": []
  },
  "kaggle": {
   "accelerator": "none",
   "dataSources": [
    {
     "datasetId": 5771571,
     "sourceId": 9487063,
     "sourceType": "datasetVersion"
    }
   ],
   "dockerImageVersionId": 30775,
   "isGpuEnabled": false,
   "isInternetEnabled": false,
   "language": "python",
   "sourceType": "notebook"
  },
  "kernelspec": {
   "display_name": "Python 3",
   "language": "python",
   "name": "python3"
  },
  "language_info": {
   "codemirror_mode": {
    "name": "ipython",
    "version": 3
   },
   "file_extension": ".py",
   "mimetype": "text/x-python",
   "name": "python",
   "nbconvert_exporter": "python",
   "pygments_lexer": "ipython3",
   "version": "3.10.14"
  },
  "papermill": {
   "default_parameters": {},
   "duration": 11937.203403,
   "end_time": "2024-10-05T18:06:40.936727",
   "environment_variables": {},
   "exception": null,
   "input_path": "__notebook__.ipynb",
   "output_path": "__notebook__.ipynb",
   "parameters": {},
   "start_time": "2024-10-05T14:47:43.733324",
   "version": "2.6.0"
  }
 },
 "nbformat": 4,
 "nbformat_minor": 5
}
